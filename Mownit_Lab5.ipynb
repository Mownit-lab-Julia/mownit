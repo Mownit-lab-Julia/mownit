{
 "cells": [
  {
   "cell_type": "markdown",
   "metadata": {},
   "source": [
    "# Język R\n",
    "## Postawowe informacje\n",
    "Język programowania oraz implementujący go system R jest środowiskiem do statystycznej analizy danych. Umożliwia pracę interaktywną i skryptową.\n",
    " \n",
    "Instalacja na Ubuntu:\n",
    "\n",
    "```apt-get install r-base```\n",
    "\n",
    "Jak dodać kernel R do Jupitera:\n",
    "\n",
    "https://datatofish.com/r-tutorials/\n",
    "\n",
    "Linki:\n",
    " - Strona główna projektu R: http://www.r-project.org/\n",
    " - Quick R: http://www.statmethods.net/\n",
    " - RStudio: https://www.rstudio.com/\n",
    "\n",
    "## Interaktywna praca z systemem\n",
    "\n",
    "Jest kilka możliwości:\n",
    "\n",
    " - Uruchamiamy RStudio, które zawiera zintegrowane środowisko do analizy danych w języku R\n",
    " - Można też uruchomić konsolę R bezpośrednio poleceniem R\n",
    " - W Jupyter tworzymy nowy notatnik z kernelem R"
   ]
  },
  {
   "cell_type": "markdown",
   "metadata": {},
   "source": [
    "Wbudowana pomoc:"
   ]
  },
  {
   "cell_type": "code",
   "execution_count": 1,
   "metadata": {},
   "outputs": [],
   "source": [
    "help()"
   ]
  },
  {
   "cell_type": "code",
   "execution_count": 2,
   "metadata": {},
   "outputs": [],
   "source": [
    "help(plot)"
   ]
  },
  {
   "cell_type": "markdown",
   "metadata": {},
   "source": [
    "bieżący katalog"
   ]
  },
  {
   "cell_type": "code",
   "execution_count": 3,
   "metadata": {},
   "outputs": [
    {
     "data": {
      "text/html": [
       "'/home/jovyan/work/git/mownit'"
      ],
      "text/latex": [
       "'/home/jovyan/work/git/mownit'"
      ],
      "text/markdown": [
       "'/home/jovyan/work/git/mownit'"
      ],
      "text/plain": [
       "[1] \"/home/jovyan/work/git/mownit\""
      ]
     },
     "metadata": {},
     "output_type": "display_data"
    }
   ],
   "source": [
    "getwd()"
   ]
  },
  {
   "cell_type": "markdown",
   "metadata": {},
   "source": [
    "zmiana katalogu bieżącego\n",
    "```\n",
    "setwd(\"~\")\n",
    "```"
   ]
  },
  {
   "cell_type": "markdown",
   "metadata": {},
   "source": [
    "#### Proste obliczenia"
   ]
  },
  {
   "cell_type": "code",
   "execution_count": 4,
   "metadata": {},
   "outputs": [
    {
     "data": {
      "text/html": [
       "4"
      ],
      "text/latex": [
       "4"
      ],
      "text/markdown": [
       "4"
      ],
      "text/plain": [
       "[1] 4"
      ]
     },
     "metadata": {},
     "output_type": "display_data"
    }
   ],
   "source": [
    "2+2"
   ]
  },
  {
   "cell_type": "markdown",
   "metadata": {},
   "source": [
    "Przypisanie \n",
    "\n",
    "więcej o rodzajach przypisania: http://stat.ethz.ch/R-manual/R-patched/library/base/html/assignOps.html"
   ]
  },
  {
   "cell_type": "code",
   "execution_count": 5,
   "metadata": {},
   "outputs": [],
   "source": [
    "a <- 2"
   ]
  },
  {
   "cell_type": "code",
   "execution_count": 6,
   "metadata": {},
   "outputs": [],
   "source": [
    "a = 2"
   ]
  },
  {
   "cell_type": "markdown",
   "metadata": {},
   "source": [
    "Działanie:"
   ]
  },
  {
   "cell_type": "code",
   "execution_count": 7,
   "metadata": {},
   "outputs": [
    {
     "data": {
      "text/html": [
       "4"
      ],
      "text/latex": [
       "4"
      ],
      "text/markdown": [
       "4"
      ],
      "text/plain": [
       "[1] 4"
      ]
     },
     "metadata": {},
     "output_type": "display_data"
    }
   ],
   "source": [
    "a * 2"
   ]
  },
  {
   "cell_type": "markdown",
   "metadata": {},
   "source": [
    "Listy\n",
    "\n",
    "Funkcja `c()` - konkatenacja"
   ]
  },
  {
   "cell_type": "code",
   "execution_count": 8,
   "metadata": {},
   "outputs": [
    {
     "data": {
      "text/html": [
       "<style>\n",
       ".list-inline {list-style: none; margin:0; padding: 0}\n",
       ".list-inline>li {display: inline-block}\n",
       ".list-inline>li:not(:last-child)::after {content: \"\\00b7\"; padding: 0 .5ex}\n",
       "</style>\n",
       "<ol class=list-inline><li>2</li><li>4</li><li>6</li><li>8</li></ol>\n"
      ],
      "text/latex": [
       "\\begin{enumerate*}\n",
       "\\item 2\n",
       "\\item 4\n",
       "\\item 6\n",
       "\\item 8\n",
       "\\end{enumerate*}\n"
      ],
      "text/markdown": [
       "1. 2\n",
       "2. 4\n",
       "3. 6\n",
       "4. 8\n",
       "\n",
       "\n"
      ],
      "text/plain": [
       "[1] 2 4 6 8"
      ]
     },
     "metadata": {},
     "output_type": "display_data"
    }
   ],
   "source": [
    "x = c(1,2,3,4)\n",
    "y = c(2,4,6,8)\n",
    "z = x*2\n",
    "z"
   ]
  },
  {
   "cell_type": "code",
   "execution_count": 9,
   "metadata": {},
   "outputs": [
    {
     "data": {
      "text/html": [
       "<style>\n",
       ".list-inline {list-style: none; margin:0; padding: 0}\n",
       ".list-inline>li {display: inline-block}\n",
       ".list-inline>li:not(:last-child)::after {content: \"\\00b7\"; padding: 0 .5ex}\n",
       "</style>\n",
       "<ol class=list-inline><li>3</li><li>6</li><li>9</li><li>12</li></ol>\n"
      ],
      "text/latex": [
       "\\begin{enumerate*}\n",
       "\\item 3\n",
       "\\item 6\n",
       "\\item 9\n",
       "\\item 12\n",
       "\\end{enumerate*}\n"
      ],
      "text/markdown": [
       "1. 3\n",
       "2. 6\n",
       "3. 9\n",
       "4. 12\n",
       "\n",
       "\n"
      ],
      "text/plain": [
       "[1]  3  6  9 12"
      ]
     },
     "metadata": {},
     "output_type": "display_data"
    }
   ],
   "source": [
    "x+y "
   ]
  },
  {
   "cell_type": "markdown",
   "metadata": {},
   "source": [
    "Funkcje"
   ]
  },
  {
   "cell_type": "code",
   "execution_count": 10,
   "metadata": {},
   "outputs": [
    {
     "data": {
      "text/html": [
       "<style>\n",
       ".list-inline {list-style: none; margin:0; padding: 0}\n",
       ".list-inline>li {display: inline-block}\n",
       ".list-inline>li:not(:last-child)::after {content: \"\\00b7\"; padding: 0 .5ex}\n",
       "</style>\n",
       "<ol class=list-inline><li>1</li><li>2</li><li>3</li><li>4</li><li>5</li><li>6</li><li>7</li><li>8</li><li>9</li><li>10</li></ol>\n"
      ],
      "text/latex": [
       "\\begin{enumerate*}\n",
       "\\item 1\n",
       "\\item 2\n",
       "\\item 3\n",
       "\\item 4\n",
       "\\item 5\n",
       "\\item 6\n",
       "\\item 7\n",
       "\\item 8\n",
       "\\item 9\n",
       "\\item 10\n",
       "\\end{enumerate*}\n"
      ],
      "text/markdown": [
       "1. 1\n",
       "2. 2\n",
       "3. 3\n",
       "4. 4\n",
       "5. 5\n",
       "6. 6\n",
       "7. 7\n",
       "8. 8\n",
       "9. 9\n",
       "10. 10\n",
       "\n",
       "\n"
      ],
      "text/plain": [
       " [1]  1  2  3  4  5  6  7  8  9 10"
      ]
     },
     "metadata": {},
     "output_type": "display_data"
    }
   ],
   "source": [
    "seq(1,10) "
   ]
  },
  {
   "cell_type": "code",
   "execution_count": 11,
   "metadata": {},
   "outputs": [],
   "source": [
    "x = seq(1,10)"
   ]
  },
  {
   "cell_type": "code",
   "execution_count": 12,
   "metadata": {},
   "outputs": [
    {
     "data": {
      "text/html": [
       "55"
      ],
      "text/latex": [
       "55"
      ],
      "text/markdown": [
       "55"
      ],
      "text/plain": [
       "[1] 55"
      ]
     },
     "metadata": {},
     "output_type": "display_data"
    }
   ],
   "source": [
    "sum(x)"
   ]
  },
  {
   "cell_type": "code",
   "execution_count": 13,
   "metadata": {},
   "outputs": [
    {
     "data": {
      "text/html": [
       "<style>\n",
       ".list-inline {list-style: none; margin:0; padding: 0}\n",
       ".list-inline>li {display: inline-block}\n",
       ".list-inline>li:not(:last-child)::after {content: \"\\00b7\"; padding: 0 .5ex}\n",
       "</style>\n",
       "<ol class=list-inline><li>1</li><li>1.4142135623731</li><li>1.73205080756888</li><li>2</li><li>2.23606797749979</li><li>2.44948974278318</li><li>2.64575131106459</li><li>2.82842712474619</li><li>3</li><li>3.16227766016838</li></ol>\n"
      ],
      "text/latex": [
       "\\begin{enumerate*}\n",
       "\\item 1\n",
       "\\item 1.4142135623731\n",
       "\\item 1.73205080756888\n",
       "\\item 2\n",
       "\\item 2.23606797749979\n",
       "\\item 2.44948974278318\n",
       "\\item 2.64575131106459\n",
       "\\item 2.82842712474619\n",
       "\\item 3\n",
       "\\item 3.16227766016838\n",
       "\\end{enumerate*}\n"
      ],
      "text/markdown": [
       "1. 1\n",
       "2. 1.4142135623731\n",
       "3. 1.73205080756888\n",
       "4. 2\n",
       "5. 2.23606797749979\n",
       "6. 2.44948974278318\n",
       "7. 2.64575131106459\n",
       "8. 2.82842712474619\n",
       "9. 3\n",
       "10. 3.16227766016838\n",
       "\n",
       "\n"
      ],
      "text/plain": [
       " [1] 1.000000 1.414214 1.732051 2.000000 2.236068 2.449490 2.645751 2.828427\n",
       " [9] 3.000000 3.162278"
      ]
     },
     "metadata": {},
     "output_type": "display_data"
    }
   ],
   "source": [
    "sqrt(x)"
   ]
  },
  {
   "cell_type": "markdown",
   "metadata": {},
   "source": [
    "## Import i przekształcanie danych"
   ]
  },
  {
   "cell_type": "markdown",
   "metadata": {},
   "source": [
    "R umożliwia wczytywanie danych z baz danych i plików w różnych formatach.\n",
    "\n",
    "Przykład: import z pliku CSV.\n",
    "\n",
    "Do importu służy funkcja read.\n",
    "\n",
    "Przykładowy plik: [data1.txt](https://www.icsr.agh.edu.pl/~malawski/dydakt/mownit/R/data1.txt)\n",
    "\n",
    "Kolumny t1 i t2 zawierają wyniki \"pomiarów\" czasu dla 2 \"algorytmów\"."
   ]
  },
  {
   "cell_type": "code",
   "execution_count": 14,
   "metadata": {},
   "outputs": [],
   "source": [
    "results = read.csv(\"data1.txt\")"
   ]
  },
  {
   "cell_type": "markdown",
   "metadata": {},
   "source": [
    "Zaimportowane dane są w postaci tabeli (data frame)."
   ]
  },
  {
   "cell_type": "code",
   "execution_count": 15,
   "metadata": {},
   "outputs": [
    {
     "data": {
      "text/html": [
       "<table>\n",
       "<caption>A data.frame: 10 × 3</caption>\n",
       "<thead>\n",
       "\t<tr><th scope=col>n</th><th scope=col>t1</th><th scope=col>t2</th></tr>\n",
       "\t<tr><th scope=col>&lt;int&gt;</th><th scope=col>&lt;dbl&gt;</th><th scope=col>&lt;dbl&gt;</th></tr>\n",
       "</thead>\n",
       "<tbody>\n",
       "\t<tr><td> 1</td><td> 1.1</td><td> 2.3</td></tr>\n",
       "\t<tr><td> 2</td><td> 2.0</td><td> 4.1</td></tr>\n",
       "\t<tr><td> 3</td><td> 2.8</td><td> 6.0</td></tr>\n",
       "\t<tr><td> 4</td><td> 4.2</td><td> 8.2</td></tr>\n",
       "\t<tr><td> 5</td><td> 5.1</td><td> 9.9</td></tr>\n",
       "\t<tr><td> 6</td><td> 5.9</td><td>12.1</td></tr>\n",
       "\t<tr><td> 7</td><td> 6.7</td><td>14.1</td></tr>\n",
       "\t<tr><td> 8</td><td> 8.0</td><td>15.9</td></tr>\n",
       "\t<tr><td> 9</td><td> 9.1</td><td>18.1</td></tr>\n",
       "\t<tr><td>10</td><td>10.1</td><td>19.9</td></tr>\n",
       "</tbody>\n",
       "</table>\n"
      ],
      "text/latex": [
       "A data.frame: 10 × 3\n",
       "\\begin{tabular}{lll}\n",
       " n & t1 & t2\\\\\n",
       " <int> & <dbl> & <dbl>\\\\\n",
       "\\hline\n",
       "\t  1 &  1.1 &  2.3\\\\\n",
       "\t  2 &  2.0 &  4.1\\\\\n",
       "\t  3 &  2.8 &  6.0\\\\\n",
       "\t  4 &  4.2 &  8.2\\\\\n",
       "\t  5 &  5.1 &  9.9\\\\\n",
       "\t  6 &  5.9 & 12.1\\\\\n",
       "\t  7 &  6.7 & 14.1\\\\\n",
       "\t  8 &  8.0 & 15.9\\\\\n",
       "\t  9 &  9.1 & 18.1\\\\\n",
       "\t 10 & 10.1 & 19.9\\\\\n",
       "\\end{tabular}\n"
      ],
      "text/markdown": [
       "\n",
       "A data.frame: 10 × 3\n",
       "\n",
       "| n &lt;int&gt; | t1 &lt;dbl&gt; | t2 &lt;dbl&gt; |\n",
       "|---|---|---|\n",
       "|  1 |  1.1 |  2.3 |\n",
       "|  2 |  2.0 |  4.1 |\n",
       "|  3 |  2.8 |  6.0 |\n",
       "|  4 |  4.2 |  8.2 |\n",
       "|  5 |  5.1 |  9.9 |\n",
       "|  6 |  5.9 | 12.1 |\n",
       "|  7 |  6.7 | 14.1 |\n",
       "|  8 |  8.0 | 15.9 |\n",
       "|  9 |  9.1 | 18.1 |\n",
       "| 10 | 10.1 | 19.9 |\n",
       "\n"
      ],
      "text/plain": [
       "   n  t1   t2  \n",
       "1   1  1.1  2.3\n",
       "2   2  2.0  4.1\n",
       "3   3  2.8  6.0\n",
       "4   4  4.2  8.2\n",
       "5   5  5.1  9.9\n",
       "6   6  5.9 12.1\n",
       "7   7  6.7 14.1\n",
       "8   8  8.0 15.9\n",
       "9   9  9.1 18.1\n",
       "10 10 10.1 19.9"
      ]
     },
     "metadata": {},
     "output_type": "display_data"
    }
   ],
   "source": [
    "results"
   ]
  },
  {
   "cell_type": "markdown",
   "metadata": {},
   "source": [
    "Pobranie kolumny jako wektor kolumnowy:"
   ]
  },
  {
   "cell_type": "code",
   "execution_count": 16,
   "metadata": {},
   "outputs": [
    {
     "data": {
      "text/html": [
       "<table>\n",
       "<caption>A data.frame: 10 × 1</caption>\n",
       "<thead>\n",
       "\t<tr><th scope=col>n</th></tr>\n",
       "\t<tr><th scope=col>&lt;int&gt;</th></tr>\n",
       "</thead>\n",
       "<tbody>\n",
       "\t<tr><td> 1</td></tr>\n",
       "\t<tr><td> 2</td></tr>\n",
       "\t<tr><td> 3</td></tr>\n",
       "\t<tr><td> 4</td></tr>\n",
       "\t<tr><td> 5</td></tr>\n",
       "\t<tr><td> 6</td></tr>\n",
       "\t<tr><td> 7</td></tr>\n",
       "\t<tr><td> 8</td></tr>\n",
       "\t<tr><td> 9</td></tr>\n",
       "\t<tr><td>10</td></tr>\n",
       "</tbody>\n",
       "</table>\n"
      ],
      "text/latex": [
       "A data.frame: 10 × 1\n",
       "\\begin{tabular}{l}\n",
       " n\\\\\n",
       " <int>\\\\\n",
       "\\hline\n",
       "\t  1\\\\\n",
       "\t  2\\\\\n",
       "\t  3\\\\\n",
       "\t  4\\\\\n",
       "\t  5\\\\\n",
       "\t  6\\\\\n",
       "\t  7\\\\\n",
       "\t  8\\\\\n",
       "\t  9\\\\\n",
       "\t 10\\\\\n",
       "\\end{tabular}\n"
      ],
      "text/markdown": [
       "\n",
       "A data.frame: 10 × 1\n",
       "\n",
       "| n &lt;int&gt; |\n",
       "|---|\n",
       "|  1 |\n",
       "|  2 |\n",
       "|  3 |\n",
       "|  4 |\n",
       "|  5 |\n",
       "|  6 |\n",
       "|  7 |\n",
       "|  8 |\n",
       "|  9 |\n",
       "| 10 |\n",
       "\n"
      ],
      "text/plain": [
       "   n \n",
       "1   1\n",
       "2   2\n",
       "3   3\n",
       "4   4\n",
       "5   5\n",
       "6   6\n",
       "7   7\n",
       "8   8\n",
       "9   9\n",
       "10 10"
      ]
     },
     "metadata": {},
     "output_type": "display_data"
    }
   ],
   "source": [
    "results[1]"
   ]
  },
  {
   "cell_type": "markdown",
   "metadata": {},
   "source": [
    "Pobranie kolumny jako lista:"
   ]
  },
  {
   "cell_type": "code",
   "execution_count": 17,
   "metadata": {},
   "outputs": [
    {
     "data": {
      "text/html": [
       "<style>\n",
       ".list-inline {list-style: none; margin:0; padding: 0}\n",
       ".list-inline>li {display: inline-block}\n",
       ".list-inline>li:not(:last-child)::after {content: \"\\00b7\"; padding: 0 .5ex}\n",
       "</style>\n",
       "<ol class=list-inline><li>1</li><li>2</li><li>3</li><li>4</li><li>5</li><li>6</li><li>7</li><li>8</li><li>9</li><li>10</li></ol>\n"
      ],
      "text/latex": [
       "\\begin{enumerate*}\n",
       "\\item 1\n",
       "\\item 2\n",
       "\\item 3\n",
       "\\item 4\n",
       "\\item 5\n",
       "\\item 6\n",
       "\\item 7\n",
       "\\item 8\n",
       "\\item 9\n",
       "\\item 10\n",
       "\\end{enumerate*}\n"
      ],
      "text/markdown": [
       "1. 1\n",
       "2. 2\n",
       "3. 3\n",
       "4. 4\n",
       "5. 5\n",
       "6. 6\n",
       "7. 7\n",
       "8. 8\n",
       "9. 9\n",
       "10. 10\n",
       "\n",
       "\n"
      ],
      "text/plain": [
       " [1]  1  2  3  4  5  6  7  8  9 10"
      ]
     },
     "metadata": {},
     "output_type": "display_data"
    }
   ],
   "source": [
    "results[[1]]"
   ]
  },
  {
   "cell_type": "markdown",
   "metadata": {},
   "source": [
    "pobranie kolumny po nazwie:"
   ]
  },
  {
   "cell_type": "code",
   "execution_count": 18,
   "metadata": {},
   "outputs": [
    {
     "data": {
      "text/html": [
       "<table>\n",
       "<caption>A data.frame: 10 × 1</caption>\n",
       "<thead>\n",
       "\t<tr><th scope=col>t1</th></tr>\n",
       "\t<tr><th scope=col>&lt;dbl&gt;</th></tr>\n",
       "</thead>\n",
       "<tbody>\n",
       "\t<tr><td> 1.1</td></tr>\n",
       "\t<tr><td> 2.0</td></tr>\n",
       "\t<tr><td> 2.8</td></tr>\n",
       "\t<tr><td> 4.2</td></tr>\n",
       "\t<tr><td> 5.1</td></tr>\n",
       "\t<tr><td> 5.9</td></tr>\n",
       "\t<tr><td> 6.7</td></tr>\n",
       "\t<tr><td> 8.0</td></tr>\n",
       "\t<tr><td> 9.1</td></tr>\n",
       "\t<tr><td>10.1</td></tr>\n",
       "</tbody>\n",
       "</table>\n"
      ],
      "text/latex": [
       "A data.frame: 10 × 1\n",
       "\\begin{tabular}{l}\n",
       " t1\\\\\n",
       " <dbl>\\\\\n",
       "\\hline\n",
       "\t  1.1\\\\\n",
       "\t  2.0\\\\\n",
       "\t  2.8\\\\\n",
       "\t  4.2\\\\\n",
       "\t  5.1\\\\\n",
       "\t  5.9\\\\\n",
       "\t  6.7\\\\\n",
       "\t  8.0\\\\\n",
       "\t  9.1\\\\\n",
       "\t 10.1\\\\\n",
       "\\end{tabular}\n"
      ],
      "text/markdown": [
       "\n",
       "A data.frame: 10 × 1\n",
       "\n",
       "| t1 &lt;dbl&gt; |\n",
       "|---|\n",
       "|  1.1 |\n",
       "|  2.0 |\n",
       "|  2.8 |\n",
       "|  4.2 |\n",
       "|  5.1 |\n",
       "|  5.9 |\n",
       "|  6.7 |\n",
       "|  8.0 |\n",
       "|  9.1 |\n",
       "| 10.1 |\n",
       "\n"
      ],
      "text/plain": [
       "   t1  \n",
       "1   1.1\n",
       "2   2.0\n",
       "3   2.8\n",
       "4   4.2\n",
       "5   5.1\n",
       "6   5.9\n",
       "7   6.7\n",
       "8   8.0\n",
       "9   9.1\n",
       "10 10.1"
      ]
     },
     "metadata": {},
     "output_type": "display_data"
    }
   ],
   "source": [
    "results[\"t1\"]"
   ]
  },
  {
   "cell_type": "markdown",
   "metadata": {},
   "source": [
    "Pobranie wiersza lub wierszy:"
   ]
  },
  {
   "cell_type": "code",
   "execution_count": 19,
   "metadata": {},
   "outputs": [
    {
     "data": {
      "text/html": [
       "<table>\n",
       "<caption>A data.frame: 1 × 3</caption>\n",
       "<thead>\n",
       "\t<tr><th></th><th scope=col>n</th><th scope=col>t1</th><th scope=col>t2</th></tr>\n",
       "\t<tr><th></th><th scope=col>&lt;int&gt;</th><th scope=col>&lt;dbl&gt;</th><th scope=col>&lt;dbl&gt;</th></tr>\n",
       "</thead>\n",
       "<tbody>\n",
       "\t<tr><th scope=row>2</th><td>2</td><td>2</td><td>4.1</td></tr>\n",
       "</tbody>\n",
       "</table>\n"
      ],
      "text/latex": [
       "A data.frame: 1 × 3\n",
       "\\begin{tabular}{r|lll}\n",
       "  & n & t1 & t2\\\\\n",
       "  & <int> & <dbl> & <dbl>\\\\\n",
       "\\hline\n",
       "\t2 & 2 & 2 & 4.1\\\\\n",
       "\\end{tabular}\n"
      ],
      "text/markdown": [
       "\n",
       "A data.frame: 1 × 3\n",
       "\n",
       "| <!--/--> | n &lt;int&gt; | t1 &lt;dbl&gt; | t2 &lt;dbl&gt; |\n",
       "|---|---|---|---|\n",
       "| 2 | 2 | 2 | 4.1 |\n",
       "\n"
      ],
      "text/plain": [
       "  n t1 t2 \n",
       "2 2 2  4.1"
      ]
     },
     "metadata": {},
     "output_type": "display_data"
    }
   ],
   "source": [
    "results[2,]"
   ]
  },
  {
   "cell_type": "code",
   "execution_count": 20,
   "metadata": {},
   "outputs": [
    {
     "data": {
      "text/html": [
       "<table>\n",
       "<caption>A data.frame: 3 × 3</caption>\n",
       "<thead>\n",
       "\t<tr><th></th><th scope=col>n</th><th scope=col>t1</th><th scope=col>t2</th></tr>\n",
       "\t<tr><th></th><th scope=col>&lt;int&gt;</th><th scope=col>&lt;dbl&gt;</th><th scope=col>&lt;dbl&gt;</th></tr>\n",
       "</thead>\n",
       "<tbody>\n",
       "\t<tr><th scope=row>2</th><td>2</td><td>2.0</td><td> 4.1</td></tr>\n",
       "\t<tr><th scope=row>4</th><td>4</td><td>4.2</td><td> 8.2</td></tr>\n",
       "\t<tr><th scope=row>6</th><td>6</td><td>5.9</td><td>12.1</td></tr>\n",
       "</tbody>\n",
       "</table>\n"
      ],
      "text/latex": [
       "A data.frame: 3 × 3\n",
       "\\begin{tabular}{r|lll}\n",
       "  & n & t1 & t2\\\\\n",
       "  & <int> & <dbl> & <dbl>\\\\\n",
       "\\hline\n",
       "\t2 & 2 & 2.0 &  4.1\\\\\n",
       "\t4 & 4 & 4.2 &  8.2\\\\\n",
       "\t6 & 6 & 5.9 & 12.1\\\\\n",
       "\\end{tabular}\n"
      ],
      "text/markdown": [
       "\n",
       "A data.frame: 3 × 3\n",
       "\n",
       "| <!--/--> | n &lt;int&gt; | t1 &lt;dbl&gt; | t2 &lt;dbl&gt; |\n",
       "|---|---|---|---|\n",
       "| 2 | 2 | 2.0 |  4.1 |\n",
       "| 4 | 4 | 4.2 |  8.2 |\n",
       "| 6 | 6 | 5.9 | 12.1 |\n",
       "\n"
      ],
      "text/plain": [
       "  n t1  t2  \n",
       "2 2 2.0  4.1\n",
       "4 4 4.2  8.2\n",
       "6 6 5.9 12.1"
      ]
     },
     "metadata": {},
     "output_type": "display_data"
    }
   ],
   "source": [
    "results[c(2,4,6),]"
   ]
  },
  {
   "cell_type": "markdown",
   "metadata": {},
   "source": [
    "attach (dodanie tabeli do kontekstu) pozwala na pojedyncze odwołania do kolumn bez odwoływania sie do calej tabeli:"
   ]
  },
  {
   "cell_type": "code",
   "execution_count": 21,
   "metadata": {},
   "outputs": [
    {
     "data": {
      "text/html": [
       "<style>\n",
       ".list-inline {list-style: none; margin:0; padding: 0}\n",
       ".list-inline>li {display: inline-block}\n",
       ".list-inline>li:not(:last-child)::after {content: \"\\00b7\"; padding: 0 .5ex}\n",
       "</style>\n",
       "<ol class=list-inline><li>1.1</li><li>2</li><li>2.8</li><li>4.2</li><li>5.1</li><li>5.9</li><li>6.7</li><li>8</li><li>9.1</li><li>10.1</li></ol>\n"
      ],
      "text/latex": [
       "\\begin{enumerate*}\n",
       "\\item 1.1\n",
       "\\item 2\n",
       "\\item 2.8\n",
       "\\item 4.2\n",
       "\\item 5.1\n",
       "\\item 5.9\n",
       "\\item 6.7\n",
       "\\item 8\n",
       "\\item 9.1\n",
       "\\item 10.1\n",
       "\\end{enumerate*}\n"
      ],
      "text/markdown": [
       "1. 1.1\n",
       "2. 2\n",
       "3. 2.8\n",
       "4. 4.2\n",
       "5. 5.1\n",
       "6. 5.9\n",
       "7. 6.7\n",
       "8. 8\n",
       "9. 9.1\n",
       "10. 10.1\n",
       "\n",
       "\n"
      ],
      "text/plain": [
       " [1]  1.1  2.0  2.8  4.2  5.1  5.9  6.7  8.0  9.1 10.1"
      ]
     },
     "metadata": {},
     "output_type": "display_data"
    }
   ],
   "source": [
    "attach(results)\n",
    "t1"
   ]
  },
  {
   "cell_type": "code",
   "execution_count": 22,
   "metadata": {},
   "outputs": [
    {
     "data": {
      "text/html": [
       "<style>\n",
       ".list-inline {list-style: none; margin:0; padding: 0}\n",
       ".list-inline>li {display: inline-block}\n",
       ".list-inline>li:not(:last-child)::after {content: \"\\00b7\"; padding: 0 .5ex}\n",
       "</style>\n",
       "<ol class=list-inline><li>2.3</li><li>4.1</li><li>6</li><li>8.2</li><li>9.9</li><li>12.1</li><li>14.1</li><li>15.9</li><li>18.1</li><li>19.9</li></ol>\n"
      ],
      "text/latex": [
       "\\begin{enumerate*}\n",
       "\\item 2.3\n",
       "\\item 4.1\n",
       "\\item 6\n",
       "\\item 8.2\n",
       "\\item 9.9\n",
       "\\item 12.1\n",
       "\\item 14.1\n",
       "\\item 15.9\n",
       "\\item 18.1\n",
       "\\item 19.9\n",
       "\\end{enumerate*}\n"
      ],
      "text/markdown": [
       "1. 2.3\n",
       "2. 4.1\n",
       "3. 6\n",
       "4. 8.2\n",
       "5. 9.9\n",
       "6. 12.1\n",
       "7. 14.1\n",
       "8. 15.9\n",
       "9. 18.1\n",
       "10. 19.9\n",
       "\n",
       "\n"
      ],
      "text/plain": [
       " [1]  2.3  4.1  6.0  8.2  9.9 12.1 14.1 15.9 18.1 19.9"
      ]
     },
     "metadata": {},
     "output_type": "display_data"
    }
   ],
   "source": [
    "t2"
   ]
  },
  {
   "cell_type": "code",
   "execution_count": 23,
   "metadata": {},
   "outputs": [
    {
     "data": {
      "text/html": [
       "<style>\n",
       ".list-inline {list-style: none; margin:0; padding: 0}\n",
       ".list-inline>li {display: inline-block}\n",
       ".list-inline>li:not(:last-child)::after {content: \"\\00b7\"; padding: 0 .5ex}\n",
       "</style>\n",
       "<ol class=list-inline><li>1</li><li>2</li><li>3</li><li>4</li><li>5</li><li>6</li><li>7</li><li>8</li><li>9</li><li>10</li></ol>\n"
      ],
      "text/latex": [
       "\\begin{enumerate*}\n",
       "\\item 1\n",
       "\\item 2\n",
       "\\item 3\n",
       "\\item 4\n",
       "\\item 5\n",
       "\\item 6\n",
       "\\item 7\n",
       "\\item 8\n",
       "\\item 9\n",
       "\\item 10\n",
       "\\end{enumerate*}\n"
      ],
      "text/markdown": [
       "1. 1\n",
       "2. 2\n",
       "3. 3\n",
       "4. 4\n",
       "5. 5\n",
       "6. 6\n",
       "7. 7\n",
       "8. 8\n",
       "9. 9\n",
       "10. 10\n",
       "\n",
       "\n"
      ],
      "text/plain": [
       " [1]  1  2  3  4  5  6  7  8  9 10"
      ]
     },
     "metadata": {},
     "output_type": "display_data"
    }
   ],
   "source": [
    "n"
   ]
  },
  {
   "cell_type": "markdown",
   "metadata": {},
   "source": [
    "### Rysowanie wykresów\n",
    "\n",
    "Uzywamy pakietu ggplot2\n",
    "\n",
    "W przypadku własnej instalacji na początku może być potrzeba doinstalowania pakietu:\n",
    "\n",
    "```install.packages(\"ggplot2\")```"
   ]
  },
  {
   "cell_type": "code",
   "execution_count": 24,
   "metadata": {},
   "outputs": [
    {
     "name": "stderr",
     "output_type": "stream",
     "text": [
      "Installing package into ‘/usr/local/spark-3.0.0-bin-hadoop3.2/R/lib’\n",
      "(as ‘lib’ is unspecified)\n",
      "\n"
     ]
    }
   ],
   "source": [
    "install.packages(\"ggplot2\")"
   ]
  },
  {
   "cell_type": "code",
   "execution_count": 25,
   "metadata": {},
   "outputs": [],
   "source": [
    "library(\"ggplot2\")"
   ]
  },
  {
   "cell_type": "code",
   "execution_count": 26,
   "metadata": {},
   "outputs": [
    {
     "data": {
      "image/png": "[encoded data removed]",
      "text/plain": [
       "plot without title"
      ]
     },
     "metadata": {
      "image/png": {
       "height": 420,
       "width": 420
      }
     },
     "output_type": "display_data"
    }
   ],
   "source": [
    "ggplot(results,aes(n,t2)) + geom_point()"
   ]
  },
  {
   "cell_type": "code",
   "execution_count": 27,
   "metadata": {},
   "outputs": [
    {
     "data": {
      "image/png": "[encoded data removed]",
      "text/plain": [
       "plot without title"
      ]
     },
     "metadata": {
      "image/png": {
       "height": 420,
       "width": 420
      }
     },
     "output_type": "display_data"
    }
   ],
   "source": [
    "last_plot() + geom_line(data=results, aes(n,t2))"
   ]
  },
  {
   "cell_type": "markdown",
   "metadata": {},
   "source": [
    "## Przykład analizy danych"
   ]
  },
  {
   "cell_type": "markdown",
   "metadata": {},
   "source": [
    "Przetwarzanie danych w tabeli\n",
    "\n",
    "Dane w pliku [data2.txt](https://www.icsr.agh.edu.pl/~malawski/dydakt/mownit/R/data2.txt) mają postać tabeli faktów, w której wiersze są wynikami pomiarów. \n",
    "\n",
    "Przykładowo, zmierzono czas (time) dla różnych algorytmów (t1, t2).\n",
    "\n",
    "Kolumna `alg` jest typu `factorial` - jest to typ wyliczeniowy w R."
   ]
  },
  {
   "cell_type": "code",
   "execution_count": 28,
   "metadata": {},
   "outputs": [
    {
     "data": {
      "text/html": [
       "<table>\n",
       "<caption>A data.frame: 100 × 4</caption>\n",
       "<thead>\n",
       "\t<tr><th scope=col>n</th><th scope=col>alg</th><th scope=col>time</th><th scope=col>error</th></tr>\n",
       "\t<tr><th scope=col>&lt;int&gt;</th><th scope=col>&lt;fct&gt;</th><th scope=col>&lt;dbl&gt;</th><th scope=col>&lt;dbl&gt;</th></tr>\n",
       "</thead>\n",
       "<tbody>\n",
       "\t<tr><td> 1</td><td>t1</td><td> 1.010572</td><td> 0.010572148</td></tr>\n",
       "\t<tr><td> 2</td><td>t1</td><td> 1.981689</td><td>-0.018310993</td></tr>\n",
       "\t<tr><td> 3</td><td>t1</td><td> 3.066268</td><td> 0.066268043</td></tr>\n",
       "\t<tr><td> 4</td><td>t1</td><td> 4.060221</td><td> 0.060220570</td></tr>\n",
       "\t<tr><td> 5</td><td>t1</td><td> 5.029502</td><td> 0.029502051</td></tr>\n",
       "\t<tr><td> 6</td><td>t1</td><td> 6.045928</td><td> 0.045927536</td></tr>\n",
       "\t<tr><td> 7</td><td>t1</td><td> 6.957461</td><td>-0.042538559</td></tr>\n",
       "\t<tr><td> 8</td><td>t1</td><td> 8.009891</td><td> 0.009891313</td></tr>\n",
       "\t<tr><td> 9</td><td>t1</td><td> 9.053959</td><td> 0.053959370</td></tr>\n",
       "\t<tr><td>10</td><td>t1</td><td> 9.982560</td><td>-0.017439984</td></tr>\n",
       "\t<tr><td> 1</td><td>t2</td><td> 1.997585</td><td>-0.002414813</td></tr>\n",
       "\t<tr><td> 2</td><td>t2</td><td> 3.953772</td><td>-0.046227795</td></tr>\n",
       "\t<tr><td> 3</td><td>t2</td><td> 5.978172</td><td>-0.021827928</td></tr>\n",
       "\t<tr><td> 4</td><td>t2</td><td> 8.052453</td><td> 0.052453117</td></tr>\n",
       "\t<tr><td> 5</td><td>t2</td><td>10.072778</td><td> 0.072777961</td></tr>\n",
       "\t<tr><td> 6</td><td>t2</td><td>11.957002</td><td>-0.042997938</td></tr>\n",
       "\t<tr><td> 7</td><td>t2</td><td>14.002079</td><td> 0.002078900</td></tr>\n",
       "\t<tr><td> 8</td><td>t2</td><td>16.031059</td><td> 0.031058822</td></tr>\n",
       "\t<tr><td> 9</td><td>t2</td><td>18.046717</td><td> 0.046716672</td></tr>\n",
       "\t<tr><td>10</td><td>t2</td><td>20.046959</td><td> 0.046959194</td></tr>\n",
       "\t<tr><td> 1</td><td>t1</td><td> 1.079367</td><td> 0.079366812</td></tr>\n",
       "\t<tr><td> 2</td><td>t1</td><td> 2.034495</td><td> 0.034494559</td></tr>\n",
       "\t<tr><td> 3</td><td>t1</td><td> 2.942990</td><td>-0.057010017</td></tr>\n",
       "\t<tr><td> 4</td><td>t1</td><td> 3.936265</td><td>-0.063734966</td></tr>\n",
       "\t<tr><td> 5</td><td>t1</td><td> 4.971931</td><td>-0.028069105</td></tr>\n",
       "\t<tr><td> 6</td><td>t1</td><td> 5.935258</td><td>-0.064741864</td></tr>\n",
       "\t<tr><td> 7</td><td>t1</td><td> 6.930239</td><td>-0.069760726</td></tr>\n",
       "\t<tr><td> 8</td><td>t1</td><td> 8.088869</td><td> 0.088868510</td></tr>\n",
       "\t<tr><td> 9</td><td>t1</td><td> 8.949670</td><td>-0.050330255</td></tr>\n",
       "\t<tr><td>10</td><td>t1</td><td> 9.963969</td><td>-0.036030556</td></tr>\n",
       "\t<tr><td>⋮</td><td>⋮</td><td>⋮</td><td>⋮</td></tr>\n",
       "\t<tr><td> 1</td><td>t2</td><td> 2.0298945</td><td> 0.029894485</td></tr>\n",
       "\t<tr><td> 2</td><td>t2</td><td> 3.9258667</td><td>-0.074133292</td></tr>\n",
       "\t<tr><td> 3</td><td>t2</td><td> 6.0798658</td><td> 0.079865815</td></tr>\n",
       "\t<tr><td> 4</td><td>t2</td><td> 8.0427000</td><td> 0.042699961</td></tr>\n",
       "\t<tr><td> 5</td><td>t2</td><td>10.0047110</td><td> 0.004710953</td></tr>\n",
       "\t<tr><td> 6</td><td>t2</td><td>12.0451718</td><td> 0.045171754</td></tr>\n",
       "\t<tr><td> 7</td><td>t2</td><td>14.0277883</td><td> 0.027788304</td></tr>\n",
       "\t<tr><td> 8</td><td>t2</td><td>15.9948606</td><td>-0.005139422</td></tr>\n",
       "\t<tr><td> 9</td><td>t2</td><td>17.9814433</td><td>-0.018556727</td></tr>\n",
       "\t<tr><td>10</td><td>t2</td><td>20.0706583</td><td> 0.070658276</td></tr>\n",
       "\t<tr><td> 1</td><td>t1</td><td> 0.9608387</td><td>-0.039161259</td></tr>\n",
       "\t<tr><td> 2</td><td>t1</td><td> 2.0267897</td><td> 0.026789747</td></tr>\n",
       "\t<tr><td> 3</td><td>t1</td><td> 2.9177290</td><td>-0.082271013</td></tr>\n",
       "\t<tr><td> 4</td><td>t1</td><td> 3.9467534</td><td>-0.053246569</td></tr>\n",
       "\t<tr><td> 5</td><td>t1</td><td> 5.0340156</td><td> 0.034015561</td></tr>\n",
       "\t<tr><td> 6</td><td>t1</td><td> 6.0447867</td><td> 0.044786676</td></tr>\n",
       "\t<tr><td> 7</td><td>t1</td><td> 6.9471870</td><td>-0.052813046</td></tr>\n",
       "\t<tr><td> 8</td><td>t1</td><td> 8.0205163</td><td> 0.020516265</td></tr>\n",
       "\t<tr><td> 9</td><td>t1</td><td> 8.9359922</td><td>-0.064007769</td></tr>\n",
       "\t<tr><td>10</td><td>t1</td><td>10.0013729</td><td> 0.001372936</td></tr>\n",
       "\t<tr><td> 1</td><td>t2</td><td> 1.9076066</td><td>-0.092393352</td></tr>\n",
       "\t<tr><td> 2</td><td>t2</td><td> 3.9216544</td><td>-0.078345629</td></tr>\n",
       "\t<tr><td> 3</td><td>t2</td><td> 5.9047371</td><td>-0.095262873</td></tr>\n",
       "\t<tr><td> 4</td><td>t2</td><td> 7.9451692</td><td>-0.054830831</td></tr>\n",
       "\t<tr><td> 5</td><td>t2</td><td>10.0706839</td><td> 0.070683864</td></tr>\n",
       "\t<tr><td> 6</td><td>t2</td><td>11.9154638</td><td>-0.084536184</td></tr>\n",
       "\t<tr><td> 7</td><td>t2</td><td>13.9948929</td><td>-0.005107067</td></tr>\n",
       "\t<tr><td> 8</td><td>t2</td><td>15.9483586</td><td>-0.051641405</td></tr>\n",
       "\t<tr><td> 9</td><td>t2</td><td>17.9686723</td><td>-0.031327676</td></tr>\n",
       "\t<tr><td>10</td><td>t2</td><td>19.9371683</td><td>-0.062831726</td></tr>\n",
       "</tbody>\n",
       "</table>\n"
      ],
      "text/latex": [
       "A data.frame: 100 × 4\n",
       "\\begin{tabular}{llll}\n",
       " n & alg & time & error\\\\\n",
       " <int> & <fct> & <dbl> & <dbl>\\\\\n",
       "\\hline\n",
       "\t  1 & t1 &  1.010572 &  0.010572148\\\\\n",
       "\t  2 & t1 &  1.981689 & -0.018310993\\\\\n",
       "\t  3 & t1 &  3.066268 &  0.066268043\\\\\n",
       "\t  4 & t1 &  4.060221 &  0.060220570\\\\\n",
       "\t  5 & t1 &  5.029502 &  0.029502051\\\\\n",
       "\t  6 & t1 &  6.045928 &  0.045927536\\\\\n",
       "\t  7 & t1 &  6.957461 & -0.042538559\\\\\n",
       "\t  8 & t1 &  8.009891 &  0.009891313\\\\\n",
       "\t  9 & t1 &  9.053959 &  0.053959370\\\\\n",
       "\t 10 & t1 &  9.982560 & -0.017439984\\\\\n",
       "\t  1 & t2 &  1.997585 & -0.002414813\\\\\n",
       "\t  2 & t2 &  3.953772 & -0.046227795\\\\\n",
       "\t  3 & t2 &  5.978172 & -0.021827928\\\\\n",
       "\t  4 & t2 &  8.052453 &  0.052453117\\\\\n",
       "\t  5 & t2 & 10.072778 &  0.072777961\\\\\n",
       "\t  6 & t2 & 11.957002 & -0.042997938\\\\\n",
       "\t  7 & t2 & 14.002079 &  0.002078900\\\\\n",
       "\t  8 & t2 & 16.031059 &  0.031058822\\\\\n",
       "\t  9 & t2 & 18.046717 &  0.046716672\\\\\n",
       "\t 10 & t2 & 20.046959 &  0.046959194\\\\\n",
       "\t  1 & t1 &  1.079367 &  0.079366812\\\\\n",
       "\t  2 & t1 &  2.034495 &  0.034494559\\\\\n",
       "\t  3 & t1 &  2.942990 & -0.057010017\\\\\n",
       "\t  4 & t1 &  3.936265 & -0.063734966\\\\\n",
       "\t  5 & t1 &  4.971931 & -0.028069105\\\\\n",
       "\t  6 & t1 &  5.935258 & -0.064741864\\\\\n",
       "\t  7 & t1 &  6.930239 & -0.069760726\\\\\n",
       "\t  8 & t1 &  8.088869 &  0.088868510\\\\\n",
       "\t  9 & t1 &  8.949670 & -0.050330255\\\\\n",
       "\t 10 & t1 &  9.963969 & -0.036030556\\\\\n",
       "\t ⋮ & ⋮ & ⋮ & ⋮\\\\\n",
       "\t  1 & t2 &  2.0298945 &  0.029894485\\\\\n",
       "\t  2 & t2 &  3.9258667 & -0.074133292\\\\\n",
       "\t  3 & t2 &  6.0798658 &  0.079865815\\\\\n",
       "\t  4 & t2 &  8.0427000 &  0.042699961\\\\\n",
       "\t  5 & t2 & 10.0047110 &  0.004710953\\\\\n",
       "\t  6 & t2 & 12.0451718 &  0.045171754\\\\\n",
       "\t  7 & t2 & 14.0277883 &  0.027788304\\\\\n",
       "\t  8 & t2 & 15.9948606 & -0.005139422\\\\\n",
       "\t  9 & t2 & 17.9814433 & -0.018556727\\\\\n",
       "\t 10 & t2 & 20.0706583 &  0.070658276\\\\\n",
       "\t  1 & t1 &  0.9608387 & -0.039161259\\\\\n",
       "\t  2 & t1 &  2.0267897 &  0.026789747\\\\\n",
       "\t  3 & t1 &  2.9177290 & -0.082271013\\\\\n",
       "\t  4 & t1 &  3.9467534 & -0.053246569\\\\\n",
       "\t  5 & t1 &  5.0340156 &  0.034015561\\\\\n",
       "\t  6 & t1 &  6.0447867 &  0.044786676\\\\\n",
       "\t  7 & t1 &  6.9471870 & -0.052813046\\\\\n",
       "\t  8 & t1 &  8.0205163 &  0.020516265\\\\\n",
       "\t  9 & t1 &  8.9359922 & -0.064007769\\\\\n",
       "\t 10 & t1 & 10.0013729 &  0.001372936\\\\\n",
       "\t  1 & t2 &  1.9076066 & -0.092393352\\\\\n",
       "\t  2 & t2 &  3.9216544 & -0.078345629\\\\\n",
       "\t  3 & t2 &  5.9047371 & -0.095262873\\\\\n",
       "\t  4 & t2 &  7.9451692 & -0.054830831\\\\\n",
       "\t  5 & t2 & 10.0706839 &  0.070683864\\\\\n",
       "\t  6 & t2 & 11.9154638 & -0.084536184\\\\\n",
       "\t  7 & t2 & 13.9948929 & -0.005107067\\\\\n",
       "\t  8 & t2 & 15.9483586 & -0.051641405\\\\\n",
       "\t  9 & t2 & 17.9686723 & -0.031327676\\\\\n",
       "\t 10 & t2 & 19.9371683 & -0.062831726\\\\\n",
       "\\end{tabular}\n"
      ],
      "text/markdown": [
       "\n",
       "A data.frame: 100 × 4\n",
       "\n",
       "| n &lt;int&gt; | alg &lt;fct&gt; | time &lt;dbl&gt; | error &lt;dbl&gt; |\n",
       "|---|---|---|---|\n",
       "|  1 | t1 |  1.010572 |  0.010572148 |\n",
       "|  2 | t1 |  1.981689 | -0.018310993 |\n",
       "|  3 | t1 |  3.066268 |  0.066268043 |\n",
       "|  4 | t1 |  4.060221 |  0.060220570 |\n",
       "|  5 | t1 |  5.029502 |  0.029502051 |\n",
       "|  6 | t1 |  6.045928 |  0.045927536 |\n",
       "|  7 | t1 |  6.957461 | -0.042538559 |\n",
       "|  8 | t1 |  8.009891 |  0.009891313 |\n",
       "|  9 | t1 |  9.053959 |  0.053959370 |\n",
       "| 10 | t1 |  9.982560 | -0.017439984 |\n",
       "|  1 | t2 |  1.997585 | -0.002414813 |\n",
       "|  2 | t2 |  3.953772 | -0.046227795 |\n",
       "|  3 | t2 |  5.978172 | -0.021827928 |\n",
       "|  4 | t2 |  8.052453 |  0.052453117 |\n",
       "|  5 | t2 | 10.072778 |  0.072777961 |\n",
       "|  6 | t2 | 11.957002 | -0.042997938 |\n",
       "|  7 | t2 | 14.002079 |  0.002078900 |\n",
       "|  8 | t2 | 16.031059 |  0.031058822 |\n",
       "|  9 | t2 | 18.046717 |  0.046716672 |\n",
       "| 10 | t2 | 20.046959 |  0.046959194 |\n",
       "|  1 | t1 |  1.079367 |  0.079366812 |\n",
       "|  2 | t1 |  2.034495 |  0.034494559 |\n",
       "|  3 | t1 |  2.942990 | -0.057010017 |\n",
       "|  4 | t1 |  3.936265 | -0.063734966 |\n",
       "|  5 | t1 |  4.971931 | -0.028069105 |\n",
       "|  6 | t1 |  5.935258 | -0.064741864 |\n",
       "|  7 | t1 |  6.930239 | -0.069760726 |\n",
       "|  8 | t1 |  8.088869 |  0.088868510 |\n",
       "|  9 | t1 |  8.949670 | -0.050330255 |\n",
       "| 10 | t1 |  9.963969 | -0.036030556 |\n",
       "| ⋮ | ⋮ | ⋮ | ⋮ |\n",
       "|  1 | t2 |  2.0298945 |  0.029894485 |\n",
       "|  2 | t2 |  3.9258667 | -0.074133292 |\n",
       "|  3 | t2 |  6.0798658 |  0.079865815 |\n",
       "|  4 | t2 |  8.0427000 |  0.042699961 |\n",
       "|  5 | t2 | 10.0047110 |  0.004710953 |\n",
       "|  6 | t2 | 12.0451718 |  0.045171754 |\n",
       "|  7 | t2 | 14.0277883 |  0.027788304 |\n",
       "|  8 | t2 | 15.9948606 | -0.005139422 |\n",
       "|  9 | t2 | 17.9814433 | -0.018556727 |\n",
       "| 10 | t2 | 20.0706583 |  0.070658276 |\n",
       "|  1 | t1 |  0.9608387 | -0.039161259 |\n",
       "|  2 | t1 |  2.0267897 |  0.026789747 |\n",
       "|  3 | t1 |  2.9177290 | -0.082271013 |\n",
       "|  4 | t1 |  3.9467534 | -0.053246569 |\n",
       "|  5 | t1 |  5.0340156 |  0.034015561 |\n",
       "|  6 | t1 |  6.0447867 |  0.044786676 |\n",
       "|  7 | t1 |  6.9471870 | -0.052813046 |\n",
       "|  8 | t1 |  8.0205163 |  0.020516265 |\n",
       "|  9 | t1 |  8.9359922 | -0.064007769 |\n",
       "| 10 | t1 | 10.0013729 |  0.001372936 |\n",
       "|  1 | t2 |  1.9076066 | -0.092393352 |\n",
       "|  2 | t2 |  3.9216544 | -0.078345629 |\n",
       "|  3 | t2 |  5.9047371 | -0.095262873 |\n",
       "|  4 | t2 |  7.9451692 | -0.054830831 |\n",
       "|  5 | t2 | 10.0706839 |  0.070683864 |\n",
       "|  6 | t2 | 11.9154638 | -0.084536184 |\n",
       "|  7 | t2 | 13.9948929 | -0.005107067 |\n",
       "|  8 | t2 | 15.9483586 | -0.051641405 |\n",
       "|  9 | t2 | 17.9686723 | -0.031327676 |\n",
       "| 10 | t2 | 19.9371683 | -0.062831726 |\n",
       "\n"
      ],
      "text/plain": [
       "    n  alg time       error       \n",
       "1    1 t1   1.010572   0.010572148\n",
       "2    2 t1   1.981689  -0.018310993\n",
       "3    3 t1   3.066268   0.066268043\n",
       "4    4 t1   4.060221   0.060220570\n",
       "5    5 t1   5.029502   0.029502051\n",
       "6    6 t1   6.045928   0.045927536\n",
       "7    7 t1   6.957461  -0.042538559\n",
       "8    8 t1   8.009891   0.009891313\n",
       "9    9 t1   9.053959   0.053959370\n",
       "10  10 t1   9.982560  -0.017439984\n",
       "11   1 t2   1.997585  -0.002414813\n",
       "12   2 t2   3.953772  -0.046227795\n",
       "13   3 t2   5.978172  -0.021827928\n",
       "14   4 t2   8.052453   0.052453117\n",
       "15   5 t2  10.072778   0.072777961\n",
       "16   6 t2  11.957002  -0.042997938\n",
       "17   7 t2  14.002079   0.002078900\n",
       "18   8 t2  16.031059   0.031058822\n",
       "19   9 t2  18.046717   0.046716672\n",
       "20  10 t2  20.046959   0.046959194\n",
       "21   1 t1   1.079367   0.079366812\n",
       "22   2 t1   2.034495   0.034494559\n",
       "23   3 t1   2.942990  -0.057010017\n",
       "24   4 t1   3.936265  -0.063734966\n",
       "25   5 t1   4.971931  -0.028069105\n",
       "26   6 t1   5.935258  -0.064741864\n",
       "27   7 t1   6.930239  -0.069760726\n",
       "28   8 t1   8.088869   0.088868510\n",
       "29   9 t1   8.949670  -0.050330255\n",
       "30  10 t1   9.963969  -0.036030556\n",
       "⋮   ⋮  ⋮   ⋮          ⋮           \n",
       "71   1 t2   2.0298945  0.029894485\n",
       "72   2 t2   3.9258667 -0.074133292\n",
       "73   3 t2   6.0798658  0.079865815\n",
       "74   4 t2   8.0427000  0.042699961\n",
       "75   5 t2  10.0047110  0.004710953\n",
       "76   6 t2  12.0451718  0.045171754\n",
       "77   7 t2  14.0277883  0.027788304\n",
       "78   8 t2  15.9948606 -0.005139422\n",
       "79   9 t2  17.9814433 -0.018556727\n",
       "80  10 t2  20.0706583  0.070658276\n",
       "81   1 t1   0.9608387 -0.039161259\n",
       "82   2 t1   2.0267897  0.026789747\n",
       "83   3 t1   2.9177290 -0.082271013\n",
       "84   4 t1   3.9467534 -0.053246569\n",
       "85   5 t1   5.0340156  0.034015561\n",
       "86   6 t1   6.0447867  0.044786676\n",
       "87   7 t1   6.9471870 -0.052813046\n",
       "88   8 t1   8.0205163  0.020516265\n",
       "89   9 t1   8.9359922 -0.064007769\n",
       "90  10 t1  10.0013729  0.001372936\n",
       "91   1 t2   1.9076066 -0.092393352\n",
       "92   2 t2   3.9216544 -0.078345629\n",
       "93   3 t2   5.9047371 -0.095262873\n",
       "94   4 t2   7.9451692 -0.054830831\n",
       "95   5 t2  10.0706839  0.070683864\n",
       "96   6 t2  11.9154638 -0.084536184\n",
       "97   7 t2  13.9948929 -0.005107067\n",
       "98   8 t2  15.9483586 -0.051641405\n",
       "99   9 t2  17.9686723 -0.031327676\n",
       "100 10 t2  19.9371683 -0.062831726"
      ]
     },
     "metadata": {},
     "output_type": "display_data"
    }
   ],
   "source": [
    "results = read.csv(\"data2.txt\")\n",
    "\n",
    "results"
   ]
  },
  {
   "cell_type": "markdown",
   "metadata": {},
   "source": [
    "Dodanie nowej kolumny:"
   ]
  },
  {
   "cell_type": "code",
   "execution_count": 29,
   "metadata": {},
   "outputs": [
    {
     "data": {
      "text/html": [
       "<table>\n",
       "<caption>A data.frame: 100 × 5</caption>\n",
       "<thead>\n",
       "\t<tr><th scope=col>n</th><th scope=col>alg</th><th scope=col>time</th><th scope=col>error</th><th scope=col>speed</th></tr>\n",
       "\t<tr><th scope=col>&lt;int&gt;</th><th scope=col>&lt;fct&gt;</th><th scope=col>&lt;dbl&gt;</th><th scope=col>&lt;dbl&gt;</th><th scope=col>&lt;dbl&gt;</th></tr>\n",
       "</thead>\n",
       "<tbody>\n",
       "\t<tr><td> 1</td><td>t1</td><td> 1.010572</td><td> 0.010572148</td><td>0.9895385</td></tr>\n",
       "\t<tr><td> 2</td><td>t1</td><td> 1.981689</td><td>-0.018310993</td><td>1.0092401</td></tr>\n",
       "\t<tr><td> 3</td><td>t1</td><td> 3.066268</td><td> 0.066268043</td><td>0.9783880</td></tr>\n",
       "\t<tr><td> 4</td><td>t1</td><td> 4.060221</td><td> 0.060220570</td><td>0.9851682</td></tr>\n",
       "\t<tr><td> 5</td><td>t1</td><td> 5.029502</td><td> 0.029502051</td><td>0.9941342</td></tr>\n",
       "\t<tr><td> 6</td><td>t1</td><td> 6.045928</td><td> 0.045927536</td><td>0.9924036</td></tr>\n",
       "\t<tr><td> 7</td><td>t1</td><td> 6.957461</td><td>-0.042538559</td><td>1.0061141</td></tr>\n",
       "\t<tr><td> 8</td><td>t1</td><td> 8.009891</td><td> 0.009891313</td><td>0.9987651</td></tr>\n",
       "\t<tr><td> 9</td><td>t1</td><td> 9.053959</td><td> 0.053959370</td><td>0.9940402</td></tr>\n",
       "\t<tr><td>10</td><td>t1</td><td> 9.982560</td><td>-0.017439984</td><td>1.0017470</td></tr>\n",
       "\t<tr><td> 1</td><td>t2</td><td> 1.997585</td><td>-0.002414813</td><td>0.5006044</td></tr>\n",
       "\t<tr><td> 2</td><td>t2</td><td> 3.953772</td><td>-0.046227795</td><td>0.5058460</td></tr>\n",
       "\t<tr><td> 3</td><td>t2</td><td> 5.978172</td><td>-0.021827928</td><td>0.5018256</td></tr>\n",
       "\t<tr><td> 4</td><td>t2</td><td> 8.052453</td><td> 0.052453117</td><td>0.4967430</td></tr>\n",
       "\t<tr><td> 5</td><td>t2</td><td>10.072778</td><td> 0.072777961</td><td>0.4963874</td></tr>\n",
       "\t<tr><td> 6</td><td>t2</td><td>11.957002</td><td>-0.042997938</td><td>0.5017980</td></tr>\n",
       "\t<tr><td> 7</td><td>t2</td><td>14.002079</td><td> 0.002078900</td><td>0.4999258</td></tr>\n",
       "\t<tr><td> 8</td><td>t2</td><td>16.031059</td><td> 0.031058822</td><td>0.4990313</td></tr>\n",
       "\t<tr><td> 9</td><td>t2</td><td>18.046717</td><td> 0.046716672</td><td>0.4987057</td></tr>\n",
       "\t<tr><td>10</td><td>t2</td><td>20.046959</td><td> 0.046959194</td><td>0.4988288</td></tr>\n",
       "\t<tr><td> 1</td><td>t1</td><td> 1.079367</td><td> 0.079366812</td><td>0.9264691</td></tr>\n",
       "\t<tr><td> 2</td><td>t1</td><td> 2.034495</td><td> 0.034494559</td><td>0.9830451</td></tr>\n",
       "\t<tr><td> 3</td><td>t1</td><td> 2.942990</td><td>-0.057010017</td><td>1.0193715</td></tr>\n",
       "\t<tr><td> 4</td><td>t1</td><td> 3.936265</td><td>-0.063734966</td><td>1.0161917</td></tr>\n",
       "\t<tr><td> 5</td><td>t1</td><td> 4.971931</td><td>-0.028069105</td><td>1.0056455</td></tr>\n",
       "\t<tr><td> 6</td><td>t1</td><td> 5.935258</td><td>-0.064741864</td><td>1.0109080</td></tr>\n",
       "\t<tr><td> 7</td><td>t1</td><td> 6.930239</td><td>-0.069760726</td><td>1.0100661</td></tr>\n",
       "\t<tr><td> 8</td><td>t1</td><td> 8.088869</td><td> 0.088868510</td><td>0.9890135</td></tr>\n",
       "\t<tr><td> 9</td><td>t1</td><td> 8.949670</td><td>-0.050330255</td><td>1.0056237</td></tr>\n",
       "\t<tr><td>10</td><td>t1</td><td> 9.963969</td><td>-0.036030556</td><td>1.0036161</td></tr>\n",
       "\t<tr><td>⋮</td><td>⋮</td><td>⋮</td><td>⋮</td><td>⋮</td></tr>\n",
       "\t<tr><td> 1</td><td>t2</td><td> 2.0298945</td><td> 0.029894485</td><td>0.4926364</td></tr>\n",
       "\t<tr><td> 2</td><td>t2</td><td> 3.9258667</td><td>-0.074133292</td><td>0.5094416</td></tr>\n",
       "\t<tr><td> 3</td><td>t2</td><td> 6.0798658</td><td> 0.079865815</td><td>0.4934319</td></tr>\n",
       "\t<tr><td> 4</td><td>t2</td><td> 8.0427000</td><td> 0.042699961</td><td>0.4973454</td></tr>\n",
       "\t<tr><td> 5</td><td>t2</td><td>10.0047110</td><td> 0.004710953</td><td>0.4997646</td></tr>\n",
       "\t<tr><td> 6</td><td>t2</td><td>12.0451718</td><td> 0.045171754</td><td>0.4981249</td></tr>\n",
       "\t<tr><td> 7</td><td>t2</td><td>14.0277883</td><td> 0.027788304</td><td>0.4990095</td></tr>\n",
       "\t<tr><td> 8</td><td>t2</td><td>15.9948606</td><td>-0.005139422</td><td>0.5001607</td></tr>\n",
       "\t<tr><td> 9</td><td>t2</td><td>17.9814433</td><td>-0.018556727</td><td>0.5005160</td></tr>\n",
       "\t<tr><td>10</td><td>t2</td><td>20.0706583</td><td> 0.070658276</td><td>0.4982398</td></tr>\n",
       "\t<tr><td> 1</td><td>t1</td><td> 0.9608387</td><td>-0.039161259</td><td>1.0407574</td></tr>\n",
       "\t<tr><td> 2</td><td>t1</td><td> 2.0267897</td><td> 0.026789747</td><td>0.9867822</td></tr>\n",
       "\t<tr><td> 3</td><td>t1</td><td> 2.9177290</td><td>-0.082271013</td><td>1.0281969</td></tr>\n",
       "\t<tr><td> 4</td><td>t1</td><td> 3.9467534</td><td>-0.053246569</td><td>1.0134912</td></tr>\n",
       "\t<tr><td> 5</td><td>t1</td><td> 5.0340156</td><td> 0.034015561</td><td>0.9932429</td></tr>\n",
       "\t<tr><td> 6</td><td>t1</td><td> 6.0447867</td><td> 0.044786676</td><td>0.9925909</td></tr>\n",
       "\t<tr><td> 7</td><td>t1</td><td> 6.9471870</td><td>-0.052813046</td><td>1.0076021</td></tr>\n",
       "\t<tr><td> 8</td><td>t1</td><td> 8.0205163</td><td> 0.020516265</td><td>0.9974420</td></tr>\n",
       "\t<tr><td> 9</td><td>t1</td><td> 8.9359922</td><td>-0.064007769</td><td>1.0071629</td></tr>\n",
       "\t<tr><td>10</td><td>t1</td><td>10.0013729</td><td> 0.001372936</td><td>0.9998627</td></tr>\n",
       "\t<tr><td> 1</td><td>t2</td><td> 1.9076066</td><td>-0.092393352</td><td>0.5242171</td></tr>\n",
       "\t<tr><td> 2</td><td>t2</td><td> 3.9216544</td><td>-0.078345629</td><td>0.5099888</td></tr>\n",
       "\t<tr><td> 3</td><td>t2</td><td> 5.9047371</td><td>-0.095262873</td><td>0.5080666</td></tr>\n",
       "\t<tr><td> 4</td><td>t2</td><td> 7.9451692</td><td>-0.054830831</td><td>0.5034506</td></tr>\n",
       "\t<tr><td> 5</td><td>t2</td><td>10.0706839</td><td> 0.070683864</td><td>0.4964906</td></tr>\n",
       "\t<tr><td> 6</td><td>t2</td><td>11.9154638</td><td>-0.084536184</td><td>0.5035473</td></tr>\n",
       "\t<tr><td> 7</td><td>t2</td><td>13.9948929</td><td>-0.005107067</td><td>0.5001825</td></tr>\n",
       "\t<tr><td> 8</td><td>t2</td><td>15.9483586</td><td>-0.051641405</td><td>0.5016190</td></tr>\n",
       "\t<tr><td> 9</td><td>t2</td><td>17.9686723</td><td>-0.031327676</td><td>0.5008717</td></tr>\n",
       "\t<tr><td>10</td><td>t2</td><td>19.9371683</td><td>-0.062831726</td><td>0.5015757</td></tr>\n",
       "</tbody>\n",
       "</table>\n"
      ],
      "text/latex": [
       "A data.frame: 100 × 5\n",
       "\\begin{tabular}{lllll}\n",
       " n & alg & time & error & speed\\\\\n",
       " <int> & <fct> & <dbl> & <dbl> & <dbl>\\\\\n",
       "\\hline\n",
       "\t  1 & t1 &  1.010572 &  0.010572148 & 0.9895385\\\\\n",
       "\t  2 & t1 &  1.981689 & -0.018310993 & 1.0092401\\\\\n",
       "\t  3 & t1 &  3.066268 &  0.066268043 & 0.9783880\\\\\n",
       "\t  4 & t1 &  4.060221 &  0.060220570 & 0.9851682\\\\\n",
       "\t  5 & t1 &  5.029502 &  0.029502051 & 0.9941342\\\\\n",
       "\t  6 & t1 &  6.045928 &  0.045927536 & 0.9924036\\\\\n",
       "\t  7 & t1 &  6.957461 & -0.042538559 & 1.0061141\\\\\n",
       "\t  8 & t1 &  8.009891 &  0.009891313 & 0.9987651\\\\\n",
       "\t  9 & t1 &  9.053959 &  0.053959370 & 0.9940402\\\\\n",
       "\t 10 & t1 &  9.982560 & -0.017439984 & 1.0017470\\\\\n",
       "\t  1 & t2 &  1.997585 & -0.002414813 & 0.5006044\\\\\n",
       "\t  2 & t2 &  3.953772 & -0.046227795 & 0.5058460\\\\\n",
       "\t  3 & t2 &  5.978172 & -0.021827928 & 0.5018256\\\\\n",
       "\t  4 & t2 &  8.052453 &  0.052453117 & 0.4967430\\\\\n",
       "\t  5 & t2 & 10.072778 &  0.072777961 & 0.4963874\\\\\n",
       "\t  6 & t2 & 11.957002 & -0.042997938 & 0.5017980\\\\\n",
       "\t  7 & t2 & 14.002079 &  0.002078900 & 0.4999258\\\\\n",
       "\t  8 & t2 & 16.031059 &  0.031058822 & 0.4990313\\\\\n",
       "\t  9 & t2 & 18.046717 &  0.046716672 & 0.4987057\\\\\n",
       "\t 10 & t2 & 20.046959 &  0.046959194 & 0.4988288\\\\\n",
       "\t  1 & t1 &  1.079367 &  0.079366812 & 0.9264691\\\\\n",
       "\t  2 & t1 &  2.034495 &  0.034494559 & 0.9830451\\\\\n",
       "\t  3 & t1 &  2.942990 & -0.057010017 & 1.0193715\\\\\n",
       "\t  4 & t1 &  3.936265 & -0.063734966 & 1.0161917\\\\\n",
       "\t  5 & t1 &  4.971931 & -0.028069105 & 1.0056455\\\\\n",
       "\t  6 & t1 &  5.935258 & -0.064741864 & 1.0109080\\\\\n",
       "\t  7 & t1 &  6.930239 & -0.069760726 & 1.0100661\\\\\n",
       "\t  8 & t1 &  8.088869 &  0.088868510 & 0.9890135\\\\\n",
       "\t  9 & t1 &  8.949670 & -0.050330255 & 1.0056237\\\\\n",
       "\t 10 & t1 &  9.963969 & -0.036030556 & 1.0036161\\\\\n",
       "\t ⋮ & ⋮ & ⋮ & ⋮ & ⋮\\\\\n",
       "\t  1 & t2 &  2.0298945 &  0.029894485 & 0.4926364\\\\\n",
       "\t  2 & t2 &  3.9258667 & -0.074133292 & 0.5094416\\\\\n",
       "\t  3 & t2 &  6.0798658 &  0.079865815 & 0.4934319\\\\\n",
       "\t  4 & t2 &  8.0427000 &  0.042699961 & 0.4973454\\\\\n",
       "\t  5 & t2 & 10.0047110 &  0.004710953 & 0.4997646\\\\\n",
       "\t  6 & t2 & 12.0451718 &  0.045171754 & 0.4981249\\\\\n",
       "\t  7 & t2 & 14.0277883 &  0.027788304 & 0.4990095\\\\\n",
       "\t  8 & t2 & 15.9948606 & -0.005139422 & 0.5001607\\\\\n",
       "\t  9 & t2 & 17.9814433 & -0.018556727 & 0.5005160\\\\\n",
       "\t 10 & t2 & 20.0706583 &  0.070658276 & 0.4982398\\\\\n",
       "\t  1 & t1 &  0.9608387 & -0.039161259 & 1.0407574\\\\\n",
       "\t  2 & t1 &  2.0267897 &  0.026789747 & 0.9867822\\\\\n",
       "\t  3 & t1 &  2.9177290 & -0.082271013 & 1.0281969\\\\\n",
       "\t  4 & t1 &  3.9467534 & -0.053246569 & 1.0134912\\\\\n",
       "\t  5 & t1 &  5.0340156 &  0.034015561 & 0.9932429\\\\\n",
       "\t  6 & t1 &  6.0447867 &  0.044786676 & 0.9925909\\\\\n",
       "\t  7 & t1 &  6.9471870 & -0.052813046 & 1.0076021\\\\\n",
       "\t  8 & t1 &  8.0205163 &  0.020516265 & 0.9974420\\\\\n",
       "\t  9 & t1 &  8.9359922 & -0.064007769 & 1.0071629\\\\\n",
       "\t 10 & t1 & 10.0013729 &  0.001372936 & 0.9998627\\\\\n",
       "\t  1 & t2 &  1.9076066 & -0.092393352 & 0.5242171\\\\\n",
       "\t  2 & t2 &  3.9216544 & -0.078345629 & 0.5099888\\\\\n",
       "\t  3 & t2 &  5.9047371 & -0.095262873 & 0.5080666\\\\\n",
       "\t  4 & t2 &  7.9451692 & -0.054830831 & 0.5034506\\\\\n",
       "\t  5 & t2 & 10.0706839 &  0.070683864 & 0.4964906\\\\\n",
       "\t  6 & t2 & 11.9154638 & -0.084536184 & 0.5035473\\\\\n",
       "\t  7 & t2 & 13.9948929 & -0.005107067 & 0.5001825\\\\\n",
       "\t  8 & t2 & 15.9483586 & -0.051641405 & 0.5016190\\\\\n",
       "\t  9 & t2 & 17.9686723 & -0.031327676 & 0.5008717\\\\\n",
       "\t 10 & t2 & 19.9371683 & -0.062831726 & 0.5015757\\\\\n",
       "\\end{tabular}\n"
      ],
      "text/markdown": [
       "\n",
       "A data.frame: 100 × 5\n",
       "\n",
       "| n &lt;int&gt; | alg &lt;fct&gt; | time &lt;dbl&gt; | error &lt;dbl&gt; | speed &lt;dbl&gt; |\n",
       "|---|---|---|---|---|\n",
       "|  1 | t1 |  1.010572 |  0.010572148 | 0.9895385 |\n",
       "|  2 | t1 |  1.981689 | -0.018310993 | 1.0092401 |\n",
       "|  3 | t1 |  3.066268 |  0.066268043 | 0.9783880 |\n",
       "|  4 | t1 |  4.060221 |  0.060220570 | 0.9851682 |\n",
       "|  5 | t1 |  5.029502 |  0.029502051 | 0.9941342 |\n",
       "|  6 | t1 |  6.045928 |  0.045927536 | 0.9924036 |\n",
       "|  7 | t1 |  6.957461 | -0.042538559 | 1.0061141 |\n",
       "|  8 | t1 |  8.009891 |  0.009891313 | 0.9987651 |\n",
       "|  9 | t1 |  9.053959 |  0.053959370 | 0.9940402 |\n",
       "| 10 | t1 |  9.982560 | -0.017439984 | 1.0017470 |\n",
       "|  1 | t2 |  1.997585 | -0.002414813 | 0.5006044 |\n",
       "|  2 | t2 |  3.953772 | -0.046227795 | 0.5058460 |\n",
       "|  3 | t2 |  5.978172 | -0.021827928 | 0.5018256 |\n",
       "|  4 | t2 |  8.052453 |  0.052453117 | 0.4967430 |\n",
       "|  5 | t2 | 10.072778 |  0.072777961 | 0.4963874 |\n",
       "|  6 | t2 | 11.957002 | -0.042997938 | 0.5017980 |\n",
       "|  7 | t2 | 14.002079 |  0.002078900 | 0.4999258 |\n",
       "|  8 | t2 | 16.031059 |  0.031058822 | 0.4990313 |\n",
       "|  9 | t2 | 18.046717 |  0.046716672 | 0.4987057 |\n",
       "| 10 | t2 | 20.046959 |  0.046959194 | 0.4988288 |\n",
       "|  1 | t1 |  1.079367 |  0.079366812 | 0.9264691 |\n",
       "|  2 | t1 |  2.034495 |  0.034494559 | 0.9830451 |\n",
       "|  3 | t1 |  2.942990 | -0.057010017 | 1.0193715 |\n",
       "|  4 | t1 |  3.936265 | -0.063734966 | 1.0161917 |\n",
       "|  5 | t1 |  4.971931 | -0.028069105 | 1.0056455 |\n",
       "|  6 | t1 |  5.935258 | -0.064741864 | 1.0109080 |\n",
       "|  7 | t1 |  6.930239 | -0.069760726 | 1.0100661 |\n",
       "|  8 | t1 |  8.088869 |  0.088868510 | 0.9890135 |\n",
       "|  9 | t1 |  8.949670 | -0.050330255 | 1.0056237 |\n",
       "| 10 | t1 |  9.963969 | -0.036030556 | 1.0036161 |\n",
       "| ⋮ | ⋮ | ⋮ | ⋮ | ⋮ |\n",
       "|  1 | t2 |  2.0298945 |  0.029894485 | 0.4926364 |\n",
       "|  2 | t2 |  3.9258667 | -0.074133292 | 0.5094416 |\n",
       "|  3 | t2 |  6.0798658 |  0.079865815 | 0.4934319 |\n",
       "|  4 | t2 |  8.0427000 |  0.042699961 | 0.4973454 |\n",
       "|  5 | t2 | 10.0047110 |  0.004710953 | 0.4997646 |\n",
       "|  6 | t2 | 12.0451718 |  0.045171754 | 0.4981249 |\n",
       "|  7 | t2 | 14.0277883 |  0.027788304 | 0.4990095 |\n",
       "|  8 | t2 | 15.9948606 | -0.005139422 | 0.5001607 |\n",
       "|  9 | t2 | 17.9814433 | -0.018556727 | 0.5005160 |\n",
       "| 10 | t2 | 20.0706583 |  0.070658276 | 0.4982398 |\n",
       "|  1 | t1 |  0.9608387 | -0.039161259 | 1.0407574 |\n",
       "|  2 | t1 |  2.0267897 |  0.026789747 | 0.9867822 |\n",
       "|  3 | t1 |  2.9177290 | -0.082271013 | 1.0281969 |\n",
       "|  4 | t1 |  3.9467534 | -0.053246569 | 1.0134912 |\n",
       "|  5 | t1 |  5.0340156 |  0.034015561 | 0.9932429 |\n",
       "|  6 | t1 |  6.0447867 |  0.044786676 | 0.9925909 |\n",
       "|  7 | t1 |  6.9471870 | -0.052813046 | 1.0076021 |\n",
       "|  8 | t1 |  8.0205163 |  0.020516265 | 0.9974420 |\n",
       "|  9 | t1 |  8.9359922 | -0.064007769 | 1.0071629 |\n",
       "| 10 | t1 | 10.0013729 |  0.001372936 | 0.9998627 |\n",
       "|  1 | t2 |  1.9076066 | -0.092393352 | 0.5242171 |\n",
       "|  2 | t2 |  3.9216544 | -0.078345629 | 0.5099888 |\n",
       "|  3 | t2 |  5.9047371 | -0.095262873 | 0.5080666 |\n",
       "|  4 | t2 |  7.9451692 | -0.054830831 | 0.5034506 |\n",
       "|  5 | t2 | 10.0706839 |  0.070683864 | 0.4964906 |\n",
       "|  6 | t2 | 11.9154638 | -0.084536184 | 0.5035473 |\n",
       "|  7 | t2 | 13.9948929 | -0.005107067 | 0.5001825 |\n",
       "|  8 | t2 | 15.9483586 | -0.051641405 | 0.5016190 |\n",
       "|  9 | t2 | 17.9686723 | -0.031327676 | 0.5008717 |\n",
       "| 10 | t2 | 19.9371683 | -0.062831726 | 0.5015757 |\n",
       "\n"
      ],
      "text/plain": [
       "    n  alg time       error        speed    \n",
       "1    1 t1   1.010572   0.010572148 0.9895385\n",
       "2    2 t1   1.981689  -0.018310993 1.0092401\n",
       "3    3 t1   3.066268   0.066268043 0.9783880\n",
       "4    4 t1   4.060221   0.060220570 0.9851682\n",
       "5    5 t1   5.029502   0.029502051 0.9941342\n",
       "6    6 t1   6.045928   0.045927536 0.9924036\n",
       "7    7 t1   6.957461  -0.042538559 1.0061141\n",
       "8    8 t1   8.009891   0.009891313 0.9987651\n",
       "9    9 t1   9.053959   0.053959370 0.9940402\n",
       "10  10 t1   9.982560  -0.017439984 1.0017470\n",
       "11   1 t2   1.997585  -0.002414813 0.5006044\n",
       "12   2 t2   3.953772  -0.046227795 0.5058460\n",
       "13   3 t2   5.978172  -0.021827928 0.5018256\n",
       "14   4 t2   8.052453   0.052453117 0.4967430\n",
       "15   5 t2  10.072778   0.072777961 0.4963874\n",
       "16   6 t2  11.957002  -0.042997938 0.5017980\n",
       "17   7 t2  14.002079   0.002078900 0.4999258\n",
       "18   8 t2  16.031059   0.031058822 0.4990313\n",
       "19   9 t2  18.046717   0.046716672 0.4987057\n",
       "20  10 t2  20.046959   0.046959194 0.4988288\n",
       "21   1 t1   1.079367   0.079366812 0.9264691\n",
       "22   2 t1   2.034495   0.034494559 0.9830451\n",
       "23   3 t1   2.942990  -0.057010017 1.0193715\n",
       "24   4 t1   3.936265  -0.063734966 1.0161917\n",
       "25   5 t1   4.971931  -0.028069105 1.0056455\n",
       "26   6 t1   5.935258  -0.064741864 1.0109080\n",
       "27   7 t1   6.930239  -0.069760726 1.0100661\n",
       "28   8 t1   8.088869   0.088868510 0.9890135\n",
       "29   9 t1   8.949670  -0.050330255 1.0056237\n",
       "30  10 t1   9.963969  -0.036030556 1.0036161\n",
       "⋮   ⋮  ⋮   ⋮          ⋮            ⋮        \n",
       "71   1 t2   2.0298945  0.029894485 0.4926364\n",
       "72   2 t2   3.9258667 -0.074133292 0.5094416\n",
       "73   3 t2   6.0798658  0.079865815 0.4934319\n",
       "74   4 t2   8.0427000  0.042699961 0.4973454\n",
       "75   5 t2  10.0047110  0.004710953 0.4997646\n",
       "76   6 t2  12.0451718  0.045171754 0.4981249\n",
       "77   7 t2  14.0277883  0.027788304 0.4990095\n",
       "78   8 t2  15.9948606 -0.005139422 0.5001607\n",
       "79   9 t2  17.9814433 -0.018556727 0.5005160\n",
       "80  10 t2  20.0706583  0.070658276 0.4982398\n",
       "81   1 t1   0.9608387 -0.039161259 1.0407574\n",
       "82   2 t1   2.0267897  0.026789747 0.9867822\n",
       "83   3 t1   2.9177290 -0.082271013 1.0281969\n",
       "84   4 t1   3.9467534 -0.053246569 1.0134912\n",
       "85   5 t1   5.0340156  0.034015561 0.9932429\n",
       "86   6 t1   6.0447867  0.044786676 0.9925909\n",
       "87   7 t1   6.9471870 -0.052813046 1.0076021\n",
       "88   8 t1   8.0205163  0.020516265 0.9974420\n",
       "89   9 t1   8.9359922 -0.064007769 1.0071629\n",
       "90  10 t1  10.0013729  0.001372936 0.9998627\n",
       "91   1 t2   1.9076066 -0.092393352 0.5242171\n",
       "92   2 t2   3.9216544 -0.078345629 0.5099888\n",
       "93   3 t2   5.9047371 -0.095262873 0.5080666\n",
       "94   4 t2   7.9451692 -0.054830831 0.5034506\n",
       "95   5 t2  10.0706839  0.070683864 0.4964906\n",
       "96   6 t2  11.9154638 -0.084536184 0.5035473\n",
       "97   7 t2  13.9948929 -0.005107067 0.5001825\n",
       "98   8 t2  15.9483586 -0.051641405 0.5016190\n",
       "99   9 t2  17.9686723 -0.031327676 0.5008717\n",
       "100 10 t2  19.9371683 -0.062831726 0.5015757"
      ]
     },
     "metadata": {},
     "output_type": "display_data"
    }
   ],
   "source": [
    "results$speed = results$n / results$time\n",
    "\n",
    "results"
   ]
  },
  {
   "cell_type": "markdown",
   "metadata": {},
   "source": [
    "Grupowanie (agregacja)\n",
    "\n",
    "Przyklad: zastosowanie funkcji FUN (tutaj: mean czyli obliczającej średnią) do wszystkich wartosci time dla takich samych n i alg:"
   ]
  },
  {
   "cell_type": "code",
   "execution_count": 30,
   "metadata": {},
   "outputs": [
    {
     "data": {
      "text/html": [
       "<table>\n",
       "<caption>A data.frame: 20 × 3</caption>\n",
       "<thead>\n",
       "\t<tr><th scope=col>n</th><th scope=col>alg</th><th scope=col>time</th></tr>\n",
       "\t<tr><th scope=col>&lt;int&gt;</th><th scope=col>&lt;fct&gt;</th><th scope=col>&lt;dbl&gt;</th></tr>\n",
       "</thead>\n",
       "<tbody>\n",
       "\t<tr><td> 1</td><td>t1</td><td> 0.9990494</td></tr>\n",
       "\t<tr><td> 2</td><td>t1</td><td> 2.0152520</td></tr>\n",
       "\t<tr><td> 3</td><td>t1</td><td> 2.9867132</td></tr>\n",
       "\t<tr><td> 4</td><td>t1</td><td> 3.9869472</td></tr>\n",
       "\t<tr><td> 5</td><td>t1</td><td> 4.9716765</td></tr>\n",
       "\t<tr><td> 6</td><td>t1</td><td> 6.0127196</td></tr>\n",
       "\t<tr><td> 7</td><td>t1</td><td> 6.9400184</td></tr>\n",
       "\t<tr><td> 8</td><td>t1</td><td> 8.0313431</td></tr>\n",
       "\t<tr><td> 9</td><td>t1</td><td> 8.9836556</td></tr>\n",
       "\t<tr><td>10</td><td>t1</td><td> 9.9948604</td></tr>\n",
       "\t<tr><td> 1</td><td>t2</td><td> 1.9878299</td></tr>\n",
       "\t<tr><td> 2</td><td>t2</td><td> 3.9599609</td></tr>\n",
       "\t<tr><td> 3</td><td>t2</td><td> 5.9861750</td></tr>\n",
       "\t<tr><td> 4</td><td>t2</td><td> 8.0300291</td></tr>\n",
       "\t<tr><td> 5</td><td>t2</td><td>10.0251302</td></tr>\n",
       "\t<tr><td> 6</td><td>t2</td><td>11.9724193</td></tr>\n",
       "\t<tr><td> 7</td><td>t2</td><td>14.0112964</td></tr>\n",
       "\t<tr><td> 8</td><td>t2</td><td>16.0212972</td></tr>\n",
       "\t<tr><td> 9</td><td>t2</td><td>17.9699109</td></tr>\n",
       "\t<tr><td>10</td><td>t2</td><td>19.9883028</td></tr>\n",
       "</tbody>\n",
       "</table>\n"
      ],
      "text/latex": [
       "A data.frame: 20 × 3\n",
       "\\begin{tabular}{lll}\n",
       " n & alg & time\\\\\n",
       " <int> & <fct> & <dbl>\\\\\n",
       "\\hline\n",
       "\t  1 & t1 &  0.9990494\\\\\n",
       "\t  2 & t1 &  2.0152520\\\\\n",
       "\t  3 & t1 &  2.9867132\\\\\n",
       "\t  4 & t1 &  3.9869472\\\\\n",
       "\t  5 & t1 &  4.9716765\\\\\n",
       "\t  6 & t1 &  6.0127196\\\\\n",
       "\t  7 & t1 &  6.9400184\\\\\n",
       "\t  8 & t1 &  8.0313431\\\\\n",
       "\t  9 & t1 &  8.9836556\\\\\n",
       "\t 10 & t1 &  9.9948604\\\\\n",
       "\t  1 & t2 &  1.9878299\\\\\n",
       "\t  2 & t2 &  3.9599609\\\\\n",
       "\t  3 & t2 &  5.9861750\\\\\n",
       "\t  4 & t2 &  8.0300291\\\\\n",
       "\t  5 & t2 & 10.0251302\\\\\n",
       "\t  6 & t2 & 11.9724193\\\\\n",
       "\t  7 & t2 & 14.0112964\\\\\n",
       "\t  8 & t2 & 16.0212972\\\\\n",
       "\t  9 & t2 & 17.9699109\\\\\n",
       "\t 10 & t2 & 19.9883028\\\\\n",
       "\\end{tabular}\n"
      ],
      "text/markdown": [
       "\n",
       "A data.frame: 20 × 3\n",
       "\n",
       "| n &lt;int&gt; | alg &lt;fct&gt; | time &lt;dbl&gt; |\n",
       "|---|---|---|\n",
       "|  1 | t1 |  0.9990494 |\n",
       "|  2 | t1 |  2.0152520 |\n",
       "|  3 | t1 |  2.9867132 |\n",
       "|  4 | t1 |  3.9869472 |\n",
       "|  5 | t1 |  4.9716765 |\n",
       "|  6 | t1 |  6.0127196 |\n",
       "|  7 | t1 |  6.9400184 |\n",
       "|  8 | t1 |  8.0313431 |\n",
       "|  9 | t1 |  8.9836556 |\n",
       "| 10 | t1 |  9.9948604 |\n",
       "|  1 | t2 |  1.9878299 |\n",
       "|  2 | t2 |  3.9599609 |\n",
       "|  3 | t2 |  5.9861750 |\n",
       "|  4 | t2 |  8.0300291 |\n",
       "|  5 | t2 | 10.0251302 |\n",
       "|  6 | t2 | 11.9724193 |\n",
       "|  7 | t2 | 14.0112964 |\n",
       "|  8 | t2 | 16.0212972 |\n",
       "|  9 | t2 | 17.9699109 |\n",
       "| 10 | t2 | 19.9883028 |\n",
       "\n"
      ],
      "text/plain": [
       "   n  alg time      \n",
       "1   1 t1   0.9990494\n",
       "2   2 t1   2.0152520\n",
       "3   3 t1   2.9867132\n",
       "4   4 t1   3.9869472\n",
       "5   5 t1   4.9716765\n",
       "6   6 t1   6.0127196\n",
       "7   7 t1   6.9400184\n",
       "8   8 t1   8.0313431\n",
       "9   9 t1   8.9836556\n",
       "10 10 t1   9.9948604\n",
       "11  1 t2   1.9878299\n",
       "12  2 t2   3.9599609\n",
       "13  3 t2   5.9861750\n",
       "14  4 t2   8.0300291\n",
       "15  5 t2  10.0251302\n",
       "16  6 t2  11.9724193\n",
       "17  7 t2  14.0112964\n",
       "18  8 t2  16.0212972\n",
       "19  9 t2  17.9699109\n",
       "20 10 t2  19.9883028"
      ]
     },
     "metadata": {},
     "output_type": "display_data"
    }
   ],
   "source": [
    "avg_results = aggregate( time ~ n:alg, data=results, FUN=mean)\n",
    "\n",
    "avg_results"
   ]
  },
  {
   "cell_type": "markdown",
   "metadata": {},
   "source": [
    "Dołączenie kolumny z obliczonym odchyleniem standardowym (sd) do tabeli:"
   ]
  },
  {
   "cell_type": "code",
   "execution_count": 31,
   "metadata": {},
   "outputs": [],
   "source": [
    "avg_results$sd = aggregate( time ~ n:alg, data=results, FUN=sd)$time"
   ]
  },
  {
   "cell_type": "markdown",
   "metadata": {},
   "source": [
    "Agregacja kilku wielkości:"
   ]
  },
  {
   "cell_type": "code",
   "execution_count": 32,
   "metadata": {},
   "outputs": [],
   "source": [
    "avg_results = aggregate( cbind(time,speed) ~ n:alg, data=results, FUN=mean) "
   ]
  },
  {
   "cell_type": "markdown",
   "metadata": {},
   "source": [
    "Filtrowanie danych:"
   ]
  },
  {
   "cell_type": "code",
   "execution_count": 33,
   "metadata": {},
   "outputs": [
    {
     "data": {
      "text/html": [
       "<table>\n",
       "<caption>A data.frame: 10 × 4</caption>\n",
       "<thead>\n",
       "\t<tr><th></th><th scope=col>n</th><th scope=col>alg</th><th scope=col>time</th><th scope=col>speed</th></tr>\n",
       "\t<tr><th></th><th scope=col>&lt;int&gt;</th><th scope=col>&lt;fct&gt;</th><th scope=col>&lt;dbl&gt;</th><th scope=col>&lt;dbl&gt;</th></tr>\n",
       "</thead>\n",
       "<tbody>\n",
       "\t<tr><th scope=row>1</th><td> 1</td><td>t1</td><td>0.9990494</td><td>1.0028054</td></tr>\n",
       "\t<tr><th scope=row>2</th><td> 2</td><td>t1</td><td>2.0152520</td><td>0.9928574</td></tr>\n",
       "\t<tr><th scope=row>3</th><td> 3</td><td>t1</td><td>2.9867132</td><td>1.0049406</td></tr>\n",
       "\t<tr><th scope=row>4</th><td> 4</td><td>t1</td><td>3.9869472</td><td>1.0036074</td></tr>\n",
       "\t<tr><th scope=row>5</th><td> 5</td><td>t1</td><td>4.9716765</td><td>1.0058149</td></tr>\n",
       "\t<tr><th scope=row>6</th><td> 6</td><td>t1</td><td>6.0127196</td><td>0.9979343</td></tr>\n",
       "\t<tr><th scope=row>7</th><td> 7</td><td>t1</td><td>6.9400184</td><td>1.0086470</td></tr>\n",
       "\t<tr><th scope=row>8</th><td> 8</td><td>t1</td><td>8.0313431</td><td>0.9961325</td></tr>\n",
       "\t<tr><th scope=row>9</th><td> 9</td><td>t1</td><td>8.9836556</td><td>1.0018430</td></tr>\n",
       "\t<tr><th scope=row>10</th><td>10</td><td>t1</td><td>9.9948604</td><td>1.0005453</td></tr>\n",
       "</tbody>\n",
       "</table>\n"
      ],
      "text/latex": [
       "A data.frame: 10 × 4\n",
       "\\begin{tabular}{r|llll}\n",
       "  & n & alg & time & speed\\\\\n",
       "  & <int> & <fct> & <dbl> & <dbl>\\\\\n",
       "\\hline\n",
       "\t1 &  1 & t1 & 0.9990494 & 1.0028054\\\\\n",
       "\t2 &  2 & t1 & 2.0152520 & 0.9928574\\\\\n",
       "\t3 &  3 & t1 & 2.9867132 & 1.0049406\\\\\n",
       "\t4 &  4 & t1 & 3.9869472 & 1.0036074\\\\\n",
       "\t5 &  5 & t1 & 4.9716765 & 1.0058149\\\\\n",
       "\t6 &  6 & t1 & 6.0127196 & 0.9979343\\\\\n",
       "\t7 &  7 & t1 & 6.9400184 & 1.0086470\\\\\n",
       "\t8 &  8 & t1 & 8.0313431 & 0.9961325\\\\\n",
       "\t9 &  9 & t1 & 8.9836556 & 1.0018430\\\\\n",
       "\t10 & 10 & t1 & 9.9948604 & 1.0005453\\\\\n",
       "\\end{tabular}\n"
      ],
      "text/markdown": [
       "\n",
       "A data.frame: 10 × 4\n",
       "\n",
       "| <!--/--> | n &lt;int&gt; | alg &lt;fct&gt; | time &lt;dbl&gt; | speed &lt;dbl&gt; |\n",
       "|---|---|---|---|---|\n",
       "| 1 |  1 | t1 | 0.9990494 | 1.0028054 |\n",
       "| 2 |  2 | t1 | 2.0152520 | 0.9928574 |\n",
       "| 3 |  3 | t1 | 2.9867132 | 1.0049406 |\n",
       "| 4 |  4 | t1 | 3.9869472 | 1.0036074 |\n",
       "| 5 |  5 | t1 | 4.9716765 | 1.0058149 |\n",
       "| 6 |  6 | t1 | 6.0127196 | 0.9979343 |\n",
       "| 7 |  7 | t1 | 6.9400184 | 1.0086470 |\n",
       "| 8 |  8 | t1 | 8.0313431 | 0.9961325 |\n",
       "| 9 |  9 | t1 | 8.9836556 | 1.0018430 |\n",
       "| 10 | 10 | t1 | 9.9948604 | 1.0005453 |\n",
       "\n"
      ],
      "text/plain": [
       "   n  alg time      speed    \n",
       "1   1 t1  0.9990494 1.0028054\n",
       "2   2 t1  2.0152520 0.9928574\n",
       "3   3 t1  2.9867132 1.0049406\n",
       "4   4 t1  3.9869472 1.0036074\n",
       "5   5 t1  4.9716765 1.0058149\n",
       "6   6 t1  6.0127196 0.9979343\n",
       "7   7 t1  6.9400184 1.0086470\n",
       "8   8 t1  8.0313431 0.9961325\n",
       "9   9 t1  8.9836556 1.0018430\n",
       "10 10 t1  9.9948604 1.0005453"
      ]
     },
     "metadata": {},
     "output_type": "display_data"
    }
   ],
   "source": [
    "avg_results[avg_results$alg==\"t1\",]"
   ]
  },
  {
   "cell_type": "markdown",
   "metadata": {},
   "source": [
    "Rysowanie wykresów.\n",
    "\n",
    "Wykres time w funkcji n:"
   ]
  },
  {
   "cell_type": "code",
   "execution_count": 34,
   "metadata": {},
   "outputs": [
    {
     "data": {
      "image/png": "[encoded data removed]",
      "text/plain": [
       "plot without title"
      ]
     },
     "metadata": {
      "image/png": {
       "height": 420,
       "width": 420
      }
     },
     "output_type": "display_data"
    }
   ],
   "source": [
    "ggplot(avg_results, aes(n,time)) + geom_point()"
   ]
  },
  {
   "cell_type": "markdown",
   "metadata": {},
   "source": [
    "Przykład skryptu rysującego wykres. Skrypt data2_plot.R uruchamiamy poleceniem:\n",
    "W wersji okienkowej: Plik -> Otworz skrypt i potem \"uruchom linijke lub zaznaczenie\"\n",
    "albo w konsoli:"
   ]
  },
  {
   "cell_type": "code",
   "execution_count": 35,
   "metadata": {},
   "outputs": [
    {
     "name": "stderr",
     "output_type": "stream",
     "text": [
      "Saving 6.67 x 6.67 in image\n",
      "\n"
     ]
    }
   ],
   "source": [
    "source(\"data2_plot.R\")"
   ]
  },
  {
   "cell_type": "markdown",
   "metadata": {},
   "source": [
    "w bashu za pomoca polecenia:"
   ]
  },
  {
   "cell_type": "markdown",
   "metadata": {},
   "source": [
    "```Rscript data2_plot.R```"
   ]
  },
  {
   "cell_type": "markdown",
   "metadata": {},
   "source": [
    "W wyniku powstaje plik [myplot.png](myplot.png)"
   ]
  },
  {
   "cell_type": "markdown",
   "metadata": {},
   "source": [
    "## Przyklad aproksymacji wielomianami"
   ]
  },
  {
   "cell_type": "markdown",
   "metadata": {},
   "source": [
    "Generujemy ciąg punktów, który będziemy aproksymować"
   ]
  },
  {
   "cell_type": "code",
   "execution_count": 36,
   "metadata": {},
   "outputs": [
    {
     "data": {
      "text/html": [
       "<table>\n",
       "<caption>A data.frame: 8 × 2</caption>\n",
       "<thead>\n",
       "\t<tr><th scope=col>x</th><th scope=col>y</th></tr>\n",
       "\t<tr><th scope=col>&lt;dbl&gt;</th><th scope=col>&lt;dbl&gt;</th></tr>\n",
       "</thead>\n",
       "<tbody>\n",
       "\t<tr><td> 32.0</td><td> 99.5</td></tr>\n",
       "\t<tr><td> 64.0</td><td>104.8</td></tr>\n",
       "\t<tr><td> 96.0</td><td>108.5</td></tr>\n",
       "\t<tr><td>118.0</td><td>100.0</td></tr>\n",
       "\t<tr><td>126.0</td><td> 86.0</td></tr>\n",
       "\t<tr><td>144.0</td><td> 64.0</td></tr>\n",
       "\t<tr><td>152.5</td><td> 35.3</td></tr>\n",
       "\t<tr><td>158.0</td><td> 15.0</td></tr>\n",
       "</tbody>\n",
       "</table>\n"
      ],
      "text/latex": [
       "A data.frame: 8 × 2\n",
       "\\begin{tabular}{ll}\n",
       " x & y\\\\\n",
       " <dbl> & <dbl>\\\\\n",
       "\\hline\n",
       "\t  32.0 &  99.5\\\\\n",
       "\t  64.0 & 104.8\\\\\n",
       "\t  96.0 & 108.5\\\\\n",
       "\t 118.0 & 100.0\\\\\n",
       "\t 126.0 &  86.0\\\\\n",
       "\t 144.0 &  64.0\\\\\n",
       "\t 152.5 &  35.3\\\\\n",
       "\t 158.0 &  15.0\\\\\n",
       "\\end{tabular}\n"
      ],
      "text/markdown": [
       "\n",
       "A data.frame: 8 × 2\n",
       "\n",
       "| x &lt;dbl&gt; | y &lt;dbl&gt; |\n",
       "|---|---|\n",
       "|  32.0 |  99.5 |\n",
       "|  64.0 | 104.8 |\n",
       "|  96.0 | 108.5 |\n",
       "| 118.0 | 100.0 |\n",
       "| 126.0 |  86.0 |\n",
       "| 144.0 |  64.0 |\n",
       "| 152.5 |  35.3 |\n",
       "| 158.0 |  15.0 |\n",
       "\n"
      ],
      "text/plain": [
       "  x     y    \n",
       "1  32.0  99.5\n",
       "2  64.0 104.8\n",
       "3  96.0 108.5\n",
       "4 118.0 100.0\n",
       "5 126.0  86.0\n",
       "6 144.0  64.0\n",
       "7 152.5  35.3\n",
       "8 158.0  15.0"
      ]
     },
     "metadata": {},
     "output_type": "display_data"
    }
   ],
   "source": [
    "x = c(32,64,96,118,126,144,152.5,158)  \n",
    "y = c(99.5,104.8,108.5,100,86,64,35.3,15)\n",
    "mydata = data.frame(x,y)\n",
    "mydata"
   ]
  },
  {
   "cell_type": "markdown",
   "metadata": {},
   "source": [
    "Fitujemy zwyklym wielomianem stopnia 3"
   ]
  },
  {
   "cell_type": "code",
   "execution_count": 37,
   "metadata": {},
   "outputs": [],
   "source": [
    "fit = lm(y ~ poly(x, 3, raw=TRUE), data=mydata)"
   ]
  },
  {
   "cell_type": "markdown",
   "metadata": {},
   "source": [
    "Możemy wyświetlić współczynniki wielomianu:"
   ]
  },
  {
   "cell_type": "code",
   "execution_count": 38,
   "metadata": {},
   "outputs": [
    {
     "data": {
      "text/plain": [
       "\n",
       "Call:\n",
       "lm(formula = y ~ poly(x, 3, raw = TRUE), data = mydata)\n",
       "\n",
       "Coefficients:\n",
       "            (Intercept)  poly(x, 3, raw = TRUE)1  poly(x, 3, raw = TRUE)2  \n",
       "              1.269e+02               -1.626e+00                2.910e-02  \n",
       "poly(x, 3, raw = TRUE)3  \n",
       "             -1.468e-04  \n"
      ]
     },
     "metadata": {},
     "output_type": "display_data"
    }
   ],
   "source": [
    "fit "
   ]
  },
  {
   "cell_type": "markdown",
   "metadata": {},
   "source": [
    "Rysujemy wykres punktów:"
   ]
  },
  {
   "cell_type": "code",
   "execution_count": 39,
   "metadata": {},
   "outputs": [
    {
     "data": {
      "image/png": "[encoded data removed]",
      "text/plain": [
       "plot without title"
      ]
     },
     "metadata": {
      "image/png": {
       "height": 420,
       "width": 420
      }
     },
     "output_type": "display_data"
    }
   ],
   "source": [
    "ggplot(mydata,aes(x,y)) + geom_point()"
   ]
  },
  {
   "cell_type": "markdown",
   "metadata": {},
   "source": [
    "Generujemy gestą listę punktów dla wyliczenia wartości wielomianu aproksymujacego"
   ]
  },
  {
   "cell_type": "code",
   "execution_count": 40,
   "metadata": {},
   "outputs": [],
   "source": [
    " newdata = data.frame(x = seq(30,160, length.out=250))"
   ]
  },
  {
   "cell_type": "markdown",
   "metadata": {},
   "source": [
    "Dodajemy do wykresu krzywą wielomianu"
   ]
  },
  {
   "cell_type": "code",
   "execution_count": 41,
   "metadata": {},
   "outputs": [
    {
     "data": {
      "image/png": "[encoded data removed]",
      "text/plain": [
       "plot without title"
      ]
     },
     "metadata": {
      "image/png": {
       "height": 420,
       "width": 420
      }
     },
     "output_type": "display_data"
    }
   ],
   "source": [
    "newdata$y = predict(fit, newdata)\n",
    "last_plot() + geom_line(data=newdata, aes(x,y))"
   ]
  },
  {
   "cell_type": "markdown",
   "metadata": {},
   "source": [
    "[Multiple Regression in R](http://www.statmethods.net/stats/regression.html)"
   ]
  },
  {
   "cell_type": "markdown",
   "metadata": {},
   "source": [
    "## Zadanie"
   ]
  },
  {
   "cell_type": "markdown",
   "metadata": {},
   "source": [
    "Za pomocą języka R przeanalizować dowolne dane z poprzednich laboratoriów. Elementy obowiązkowe:\n",
    "\n",
    "1. W jednej tabeli języka R należy umieścić wyniki dwóch różnych eksperymentów (t.j. czas działania dwóch różnych funkcji) dla różnych parametrów (t.j. rozmiarów wektora(macierzy)) (1p.)\n",
    "2. Tabela powinna zawierać dane z 10-krotnego uruchomienia tego samego eksperymentu dla tych samych parametrów (dla każdego takiego zestawu)\n",
    "3. Należy przedstawić wykresy średnich czasów obliczenia wybranych funkcji w zależności od rozmiaru wektora (macierzy) (1p.)\n",
    "4. Wykresy powinny zawierać informację o odchyleniu standardowym dla uzyskanych wyników. Słupki błędów można narysować korzystając z funkcji geom_errorbar pakietu ggplot2 (1p.)\n",
    "5. Użyć aproksymacji wielomianowej dostępnej w języku R do znalezienia odpowiednich wielomianów, które najlepiej pasują do wyników każdego z algorytmów. Dodać wykresy uzyskanych wielomianow do wykresu. (1p.)\n",
    "6. Dopasować krzywą wykładniczą do liczby zakażonych koronawirusem. Przykładowe źródło danych w [GoogleDoc](https://docs.google.com/spreadsheets/d/1ZIdpVF5AfbkFvGxey92RQLjRVWF8_oWN5-hSbFDL8g0/htmlview#) lub https://ourworldindata.org/explorers/coronavirus-data-explorer. Jak zmieniają się krzywe w zależności od wybranego okresu czasu. Porównać na wykresach co najmniej 2 dopasowania (2p.)"
   ]
  }
 ],
 "metadata": {
  "kernelspec": {
   "display_name": "R",
   "language": "R",
   "name": "ir"
  },
  "language_info": {
   "codemirror_mode": "r",
   "file_extension": ".r",
   "mimetype": "text/x-r-source",
   "name": "R",
   "pygments_lexer": "r",
   "version": "3.6.3"
  }
 },
 "nbformat": 4,
 "nbformat_minor": 4
}
