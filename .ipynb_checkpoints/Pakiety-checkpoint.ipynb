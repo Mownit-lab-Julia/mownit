{
 "cells": [
  {
   "cell_type": "code",
   "execution_count": null,
   "id": "f93bbe05",
   "metadata": {},
   "outputs": [],
   "source": [
    "using Pkg\n"
   ]
  },
  {
   "cell_type": "code",
   "execution_count": null,
   "id": "3b4b0e82",
   "metadata": {},
   "outputs": [],
   "source": [
    "Pkg.add(\"DataFrames\")"
   ]
  },
  {
   "cell_type": "code",
   "execution_count": null,
   "id": "a551bd55",
   "metadata": {},
   "outputs": [],
   "source": [
    "using DataFrames"
   ]
  },
  {
   "cell_type": "code",
   "execution_count": null,
   "id": "b4e77aa9",
   "metadata": {},
   "outputs": [],
   "source": [
    "Pkg.add(\"CSV\")"
   ]
  },
  {
   "cell_type": "code",
   "execution_count": null,
   "id": "cf5c8087",
   "metadata": {},
   "outputs": [],
   "source": [
    "using CSV"
   ]
  },
  {
   "cell_type": "code",
   "execution_count": null,
   "id": "a77ba8e4",
   "metadata": {},
   "outputs": [],
   "source": [
    "Pkg.add(\"Plots\")"
   ]
  },
  {
   "cell_type": "code",
   "execution_count": null,
   "id": "bf8c392e",
   "metadata": {},
   "outputs": [],
   "source": [
    "using Plots"
   ]
  },
  {
   "cell_type": "code",
   "execution_count": null,
   "id": "186e58d2",
   "metadata": {},
   "outputs": [],
   "source": [
    "Pkg.add(\"Interpolations\")"
   ]
  },
  {
   "cell_type": "code",
   "execution_count": null,
   "id": "87dc1667",
   "metadata": {},
   "outputs": [],
   "source": [
    "using Interpolations"
   ]
  },
  {
   "cell_type": "code",
   "execution_count": null,
   "id": "3de2c954",
   "metadata": {},
   "outputs": [],
   "source": [
    "Pkg.add(\"Polynomials\")"
   ]
  },
  {
   "cell_type": "code",
   "execution_count": null,
   "id": "7e4c4cf3",
   "metadata": {},
   "outputs": [],
   "source": [
    "using Polynomials"
   ]
  },
  {
   "cell_type": "code",
   "execution_count": null,
   "id": "07112e49",
   "metadata": {},
   "outputs": [],
   "source": [
    "Pkg.add(\"TaylorSeries\")"
   ]
  },
  {
   "cell_type": "code",
   "execution_count": null,
   "id": "606d0327",
   "metadata": {},
   "outputs": [],
   "source": [
    "using TaylorSeries"
   ]
  },
  {
   "cell_type": "code",
   "execution_count": null,
   "id": "d48b4450",
   "metadata": {},
   "outputs": [],
   "source": [
    "Pkg.add(\"SpecialPolynomials\")"
   ]
  },
  {
   "cell_type": "code",
   "execution_count": null,
   "id": "2e5e5b4d",
   "metadata": {},
   "outputs": [],
   "source": [
    "using SpecialPolynomials"
   ]
  },
  {
   "cell_type": "code",
   "execution_count": null,
   "id": "002c4234",
   "metadata": {},
   "outputs": [],
   "source": [
    "Pkg.add(\"QuadGK\")"
   ]
  },
  {
   "cell_type": "code",
   "execution_count": null,
   "id": "6cc71d9b",
   "metadata": {},
   "outputs": [],
   "source": [
    "using QuadGK"
   ]
  },
  {
   "cell_type": "code",
   "execution_count": null,
   "id": "8fbc7456",
   "metadata": {},
   "outputs": [],
   "source": [
    "Pkg.add(\"FFTW\")"
   ]
  },
  {
   "cell_type": "code",
   "execution_count": null,
   "id": "513ef795",
   "metadata": {},
   "outputs": [],
   "source": [
    "using FFTW"
   ]
  },
  {
   "cell_type": "code",
   "execution_count": null,
   "id": "e985b1eb",
   "metadata": {},
   "outputs": [],
   "source": [
    "Pkg.add(\"DifferentialEquations\")"
   ]
  },
  {
   "cell_type": "code",
   "execution_count": null,
   "id": "1997a0ce",
   "metadata": {},
   "outputs": [],
   "source": [
    "using DifferentialEquations"
   ]
  }
 ],
 "metadata": {
  "kernelspec": {
   "display_name": "Julia 1.10.0",
   "language": "julia",
   "name": "julia-1.10"
  },
  "language_info": {
   "file_extension": ".jl",
   "mimetype": "application/julia",
   "name": "julia",
   "version": "1.10.0"
  }
 },
 "nbformat": 4,
 "nbformat_minor": 5
}
