{
 "cells": [
  {
   "cell_type": "markdown",
   "metadata": {},
   "source": [
    "# MOwNiT \n",
    "## Laboratorium - wstęp do Julia\n",
    "\n"
   ]
  },
  {
   "cell_type": "markdown",
   "metadata": {},
   "source": [
    "### Instalacja\n",
    "\n",
    "Aktualna wersja: Julia 1.8.5 https://julialang.org/\n",
    "\n",
    "Instalacja na własnym komputerze: https://julialang.org/downloads/\n",
    "\n"
   ]
  },
  {
   "cell_type": "markdown",
   "metadata": {},
   "source": [
    "### Uruchomienie\n",
    "\n",
    "Uruchamiamy z linii poleceń:\n",
    "```\n",
    "julia\n",
    "```"
   ]
  },
  {
   "cell_type": "markdown",
   "metadata": {},
   "source": [
    "###  Jak używać Jupitera z Julią\n",
    "\n",
    "https://datatofish.com/add-julia-to-jupyter/"
   ]
  },
  {
   "cell_type": "markdown",
   "metadata": {},
   "source": [
    "\n",
    "### Alternatywnie: Julia w google collab\n",
    "\n",
    "https://colab.research.google.com/github/ageron/julia_notebooks/blob/master/Julia_Colab_Notebook_Template.ipynb"
   ]
  },
  {
   "cell_type": "markdown",
   "metadata": {},
   "source": [
    "### Materiały do nauki\n",
    "\n",
    "* Dokumentacja :) https://docs.julialang.org/en/v1/manual/getting-started/\n",
    "* Coursera (do Julia 1.0, ale i tak dobry) https://www.coursera.org/learn/julia-programming\n",
    "* Kurs z MIT https://computationalthinking.mit.edu/Spring21/"
   ]
  }
 ],
 "metadata": {
  "kernelspec": {
   "display_name": "Julia 1.7.2",
   "language": "julia",
   "name": "julia-1.7"
  },
  "language_info": {
   "file_extension": ".jl",
   "mimetype": "application/julia",
   "name": "julia",
   "version": "1.7.2"
  }
 },
 "nbformat": 4,
 "nbformat_minor": 2
}
