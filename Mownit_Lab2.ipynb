{
 "cells": [
  {
   "cell_type": "markdown",
   "metadata": {},
   "source": [
    "# MOwNiT\n",
    "## Laboratorium 2\n",
    "### Analiza danych - DataFrames"
   ]
  },
  {
   "cell_type": "markdown",
   "metadata": {},
   "source": [
    "- Zaawansowany pakiet do działania na tabelkach nxm danych \n",
    "- Podobne do pandas DataFrames w Pythonie albo data.frame w R\n",
    "- Specjalistyczne funkcje do statystyki\n",
    "- W przypadku włąsnej instalacji należy zaistalować pakiet:\n",
    "\n",
    "```julia\n",
    "Pkg.add(\"DataFrames\")\n",
    "```\n",
    "\n",
    "- DataFrame to rodzaj bazy danych in-memory\n",
    "- Składa się z kolumn, do których odwołujemy się używając symboli\n",
    "- Każda z kolumn może przechowywać inny typ (inaczej niż w dwuwymiarowych tablicach )\n",
    "- od wersji 0.11 każda z kolumn jest typu Array{T,1} gdzie T jest okreslonym typem danych (np. Float64)\n",
    "- strona pakietu: https://github.com/JuliaStats/DataFrames.jl\n",
    "- dokumentacja najnowszej wersji 0.14 : https://juliadata.github.io/DataFrames.jl/stable/index.html\n",
    "\n",
    "\n",
    "\n"
   ]
  },
  {
   "cell_type": "code",
   "execution_count": 3,
   "metadata": {},
   "outputs": [
    {
     "name": "stderr",
     "output_type": "stream",
     "text": [
      "\u001b[32m\u001b[1m   Updating\u001b[22m\u001b[39m registry at `C:\\Users\\kzaja\\.julia\\registries\\General`\n",
      "\u001b[32m\u001b[1m  Resolving\u001b[22m\u001b[39m package versions...\n",
      "\u001b[32m\u001b[1m  Installed\u001b[22m\u001b[39m InvertedIndices ─── v1.0.0\n",
      "\u001b[32m\u001b[1m  Installed\u001b[22m\u001b[39m Crayons ─────────── v4.0.4\n",
      "\u001b[32m\u001b[1m  Installed\u001b[22m\u001b[39m PooledArrays ────── v1.1.0\n",
      "\u001b[32m\u001b[1m  Installed\u001b[22m\u001b[39m StructTypes ─────── v1.2.3\n",
      "\u001b[32m\u001b[1m  Installed\u001b[22m\u001b[39m CategoricalArrays ─ v0.9.2\n",
      "\u001b[32m\u001b[1m  Installed\u001b[22m\u001b[39m DataFrames ──────── v0.22.5\n",
      "\u001b[32m\u001b[1m  Installed\u001b[22m\u001b[39m PrettyTables ────── v0.11.1\n",
      "\u001b[32m\u001b[1mUpdating\u001b[22m\u001b[39m `C:\\Users\\kzaja\\.julia\\environments\\v1.5\\Project.toml`\n",
      " \u001b[90m [a93c6f00] \u001b[39m\u001b[92m+ DataFrames v0.22.5\u001b[39m\n",
      "\u001b[32m\u001b[1mUpdating\u001b[22m\u001b[39m `C:\\Users\\kzaja\\.julia\\environments\\v1.5\\Manifest.toml`\n",
      " \u001b[90m [324d7699] \u001b[39m\u001b[92m+ CategoricalArrays v0.9.2\u001b[39m\n",
      " \u001b[90m [a8cc5b0e] \u001b[39m\u001b[92m+ Crayons v4.0.4\u001b[39m\n",
      " \u001b[90m [a93c6f00] \u001b[39m\u001b[92m+ DataFrames v0.22.5\u001b[39m\n",
      " \u001b[90m [41ab1584] \u001b[39m\u001b[92m+ InvertedIndices v1.0.0\u001b[39m\n",
      " \u001b[90m [2dfb63ee] \u001b[39m\u001b[92m+ PooledArrays v1.1.0\u001b[39m\n",
      " \u001b[90m [08abe8d2] \u001b[39m\u001b[92m+ PrettyTables v0.11.1\u001b[39m\n",
      " \u001b[90m [856f2bd8] \u001b[39m\u001b[92m+ StructTypes v1.2.3\u001b[39m\n",
      " \u001b[90m [9fa8497b] \u001b[39m\u001b[92m+ Future\u001b[39m\n"
     ]
    }
   ],
   "source": [
    "using Pkg\n",
    "Pkg.add(\"DataFrames\")"
   ]
  },
  {
   "cell_type": "code",
   "execution_count": 4,
   "metadata": {},
   "outputs": [
    {
     "name": "stderr",
     "output_type": "stream",
     "text": [
      "┌ Info: Precompiling DataFrames [a93c6f00-e57d-5684-b7b6-d8193f3e46c0]\n",
      "└ @ Base loading.jl:1278\n"
     ]
    },
    {
     "name": "stdout",
     "output_type": "stream",
     "text": [
      "\u001b[1m4×3 DataFrame\u001b[0m\n",
      "\u001b[1m Row \u001b[0m│\u001b[1m MojaKolumna \u001b[0m\u001b[1m x2       \u001b[0m\u001b[1m Col3  \u001b[0m\n",
      "\u001b[1m     \u001b[0m│\u001b[90m Int64       \u001b[0m\u001b[90m Float64  \u001b[0m\u001b[90m Bool  \u001b[0m\n",
      "─────┼──────────────────────────────\n",
      "   1 │           1   4.0       true\n",
      "   2 │           2   3.14159  false\n",
      "   3 │           3   1.41421   true\n",
      "   4 │           4  42.0      false"
     ]
    }
   ],
   "source": [
    "# Tworzenie DataFrame\n",
    "using DataFrames\n",
    "df1=DataFrame()\n",
    "df1.MojaKolumna= 1:4\n",
    "df1.x2= [4,pi,sqrt(2), 42]\n",
    "df1.Col3= [true,false, true, false]\n",
    "show(df1)"
   ]
  },
  {
   "cell_type": "code",
   "execution_count": 5,
   "metadata": {},
   "outputs": [
    {
     "data": {
      "text/plain": [
       "Array{Float64,1}"
      ]
     },
     "execution_count": 5,
     "metadata": {},
     "output_type": "execute_result"
    }
   ],
   "source": [
    "typeof(df1[!,2])"
   ]
  },
  {
   "cell_type": "code",
   "execution_count": 6,
   "metadata": {},
   "outputs": [
    {
     "data": {
      "text/plain": [
       "Array{Bool,1}"
      ]
     },
     "execution_count": 6,
     "metadata": {},
     "output_type": "execute_result"
    }
   ],
   "source": [
    "typeof(df1.Col3)"
   ]
  },
  {
   "cell_type": "code",
   "execution_count": 7,
   "metadata": {},
   "outputs": [
    {
     "data": {
      "text/html": [
       "<table class=\"data-frame\"><thead><tr><th></th><th>MojaKolumna</th><th>Col2</th><th>Col3</th></tr><tr><th></th><th>Int64</th><th>Float64</th><th>Bool</th></tr></thead><tbody><p>10 rows × 3 columns</p><tr><th>1</th><td>1</td><td>2.0</td><td>1</td></tr><tr><th>2</th><td>2</td><td>3.14159</td><td>1</td></tr><tr><th>3</th><td>3</td><td>1.41421</td><td>0</td></tr><tr><th>4</th><td>4</td><td>3.0</td><td>1</td></tr><tr><th>5</th><td>5</td><td>4.0</td><td>0</td></tr><tr><th>6</th><td>6</td><td>2.0</td><td>1</td></tr><tr><th>7</th><td>7</td><td>3.14159</td><td>1</td></tr><tr><th>8</th><td>8</td><td>1.41421</td><td>0</td></tr><tr><th>9</th><td>9</td><td>3.0</td><td>1</td></tr><tr><th>10</th><td>10</td><td>4.0</td><td>0</td></tr></tbody></table>"
      ],
      "text/latex": [
       "\\begin{tabular}{r|ccc}\n",
       "\t& MojaKolumna & Col2 & Col3\\\\\n",
       "\t\\hline\n",
       "\t& Int64 & Float64 & Bool\\\\\n",
       "\t\\hline\n",
       "\t1 & 1 & 2.0 & 1 \\\\\n",
       "\t2 & 2 & 3.14159 & 1 \\\\\n",
       "\t3 & 3 & 1.41421 & 0 \\\\\n",
       "\t4 & 4 & 3.0 & 1 \\\\\n",
       "\t5 & 5 & 4.0 & 0 \\\\\n",
       "\t6 & 6 & 2.0 & 1 \\\\\n",
       "\t7 & 7 & 3.14159 & 1 \\\\\n",
       "\t8 & 8 & 1.41421 & 0 \\\\\n",
       "\t9 & 9 & 3.0 & 1 \\\\\n",
       "\t10 & 10 & 4.0 & 0 \\\\\n",
       "\\end{tabular}\n"
      ],
      "text/plain": [
       "\u001b[1m10×3 DataFrame\u001b[0m\n",
       "\u001b[1m Row \u001b[0m│\u001b[1m MojaKolumna \u001b[0m\u001b[1m Col2    \u001b[0m\u001b[1m Col3  \u001b[0m\n",
       "\u001b[1m     \u001b[0m│\u001b[90m Int64       \u001b[0m\u001b[90m Float64 \u001b[0m\u001b[90m Bool  \u001b[0m\n",
       "─────┼─────────────────────────────\n",
       "   1 │           1  2.0       true\n",
       "   2 │           2  3.14159   true\n",
       "   3 │           3  1.41421  false\n",
       "   4 │           4  3.0       true\n",
       "   5 │           5  4.0      false\n",
       "   6 │           6  2.0       true\n",
       "   7 │           7  3.14159   true\n",
       "   8 │           8  1.41421  false\n",
       "   9 │           9  3.0       true\n",
       "  10 │          10  4.0      false"
      ]
     },
     "execution_count": 7,
     "metadata": {},
     "output_type": "execute_result"
    }
   ],
   "source": [
    "# możemy też utworzyć DataFrame używając konstruktora\n",
    "df2=DataFrame(MojaKolumna=1:10, \n",
    "    Col2=[2,pi, sqrt(2), 3, 4,2,pi, sqrt(2), 3, 4], \n",
    "    Col3=[true,true,false,true,false,true,true,false,true,false])"
   ]
  },
  {
   "cell_type": "code",
   "execution_count": 8,
   "metadata": {},
   "outputs": [
    {
     "data": {
      "text/plain": [
       "10"
      ]
     },
     "execution_count": 8,
     "metadata": {},
     "output_type": "execute_result"
    }
   ],
   "source": [
    "# ilosc wierszy\n",
    "size(df2, 1) "
   ]
  },
  {
   "cell_type": "code",
   "execution_count": 9,
   "metadata": {},
   "outputs": [
    {
     "data": {
      "text/plain": [
       "3"
      ]
     },
     "execution_count": 9,
     "metadata": {},
     "output_type": "execute_result"
    }
   ],
   "source": [
    "#ilosc kolumn\n",
    "size(df2, 2) "
   ]
  },
  {
   "cell_type": "code",
   "execution_count": 10,
   "metadata": {},
   "outputs": [
    {
     "name": "stdout",
     "output_type": "stream",
     "text": [
      "[2.0, 3.141592653589793, 1.4142135623730951, 3.0, 4.0, 2.0, 3.141592653589793, 1.4142135623730951, 3.0, 4.0]"
     ]
    }
   ],
   "source": [
    "# można odwoływać się po indeksie\n",
    "show(df2[:,2])"
   ]
  },
  {
   "cell_type": "code",
   "execution_count": 11,
   "metadata": {},
   "outputs": [
    {
     "name": "stdout",
     "output_type": "stream",
     "text": [
      "[2.0, 3.141592653589793, 1.4142135623730951, 3.0, 4.0, 2.0, 3.141592653589793, 1.4142135623730951, 3.0, 4.0]"
     ]
    }
   ],
   "source": [
    "# albo po symbolu kolumny\n",
    "show(df2[!,:Col2])"
   ]
  },
  {
   "cell_type": "code",
   "execution_count": 12,
   "metadata": {},
   "outputs": [
    {
     "name": "stdout",
     "output_type": "stream",
     "text": [
      "\u001b[1mDataFrameRow\u001b[0m\n",
      "\u001b[1m Row \u001b[0m│\u001b[1m MojaKolumna \u001b[0m\u001b[1m Col2    \u001b[0m\u001b[1m Col3  \u001b[0m\n",
      "\u001b[1m     \u001b[0m│\u001b[90m Int64       \u001b[0m\u001b[90m Float64 \u001b[0m\u001b[90m Bool  \u001b[0m\n",
      "─────┼─────────────────────────────\n",
      "   3 │           3  1.41421  false"
     ]
    }
   ],
   "source": [
    "# wiersze lub podzbiory wierszy i kolumn uzyskujemy poprzez operator (:). Wynikiem jest nowy DataFrame\n",
    "show(df2[3,:])"
   ]
  },
  {
   "cell_type": "code",
   "execution_count": 13,
   "metadata": {},
   "outputs": [
    {
     "data": {
      "text/html": [
       "<table class=\"data-frame\"><thead><tr><th></th><th>MojaKolumna</th><th>Col2</th><th>Col3</th></tr><tr><th></th><th>Int64</th><th>Float64</th><th>Bool</th></tr></thead><tbody><p>2 rows × 3 columns</p><tr><th>1</th><td>2</td><td>3.14159</td><td>1</td></tr><tr><th>2</th><td>3</td><td>1.41421</td><td>0</td></tr></tbody></table>"
      ],
      "text/latex": [
       "\\begin{tabular}{r|ccc}\n",
       "\t& MojaKolumna & Col2 & Col3\\\\\n",
       "\t\\hline\n",
       "\t& Int64 & Float64 & Bool\\\\\n",
       "\t\\hline\n",
       "\t1 & 2 & 3.14159 & 1 \\\\\n",
       "\t2 & 3 & 1.41421 & 0 \\\\\n",
       "\\end{tabular}\n"
      ],
      "text/plain": [
       "\u001b[1m2×3 DataFrame\u001b[0m\n",
       "\u001b[1m Row \u001b[0m│\u001b[1m MojaKolumna \u001b[0m\u001b[1m Col2    \u001b[0m\u001b[1m Col3  \u001b[0m\n",
       "\u001b[1m     \u001b[0m│\u001b[90m Int64       \u001b[0m\u001b[90m Float64 \u001b[0m\u001b[90m Bool  \u001b[0m\n",
       "─────┼─────────────────────────────\n",
       "   1 │           2  3.14159   true\n",
       "   2 │           3  1.41421  false"
      ]
     },
     "execution_count": 13,
     "metadata": {},
     "output_type": "execute_result"
    }
   ],
   "source": [
    "# drugi i trzeci wiersz\n",
    "df2[2:3, :]"
   ]
  },
  {
   "cell_type": "code",
   "execution_count": 14,
   "metadata": {},
   "outputs": [
    {
     "data": {
      "text/plain": [
       "2-element Array{Float64,1}:\n",
       " 3.141592653589793\n",
       " 1.4142135623730951"
      ]
     },
     "execution_count": 14,
     "metadata": {},
     "output_type": "execute_result"
    }
   ],
   "source": [
    "# druga kolumna drugiego i trzeciego wiersza\n",
    "df2[2:3, :Col2]"
   ]
  },
  {
   "cell_type": "code",
   "execution_count": 15,
   "metadata": {},
   "outputs": [
    {
     "data": {
      "text/html": [
       "<table class=\"data-frame\"><thead><tr><th></th><th>Col2</th><th>Col3</th></tr><tr><th></th><th>Float64</th><th>Bool</th></tr></thead><tbody><p>2 rows × 2 columns</p><tr><th>1</th><td>3.14159</td><td>1</td></tr><tr><th>2</th><td>1.41421</td><td>0</td></tr></tbody></table>"
      ],
      "text/latex": [
       "\\begin{tabular}{r|cc}\n",
       "\t& Col2 & Col3\\\\\n",
       "\t\\hline\n",
       "\t& Float64 & Bool\\\\\n",
       "\t\\hline\n",
       "\t1 & 3.14159 & 1 \\\\\n",
       "\t2 & 1.41421 & 0 \\\\\n",
       "\\end{tabular}\n"
      ],
      "text/plain": [
       "\u001b[1m2×2 DataFrame\u001b[0m\n",
       "\u001b[1m Row \u001b[0m│\u001b[1m Col2    \u001b[0m\u001b[1m Col3  \u001b[0m\n",
       "\u001b[1m     \u001b[0m│\u001b[90m Float64 \u001b[0m\u001b[90m Bool  \u001b[0m\n",
       "─────┼────────────────\n",
       "   1 │ 3.14159   true\n",
       "   2 │ 1.41421  false"
      ]
     },
     "execution_count": 15,
     "metadata": {},
     "output_type": "execute_result"
    }
   ],
   "source": [
    "# druga i trzecia kolumna drugiego i trzeciego wiersza\n",
    "df2[2:3,[:Col2, :Col3]]"
   ]
  },
  {
   "cell_type": "code",
   "execution_count": 16,
   "metadata": {},
   "outputs": [
    {
     "data": {
      "text/html": [
       "<p>DataFrameRow (3 columns)</p><table class=\"data-frame\"><thead><tr><th></th><th>MojaKolumna</th><th>Col2</th><th>Col3</th></tr><tr><th></th><th>Int64</th><th>Float64</th><th>Bool</th></tr></thead><tbody><tr><th>1</th><td>1</td><td>2.0</td><td>1</td></tr></tbody></table>"
      ],
      "text/latex": [
       "\\begin{tabular}{r|ccc}\n",
       "\t& MojaKolumna & Col2 & Col3\\\\\n",
       "\t\\hline\n",
       "\t& Int64 & Float64 & Bool\\\\\n",
       "\t\\hline\n",
       "\t1 & 1 & 2.0 & 1 \\\\\n",
       "\\end{tabular}\n"
      ],
      "text/plain": [
       "\u001b[1mDataFrameRow\u001b[0m\n",
       "\u001b[1m Row \u001b[0m│\u001b[1m MojaKolumna \u001b[0m\u001b[1m Col2    \u001b[0m\u001b[1m Col3 \u001b[0m\n",
       "\u001b[1m     \u001b[0m│\u001b[90m Int64       \u001b[0m\u001b[90m Float64 \u001b[0m\u001b[90m Bool \u001b[0m\n",
       "─────┼────────────────────────────\n",
       "   1 │           1      2.0  true"
      ]
     },
     "execution_count": 16,
     "metadata": {},
     "output_type": "execute_result"
    }
   ],
   "source": [
    "# pierwsze sześć wierszy\n",
    "DataFrames.first(df2)"
   ]
  },
  {
   "cell_type": "code",
   "execution_count": 17,
   "metadata": {},
   "outputs": [
    {
     "data": {
      "text/html": [
       "<p>DataFrameRow (3 columns)</p><table class=\"data-frame\"><thead><tr><th></th><th>MojaKolumna</th><th>Col2</th><th>Col3</th></tr><tr><th></th><th>Int64</th><th>Float64</th><th>Bool</th></tr></thead><tbody><tr><th>10</th><td>10</td><td>4.0</td><td>0</td></tr></tbody></table>"
      ],
      "text/latex": [
       "\\begin{tabular}{r|ccc}\n",
       "\t& MojaKolumna & Col2 & Col3\\\\\n",
       "\t\\hline\n",
       "\t& Int64 & Float64 & Bool\\\\\n",
       "\t\\hline\n",
       "\t10 & 10 & 4.0 & 0 \\\\\n",
       "\\end{tabular}\n"
      ],
      "text/plain": [
       "\u001b[1mDataFrameRow\u001b[0m\n",
       "\u001b[1m Row \u001b[0m│\u001b[1m MojaKolumna \u001b[0m\u001b[1m Col2    \u001b[0m\u001b[1m Col3  \u001b[0m\n",
       "\u001b[1m     \u001b[0m│\u001b[90m Int64       \u001b[0m\u001b[90m Float64 \u001b[0m\u001b[90m Bool  \u001b[0m\n",
       "─────┼─────────────────────────────\n",
       "  10 │          10      4.0  false"
      ]
     },
     "execution_count": 17,
     "metadata": {},
     "output_type": "execute_result"
    }
   ],
   "source": [
    "# ostatnie sześć wierszy\n",
    "DataFrames.last(df2)"
   ]
  },
  {
   "cell_type": "code",
   "execution_count": 18,
   "metadata": {},
   "outputs": [
    {
     "data": {
      "text/plain": [
       "3-element Array{String,1}:\n",
       " \"MojaKolumna\"\n",
       " \"Col2\"\n",
       " \"Col3\""
      ]
     },
     "execution_count": 18,
     "metadata": {},
     "output_type": "execute_result"
    }
   ],
   "source": [
    "# nazwy kolumn\n",
    "names(df2)"
   ]
  },
  {
   "cell_type": "code",
   "execution_count": 19,
   "metadata": {},
   "outputs": [
    {
     "data": {
      "text/plain": [
       "3-element Array{DataType,1}:\n",
       " Int64\n",
       " Float64\n",
       " Bool"
      ]
     },
     "execution_count": 19,
     "metadata": {},
     "output_type": "execute_result"
    }
   ],
   "source": [
    "# typy kolumn\n",
    "eltype.(eachcol(df2))"
   ]
  },
  {
   "cell_type": "code",
   "execution_count": 20,
   "metadata": {},
   "outputs": [
    {
     "data": {
      "text/html": [
       "<table class=\"data-frame\"><thead><tr><th></th><th>variable</th><th>mean</th><th>min</th><th>median</th><th>max</th><th>nmissing</th><th>eltype</th></tr><tr><th></th><th>Symbol</th><th>Float64</th><th>Real</th><th>Float64</th><th>Real</th><th>Int64</th><th>DataType</th></tr></thead><tbody><p>3 rows × 7 columns</p><tr><th>1</th><td>MojaKolumna</td><td>5.5</td><td>1</td><td>5.5</td><td>10</td><td>0</td><td>Int64</td></tr><tr><th>2</th><td>Col2</td><td>2.71116</td><td>1.41421</td><td>3.0</td><td>4.0</td><td>0</td><td>Float64</td></tr><tr><th>3</th><td>Col3</td><td>0.6</td><td>0</td><td>1.0</td><td>1</td><td>0</td><td>Bool</td></tr></tbody></table>"
      ],
      "text/latex": [
       "\\begin{tabular}{r|ccccccc}\n",
       "\t& variable & mean & min & median & max & nmissing & eltype\\\\\n",
       "\t\\hline\n",
       "\t& Symbol & Float64 & Real & Float64 & Real & Int64 & DataType\\\\\n",
       "\t\\hline\n",
       "\t1 & MojaKolumna & 5.5 & 1 & 5.5 & 10 & 0 & Int64 \\\\\n",
       "\t2 & Col2 & 2.71116 & 1.41421 & 3.0 & 4.0 & 0 & Float64 \\\\\n",
       "\t3 & Col3 & 0.6 & 0 & 1.0 & 1 & 0 & Bool \\\\\n",
       "\\end{tabular}\n"
      ],
      "text/plain": [
       "\u001b[1m3×7 DataFrame\u001b[0m\n",
       "\u001b[1m Row \u001b[0m│\u001b[1m variable    \u001b[0m\u001b[1m mean    \u001b[0m\u001b[1m min     \u001b[0m\u001b[1m median  \u001b[0m\u001b[1m max  \u001b[0m\u001b[1m nmissing \u001b[0m\u001b[1m eltype   \u001b[0m\n",
       "\u001b[1m     \u001b[0m│\u001b[90m Symbol      \u001b[0m\u001b[90m Float64 \u001b[0m\u001b[90m Real    \u001b[0m\u001b[90m Float64 \u001b[0m\u001b[90m Real \u001b[0m\u001b[90m Int64    \u001b[0m\u001b[90m DataType \u001b[0m\n",
       "─────┼──────────────────────────────────────────────────────────────────\n",
       "   1 │ MojaKolumna  5.5            1      5.5    10         0  Int64\n",
       "   2 │ Col2         2.71116  1.41421      3.0   4.0         0  Float64\n",
       "   3 │ Col3         0.6        false      1.0  true         0  Bool"
      ]
     },
     "execution_count": 20,
     "metadata": {},
     "output_type": "execute_result"
    }
   ],
   "source": [
    "# podstawowe dane statystyczne o wartościach w kolumnie\n",
    "describe(df2)"
   ]
  },
  {
   "cell_type": "code",
   "execution_count": 21,
   "metadata": {},
   "outputs": [
    {
     "data": {
      "text/plain": [
       "2.711161243192578"
      ]
     },
     "execution_count": 21,
     "metadata": {},
     "output_type": "execute_result"
    }
   ],
   "source": [
    "using Statistics\n",
    "mean(df2.Col2)"
   ]
  },
  {
   "cell_type": "code",
   "execution_count": 22,
   "metadata": {},
   "outputs": [
    {
     "data": {
      "text/plain": [
       "0.9150284373648316"
      ]
     },
     "execution_count": 22,
     "metadata": {},
     "output_type": "execute_result"
    }
   ],
   "source": [
    "var(df2.Col2)"
   ]
  },
  {
   "cell_type": "code",
   "execution_count": 26,
   "metadata": {},
   "outputs": [
    {
     "name": "stderr",
     "output_type": "stream",
     "text": [
      "\u001b[32m\u001b[1m  Resolving\u001b[22m\u001b[39m package versions...\n",
      "\u001b[32m\u001b[1mNo Changes\u001b[22m\u001b[39m to `C:\\Users\\kzaja\\.julia\\environments\\v1.5\\Project.toml`\n",
      "\u001b[32m\u001b[1mNo Changes\u001b[22m\u001b[39m to `C:\\Users\\kzaja\\.julia\\environments\\v1.5\\Manifest.toml`\n"
     ]
    },
    {
     "data": {
      "text/html": [
       "<table class=\"data-frame\"><thead><tr><th></th><th>fixed acidity</th><th>volatile acidity</th><th>citric acid</th><th>residual sugar</th><th>chlorides</th><th>free sulfur dioxide</th></tr><tr><th></th><th>Float64</th><th>Float64</th><th>Float64</th><th>Float64</th><th>Float64</th><th>Float64</th></tr></thead><tbody><p>1,599 rows × 12 columns (omitted printing of 6 columns)</p><tr><th>1</th><td>7.4</td><td>0.7</td><td>0.0</td><td>1.9</td><td>0.076</td><td>11.0</td></tr><tr><th>2</th><td>7.8</td><td>0.88</td><td>0.0</td><td>2.6</td><td>0.098</td><td>25.0</td></tr><tr><th>3</th><td>7.8</td><td>0.76</td><td>0.04</td><td>2.3</td><td>0.092</td><td>15.0</td></tr><tr><th>4</th><td>11.2</td><td>0.28</td><td>0.56</td><td>1.9</td><td>0.075</td><td>17.0</td></tr><tr><th>5</th><td>7.4</td><td>0.7</td><td>0.0</td><td>1.9</td><td>0.076</td><td>11.0</td></tr><tr><th>6</th><td>7.4</td><td>0.66</td><td>0.0</td><td>1.8</td><td>0.075</td><td>13.0</td></tr><tr><th>7</th><td>7.9</td><td>0.6</td><td>0.06</td><td>1.6</td><td>0.069</td><td>15.0</td></tr><tr><th>8</th><td>7.3</td><td>0.65</td><td>0.0</td><td>1.2</td><td>0.065</td><td>15.0</td></tr><tr><th>9</th><td>7.8</td><td>0.58</td><td>0.02</td><td>2.0</td><td>0.073</td><td>9.0</td></tr><tr><th>10</th><td>7.5</td><td>0.5</td><td>0.36</td><td>6.1</td><td>0.071</td><td>17.0</td></tr><tr><th>11</th><td>6.7</td><td>0.58</td><td>0.08</td><td>1.8</td><td>0.097</td><td>15.0</td></tr><tr><th>12</th><td>7.5</td><td>0.5</td><td>0.36</td><td>6.1</td><td>0.071</td><td>17.0</td></tr><tr><th>13</th><td>5.6</td><td>0.615</td><td>0.0</td><td>1.6</td><td>0.089</td><td>16.0</td></tr><tr><th>14</th><td>7.8</td><td>0.61</td><td>0.29</td><td>1.6</td><td>0.114</td><td>9.0</td></tr><tr><th>15</th><td>8.9</td><td>0.62</td><td>0.18</td><td>3.8</td><td>0.176</td><td>52.0</td></tr><tr><th>16</th><td>8.9</td><td>0.62</td><td>0.19</td><td>3.9</td><td>0.17</td><td>51.0</td></tr><tr><th>17</th><td>8.5</td><td>0.28</td><td>0.56</td><td>1.8</td><td>0.092</td><td>35.0</td></tr><tr><th>18</th><td>8.1</td><td>0.56</td><td>0.28</td><td>1.7</td><td>0.368</td><td>16.0</td></tr><tr><th>19</th><td>7.4</td><td>0.59</td><td>0.08</td><td>4.4</td><td>0.086</td><td>6.0</td></tr><tr><th>20</th><td>7.9</td><td>0.32</td><td>0.51</td><td>1.8</td><td>0.341</td><td>17.0</td></tr><tr><th>21</th><td>8.9</td><td>0.22</td><td>0.48</td><td>1.8</td><td>0.077</td><td>29.0</td></tr><tr><th>22</th><td>7.6</td><td>0.39</td><td>0.31</td><td>2.3</td><td>0.082</td><td>23.0</td></tr><tr><th>23</th><td>7.9</td><td>0.43</td><td>0.21</td><td>1.6</td><td>0.106</td><td>10.0</td></tr><tr><th>24</th><td>8.5</td><td>0.49</td><td>0.11</td><td>2.3</td><td>0.084</td><td>9.0</td></tr><tr><th>25</th><td>6.9</td><td>0.4</td><td>0.14</td><td>2.4</td><td>0.085</td><td>21.0</td></tr><tr><th>26</th><td>6.3</td><td>0.39</td><td>0.16</td><td>1.4</td><td>0.08</td><td>11.0</td></tr><tr><th>27</th><td>7.6</td><td>0.41</td><td>0.24</td><td>1.8</td><td>0.08</td><td>4.0</td></tr><tr><th>28</th><td>7.9</td><td>0.43</td><td>0.21</td><td>1.6</td><td>0.106</td><td>10.0</td></tr><tr><th>29</th><td>7.1</td><td>0.71</td><td>0.0</td><td>1.9</td><td>0.08</td><td>14.0</td></tr><tr><th>30</th><td>7.8</td><td>0.645</td><td>0.0</td><td>2.0</td><td>0.082</td><td>8.0</td></tr><tr><th>&vellip;</th><td>&vellip;</td><td>&vellip;</td><td>&vellip;</td><td>&vellip;</td><td>&vellip;</td><td>&vellip;</td></tr></tbody></table>"
      ],
      "text/latex": [
       "\\begin{tabular}{r|ccccccc}\n",
       "\t& fixed acidity & volatile acidity & citric acid & residual sugar & chlorides & free sulfur dioxide & \\\\\n",
       "\t\\hline\n",
       "\t& Float64 & Float64 & Float64 & Float64 & Float64 & Float64 & \\\\\n",
       "\t\\hline\n",
       "\t1 & 7.4 & 0.7 & 0.0 & 1.9 & 0.076 & 11.0 & $\\dots$ \\\\\n",
       "\t2 & 7.8 & 0.88 & 0.0 & 2.6 & 0.098 & 25.0 & $\\dots$ \\\\\n",
       "\t3 & 7.8 & 0.76 & 0.04 & 2.3 & 0.092 & 15.0 & $\\dots$ \\\\\n",
       "\t4 & 11.2 & 0.28 & 0.56 & 1.9 & 0.075 & 17.0 & $\\dots$ \\\\\n",
       "\t5 & 7.4 & 0.7 & 0.0 & 1.9 & 0.076 & 11.0 & $\\dots$ \\\\\n",
       "\t6 & 7.4 & 0.66 & 0.0 & 1.8 & 0.075 & 13.0 & $\\dots$ \\\\\n",
       "\t7 & 7.9 & 0.6 & 0.06 & 1.6 & 0.069 & 15.0 & $\\dots$ \\\\\n",
       "\t8 & 7.3 & 0.65 & 0.0 & 1.2 & 0.065 & 15.0 & $\\dots$ \\\\\n",
       "\t9 & 7.8 & 0.58 & 0.02 & 2.0 & 0.073 & 9.0 & $\\dots$ \\\\\n",
       "\t10 & 7.5 & 0.5 & 0.36 & 6.1 & 0.071 & 17.0 & $\\dots$ \\\\\n",
       "\t11 & 6.7 & 0.58 & 0.08 & 1.8 & 0.097 & 15.0 & $\\dots$ \\\\\n",
       "\t12 & 7.5 & 0.5 & 0.36 & 6.1 & 0.071 & 17.0 & $\\dots$ \\\\\n",
       "\t13 & 5.6 & 0.615 & 0.0 & 1.6 & 0.089 & 16.0 & $\\dots$ \\\\\n",
       "\t14 & 7.8 & 0.61 & 0.29 & 1.6 & 0.114 & 9.0 & $\\dots$ \\\\\n",
       "\t15 & 8.9 & 0.62 & 0.18 & 3.8 & 0.176 & 52.0 & $\\dots$ \\\\\n",
       "\t16 & 8.9 & 0.62 & 0.19 & 3.9 & 0.17 & 51.0 & $\\dots$ \\\\\n",
       "\t17 & 8.5 & 0.28 & 0.56 & 1.8 & 0.092 & 35.0 & $\\dots$ \\\\\n",
       "\t18 & 8.1 & 0.56 & 0.28 & 1.7 & 0.368 & 16.0 & $\\dots$ \\\\\n",
       "\t19 & 7.4 & 0.59 & 0.08 & 4.4 & 0.086 & 6.0 & $\\dots$ \\\\\n",
       "\t20 & 7.9 & 0.32 & 0.51 & 1.8 & 0.341 & 17.0 & $\\dots$ \\\\\n",
       "\t21 & 8.9 & 0.22 & 0.48 & 1.8 & 0.077 & 29.0 & $\\dots$ \\\\\n",
       "\t22 & 7.6 & 0.39 & 0.31 & 2.3 & 0.082 & 23.0 & $\\dots$ \\\\\n",
       "\t23 & 7.9 & 0.43 & 0.21 & 1.6 & 0.106 & 10.0 & $\\dots$ \\\\\n",
       "\t24 & 8.5 & 0.49 & 0.11 & 2.3 & 0.084 & 9.0 & $\\dots$ \\\\\n",
       "\t25 & 6.9 & 0.4 & 0.14 & 2.4 & 0.085 & 21.0 & $\\dots$ \\\\\n",
       "\t26 & 6.3 & 0.39 & 0.16 & 1.4 & 0.08 & 11.0 & $\\dots$ \\\\\n",
       "\t27 & 7.6 & 0.41 & 0.24 & 1.8 & 0.08 & 4.0 & $\\dots$ \\\\\n",
       "\t28 & 7.9 & 0.43 & 0.21 & 1.6 & 0.106 & 10.0 & $\\dots$ \\\\\n",
       "\t29 & 7.1 & 0.71 & 0.0 & 1.9 & 0.08 & 14.0 & $\\dots$ \\\\\n",
       "\t30 & 7.8 & 0.645 & 0.0 & 2.0 & 0.082 & 8.0 & $\\dots$ \\\\\n",
       "\t$\\dots$ & $\\dots$ & $\\dots$ & $\\dots$ & $\\dots$ & $\\dots$ & $\\dots$ &  \\\\\n",
       "\\end{tabular}\n"
      ],
      "text/plain": [
       "\u001b[1m1599×12 DataFrame\u001b[0m\n",
       "\u001b[1m  Row \u001b[0m│\u001b[1m fixed acidity \u001b[0m\u001b[1m volatile acidity \u001b[0m\u001b[1m citric acid \u001b[0m\u001b[1m residual sugar \u001b[0m\u001b[1m chloride\u001b[0m ⋯\n",
       "\u001b[1m      \u001b[0m│\u001b[90m Float64       \u001b[0m\u001b[90m Float64          \u001b[0m\u001b[90m Float64     \u001b[0m\u001b[90m Float64        \u001b[0m\u001b[90m Float64 \u001b[0m ⋯\n",
       "──────┼─────────────────────────────────────────────────────────────────────────\n",
       "    1 │           7.4             0.7           0.0              1.9      0.07 ⋯\n",
       "    2 │           7.8             0.88          0.0              2.6      0.09\n",
       "    3 │           7.8             0.76          0.04             2.3      0.09\n",
       "    4 │          11.2             0.28          0.56             1.9      0.07\n",
       "    5 │           7.4             0.7           0.0              1.9      0.07 ⋯\n",
       "    6 │           7.4             0.66          0.0              1.8      0.07\n",
       "    7 │           7.9             0.6           0.06             1.6      0.06\n",
       "    8 │           7.3             0.65          0.0              1.2      0.06\n",
       "    9 │           7.8             0.58          0.02             2.0      0.07 ⋯\n",
       "   10 │           7.5             0.5           0.36             6.1      0.07\n",
       "   11 │           6.7             0.58          0.08             1.8      0.09\n",
       "  ⋮   │       ⋮               ⋮               ⋮             ⋮             ⋮    ⋱\n",
       " 1590 │           6.6             0.725         0.2              7.8      0.07\n",
       " 1591 │           6.3             0.55          0.15             1.8      0.07 ⋯\n",
       " 1592 │           5.4             0.74          0.09             1.7      0.08\n",
       " 1593 │           6.3             0.51          0.13             2.3      0.07\n",
       " 1594 │           6.8             0.62          0.08             1.9      0.06\n",
       " 1595 │           6.2             0.6           0.08             2.0      0.09 ⋯\n",
       " 1596 │           5.9             0.55          0.1              2.2      0.06\n",
       " 1597 │           6.3             0.51          0.13             2.3      0.07\n",
       " 1598 │           5.9             0.645         0.12             2.0      0.07\n",
       " 1599 │           6.0             0.31          0.47             3.6      0.06 ⋯\n",
       "\u001b[36m                                                 8 columns and 1578 rows omitted\u001b[0m"
      ]
     },
     "execution_count": 26,
     "metadata": {},
     "output_type": "execute_result"
    }
   ],
   "source": [
    "#Pkg.add(\"CSV\")\n",
    "using CSV\n",
    "input=\"winequality.csv\"\n",
    "mydata=CSV.read(input, delim=\";\",DataFrame)"
   ]
  },
  {
   "cell_type": "code",
   "execution_count": 27,
   "metadata": {},
   "outputs": [
    {
     "data": {
      "text/plain": [
       "DataFrame"
      ]
     },
     "execution_count": 27,
     "metadata": {},
     "output_type": "execute_result"
    }
   ],
   "source": [
    "typeof(mydata)"
   ]
  },
  {
   "cell_type": "code",
   "execution_count": 28,
   "metadata": {},
   "outputs": [
    {
     "data": {
      "text/plain": [
       "(1599, 12)"
      ]
     },
     "execution_count": 28,
     "metadata": {},
     "output_type": "execute_result"
    }
   ],
   "source": [
    "size(mydata)"
   ]
  },
  {
   "cell_type": "code",
   "execution_count": 29,
   "metadata": {},
   "outputs": [
    {
     "ename": "LoadError",
     "evalue": "ArgumentError: by function was removed from DataFrames.jl. Use the `combine(groupby(...), ...)` or `combine(f, groupby(...))` instead.",
     "output_type": "error",
     "traceback": [
      "ArgumentError: by function was removed from DataFrames.jl. Use the `combine(groupby(...), ...)` or `combine(f, groupby(...))` instead.",
      "",
      "Stacktrace:",
      " [1] by(::DataFrame, ::Vararg{Any,N} where N; kwargs::Base.Iterators.Pairs{Union{},Union{},Tuple{},NamedTuple{(),Tuple{}}}) at C:\\Users\\kzaja\\.julia\\packages\\DataFrames\\oQ5c7\\src\\deprecated.jl:6",
      " [2] by(::DataFrame, ::Vararg{Any,N} where N) at C:\\Users\\kzaja\\.julia\\packages\\DataFrames\\oQ5c7\\src\\deprecated.jl:6",
      " [3] top-level scope at In[29]:5",
      " [4] include_string(::Function, ::Module, ::String, ::String) at .\\loading.jl:1091"
     ]
    }
   ],
   "source": [
    "# grupowanie wierszy (tutaj po jakości (quality))\n",
    "# ostatni argument to funkcja albo wyrażenie \n",
    "#https://juliadata.github.io/DataFrames.jl/stable/man/split_apply_combine.html\n",
    "# przyklad: zliczanie ilosci win pogrupowanych po jakości\n",
    "wine_grouped=by(mydata, :quality, df->size(df,1))"
   ]
  },
  {
   "cell_type": "code",
   "execution_count": 24,
   "metadata": {},
   "outputs": [
    {
     "data": {
      "text/html": [
       "<table class=\"data-frame\"><thead><tr><th></th><th>quality</th><th>alcohol</th><th>size</th></tr><tr><th></th><th>Int64</th><th>Float64</th><th>Int64</th></tr></thead><tbody><p>190 rows × 3 columns</p><tr><th>1</th><td>3</td><td>8.4</td><td>1</td></tr><tr><th>2</th><td>3</td><td>9.0</td><td>1</td></tr><tr><th>3</th><td>3</td><td>9.7</td><td>1</td></tr><tr><th>4</th><td>3</td><td>9.8</td><td>1</td></tr><tr><th>5</th><td>3</td><td>9.9</td><td>1</td></tr><tr><th>6</th><td>3</td><td>9.95</td><td>1</td></tr><tr><th>7</th><td>3</td><td>10.2</td><td>1</td></tr><tr><th>8</th><td>3</td><td>10.7</td><td>1</td></tr><tr><th>9</th><td>3</td><td>10.9</td><td>1</td></tr><tr><th>10</th><td>3</td><td>11.0</td><td>1</td></tr><tr><th>11</th><td>4</td><td>9.0</td><td>2</td></tr><tr><th>12</th><td>4</td><td>9.05</td><td>1</td></tr><tr><th>13</th><td>4</td><td>9.1</td><td>2</td></tr><tr><th>14</th><td>4</td><td>9.2</td><td>3</td></tr><tr><th>15</th><td>4</td><td>9.3</td><td>2</td></tr><tr><th>16</th><td>4</td><td>9.4</td><td>2</td></tr><tr><th>17</th><td>4</td><td>9.6</td><td>6</td></tr><tr><th>18</th><td>4</td><td>9.7</td><td>2</td></tr><tr><th>19</th><td>4</td><td>9.8</td><td>3</td></tr><tr><th>20</th><td>4</td><td>9.9</td><td>1</td></tr><tr><th>21</th><td>4</td><td>10.0</td><td>4</td></tr><tr><th>22</th><td>4</td><td>10.1</td><td>1</td></tr><tr><th>23</th><td>4</td><td>10.3</td><td>1</td></tr><tr><th>24</th><td>4</td><td>10.4</td><td>3</td></tr><tr><th>25</th><td>4</td><td>10.5</td><td>1</td></tr><tr><th>26</th><td>4</td><td>10.9</td><td>3</td></tr><tr><th>27</th><td>4</td><td>11.0</td><td>4</td></tr><tr><th>28</th><td>4</td><td>11.1</td><td>1</td></tr><tr><th>29</th><td>4</td><td>11.2</td><td>3</td></tr><tr><th>30</th><td>4</td><td>11.3</td><td>1</td></tr><tr><th>&vellip;</th><td>&vellip;</td><td>&vellip;</td><td>&vellip;</td></tr></tbody></table>"
      ],
      "text/latex": [
       "\\begin{tabular}{r|ccc}\n",
       "\t& quality & alcohol & size\\\\\n",
       "\t\\hline\n",
       "\t& Int64 & Float64 & Int64\\\\\n",
       "\t\\hline\n",
       "\t1 & 3 & 8.4 & 1 \\\\\n",
       "\t2 & 3 & 9.0 & 1 \\\\\n",
       "\t3 & 3 & 9.7 & 1 \\\\\n",
       "\t4 & 3 & 9.8 & 1 \\\\\n",
       "\t5 & 3 & 9.9 & 1 \\\\\n",
       "\t6 & 3 & 9.95 & 1 \\\\\n",
       "\t7 & 3 & 10.2 & 1 \\\\\n",
       "\t8 & 3 & 10.7 & 1 \\\\\n",
       "\t9 & 3 & 10.9 & 1 \\\\\n",
       "\t10 & 3 & 11.0 & 1 \\\\\n",
       "\t11 & 4 & 9.0 & 2 \\\\\n",
       "\t12 & 4 & 9.05 & 1 \\\\\n",
       "\t13 & 4 & 9.1 & 2 \\\\\n",
       "\t14 & 4 & 9.2 & 3 \\\\\n",
       "\t15 & 4 & 9.3 & 2 \\\\\n",
       "\t16 & 4 & 9.4 & 2 \\\\\n",
       "\t17 & 4 & 9.6 & 6 \\\\\n",
       "\t18 & 4 & 9.7 & 2 \\\\\n",
       "\t19 & 4 & 9.8 & 3 \\\\\n",
       "\t20 & 4 & 9.9 & 1 \\\\\n",
       "\t21 & 4 & 10.0 & 4 \\\\\n",
       "\t22 & 4 & 10.1 & 1 \\\\\n",
       "\t23 & 4 & 10.3 & 1 \\\\\n",
       "\t24 & 4 & 10.4 & 3 \\\\\n",
       "\t25 & 4 & 10.5 & 1 \\\\\n",
       "\t26 & 4 & 10.9 & 3 \\\\\n",
       "\t27 & 4 & 11.0 & 4 \\\\\n",
       "\t28 & 4 & 11.1 & 1 \\\\\n",
       "\t29 & 4 & 11.2 & 3 \\\\\n",
       "\t30 & 4 & 11.3 & 1 \\\\\n",
       "\t$\\dots$ & $\\dots$ & $\\dots$ & $\\dots$ \\\\\n",
       "\\end{tabular}\n"
      ],
      "text/plain": [
       "190×3 DataFrame\n",
       "│ Row │ quality │ alcohol │ size  │\n",
       "│     │ \u001b[90mInt64\u001b[39m   │ \u001b[90mFloat64\u001b[39m │ \u001b[90mInt64\u001b[39m │\n",
       "├─────┼─────────┼─────────┼───────┤\n",
       "│ 1   │ 3       │ 8.4     │ 1     │\n",
       "│ 2   │ 3       │ 9.0     │ 1     │\n",
       "│ 3   │ 3       │ 9.7     │ 1     │\n",
       "│ 4   │ 3       │ 9.8     │ 1     │\n",
       "│ 5   │ 3       │ 9.9     │ 1     │\n",
       "│ 6   │ 3       │ 9.95    │ 1     │\n",
       "│ 7   │ 3       │ 10.2    │ 1     │\n",
       "│ 8   │ 3       │ 10.7    │ 1     │\n",
       "│ 9   │ 3       │ 10.9    │ 1     │\n",
       "│ 10  │ 3       │ 11.0    │ 1     │\n",
       "⋮\n",
       "│ 180 │ 8       │ 11.4    │ 1     │\n",
       "│ 181 │ 8       │ 11.7    │ 2     │\n",
       "│ 182 │ 8       │ 11.8    │ 1     │\n",
       "│ 183 │ 8       │ 12.5    │ 1     │\n",
       "│ 184 │ 8       │ 12.6    │ 1     │\n",
       "│ 185 │ 8       │ 12.7    │ 1     │\n",
       "│ 186 │ 8       │ 12.8    │ 1     │\n",
       "│ 187 │ 8       │ 12.9    │ 1     │\n",
       "│ 188 │ 8       │ 13.1    │ 1     │\n",
       "│ 189 │ 8       │ 13.4    │ 1     │\n",
       "│ 190 │ 8       │ 14.0    │ 2     │"
      ]
     },
     "execution_count": 24,
     "metadata": {},
     "output_type": "execute_result"
    }
   ],
   "source": [
    "#zaawansowane dzialanie na podgrupach\n",
    "df2=by(mydata, [:quality, :alcohol]) do mySubGroup\n",
    "          DataFrame(size = size(mySubGroup,1))\n",
    "        end\n",
    "sort(df2, [:quality, :alcohol])"
   ]
  },
  {
   "cell_type": "code",
   "execution_count": 25,
   "metadata": {},
   "outputs": [
    {
     "data": {
      "text/plain": [
       "\"dataframe1.csv\""
      ]
     },
     "execution_count": 25,
     "metadata": {},
     "output_type": "execute_result"
    }
   ],
   "source": [
    "# zapis do pliku\n",
    "# https://juliadata.github.io/DataFrames.jl/stable/man/getting_started.html#Importing-and-Exporting-Data-(I/O)-1\n",
    "CSV.write(\"dataframe1.csv\", mydata)"
   ]
  },
  {
   "cell_type": "markdown",
   "metadata": {},
   "source": [
    "\n",
    "### Graficzna reprezentacja DataFrames\n",
    "\n",
    "Do wyświetlania danych statystycznych dobrym wyborem jest dodatkowy pakiet do pakietu Plots \n",
    "\n",
    "W przypadku własnej instalacji:\n",
    "\n",
    "```julia\n",
    "Pkg.add(\"StatPlots\")\n",
    "```\n",
    "https://github.com/JuliaPlots/StatPlots.jl\n",
    "\n"
   ]
  },
  {
   "cell_type": "code",
   "execution_count": 30,
   "metadata": {},
   "outputs": [
    {
     "data": {
      "text/html": [
       "<table class=\"data-frame\"><thead><tr><th></th><th>a</th><th>b</th><th>c</th><th>d</th><th>e</th></tr><tr><th></th><th>Int64</th><th>Float64</th><th>Float64</th><th>Float64</th><th>Int64</th></tr></thead><tbody><p>10 rows × 5 columns</p><tr><th>1</th><td>1</td><td>2.92393</td><td>8.02025</td><td>0.161577</td><td>1</td></tr><tr><th>2</th><td>2</td><td>2.42167</td><td>2.81381</td><td>0.922555</td><td>0</td></tr><tr><th>3</th><td>3</td><td>7.42497</td><td>1.82525</td><td>0.0823678</td><td>1</td></tr><tr><th>4</th><td>4</td><td>6.45385</td><td>6.13071</td><td>0.566954</td><td>0</td></tr><tr><th>5</th><td>5</td><td>9.69768</td><td>1.47175</td><td>0.792214</td><td>1</td></tr><tr><th>6</th><td>6</td><td>4.44207</td><td>8.94746</td><td>0.588689</td><td>0</td></tr><tr><th>7</th><td>7</td><td>3.36565</td><td>5.67506</td><td>0.171946</td><td>1</td></tr><tr><th>8</th><td>8</td><td>3.10204</td><td>9.72484</td><td>0.479288</td><td>0</td></tr><tr><th>9</th><td>9</td><td>0.390659</td><td>7.43965</td><td>0.437313</td><td>1</td></tr><tr><th>10</th><td>10</td><td>7.44035</td><td>4.50987</td><td>0.990582</td><td>0</td></tr></tbody></table>"
      ],
      "text/latex": [
       "\\begin{tabular}{r|ccccc}\n",
       "\t& a & b & c & d & e\\\\\n",
       "\t\\hline\n",
       "\t& Int64 & Float64 & Float64 & Float64 & Int64\\\\\n",
       "\t\\hline\n",
       "\t1 & 1 & 2.92393 & 8.02025 & 0.161577 & 1 \\\\\n",
       "\t2 & 2 & 2.42167 & 2.81381 & 0.922555 & 0 \\\\\n",
       "\t3 & 3 & 7.42497 & 1.82525 & 0.0823678 & 1 \\\\\n",
       "\t4 & 4 & 6.45385 & 6.13071 & 0.566954 & 0 \\\\\n",
       "\t5 & 5 & 9.69768 & 1.47175 & 0.792214 & 1 \\\\\n",
       "\t6 & 6 & 4.44207 & 8.94746 & 0.588689 & 0 \\\\\n",
       "\t7 & 7 & 3.36565 & 5.67506 & 0.171946 & 1 \\\\\n",
       "\t8 & 8 & 3.10204 & 9.72484 & 0.479288 & 0 \\\\\n",
       "\t9 & 9 & 0.390659 & 7.43965 & 0.437313 & 1 \\\\\n",
       "\t10 & 10 & 7.44035 & 4.50987 & 0.990582 & 0 \\\\\n",
       "\\end{tabular}\n"
      ],
      "text/plain": [
       "\u001b[1m10×5 DataFrame\u001b[0m\n",
       "\u001b[1m Row \u001b[0m│\u001b[1m a     \u001b[0m\u001b[1m b        \u001b[0m\u001b[1m c       \u001b[0m\u001b[1m d         \u001b[0m\u001b[1m e     \u001b[0m\n",
       "\u001b[1m     \u001b[0m│\u001b[90m Int64 \u001b[0m\u001b[90m Float64  \u001b[0m\u001b[90m Float64 \u001b[0m\u001b[90m Float64   \u001b[0m\u001b[90m Int64 \u001b[0m\n",
       "─────┼────────────────────────────────────────────\n",
       "   1 │     1  2.92393   8.02025  0.161577       1\n",
       "   2 │     2  2.42167   2.81381  0.922555       0\n",
       "   3 │     3  7.42497   1.82525  0.0823678      1\n",
       "   4 │     4  6.45385   6.13071  0.566954       0\n",
       "   5 │     5  9.69768   1.47175  0.792214       1\n",
       "   6 │     6  4.44207   8.94746  0.588689       0\n",
       "   7 │     7  3.36565   5.67506  0.171946       1\n",
       "   8 │     8  3.10204   9.72484  0.479288       0\n",
       "   9 │     9  0.390659  7.43965  0.437313       1\n",
       "  10 │    10  7.44035   4.50987  0.990582       0"
      ]
     },
     "execution_count": 30,
     "metadata": {},
     "output_type": "execute_result"
    }
   ],
   "source": [
    "using DataFrames\n",
    "df = DataFrame(a = 1:10, b = 10 .* rand(10), c = 10 .* rand(10), d=rand(10), e=map(x->x%2,(1:10)))\n"
   ]
  },
  {
   "cell_type": "code",
   "execution_count": null,
   "metadata": {},
   "outputs": [],
   "source": [
    "# zamiast makra @df z pakietu StatPlots mozna odwolywac sie bezposrednio do kolumn (gdyz sa typu jednowymiarowych tablic \n",
    "# Array{T,1})\n",
    "using Plots\n",
    "scatter(df.a, [df.b, df.c], colour = [:red :blue], yerr=df.d)\n"
   ]
  },
  {
   "cell_type": "code",
   "execution_count": 28,
   "metadata": {},
   "outputs": [
    {
     "data": {
      "image/svg+xml": [
       "<?xml version=\"1.0\" encoding=\"utf-8\"?>\n",
       "<svg xmlns=\"http://www.w3.org/2000/svg\" xmlns:xlink=\"http://www.w3.org/1999/xlink\" width=\"600\" height=\"400\" viewBox=\"0 0 2400 1600\">\n",
       "<defs>\n",
       "  <clipPath id=\"clip2400\">\n",
       "    <rect x=\"0\" y=\"0\" width=\"2400\" height=\"1600\"/>\n",
       "  </clipPath>\n",
       "</defs>\n",
       "<path clip-path=\"url(#clip2400)\" d=\"\n",
       "M0 1600 L2400 1600 L2400 0 L0 0  Z\n",
       "  \" fill=\"#ffffff\" fill-rule=\"evenodd\" fill-opacity=\"1\"/>\n",
       "<defs>\n",
       "  <clipPath id=\"clip2401\">\n",
       "    <rect x=\"480\" y=\"0\" width=\"1681\" height=\"1600\"/>\n",
       "  </clipPath>\n",
       "</defs>\n",
       "<path clip-path=\"url(#clip2400)\" d=\"\n",
       "M113.754 1487.47 L1152.76 1487.47 L1152.76 47.2441 L113.754 47.2441  Z\n",
       "  \" fill=\"#ffffff\" fill-rule=\"evenodd\" fill-opacity=\"1\"/>\n",
       "<defs>\n",
       "  <clipPath id=\"clip2402\">\n",
       "    <rect x=\"113\" y=\"47\" width=\"1040\" height=\"1441\"/>\n",
       "  </clipPath>\n",
       "</defs>\n",
       "<polyline clip-path=\"url(#clip2402)\" style=\"stroke:#000000; stroke-width:2; stroke-opacity:0.1; fill:none\" points=\"\n",
       "  252.07,1487.47 252.07,47.2441 \n",
       "  \"/>\n",
       "<polyline clip-path=\"url(#clip2402)\" style=\"stroke:#000000; stroke-width:2; stroke-opacity:0.1; fill:none\" points=\"\n",
       "  469.89,1487.47 469.89,47.2441 \n",
       "  \"/>\n",
       "<polyline clip-path=\"url(#clip2402)\" style=\"stroke:#000000; stroke-width:2; stroke-opacity:0.1; fill:none\" points=\"\n",
       "  687.71,1487.47 687.71,47.2441 \n",
       "  \"/>\n",
       "<polyline clip-path=\"url(#clip2402)\" style=\"stroke:#000000; stroke-width:2; stroke-opacity:0.1; fill:none\" points=\"\n",
       "  905.53,1487.47 905.53,47.2441 \n",
       "  \"/>\n",
       "<polyline clip-path=\"url(#clip2402)\" style=\"stroke:#000000; stroke-width:2; stroke-opacity:0.1; fill:none\" points=\"\n",
       "  1123.35,1487.47 1123.35,47.2441 \n",
       "  \"/>\n",
       "<polyline clip-path=\"url(#clip2402)\" style=\"stroke:#000000; stroke-width:2; stroke-opacity:0.1; fill:none\" points=\"\n",
       "  113.754,1259.17 1152.76,1259.17 \n",
       "  \"/>\n",
       "<polyline clip-path=\"url(#clip2402)\" style=\"stroke:#000000; stroke-width:2; stroke-opacity:0.1; fill:none\" points=\"\n",
       "  113.754,895.067 1152.76,895.067 \n",
       "  \"/>\n",
       "<polyline clip-path=\"url(#clip2402)\" style=\"stroke:#000000; stroke-width:2; stroke-opacity:0.1; fill:none\" points=\"\n",
       "  113.754,530.961 1152.76,530.961 \n",
       "  \"/>\n",
       "<polyline clip-path=\"url(#clip2402)\" style=\"stroke:#000000; stroke-width:2; stroke-opacity:0.1; fill:none\" points=\"\n",
       "  113.754,166.854 1152.76,166.854 \n",
       "  \"/>\n",
       "<polyline clip-path=\"url(#clip2400)\" style=\"stroke:#000000; stroke-width:4; stroke-opacity:1; fill:none\" points=\"\n",
       "  113.754,1487.47 1152.76,1487.47 \n",
       "  \"/>\n",
       "<polyline clip-path=\"url(#clip2400)\" style=\"stroke:#000000; stroke-width:4; stroke-opacity:1; fill:none\" points=\"\n",
       "  113.754,1487.47 113.754,47.2441 \n",
       "  \"/>\n",
       "<polyline clip-path=\"url(#clip2400)\" style=\"stroke:#000000; stroke-width:4; stroke-opacity:1; fill:none\" points=\"\n",
       "  252.07,1487.47 252.07,1470.19 \n",
       "  \"/>\n",
       "<polyline clip-path=\"url(#clip2400)\" style=\"stroke:#000000; stroke-width:4; stroke-opacity:1; fill:none\" points=\"\n",
       "  469.89,1487.47 469.89,1470.19 \n",
       "  \"/>\n",
       "<polyline clip-path=\"url(#clip2400)\" style=\"stroke:#000000; stroke-width:4; stroke-opacity:1; fill:none\" points=\"\n",
       "  687.71,1487.47 687.71,1470.19 \n",
       "  \"/>\n",
       "<polyline clip-path=\"url(#clip2400)\" style=\"stroke:#000000; stroke-width:4; stroke-opacity:1; fill:none\" points=\"\n",
       "  905.53,1487.47 905.53,1470.19 \n",
       "  \"/>\n",
       "<polyline clip-path=\"url(#clip2400)\" style=\"stroke:#000000; stroke-width:4; stroke-opacity:1; fill:none\" points=\"\n",
       "  1123.35,1487.47 1123.35,1470.19 \n",
       "  \"/>\n",
       "<polyline clip-path=\"url(#clip2400)\" style=\"stroke:#000000; stroke-width:4; stroke-opacity:1; fill:none\" points=\"\n",
       "  113.754,1259.17 126.222,1259.17 \n",
       "  \"/>\n",
       "<polyline clip-path=\"url(#clip2400)\" style=\"stroke:#000000; stroke-width:4; stroke-opacity:1; fill:none\" points=\"\n",
       "  113.754,895.067 126.222,895.067 \n",
       "  \"/>\n",
       "<polyline clip-path=\"url(#clip2400)\" style=\"stroke:#000000; stroke-width:4; stroke-opacity:1; fill:none\" points=\"\n",
       "  113.754,530.961 126.222,530.961 \n",
       "  \"/>\n",
       "<polyline clip-path=\"url(#clip2400)\" style=\"stroke:#000000; stroke-width:4; stroke-opacity:1; fill:none\" points=\"\n",
       "  113.754,166.854 126.222,166.854 \n",
       "  \"/>\n",
       "<g clip-path=\"url(#clip2400)\">\n",
       "<text style=\"fill:#000000; fill-opacity:1; font-family:Arial,Helvetica Neue,Helvetica,sans-serif; font-size:48px; text-anchor:middle;\" transform=\"rotate(0, 252.07, 1541.47)\" x=\"252.07\" y=\"1541.47\">2</text>\n",
       "</g>\n",
       "<g clip-path=\"url(#clip2400)\">\n",
       "<text style=\"fill:#000000; fill-opacity:1; font-family:Arial,Helvetica Neue,Helvetica,sans-serif; font-size:48px; text-anchor:middle;\" transform=\"rotate(0, 469.89, 1541.47)\" x=\"469.89\" y=\"1541.47\">4</text>\n",
       "</g>\n",
       "<g clip-path=\"url(#clip2400)\">\n",
       "<text style=\"fill:#000000; fill-opacity:1; font-family:Arial,Helvetica Neue,Helvetica,sans-serif; font-size:48px; text-anchor:middle;\" transform=\"rotate(0, 687.71, 1541.47)\" x=\"687.71\" y=\"1541.47\">6</text>\n",
       "</g>\n",
       "<g clip-path=\"url(#clip2400)\">\n",
       "<text style=\"fill:#000000; fill-opacity:1; font-family:Arial,Helvetica Neue,Helvetica,sans-serif; font-size:48px; text-anchor:middle;\" transform=\"rotate(0, 905.53, 1541.47)\" x=\"905.53\" y=\"1541.47\">8</text>\n",
       "</g>\n",
       "<g clip-path=\"url(#clip2400)\">\n",
       "<text style=\"fill:#000000; fill-opacity:1; font-family:Arial,Helvetica Neue,Helvetica,sans-serif; font-size:48px; text-anchor:middle;\" transform=\"rotate(0, 1123.35, 1541.47)\" x=\"1123.35\" y=\"1541.47\">10</text>\n",
       "</g>\n",
       "<g clip-path=\"url(#clip2400)\">\n",
       "<text style=\"fill:#000000; fill-opacity:1; font-family:Arial,Helvetica Neue,Helvetica,sans-serif; font-size:48px; text-anchor:end;\" transform=\"rotate(0, 89.7545, 1276.67)\" x=\"89.7545\" y=\"1276.67\">2</text>\n",
       "</g>\n",
       "<g clip-path=\"url(#clip2400)\">\n",
       "<text style=\"fill:#000000; fill-opacity:1; font-family:Arial,Helvetica Neue,Helvetica,sans-serif; font-size:48px; text-anchor:end;\" transform=\"rotate(0, 89.7545, 912.567)\" x=\"89.7545\" y=\"912.567\">4</text>\n",
       "</g>\n",
       "<g clip-path=\"url(#clip2400)\">\n",
       "<text style=\"fill:#000000; fill-opacity:1; font-family:Arial,Helvetica Neue,Helvetica,sans-serif; font-size:48px; text-anchor:end;\" transform=\"rotate(0, 89.7545, 548.461)\" x=\"89.7545\" y=\"548.461\">6</text>\n",
       "</g>\n",
       "<g clip-path=\"url(#clip2400)\">\n",
       "<text style=\"fill:#000000; fill-opacity:1; font-family:Arial,Helvetica Neue,Helvetica,sans-serif; font-size:48px; text-anchor:end;\" transform=\"rotate(0, 89.7545, 184.354)\" x=\"89.7545\" y=\"184.354\">8</text>\n",
       "</g>\n",
       "<polyline clip-path=\"url(#clip2402)\" style=\"stroke:#ff0000; stroke-width:4; stroke-opacity:1; fill:none\" points=\"\n",
       "  252.07,467.811 469.89,1004.77 687.71,1113.6 905.53,1446.71 1123.35,474.39 \n",
       "  \"/>\n",
       "<polyline clip-path=\"url(#clip2402)\" style=\"stroke:#008000; stroke-width:4; stroke-opacity:1; fill:none\" points=\"\n",
       "  143.16,570.501 360.98,1210.44 578.8,425.687 796.62,298.134 1014.44,88.0053 \n",
       "  \"/>\n",
       "<path clip-path=\"url(#clip2400)\" d=\"\n",
       "M813.994 312.204 L1080.76 312.204 L1080.76 130.764 L813.994 130.764  Z\n",
       "  \" fill=\"#ffffff\" fill-rule=\"evenodd\" fill-opacity=\"1\"/>\n",
       "<polyline clip-path=\"url(#clip2400)\" style=\"stroke:#000000; stroke-width:4; stroke-opacity:1; fill:none\" points=\"\n",
       "  813.994,312.204 1080.76,312.204 1080.76,130.764 813.994,130.764 813.994,312.204 \n",
       "  \"/>\n",
       "<polyline clip-path=\"url(#clip2400)\" style=\"stroke:#ff0000; stroke-width:4; stroke-opacity:1; fill:none\" points=\"\n",
       "  837.994,191.244 981.994,191.244 \n",
       "  \"/>\n",
       "<g clip-path=\"url(#clip2400)\">\n",
       "<text style=\"fill:#000000; fill-opacity:1; font-family:Arial,Helvetica Neue,Helvetica,sans-serif; font-size:48px; text-anchor:start;\" transform=\"rotate(0, 1005.99, 208.744)\" x=\"1005.99\" y=\"208.744\">0</text>\n",
       "</g>\n",
       "<polyline clip-path=\"url(#clip2400)\" style=\"stroke:#008000; stroke-width:4; stroke-opacity:1; fill:none\" points=\"\n",
       "  837.994,251.724 981.994,251.724 \n",
       "  \"/>\n",
       "<g clip-path=\"url(#clip2400)\">\n",
       "<text style=\"fill:#000000; fill-opacity:1; font-family:Arial,Helvetica Neue,Helvetica,sans-serif; font-size:48px; text-anchor:start;\" transform=\"rotate(0, 1005.99, 269.224)\" x=\"1005.99\" y=\"269.224\">1</text>\n",
       "</g>\n",
       "<path clip-path=\"url(#clip2400)\" d=\"\n",
       "M1313.75 1487.47 L2352.76 1487.47 L2352.76 47.2441 L1313.75 47.2441  Z\n",
       "  \" fill=\"#ffffff\" fill-rule=\"evenodd\" fill-opacity=\"1\"/>\n",
       "<defs>\n",
       "  <clipPath id=\"clip2403\">\n",
       "    <rect x=\"1313\" y=\"47\" width=\"1040\" height=\"1441\"/>\n",
       "  </clipPath>\n",
       "</defs>\n",
       "<polyline clip-path=\"url(#clip2403)\" style=\"stroke:#000000; stroke-width:2; stroke-opacity:0.1; fill:none\" points=\"\n",
       "  1452.07,1487.47 1452.07,47.2441 \n",
       "  \"/>\n",
       "<polyline clip-path=\"url(#clip2403)\" style=\"stroke:#000000; stroke-width:2; stroke-opacity:0.1; fill:none\" points=\"\n",
       "  1669.89,1487.47 1669.89,47.2441 \n",
       "  \"/>\n",
       "<polyline clip-path=\"url(#clip2403)\" style=\"stroke:#000000; stroke-width:2; stroke-opacity:0.1; fill:none\" points=\"\n",
       "  1887.71,1487.47 1887.71,47.2441 \n",
       "  \"/>\n",
       "<polyline clip-path=\"url(#clip2403)\" style=\"stroke:#000000; stroke-width:2; stroke-opacity:0.1; fill:none\" points=\"\n",
       "  2105.53,1487.47 2105.53,47.2441 \n",
       "  \"/>\n",
       "<polyline clip-path=\"url(#clip2403)\" style=\"stroke:#000000; stroke-width:2; stroke-opacity:0.1; fill:none\" points=\"\n",
       "  2323.35,1487.47 2323.35,47.2441 \n",
       "  \"/>\n",
       "<polyline clip-path=\"url(#clip2403)\" style=\"stroke:#000000; stroke-width:2; stroke-opacity:0.1; fill:none\" points=\"\n",
       "  1313.75,1342.07 2352.76,1342.07 \n",
       "  \"/>\n",
       "<polyline clip-path=\"url(#clip2403)\" style=\"stroke:#000000; stroke-width:2; stroke-opacity:0.1; fill:none\" points=\"\n",
       "  1313.75,999.408 2352.76,999.408 \n",
       "  \"/>\n",
       "<polyline clip-path=\"url(#clip2403)\" style=\"stroke:#000000; stroke-width:2; stroke-opacity:0.1; fill:none\" points=\"\n",
       "  1313.75,656.743 2352.76,656.743 \n",
       "  \"/>\n",
       "<polyline clip-path=\"url(#clip2403)\" style=\"stroke:#000000; stroke-width:2; stroke-opacity:0.1; fill:none\" points=\"\n",
       "  1313.75,314.077 2352.76,314.077 \n",
       "  \"/>\n",
       "<polyline clip-path=\"url(#clip2400)\" style=\"stroke:#000000; stroke-width:4; stroke-opacity:1; fill:none\" points=\"\n",
       "  1313.75,1487.47 2352.76,1487.47 \n",
       "  \"/>\n",
       "<polyline clip-path=\"url(#clip2400)\" style=\"stroke:#000000; stroke-width:4; stroke-opacity:1; fill:none\" points=\"\n",
       "  1313.75,1487.47 1313.75,47.2441 \n",
       "  \"/>\n",
       "<polyline clip-path=\"url(#clip2400)\" style=\"stroke:#000000; stroke-width:4; stroke-opacity:1; fill:none\" points=\"\n",
       "  1452.07,1487.47 1452.07,1470.19 \n",
       "  \"/>\n",
       "<polyline clip-path=\"url(#clip2400)\" style=\"stroke:#000000; stroke-width:4; stroke-opacity:1; fill:none\" points=\"\n",
       "  1669.89,1487.47 1669.89,1470.19 \n",
       "  \"/>\n",
       "<polyline clip-path=\"url(#clip2400)\" style=\"stroke:#000000; stroke-width:4; stroke-opacity:1; fill:none\" points=\"\n",
       "  1887.71,1487.47 1887.71,1470.19 \n",
       "  \"/>\n",
       "<polyline clip-path=\"url(#clip2400)\" style=\"stroke:#000000; stroke-width:4; stroke-opacity:1; fill:none\" points=\"\n",
       "  2105.53,1487.47 2105.53,1470.19 \n",
       "  \"/>\n",
       "<polyline clip-path=\"url(#clip2400)\" style=\"stroke:#000000; stroke-width:4; stroke-opacity:1; fill:none\" points=\"\n",
       "  2323.35,1487.47 2323.35,1470.19 \n",
       "  \"/>\n",
       "<polyline clip-path=\"url(#clip2400)\" style=\"stroke:#000000; stroke-width:4; stroke-opacity:1; fill:none\" points=\"\n",
       "  1313.75,1342.07 1326.22,1342.07 \n",
       "  \"/>\n",
       "<polyline clip-path=\"url(#clip2400)\" style=\"stroke:#000000; stroke-width:4; stroke-opacity:1; fill:none\" points=\"\n",
       "  1313.75,999.408 1326.22,999.408 \n",
       "  \"/>\n",
       "<polyline clip-path=\"url(#clip2400)\" style=\"stroke:#000000; stroke-width:4; stroke-opacity:1; fill:none\" points=\"\n",
       "  1313.75,656.743 1326.22,656.743 \n",
       "  \"/>\n",
       "<polyline clip-path=\"url(#clip2400)\" style=\"stroke:#000000; stroke-width:4; stroke-opacity:1; fill:none\" points=\"\n",
       "  1313.75,314.077 1326.22,314.077 \n",
       "  \"/>\n",
       "<g clip-path=\"url(#clip2400)\">\n",
       "<text style=\"fill:#000000; fill-opacity:1; font-family:Arial,Helvetica Neue,Helvetica,sans-serif; font-size:48px; text-anchor:middle;\" transform=\"rotate(0, 1452.07, 1541.47)\" x=\"1452.07\" y=\"1541.47\">2</text>\n",
       "</g>\n",
       "<g clip-path=\"url(#clip2400)\">\n",
       "<text style=\"fill:#000000; fill-opacity:1; font-family:Arial,Helvetica Neue,Helvetica,sans-serif; font-size:48px; text-anchor:middle;\" transform=\"rotate(0, 1669.89, 1541.47)\" x=\"1669.89\" y=\"1541.47\">4</text>\n",
       "</g>\n",
       "<g clip-path=\"url(#clip2400)\">\n",
       "<text style=\"fill:#000000; fill-opacity:1; font-family:Arial,Helvetica Neue,Helvetica,sans-serif; font-size:48px; text-anchor:middle;\" transform=\"rotate(0, 1887.71, 1541.47)\" x=\"1887.71\" y=\"1541.47\">6</text>\n",
       "</g>\n",
       "<g clip-path=\"url(#clip2400)\">\n",
       "<text style=\"fill:#000000; fill-opacity:1; font-family:Arial,Helvetica Neue,Helvetica,sans-serif; font-size:48px; text-anchor:middle;\" transform=\"rotate(0, 2105.53, 1541.47)\" x=\"2105.53\" y=\"1541.47\">8</text>\n",
       "</g>\n",
       "<g clip-path=\"url(#clip2400)\">\n",
       "<text style=\"fill:#000000; fill-opacity:1; font-family:Arial,Helvetica Neue,Helvetica,sans-serif; font-size:48px; text-anchor:middle;\" transform=\"rotate(0, 2323.35, 1541.47)\" x=\"2323.35\" y=\"1541.47\">10</text>\n",
       "</g>\n",
       "<g clip-path=\"url(#clip2400)\">\n",
       "<text style=\"fill:#000000; fill-opacity:1; font-family:Arial,Helvetica Neue,Helvetica,sans-serif; font-size:48px; text-anchor:end;\" transform=\"rotate(0, 1289.75, 1359.57)\" x=\"1289.75\" y=\"1359.57\">2</text>\n",
       "</g>\n",
       "<g clip-path=\"url(#clip2400)\">\n",
       "<text style=\"fill:#000000; fill-opacity:1; font-family:Arial,Helvetica Neue,Helvetica,sans-serif; font-size:48px; text-anchor:end;\" transform=\"rotate(0, 1289.75, 1016.91)\" x=\"1289.75\" y=\"1016.91\">4</text>\n",
       "</g>\n",
       "<g clip-path=\"url(#clip2400)\">\n",
       "<text style=\"fill:#000000; fill-opacity:1; font-family:Arial,Helvetica Neue,Helvetica,sans-serif; font-size:48px; text-anchor:end;\" transform=\"rotate(0, 1289.75, 674.243)\" x=\"1289.75\" y=\"674.243\">6</text>\n",
       "</g>\n",
       "<g clip-path=\"url(#clip2400)\">\n",
       "<text style=\"fill:#000000; fill-opacity:1; font-family:Arial,Helvetica Neue,Helvetica,sans-serif; font-size:48px; text-anchor:end;\" transform=\"rotate(0, 1289.75, 331.577)\" x=\"1289.75\" y=\"331.577\">8</text>\n",
       "</g>\n",
       "<polyline clip-path=\"url(#clip2403)\" style=\"stroke:#0000ff; stroke-width:4; stroke-opacity:1; fill:none\" points=\"\n",
       "  1452.07,511.536 1669.89,382.819 1887.71,1446.71 2105.53,545.668 2323.35,88.0053 \n",
       "  \"/>\n",
       "<polyline clip-path=\"url(#clip2403)\" style=\"stroke:#000000; stroke-width:4; stroke-opacity:1; fill:none\" points=\"\n",
       "  1343.16,1196.17 1560.98,187.751 1778.8,1165.45 1996.62,490.776 2214.44,294.709 \n",
       "  \"/>\n",
       "<path clip-path=\"url(#clip2400)\" d=\"\n",
       "M2013.99 312.204 L2280.76 312.204 L2280.76 130.764 L2013.99 130.764  Z\n",
       "  \" fill=\"#ffffff\" fill-rule=\"evenodd\" fill-opacity=\"1\"/>\n",
       "<polyline clip-path=\"url(#clip2400)\" style=\"stroke:#000000; stroke-width:4; stroke-opacity:1; fill:none\" points=\"\n",
       "  2013.99,312.204 2280.76,312.204 2280.76,130.764 2013.99,130.764 2013.99,312.204 \n",
       "  \"/>\n",
       "<polyline clip-path=\"url(#clip2400)\" style=\"stroke:#0000ff; stroke-width:4; stroke-opacity:1; fill:none\" points=\"\n",
       "  2037.99,191.244 2181.99,191.244 \n",
       "  \"/>\n",
       "<g clip-path=\"url(#clip2400)\">\n",
       "<text style=\"fill:#000000; fill-opacity:1; font-family:Arial,Helvetica Neue,Helvetica,sans-serif; font-size:48px; text-anchor:start;\" transform=\"rotate(0, 2205.99, 208.744)\" x=\"2205.99\" y=\"208.744\">0</text>\n",
       "</g>\n",
       "<polyline clip-path=\"url(#clip2400)\" style=\"stroke:#000000; stroke-width:4; stroke-opacity:1; fill:none\" points=\"\n",
       "  2037.99,251.724 2181.99,251.724 \n",
       "  \"/>\n",
       "<g clip-path=\"url(#clip2400)\">\n",
       "<text style=\"fill:#000000; fill-opacity:1; font-family:Arial,Helvetica Neue,Helvetica,sans-serif; font-size:48px; text-anchor:start;\" transform=\"rotate(0, 2205.99, 269.224)\" x=\"2205.99\" y=\"269.224\">1</text>\n",
       "</g>\n",
       "</svg>\n"
      ]
     },
     "execution_count": 28,
     "metadata": {},
     "output_type": "execute_result"
    }
   ],
   "source": [
    "plot(df.a, [df.b, df.c], group=df.e, colour = [:red :blue :green :black], layout=2)"
   ]
  },
  {
   "cell_type": "markdown",
   "metadata": {},
   "source": [
    "### Zadanie \n",
    "- Napisać program w języku Julia do obliczania iloczynu skalarnego wektorów (<a href=\"https://docs.julialang.org/en/v1/stdlib/LinearAlgebra/#LinearAlgebra.dot\">LinearAlgebra.dot</a>) i mnożenia macierzy przez wektor z użyciem \n",
    "<a href=\"https://docs.julialang.org/en/v1/stdlib/LinearAlgebra/#Elementary-operations-1\">operatora *</a>.\n",
    "- Uruchomić i zmierzyć czasy działania obydwu funkcji - każdej dla różnych rozmiarów wektorów.  Dokonać 10 pomiarów dla każdego rozmiaru wektora.\n",
    "- Czasy działania powinny  być zapisywane do <b>jednego</b> pliku CSV. Należy zaplanować odpowiednią strukturę kolumn takiego pliku.\n",
    "- Wczytać dane z w/w pliku do <b>jednego</b> DataFrame w języku Julia. \n",
    "- Korzystająć z mechanizmów DataFrame w języku Julia obliczyć średnią i odchylenie standardowe, w taki sposób, aby narysować wykresy średnich czasów obliczenia operacji w zależności od rozmiaru wektora. Dodać słupki błędów do obydwu wykresów uzyskanych z obliczenia odchylenia standardowego. \n",
    "- Proszę poukładac wykresy  w tabelkę za pomocą  opcji layouts: https://docs.juliaplots.org/latest/layouts/#Simple-Layouts-1.\n",
    "- Należy zadbać o staranne podpisanie osi i wykresów."
   ]
  }
 ],
 "metadata": {
  "kernelspec": {
   "display_name": "Julia 1.5.3",
   "language": "julia",
   "name": "julia-1.5"
  },
  "language_info": {
   "file_extension": ".jl",
   "mimetype": "application/julia",
   "name": "julia",
   "version": "1.5.3"
  }
 },
 "nbformat": 4,
 "nbformat_minor": 2
}
