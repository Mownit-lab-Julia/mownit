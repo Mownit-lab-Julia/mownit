{
 "cells": [
  {
   "cell_type": "markdown",
   "metadata": {},
   "source": [
    "# MOwNiT \n",
    "## Laboratorium 3"
   ]
  },
  {
   "cell_type": "markdown",
   "metadata": {},
   "source": [
    "### Tablice wielowymiarowe i mnożenie macierzy w Julii"
   ]
  },
  {
   "cell_type": "code",
   "execution_count": 1,
   "metadata": {},
   "outputs": [
    {
     "data": {
      "text/plain": [
       "2×2 Array{Float64,2}:\n",
       " 1.0  0.0\n",
       " 0.0  1.0"
      ]
     },
     "execution_count": 1,
     "metadata": {},
     "output_type": "execute_result"
    }
   ],
   "source": [
    "#tablice wielowymiarowe w Julii\n",
    "Asmall=[[1.0 0.0]; [0.0 1.0]]\n",
    "Bsmall=Asmall\n",
    "#size(B,1)"
   ]
  },
  {
   "cell_type": "code",
   "execution_count": 2,
   "metadata": {},
   "outputs": [
    {
     "data": {
      "text/plain": [
       "naive_multiplication (generic function with 1 method)"
      ]
     },
     "execution_count": 2,
     "metadata": {},
     "output_type": "execute_result"
    }
   ],
   "source": [
    "# mnożenie macierzy - wersja naiwna\n",
    "function naive_multiplication(A,B)\n",
    "C=zeros(Float64,size(A,1),size(B,2))\n",
    "  for i=1:size(A,1)\n",
    "    for j=1:size(B,2)\n",
    "        for k=1:size(A,2)\n",
    "            C[i,j]=C[i,j]+A[i,k]*B[k,j]\n",
    "        end\n",
    "    end\n",
    "end\n",
    "C\n",
    "end"
   ]
  },
  {
   "cell_type": "code",
   "execution_count": 3,
   "metadata": {},
   "outputs": [
    {
     "data": {
      "text/plain": [
       "2×2 Array{Float64,2}:\n",
       " 1.0  0.0\n",
       " 0.0  1.0"
      ]
     },
     "execution_count": 3,
     "metadata": {},
     "output_type": "execute_result"
    }
   ],
   "source": [
    "#kompilacja\n",
    "naive_multiplication(Asmall,Bsmall)"
   ]
  },
  {
   "cell_type": "code",
   "execution_count": 4,
   "metadata": {},
   "outputs": [
    {
     "data": {
      "text/plain": [
       "2×2 Array{Float64,2}:\n",
       " 1.0  0.0\n",
       " 0.0  1.0"
      ]
     },
     "execution_count": 4,
     "metadata": {},
     "output_type": "execute_result"
    }
   ],
   "source": [
    "#kompilacja funkcji BLASowej do mnożenia macierzy\n",
    "#https://docs.julialang.org/en/stable/stdlib/linalg/#BLAS-Functions-1\n",
    "Asmall*Bsmall"
   ]
  },
  {
   "cell_type": "code",
   "execution_count": 5,
   "metadata": {},
   "outputs": [],
   "source": [
    "A=rand(1000,1000);\n",
    "B=rand(1000,1000);"
   ]
  },
  {
   "cell_type": "code",
   "execution_count": 6,
   "metadata": {},
   "outputs": [
    {
     "data": {
      "text/plain": [
       "4-element Array{Int64,1}:\n",
       " 1\n",
       " 3\n",
       " 2\n",
       " 4"
      ]
     },
     "execution_count": 6,
     "metadata": {},
     "output_type": "execute_result"
    }
   ],
   "source": [
    "# Należy pamiętać o \"column-major\" dostępie do tablic - \n",
    "# pierwszy indeks zmienia się szybciej\n",
    "# tak jak Matlab, R, Fortran \n",
    "# inaczej niz C, Python\n",
    "A1 = [[1 2]; [3 4]]\n",
    "vec(A1)"
   ]
  },
  {
   "cell_type": "code",
   "execution_count": 7,
   "metadata": {},
   "outputs": [
    {
     "data": {
      "text/plain": [
       "better_multiplication (generic function with 1 method)"
      ]
     },
     "execution_count": 7,
     "metadata": {},
     "output_type": "execute_result"
    }
   ],
   "source": [
    "# poprawiona funkcja korzytająca z powyższego oraz z faktu, że\n",
    "#można zmieniać kolejność operacji dodawania (a co za tym idzie kolejnosc petli).\n",
    "function better_multiplication( A,B )\n",
    "C=zeros(Float64,size(A,1),size(B,2))\n",
    "  for j=1:size(B,2)\n",
    "    for k=1:size(A,2)\n",
    "        for i=1:size(A,1)\n",
    "            C[i,j]=C[i,j]+A[i,k]*B[k,j]\n",
    "        end\n",
    "    end\n",
    "end\n",
    "C\n",
    "end"
   ]
  },
  {
   "cell_type": "code",
   "execution_count": 8,
   "metadata": {},
   "outputs": [
    {
     "data": {
      "text/plain": [
       "2×2 Array{Float64,2}:\n",
       " 1.0  0.0\n",
       " 0.0  1.0"
      ]
     },
     "execution_count": 8,
     "metadata": {},
     "output_type": "execute_result"
    }
   ],
   "source": [
    "better_multiplication(Asmall, Bsmall)"
   ]
  },
  {
   "cell_type": "code",
   "execution_count": 9,
   "metadata": {},
   "outputs": [
    {
     "data": {
      "text/plain": [
       "2.7205195"
      ]
     },
     "execution_count": 9,
     "metadata": {},
     "output_type": "execute_result"
    }
   ],
   "source": [
    "@elapsed naive_multiplication(A,B)"
   ]
  },
  {
   "cell_type": "code",
   "execution_count": 10,
   "metadata": {},
   "outputs": [
    {
     "data": {
      "text/plain": [
       "1.433436299"
      ]
     },
     "execution_count": 10,
     "metadata": {},
     "output_type": "execute_result"
    }
   ],
   "source": [
    "@elapsed better_multiplication(A,B)"
   ]
  },
  {
   "cell_type": "code",
   "execution_count": 11,
   "metadata": {},
   "outputs": [
    {
     "data": {
      "text/plain": [
       "0.0437567"
      ]
     },
     "execution_count": 11,
     "metadata": {},
     "output_type": "execute_result"
    }
   ],
   "source": [
    "@elapsed A*B"
   ]
  },
  {
   "cell_type": "markdown",
   "metadata": {},
   "source": [
    "### Wielomiany i aproksymacja"
   ]
  },
  {
   "cell_type": "code",
   "execution_count": 14,
   "metadata": {},
   "outputs": [
    {
     "data": {
      "text/html": [
       "&#45;1086.8658708490325 &#43; 2905.5721994684814&#8729;x &#45; 1082.7457238744687&#8729;x<sup>2</sup> &#43; 100.44658880845442&#8729;x<sup>3</sup>"
      ],
      "text/latex": [
       "$-1086.8658708490325 + 2905.5721994684814\\cdot x - 1082.7457238744687\\cdot x^{2} + 100.44658880845442\\cdot x^{3}$"
      ],
      "text/plain": [
       "Polynomial(-1086.8658708490325 + 2905.5721994684814*x - 1082.7457238744687*x^2 + 100.44658880845442*x^3)"
      ]
     },
     "execution_count": 14,
     "metadata": {},
     "output_type": "execute_result"
    }
   ],
   "source": [
    "# aproksymacja sredniokwadratowa wielomianem - tutaj przyklad dla wielomianu 3 stopnia\n",
    "# pakiet Polynomials jest mozliwy do instalacji pod Juliabox\n",
    "# https://github.com/JuliaMath/Polynomials.jl\n",
    "#using Pkg\n",
    "#Pkg.add(\"Polynomials\")\n",
    "using Polynomials\n",
    "xs = 0:10; ys = map(x->exp(x), xs)\n",
    "fit1=fit(xs, ys,3)\n"
   ]
  },
  {
   "cell_type": "code",
   "execution_count": 15,
   "metadata": {},
   "outputs": [
    {
     "data": {
      "text/plain": [
       "836.4071935534346"
      ]
     },
     "execution_count": 15,
     "metadata": {},
     "output_type": "execute_result"
    }
   ],
   "source": [
    "# obliczanie wartosci wielomianu \n",
    "fit1(1)"
   ]
  },
  {
   "cell_type": "code",
   "execution_count": 19,
   "metadata": {},
   "outputs": [
    {
     "ename": "LoadError",
     "evalue": "UndefVarError: polyval not defined",
     "output_type": "error",
     "traceback": [
      "UndefVarError: polyval not defined",
      "",
      "Stacktrace:",
      " [1] top-level scope at In[19]:2",
      " [2] include_string(::Function, ::Module, ::String, ::String) at .\\loading.jl:1091"
     ]
    }
   ],
   "source": [
    "# obliczanie wartosci wielomianu (drugi sposób)\n",
    "polyval(fit1, 1)"
   ]
  },
  {
   "cell_type": "code",
   "execution_count": 18,
   "metadata": {},
   "outputs": [
    {
     "ename": "LoadError",
     "evalue": "UndefVarError: polyval not defined",
     "output_type": "error",
     "traceback": [
      "UndefVarError: polyval not defined",
      "",
      "Stacktrace:",
      " [1] top-level scope at In[18]:6",
      " [2] include_string(::Function, ::Module, ::String, ::String) at .\\loading.jl:1091"
     ]
    }
   ],
   "source": [
    "using Plots\n",
    "\n",
    "# geste punkty do wyliczenia wartosci wielomianu aproksymujacego:\n",
    "xd=0:0.1:10\n",
    "# wykres wartosci wielomianu dla gestych punktow:\n",
    "plot(xd,polyval(fit1, xd))\n",
    "\n",
    "# ! -dodanie do tego samego wykresu punktów wg ktorych aproksymowalismy\n",
    "scatter!(xs,ys)\n"
   ]
  },
  {
   "cell_type": "markdown",
   "metadata": {
    "collapsed": true
   },
   "source": [
    "### Zadania\n",
    " \n",
    "1. Uruchomić \n",
    "   - naive_multiplication(A,B), \n",
    "   - better_multiplication(A,B) \n",
    "   - mnożenie BLAS w Julii (A*B) \n",
    "\n",
    "    dla coraz większych macierzy i zmierzyć czasy. Narysować wykres zależyności czasu od rozmiaru macierzy wraz z słupkami błędów, tak jak na poprzednim laboratorium. Wszystkie trzy metody powinny być na jednym wykresie.\n",
    " \n",
    " \n",
    "2. Napisać w języku C:\n",
    "   - naiwną metodę mnożenia macierzy (wersja 1) \n",
    "   - ulepszoną za pomocą zamiany pętli metodę mnożenia macierzy (wersja 2), pamiętając, że w C macierz przechowywana jest wierszami (row major order tzn A11,A12, ..., A1m, A21, A22,...,A2m, ..Anm), inaczej niż w Julii ! \n",
    "   - skorzystać z  możliwości BLAS dostępnego w GSL(wersja 3). \n",
    "    \n",
    "    Należy porównywać działanie tych trzech algorytmow bez włączonej opcji optymalizacji kompilatora. Przedstawić wyniki na jednym wykresie tak jak w p.1.(osobno niż p.1). (Dla chętnych) sprawdzić, co się dzieje, jak włączymy optymalizację kompilatora i dodać do wykresu.\n",
    "\n",
    "\n",
    "3. Użyć funkcji polyfit  z pakietu  Polynomials   do znalezienia odpowiednich wielomianow, ktore najlepiej pasują do zależności czasowych kazdego z algorytmow. Stopień wielomianu powinien zgadzać się z teoretyczną złożonoscią. Dodać wykresy uzyskanych wielomianow do wczesniejszych  wykresów.\n"
   ]
  }
 ],
 "metadata": {
  "kernelspec": {
   "display_name": "Julia 1.5.3",
   "language": "julia",
   "name": "julia-1.5"
  },
  "language_info": {
   "file_extension": ".jl",
   "mimetype": "application/julia",
   "name": "julia",
   "version": "1.5.3"
  }
 },
 "nbformat": 4,
 "nbformat_minor": 2
}
