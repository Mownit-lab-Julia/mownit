{
 "cells": [
  {
   "cell_type": "markdown",
   "id": "cdebaf34-9279-4934-a282-397c41387ead",
   "metadata": {},
   "source": [
    "# MOwNiT \n",
    "## Laboratorium\n",
    "### Iteracyjne metody rozwiązywania równań liniowych\n",
    "\n",
    "Przykład: Temperatura w stanie stacjonarnym \n",
    "\n",
    "Obliczyć rozkład temperatury na kwadratowej płytce w układzie o ustalonych temperaturach na brzegach (brzegi mają różną temperaturę)\n",
    "\n",
    "Rozkład spełnia równanie Laplace'a\n",
    "\n",
    "$\\frac{\\partial^2 \tT(x,y)}{\\partial x^2}+   \\frac {\\partial^2 \tT(x,y)}{\\partial y^2}=0$"
   ]
  },
  {
   "cell_type": "markdown",
   "id": "357bb12f-27ab-4998-9249-d183ec2d2aeb",
   "metadata": {},
   "source": [
    "Tworzymy rozwiązanie początkowe, siatka nxn, ustawiamy temperaturę na brzegach,  w środku, jako początkową wartość \"zgadujemy\" 0"
   ]
  },
  {
   "cell_type": "code",
   "execution_count": 1,
   "id": "5e58c06a-2f7f-45fa-b0bb-a51cef06d648",
   "metadata": {},
   "outputs": [
    {
     "data": {
      "text/plain": [
       "10×10 Matrix{Float64}:\n",
       " 100.0  100.0  100.0  100.0  100.0  100.0  100.0  100.0  100.0  10.0\n",
       " 100.0    0.0    0.0    0.0    0.0    0.0    0.0    0.0    0.0  10.0\n",
       " 100.0    0.0    0.0    0.0    0.0    0.0    0.0    0.0    0.0  10.0\n",
       " 100.0    0.0    0.0    0.0    0.0    0.0    0.0    0.0    0.0  10.0\n",
       " 100.0    0.0    0.0    0.0    0.0    0.0    0.0    0.0    0.0  10.0\n",
       " 100.0    0.0    0.0    0.0    0.0    0.0    0.0    0.0    0.0  10.0\n",
       " 100.0    0.0    0.0    0.0    0.0    0.0    0.0    0.0    0.0  10.0\n",
       " 100.0    0.0    0.0    0.0    0.0    0.0    0.0    0.0    0.0  10.0\n",
       " 100.0    0.0    0.0    0.0    0.0    0.0    0.0    0.0    0.0  10.0\n",
       " 100.0  100.0  100.0  100.0  100.0  100.0  100.0  100.0  100.0  10.0"
      ]
     },
     "execution_count": 1,
     "metadata": {},
     "output_type": "execute_result"
    }
   ],
   "source": [
    "\n",
    "function create_initial_solution(n)\n",
    "    T = zeros(n, n)\n",
    "    hot_temp=100\n",
    "    cold_temp=10\n",
    "    # Ustawienie warunków brzegowych \n",
    "    T[1, :] .= hot_temp\n",
    "    T[n,:] .= hot_temp\n",
    "    T[:,1].= hot_temp\n",
    "    T[:,n].= cold_temp\n",
    "    return T\n",
    "end\n",
    "T=create_initial_solution(10)\n"
   ]
  },
  {
   "cell_type": "markdown",
   "id": "a874c48a-9749-4bca-8581-0dec23ab84ac",
   "metadata": {},
   "source": [
    "Metoda Jakobiego, wzór roboczy $$x_i^{(t+1)}=\\frac{1}{a_{ii}}[b_i-\\sum_{j=1,j\\neq i}^{n} a_{ij}x_j^{(t)}]\\  ;\\  a_{ii} \\neq 0, \\forall i \\in {1,..,n} $$\n",
    "\n",
    "Dla równania Laplace'a przyjmuje postać:\n",
    "$$\n",
    "\t\t  T^{(t+1)}(x_i,y_j)=\n",
    "\t\\frac{T^{(t)}(x_{i},y_{j-1})  + T^{(t)}(x_{i-1}, y_j)\n",
    "\t  +T^{(t)}(x_{i+1},y_{j})\n",
    "\t +T^{(t)}(x_{i},y_{j+1})}{4} \n",
    "\t $$"
   ]
  },
  {
   "cell_type": "markdown",
   "id": "b9fdb42f-2be7-4202-8d71-ecb2f0e6342f",
   "metadata": {},
   "source": [
    "Uwaga: w kodzie poniżej przyjęto kryterium stopu $|| x_{i+1}-x_{i} || $"
   ]
  },
  {
   "cell_type": "code",
   "execution_count": 6,
   "id": "733ffd66-aa6e-4288-85a4-5909858d94fc",
   "metadata": {},
   "outputs": [
    {
     "name": "stdout",
     "output_type": "stream",
     "text": [
      "Zbieżność osiągnięta po 255 iteracjach\n"
     ]
    },
    {
     "data": {
      "text/plain": [
       "10×10 Matrix{Float64}:\n",
       " 100.0  100.0     100.0     100.0     …  100.0     100.0     100.0     10.0\n",
       " 100.0   98.7662   97.3728   95.63        84.492    75.1577   56.2338  10.0\n",
       " 100.0   97.6918   95.0952   91.8772      72.9618   59.9048   39.7777  10.0\n",
       " 100.0   96.9059   93.4389   89.1821      65.8179   51.722    32.972   10.0\n",
       " 100.0   96.4928   92.5725   87.7859      62.4694   48.1933   30.3884  10.0\n",
       " 100.0   96.4928   92.5725   87.7859  …   62.4694   48.1933   30.3884  10.0\n",
       " 100.0   96.9059   93.4389   89.1821      65.8179   51.722    32.972   10.0\n",
       " 100.0   97.6918   95.0952   91.8772      72.9618   59.9048   39.7777  10.0\n",
       " 100.0   98.7662   97.3728   95.63        84.492    75.1577   56.2338  10.0\n",
       " 100.0  100.0     100.0     100.0        100.0     100.0     100.0     10.0"
      ]
     },
     "execution_count": 6,
     "metadata": {},
     "output_type": "execute_result"
    }
   ],
   "source": [
    "\n",
    "function jacobi_laplace(T; maxiter=1000, tol=1e-6)\n",
    "    n = size(T,1)  \n",
    "    m = size(T,2)\n",
    "    \n",
    "    #tablica, gdzie będziemy zapisywać nową iterację\n",
    "    T_next=copy(T)\n",
    "\n",
    "    for iter in 1:maxiter\n",
    "        delta = 0.0\n",
    "        # Aktualizacja wewnętrznych punktów siatki\n",
    "        for j in 2:n-1\n",
    "            for i in 2:m-1\n",
    "                # wzór roboczy \n",
    "                T_next[i, j] = 0.25 * (T[i-1, j] + T[i+1, j] +  T[i, j-1] + T[i, j+1])\n",
    "                # największa poprawa w tej iteracji \n",
    "                delta = max(delta, abs(T_next[i, j] - T[i, j]))\n",
    "            end\n",
    "        end\n",
    "        # Zamiana macierzy bez kopiowania danych\n",
    "        T, T_next = T_next, T\n",
    "        \n",
    "        # Sprawdzenie warunku zbieżności\n",
    "        if delta < tol\n",
    "            println(\"Zbieżność osiągnięta po $iter iteracjach\")\n",
    "            return T\n",
    "        end\n",
    "    end\n",
    "    println(\"Osiągnięto maksymalną liczbę iteracji\")\n",
    "    return T\n",
    "end\n",
    "\n",
    "\n",
    "T=create_initial_solution(10)\n",
    "solution = jacobi_laplace(T)"
   ]
  },
  {
   "cell_type": "markdown",
   "id": "dbedc061-3bcd-454d-8139-0f9508eac1de",
   "metadata": {},
   "source": [
    "### Zadania"
   ]
  },
  {
   "cell_type": "markdown",
   "id": "aab064f8-49b0-4ba6-adcb-c9c438d050ef",
   "metadata": {},
   "source": [
    "#### Zadanie 1 (4pkt)\n",
    "Bazując na kodzie metody Jacobiego oraz materiale z wykładu napisz implementacje metod:\n",
    "* Gaussa-Seidla 1 pkt\n",
    "* SOR z $\\omega_{opt} $ z wykładu czyli\n",
    "    $\\omega_{opt}=\\frac{2}{1+\\sqrt{1-\\rho(M_{GS})}}$\n",
    "gdzie $\\rho(M_{GS})=cos^2(\\frac{\\pi}{N})$ 1 pkt\n",
    "* Czebyszewa z wykładu 2pkt\n",
    "\n",
    "<b>UWAGA:</b>\n",
    "* W celu porównania metod należy wybrać jeden (ujednolicić) warunek stopu !\n",
    "     * w tym notebooku pokazany jest przykład kryterium stopu $|| x^{(i+1)}-x^{(i)} ||< \\text{tol} $ z  normą maksymalną,\n",
    "     * na wykładzie w pseudokodzie metody Czebyszewa  jest przykład kryterium $\\frac{|| A x^{(i)}-b ||}{||b||}< \\text{tol}$ bazującego na  normie euklidesowej (suma kwadratów odległosci).\n",
    "* W przypadku metody Czebyszewa i przeglądania siadki \"odd-even\" należy poprawnie policzyć liczbę iteracji (1 iteracja = przejscie \"odd\" + przejscie \"even\")\n",
    "### Zadanie 2 (1 pkt)\n",
    "Dla ustalonego progu błędu porównaj liczbę iteracji każdej metody potrzebną do osiągnięcia zbieżności dla coraz większych rozmiarów problemu. Wyniki przedstaw na wykresie\n",
    "\n",
    "### Zadanie 3 (1 pkt)\n",
    "Dla rozmiaru powyżej 120 pkt porównaj na jednym wykresie wartość maksymalnego błedu w danej iteracji w stosunku do błedu poczatkowego, w zależności od iteracji, dla każdej z metod. Błąd należy oszacować względem <b>otrzymanego ostatecznego rozwiązania </b> np. pod warunkiem osiągnięcia zbieżności - w taki sposób $$\\epsilon(\\text{iter})=\\frac{\\sum_{i=\\text{iter}}^{\\text{maxiter}}\\max(\\delta)}{\\sum_{i=1}^{maxiter} \\max(\\delta)}$$\n",
    "\n",
    "### Zadanie 4 (1 pkt + 1 pkt za wizualizację)\n",
    "Membrana w kształcie kwadratu jest równomiernie obciążona. Membrana znajduje sie w stanie statycznym, a jej brzeg jest sztywno zamocowany i nieodkształcony.\n",
    "\n",
    "Za pomocą wybranej metody poznanej na tym labolatorium należy obliczyc odkształcenie membrany od poziomu, zakładając\n",
    "ze spełnia ono równanie Poissona:\n",
    "\n",
    "$\\frac{\\delta^{2}h}{\\delta x^{2}}+\\frac{\\delta^{2}h}{\\delta y^{2}}=-p/T$\n",
    "\n",
    "gdzie mamy ustalone parametry:\n",
    "\n",
    "$p>0$ cisnienie wywierane na membrane.\n",
    "\n",
    "$T$-napiecie membrany\n",
    "\n",
    "Poza demonstarcją wartości liczbowych, należy użyć wybranej przez siebie metody wizualizacji wyników. \n"
   ]
  }
 ],
 "metadata": {
  "kernelspec": {
   "display_name": "Julia 1.11.3",
   "language": "julia",
   "name": "julia-1.11"
  },
  "language_info": {
   "file_extension": ".jl",
   "mimetype": "application/julia",
   "name": "julia",
   "version": "1.11.3"
  }
 },
 "nbformat": 4,
 "nbformat_minor": 5
}
