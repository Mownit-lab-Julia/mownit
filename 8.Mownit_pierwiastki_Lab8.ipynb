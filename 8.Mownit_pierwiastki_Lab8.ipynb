{
 "cells": [
  {
   "cell_type": "markdown",
   "metadata": {},
   "source": [
    "# MOwNiT \n",
    "## Laboratorium\n",
    "### Znajdowanie pierwiastków"
   ]
  },
  {
   "cell_type": "markdown",
   "metadata": {},
   "source": [
    "Do poszukiwania pierwiastków funkcji w Julii używamy pakietu Roots"
   ]
  },
  {
   "cell_type": "markdown",
   "metadata": {},
   "source": [
    "```julia\n",
    "Pkg.add(\"Roots\")\n",
    "Pkg.add(\"ForwardDiff\")\n",
    "```"
   ]
  },
  {
   "cell_type": "code",
   "execution_count": 1,
   "metadata": {},
   "outputs": [],
   "source": [
    "using Pkg\n",
    "#Pkg.add(\"Roots\")\n",
    "#Pkg.add(\"ForwardDiff\")\n",
    "using Roots  \n",
    "using Plots\n",
    "using ForwardDiff"
   ]
  },
  {
   "cell_type": "code",
   "execution_count": 2,
   "metadata": {},
   "outputs": [
    {
     "data": {
      "image/png": "[encoded data removed]",
      "image/svg+xml": [
       "<?xml version=\"1.0\" encoding=\"utf-8\"?>\n",
       "<svg xmlns=\"http://www.w3.org/2000/svg\" xmlns:xlink=\"http://www.w3.org/1999/xlink\" width=\"600\" height=\"400\" viewBox=\"0 0 2400 1600\">\n",
       "<defs>\n",
       "  <clipPath id=\"clip880\">\n",
       "    <rect x=\"0\" y=\"0\" width=\"2400\" height=\"1600\"/>\n",
       "  </clipPath>\n",
       "</defs>\n",
       "<path clip-path=\"url(#clip880)\" d=\"M0 1600 L2400 1600 L2400 0 L0 0  Z\" fill=\"#ffffff\" fill-rule=\"evenodd\" fill-opacity=\"1\"/>\n",
       "<defs>\n",
       "  <clipPath id=\"clip881\">\n",
       "    <rect x=\"480\" y=\"0\" width=\"1681\" height=\"1600\"/>\n",
       "  </clipPath>\n",
       "</defs>\n",
       "<path clip-path=\"url(#clip880)\" d=\"M147.478 1486.45 L2352.76 1486.45 L2352.76 47.2441 L147.478 47.2441  Z\" fill=\"#ffffff\" fill-rule=\"evenodd\" fill-opacity=\"1\"/>\n",
       "<defs>\n",
       "  <clipPath id=\"clip882\">\n",
       "    <rect x=\"147\" y=\"47\" width=\"2206\" height=\"1440\"/>\n",
       "  </clipPath>\n",
       "</defs>\n",
       "<polyline clip-path=\"url(#clip882)\" style=\"stroke:#000000; stroke-linecap:round; stroke-linejoin:round; stroke-width:2; stroke-opacity:0.1; fill:none\" points=\"209.891,1486.45 209.891,47.2441 \"/>\n",
       "<polyline clip-path=\"url(#clip882)\" style=\"stroke:#000000; stroke-linecap:round; stroke-linejoin:round; stroke-width:2; stroke-opacity:0.1; fill:none\" points=\"730.004,1486.45 730.004,47.2441 \"/>\n",
       "<polyline clip-path=\"url(#clip882)\" style=\"stroke:#000000; stroke-linecap:round; stroke-linejoin:round; stroke-width:2; stroke-opacity:0.1; fill:none\" points=\"1250.12,1486.45 1250.12,47.2441 \"/>\n",
       "<polyline clip-path=\"url(#clip882)\" style=\"stroke:#000000; stroke-linecap:round; stroke-linejoin:round; stroke-width:2; stroke-opacity:0.1; fill:none\" points=\"1770.23,1486.45 1770.23,47.2441 \"/>\n",
       "<polyline clip-path=\"url(#clip882)\" style=\"stroke:#000000; stroke-linecap:round; stroke-linejoin:round; stroke-width:2; stroke-opacity:0.1; fill:none\" points=\"2290.34,1486.45 2290.34,47.2441 \"/>\n",
       "<polyline clip-path=\"url(#clip882)\" style=\"stroke:#000000; stroke-linecap:round; stroke-linejoin:round; stroke-width:2; stroke-opacity:0.1; fill:none\" points=\"147.478,1304.46 2352.76,1304.46 \"/>\n",
       "<polyline clip-path=\"url(#clip882)\" style=\"stroke:#000000; stroke-linecap:round; stroke-linejoin:round; stroke-width:2; stroke-opacity:0.1; fill:none\" points=\"147.478,965.026 2352.76,965.026 \"/>\n",
       "<polyline clip-path=\"url(#clip882)\" style=\"stroke:#000000; stroke-linecap:round; stroke-linejoin:round; stroke-width:2; stroke-opacity:0.1; fill:none\" points=\"147.478,625.591 2352.76,625.591 \"/>\n",
       "<polyline clip-path=\"url(#clip882)\" style=\"stroke:#000000; stroke-linecap:round; stroke-linejoin:round; stroke-width:2; stroke-opacity:0.1; fill:none\" points=\"147.478,286.156 2352.76,286.156 \"/>\n",
       "<polyline clip-path=\"url(#clip880)\" style=\"stroke:#000000; stroke-linecap:round; stroke-linejoin:round; stroke-width:4; stroke-opacity:1; fill:none\" points=\"147.478,1486.45 2352.76,1486.45 \"/>\n",
       "<polyline clip-path=\"url(#clip880)\" style=\"stroke:#000000; stroke-linecap:round; stroke-linejoin:round; stroke-width:4; stroke-opacity:1; fill:none\" points=\"209.891,1486.45 209.891,1467.55 \"/>\n",
       "<polyline clip-path=\"url(#clip880)\" style=\"stroke:#000000; stroke-linecap:round; stroke-linejoin:round; stroke-width:4; stroke-opacity:1; fill:none\" points=\"730.004,1486.45 730.004,1467.55 \"/>\n",
       "<polyline clip-path=\"url(#clip880)\" style=\"stroke:#000000; stroke-linecap:round; stroke-linejoin:round; stroke-width:4; stroke-opacity:1; fill:none\" points=\"1250.12,1486.45 1250.12,1467.55 \"/>\n",
       "<polyline clip-path=\"url(#clip880)\" style=\"stroke:#000000; stroke-linecap:round; stroke-linejoin:round; stroke-width:4; stroke-opacity:1; fill:none\" points=\"1770.23,1486.45 1770.23,1467.55 \"/>\n",
       "<polyline clip-path=\"url(#clip880)\" style=\"stroke:#000000; stroke-linecap:round; stroke-linejoin:round; stroke-width:4; stroke-opacity:1; fill:none\" points=\"2290.34,1486.45 2290.34,1467.55 \"/>\n",
       "<path clip-path=\"url(#clip880)\" d=\"M179.834 1532.02 L209.509 1532.02 L209.509 1535.95 L179.834 1535.95 L179.834 1532.02 Z\" fill=\"#000000\" fill-rule=\"nonzero\" fill-opacity=\"1\" /><path clip-path=\"url(#clip880)\" d=\"M223.63 1544.91 L239.949 1544.91 L239.949 1548.85 L218.005 1548.85 L218.005 1544.91 Q220.667 1542.16 225.25 1537.53 Q229.857 1532.88 231.037 1531.53 Q233.283 1529.01 234.162 1527.27 Q235.065 1525.51 235.065 1523.82 Q235.065 1521.07 233.12 1519.33 Q231.199 1517.6 228.097 1517.6 Q225.898 1517.6 223.445 1518.36 Q221.014 1519.13 218.236 1520.68 L218.236 1515.95 Q221.06 1514.82 223.514 1514.24 Q225.968 1513.66 228.005 1513.66 Q233.375 1513.66 236.57 1516.35 Q239.764 1519.03 239.764 1523.52 Q239.764 1525.65 238.954 1527.57 Q238.167 1529.47 236.06 1532.07 Q235.482 1532.74 232.38 1535.95 Q229.278 1539.15 223.63 1544.91 Z\" fill=\"#000000\" fill-rule=\"nonzero\" fill-opacity=\"1\" /><path clip-path=\"url(#clip880)\" d=\"M699.761 1532.02 L729.437 1532.02 L729.437 1535.95 L699.761 1535.95 L699.761 1532.02 Z\" fill=\"#000000\" fill-rule=\"nonzero\" fill-opacity=\"1\" /><path clip-path=\"url(#clip880)\" d=\"M740.34 1544.91 L747.979 1544.91 L747.979 1518.55 L739.668 1520.21 L739.668 1515.95 L747.932 1514.29 L752.608 1514.29 L752.608 1544.91 L760.247 1544.91 L760.247 1548.85 L740.34 1548.85 L740.34 1544.91 Z\" fill=\"#000000\" fill-rule=\"nonzero\" fill-opacity=\"1\" /><path clip-path=\"url(#clip880)\" d=\"M1250.12 1517.37 Q1246.51 1517.37 1244.68 1520.93 Q1242.87 1524.47 1242.87 1531.6 Q1242.87 1538.71 1244.68 1542.27 Q1246.51 1545.82 1250.12 1545.82 Q1253.75 1545.82 1255.56 1542.27 Q1257.39 1538.71 1257.39 1531.6 Q1257.39 1524.47 1255.56 1520.93 Q1253.75 1517.37 1250.12 1517.37 M1250.12 1513.66 Q1255.93 1513.66 1258.98 1518.27 Q1262.06 1522.85 1262.06 1531.6 Q1262.06 1540.33 1258.98 1544.94 Q1255.93 1549.52 1250.12 1549.52 Q1244.31 1549.52 1241.23 1544.94 Q1238.17 1540.33 1238.17 1531.6 Q1238.17 1522.85 1241.23 1518.27 Q1244.31 1513.66 1250.12 1513.66 Z\" fill=\"#000000\" fill-rule=\"nonzero\" fill-opacity=\"1\" /><path clip-path=\"url(#clip880)\" d=\"M1760.61 1544.91 L1768.25 1544.91 L1768.25 1518.55 L1759.94 1520.21 L1759.94 1515.95 L1768.2 1514.29 L1772.88 1514.29 L1772.88 1544.91 L1780.52 1544.91 L1780.52 1548.85 L1760.61 1548.85 L1760.61 1544.91 Z\" fill=\"#000000\" fill-rule=\"nonzero\" fill-opacity=\"1\" /><path clip-path=\"url(#clip880)\" d=\"M2285 1544.91 L2301.31 1544.91 L2301.31 1548.85 L2279.37 1548.85 L2279.37 1544.91 Q2282.03 1542.16 2286.62 1537.53 Q2291.22 1532.88 2292.4 1531.53 Q2294.65 1529.01 2295.53 1527.27 Q2296.43 1525.51 2296.43 1523.82 Q2296.43 1521.07 2294.49 1519.33 Q2292.56 1517.6 2289.46 1517.6 Q2287.26 1517.6 2284.81 1518.36 Q2282.38 1519.13 2279.6 1520.68 L2279.6 1515.95 Q2282.43 1514.82 2284.88 1514.24 Q2287.33 1513.66 2289.37 1513.66 Q2294.74 1513.66 2297.93 1516.35 Q2301.13 1519.03 2301.13 1523.52 Q2301.13 1525.65 2300.32 1527.57 Q2299.53 1529.47 2297.43 1532.07 Q2296.85 1532.74 2293.75 1535.95 Q2290.64 1539.15 2285 1544.91 Z\" fill=\"#000000\" fill-rule=\"nonzero\" fill-opacity=\"1\" /><polyline clip-path=\"url(#clip880)\" style=\"stroke:#000000; stroke-linecap:round; stroke-linejoin:round; stroke-width:4; stroke-opacity:1; fill:none\" points=\"147.478,1486.45 147.478,47.2441 \"/>\n",
       "<polyline clip-path=\"url(#clip880)\" style=\"stroke:#000000; stroke-linecap:round; stroke-linejoin:round; stroke-width:4; stroke-opacity:1; fill:none\" points=\"147.478,1304.46 166.376,1304.46 \"/>\n",
       "<polyline clip-path=\"url(#clip880)\" style=\"stroke:#000000; stroke-linecap:round; stroke-linejoin:round; stroke-width:4; stroke-opacity:1; fill:none\" points=\"147.478,965.026 166.376,965.026 \"/>\n",
       "<polyline clip-path=\"url(#clip880)\" style=\"stroke:#000000; stroke-linecap:round; stroke-linejoin:round; stroke-width:4; stroke-opacity:1; fill:none\" points=\"147.478,625.591 166.376,625.591 \"/>\n",
       "<polyline clip-path=\"url(#clip880)\" style=\"stroke:#000000; stroke-linecap:round; stroke-linejoin:round; stroke-width:4; stroke-opacity:1; fill:none\" points=\"147.478,286.156 166.376,286.156 \"/>\n",
       "<path clip-path=\"url(#clip880)\" d=\"M51.3625 1304.91 L81.0383 1304.91 L81.0383 1308.85 L51.3625 1308.85 L51.3625 1304.91 Z\" fill=\"#000000\" fill-rule=\"nonzero\" fill-opacity=\"1\" /><path clip-path=\"url(#clip880)\" d=\"M95.1586 1317.81 L111.478 1317.81 L111.478 1321.74 L89.5336 1321.74 L89.5336 1317.81 Q92.1956 1315.05 96.7789 1310.42 Q101.385 1305.77 102.566 1304.43 Q104.811 1301.9 105.691 1300.17 Q106.594 1298.41 106.594 1296.72 Q106.594 1293.96 104.649 1292.23 Q102.728 1290.49 99.6261 1290.49 Q97.4271 1290.49 94.9734 1291.26 Q92.5428 1292.02 89.7651 1293.57 L89.7651 1288.85 Q92.5891 1287.71 95.0428 1287.13 Q97.4965 1286.56 99.5335 1286.56 Q104.904 1286.56 108.098 1289.24 Q111.293 1291.93 111.293 1296.42 Q111.293 1298.55 110.483 1300.47 Q109.696 1302.37 107.589 1304.96 Q107.01 1305.63 103.909 1308.85 Q100.807 1312.04 95.1586 1317.81 Z\" fill=\"#000000\" fill-rule=\"nonzero\" fill-opacity=\"1\" /><path clip-path=\"url(#clip880)\" d=\"M50.9921 965.477 L80.6679 965.477 L80.6679 969.413 L50.9921 969.413 L50.9921 965.477 Z\" fill=\"#000000\" fill-rule=\"nonzero\" fill-opacity=\"1\" /><path clip-path=\"url(#clip880)\" d=\"M91.5706 978.371 L99.2095 978.371 L99.2095 952.005 L90.8993 953.672 L90.8993 949.413 L99.1632 947.746 L103.839 947.746 L103.839 978.371 L111.478 978.371 L111.478 982.306 L91.5706 982.306 L91.5706 978.371 Z\" fill=\"#000000\" fill-rule=\"nonzero\" fill-opacity=\"1\" /><path clip-path=\"url(#clip880)\" d=\"M99.5335 611.39 Q95.9224 611.39 94.0937 614.955 Q92.2882 618.496 92.2882 625.626 Q92.2882 632.732 94.0937 636.297 Q95.9224 639.839 99.5335 639.839 Q103.168 639.839 104.973 636.297 Q106.802 632.732 106.802 625.626 Q106.802 618.496 104.973 614.955 Q103.168 611.39 99.5335 611.39 M99.5335 607.686 Q105.344 607.686 108.399 612.293 Q111.478 616.876 111.478 625.626 Q111.478 634.353 108.399 638.959 Q105.344 643.543 99.5335 643.543 Q93.7234 643.543 90.6447 638.959 Q87.5892 634.353 87.5892 625.626 Q87.5892 616.876 90.6447 612.293 Q93.7234 607.686 99.5335 607.686 Z\" fill=\"#000000\" fill-rule=\"nonzero\" fill-opacity=\"1\" /><path clip-path=\"url(#clip880)\" d=\"M91.5706 299.501 L99.2095 299.501 L99.2095 273.136 L90.8993 274.802 L90.8993 270.543 L99.1632 268.876 L103.839 268.876 L103.839 299.501 L111.478 299.501 L111.478 303.436 L91.5706 303.436 L91.5706 299.501 Z\" fill=\"#000000\" fill-rule=\"nonzero\" fill-opacity=\"1\" /><polyline clip-path=\"url(#clip882)\" style=\"stroke:#009af9; stroke-linecap:round; stroke-linejoin:round; stroke-width:4; stroke-opacity:1; fill:none\" points=\"209.891,87.9763 231.369,89.1308 357.164,92.2322 415.683,92.4061 494.121,92.4994 558.936,93.2066 619.206,94.9824 694.866,99.5273 762.734,106.52 801.576,112.021 840.418,118.754 869.452,124.653 898.487,131.338 935.622,141.096 972.757,152.277 1006.65,163.781 1040.54,176.57 1079.12,192.741 1117.7,210.678 1148.27,226.179 1178.85,242.83 1216.84,265.137 1254.84,289.25 1283.93,308.941 1313.03,329.692 1354.05,360.736 1395.07,393.848 1425.72,419.92 1456.37,447.104 1491.23,479.337 1526.09,512.934 1560.61,547.502 1595.14,583.307 1633.12,624.057 1671.1,666.148 1700.11,699.144 1729.12,732.824 1802.34,820.56 1870.06,904.64 1939.91,993.571 2010.7,1085.22 2084.62,1181.63 2142.85,1257.46 2275.46,1427.12 2290.34,1445.72 \"/>\n",
       "<path clip-path=\"url(#clip880)\" d=\"M2006.29 198.898 L2279.25 198.898 L2279.25 95.2176 L2006.29 95.2176  Z\" fill=\"#ffffff\" fill-rule=\"evenodd\" fill-opacity=\"1\"/>\n",
       "<polyline clip-path=\"url(#clip880)\" style=\"stroke:#000000; stroke-linecap:round; stroke-linejoin:round; stroke-width:4; stroke-opacity:1; fill:none\" points=\"2006.29,198.898 2279.25,198.898 2279.25,95.2176 2006.29,95.2176 2006.29,198.898 \"/>\n",
       "<polyline clip-path=\"url(#clip880)\" style=\"stroke:#009af9; stroke-linecap:round; stroke-linejoin:round; stroke-width:4; stroke-opacity:1; fill:none\" points=\"2030.79,147.058 2177.81,147.058 \"/>\n",
       "<path clip-path=\"url(#clip880)\" d=\"M2216.16 166.745 Q2214.35 171.375 2212.64 172.787 Q2210.92 174.199 2208.05 174.199 L2204.65 174.199 L2204.65 170.634 L2207.15 170.634 Q2208.91 170.634 2209.88 169.8 Q2210.85 168.967 2212.04 165.865 L2212.8 163.921 L2202.31 138.412 L2206.83 138.412 L2214.93 158.689 L2223.03 138.412 L2227.54 138.412 L2216.16 166.745 Z\" fill=\"#000000\" fill-rule=\"nonzero\" fill-opacity=\"1\" /><path clip-path=\"url(#clip880)\" d=\"M2234.84 160.402 L2242.48 160.402 L2242.48 134.037 L2234.16 135.703 L2234.16 131.444 L2242.43 129.778 L2247.1 129.778 L2247.1 160.402 L2254.74 160.402 L2254.74 164.338 L2234.84 164.338 L2234.84 160.402 Z\" fill=\"#000000\" fill-rule=\"nonzero\" fill-opacity=\"1\" /></svg>\n"
      ],
      "text/html": [
       "<?xml version=\"1.0\" encoding=\"utf-8\"?>\n",
       "<svg xmlns=\"http://www.w3.org/2000/svg\" xmlns:xlink=\"http://www.w3.org/1999/xlink\" width=\"600\" height=\"400\" viewBox=\"0 0 2400 1600\">\n",
       "<defs>\n",
       "  <clipPath id=\"clip930\">\n",
       "    <rect x=\"0\" y=\"0\" width=\"2400\" height=\"1600\"/>\n",
       "  </clipPath>\n",
       "</defs>\n",
       "<path clip-path=\"url(#clip930)\" d=\"M0 1600 L2400 1600 L2400 0 L0 0  Z\" fill=\"#ffffff\" fill-rule=\"evenodd\" fill-opacity=\"1\"/>\n",
       "<defs>\n",
       "  <clipPath id=\"clip931\">\n",
       "    <rect x=\"480\" y=\"0\" width=\"1681\" height=\"1600\"/>\n",
       "  </clipPath>\n",
       "</defs>\n",
       "<path clip-path=\"url(#clip930)\" d=\"M147.478 1486.45 L2352.76 1486.45 L2352.76 47.2441 L147.478 47.2441  Z\" fill=\"#ffffff\" fill-rule=\"evenodd\" fill-opacity=\"1\"/>\n",
       "<defs>\n",
       "  <clipPath id=\"clip932\">\n",
       "    <rect x=\"147\" y=\"47\" width=\"2206\" height=\"1440\"/>\n",
       "  </clipPath>\n",
       "</defs>\n",
       "<polyline clip-path=\"url(#clip932)\" style=\"stroke:#000000; stroke-linecap:round; stroke-linejoin:round; stroke-width:2; stroke-opacity:0.1; fill:none\" points=\"209.891,1486.45 209.891,47.2441 \"/>\n",
       "<polyline clip-path=\"url(#clip932)\" style=\"stroke:#000000; stroke-linecap:round; stroke-linejoin:round; stroke-width:2; stroke-opacity:0.1; fill:none\" points=\"730.004,1486.45 730.004,47.2441 \"/>\n",
       "<polyline clip-path=\"url(#clip932)\" style=\"stroke:#000000; stroke-linecap:round; stroke-linejoin:round; stroke-width:2; stroke-opacity:0.1; fill:none\" points=\"1250.12,1486.45 1250.12,47.2441 \"/>\n",
       "<polyline clip-path=\"url(#clip932)\" style=\"stroke:#000000; stroke-linecap:round; stroke-linejoin:round; stroke-width:2; stroke-opacity:0.1; fill:none\" points=\"1770.23,1486.45 1770.23,47.2441 \"/>\n",
       "<polyline clip-path=\"url(#clip932)\" style=\"stroke:#000000; stroke-linecap:round; stroke-linejoin:round; stroke-width:2; stroke-opacity:0.1; fill:none\" points=\"2290.34,1486.45 2290.34,47.2441 \"/>\n",
       "<polyline clip-path=\"url(#clip932)\" style=\"stroke:#000000; stroke-linecap:round; stroke-linejoin:round; stroke-width:2; stroke-opacity:0.1; fill:none\" points=\"147.478,1304.46 2352.76,1304.46 \"/>\n",
       "<polyline clip-path=\"url(#clip932)\" style=\"stroke:#000000; stroke-linecap:round; stroke-linejoin:round; stroke-width:2; stroke-opacity:0.1; fill:none\" points=\"147.478,965.026 2352.76,965.026 \"/>\n",
       "<polyline clip-path=\"url(#clip932)\" style=\"stroke:#000000; stroke-linecap:round; stroke-linejoin:round; stroke-width:2; stroke-opacity:0.1; fill:none\" points=\"147.478,625.591 2352.76,625.591 \"/>\n",
       "<polyline clip-path=\"url(#clip932)\" style=\"stroke:#000000; stroke-linecap:round; stroke-linejoin:round; stroke-width:2; stroke-opacity:0.1; fill:none\" points=\"147.478,286.156 2352.76,286.156 \"/>\n",
       "<polyline clip-path=\"url(#clip930)\" style=\"stroke:#000000; stroke-linecap:round; stroke-linejoin:round; stroke-width:4; stroke-opacity:1; fill:none\" points=\"147.478,1486.45 2352.76,1486.45 \"/>\n",
       "<polyline clip-path=\"url(#clip930)\" style=\"stroke:#000000; stroke-linecap:round; stroke-linejoin:round; stroke-width:4; stroke-opacity:1; fill:none\" points=\"209.891,1486.45 209.891,1467.55 \"/>\n",
       "<polyline clip-path=\"url(#clip930)\" style=\"stroke:#000000; stroke-linecap:round; stroke-linejoin:round; stroke-width:4; stroke-opacity:1; fill:none\" points=\"730.004,1486.45 730.004,1467.55 \"/>\n",
       "<polyline clip-path=\"url(#clip930)\" style=\"stroke:#000000; stroke-linecap:round; stroke-linejoin:round; stroke-width:4; stroke-opacity:1; fill:none\" points=\"1250.12,1486.45 1250.12,1467.55 \"/>\n",
       "<polyline clip-path=\"url(#clip930)\" style=\"stroke:#000000; stroke-linecap:round; stroke-linejoin:round; stroke-width:4; stroke-opacity:1; fill:none\" points=\"1770.23,1486.45 1770.23,1467.55 \"/>\n",
       "<polyline clip-path=\"url(#clip930)\" style=\"stroke:#000000; stroke-linecap:round; stroke-linejoin:round; stroke-width:4; stroke-opacity:1; fill:none\" points=\"2290.34,1486.45 2290.34,1467.55 \"/>\n",
       "<path clip-path=\"url(#clip930)\" d=\"M179.834 1532.02 L209.509 1532.02 L209.509 1535.95 L179.834 1535.95 L179.834 1532.02 Z\" fill=\"#000000\" fill-rule=\"nonzero\" fill-opacity=\"1\" /><path clip-path=\"url(#clip930)\" d=\"M223.63 1544.91 L239.949 1544.91 L239.949 1548.85 L218.005 1548.85 L218.005 1544.91 Q220.667 1542.16 225.25 1537.53 Q229.857 1532.88 231.037 1531.53 Q233.283 1529.01 234.162 1527.27 Q235.065 1525.51 235.065 1523.82 Q235.065 1521.07 233.12 1519.33 Q231.199 1517.6 228.097 1517.6 Q225.898 1517.6 223.445 1518.36 Q221.014 1519.13 218.236 1520.68 L218.236 1515.95 Q221.06 1514.82 223.514 1514.24 Q225.968 1513.66 228.005 1513.66 Q233.375 1513.66 236.57 1516.35 Q239.764 1519.03 239.764 1523.52 Q239.764 1525.65 238.954 1527.57 Q238.167 1529.47 236.06 1532.07 Q235.482 1532.74 232.38 1535.95 Q229.278 1539.15 223.63 1544.91 Z\" fill=\"#000000\" fill-rule=\"nonzero\" fill-opacity=\"1\" /><path clip-path=\"url(#clip930)\" d=\"M699.761 1532.02 L729.437 1532.02 L729.437 1535.95 L699.761 1535.95 L699.761 1532.02 Z\" fill=\"#000000\" fill-rule=\"nonzero\" fill-opacity=\"1\" /><path clip-path=\"url(#clip930)\" d=\"M740.34 1544.91 L747.979 1544.91 L747.979 1518.55 L739.668 1520.21 L739.668 1515.95 L747.932 1514.29 L752.608 1514.29 L752.608 1544.91 L760.247 1544.91 L760.247 1548.85 L740.34 1548.85 L740.34 1544.91 Z\" fill=\"#000000\" fill-rule=\"nonzero\" fill-opacity=\"1\" /><path clip-path=\"url(#clip930)\" d=\"M1250.12 1517.37 Q1246.51 1517.37 1244.68 1520.93 Q1242.87 1524.47 1242.87 1531.6 Q1242.87 1538.71 1244.68 1542.27 Q1246.51 1545.82 1250.12 1545.82 Q1253.75 1545.82 1255.56 1542.27 Q1257.39 1538.71 1257.39 1531.6 Q1257.39 1524.47 1255.56 1520.93 Q1253.75 1517.37 1250.12 1517.37 M1250.12 1513.66 Q1255.93 1513.66 1258.98 1518.27 Q1262.06 1522.85 1262.06 1531.6 Q1262.06 1540.33 1258.98 1544.94 Q1255.93 1549.52 1250.12 1549.52 Q1244.31 1549.52 1241.23 1544.94 Q1238.17 1540.33 1238.17 1531.6 Q1238.17 1522.85 1241.23 1518.27 Q1244.31 1513.66 1250.12 1513.66 Z\" fill=\"#000000\" fill-rule=\"nonzero\" fill-opacity=\"1\" /><path clip-path=\"url(#clip930)\" d=\"M1760.61 1544.91 L1768.25 1544.91 L1768.25 1518.55 L1759.94 1520.21 L1759.94 1515.95 L1768.2 1514.29 L1772.88 1514.29 L1772.88 1544.91 L1780.52 1544.91 L1780.52 1548.85 L1760.61 1548.85 L1760.61 1544.91 Z\" fill=\"#000000\" fill-rule=\"nonzero\" fill-opacity=\"1\" /><path clip-path=\"url(#clip930)\" d=\"M2285 1544.91 L2301.31 1544.91 L2301.31 1548.85 L2279.37 1548.85 L2279.37 1544.91 Q2282.03 1542.16 2286.62 1537.53 Q2291.22 1532.88 2292.4 1531.53 Q2294.65 1529.01 2295.53 1527.27 Q2296.43 1525.51 2296.43 1523.82 Q2296.43 1521.07 2294.49 1519.33 Q2292.56 1517.6 2289.46 1517.6 Q2287.26 1517.6 2284.81 1518.36 Q2282.38 1519.13 2279.6 1520.68 L2279.6 1515.95 Q2282.43 1514.82 2284.88 1514.24 Q2287.33 1513.66 2289.37 1513.66 Q2294.74 1513.66 2297.93 1516.35 Q2301.13 1519.03 2301.13 1523.52 Q2301.13 1525.65 2300.32 1527.57 Q2299.53 1529.47 2297.43 1532.07 Q2296.85 1532.74 2293.75 1535.95 Q2290.64 1539.15 2285 1544.91 Z\" fill=\"#000000\" fill-rule=\"nonzero\" fill-opacity=\"1\" /><polyline clip-path=\"url(#clip930)\" style=\"stroke:#000000; stroke-linecap:round; stroke-linejoin:round; stroke-width:4; stroke-opacity:1; fill:none\" points=\"147.478,1486.45 147.478,47.2441 \"/>\n",
       "<polyline clip-path=\"url(#clip930)\" style=\"stroke:#000000; stroke-linecap:round; stroke-linejoin:round; stroke-width:4; stroke-opacity:1; fill:none\" points=\"147.478,1304.46 166.376,1304.46 \"/>\n",
       "<polyline clip-path=\"url(#clip930)\" style=\"stroke:#000000; stroke-linecap:round; stroke-linejoin:round; stroke-width:4; stroke-opacity:1; fill:none\" points=\"147.478,965.026 166.376,965.026 \"/>\n",
       "<polyline clip-path=\"url(#clip930)\" style=\"stroke:#000000; stroke-linecap:round; stroke-linejoin:round; stroke-width:4; stroke-opacity:1; fill:none\" points=\"147.478,625.591 166.376,625.591 \"/>\n",
       "<polyline clip-path=\"url(#clip930)\" style=\"stroke:#000000; stroke-linecap:round; stroke-linejoin:round; stroke-width:4; stroke-opacity:1; fill:none\" points=\"147.478,286.156 166.376,286.156 \"/>\n",
       "<path clip-path=\"url(#clip930)\" d=\"M51.3625 1304.91 L81.0383 1304.91 L81.0383 1308.85 L51.3625 1308.85 L51.3625 1304.91 Z\" fill=\"#000000\" fill-rule=\"nonzero\" fill-opacity=\"1\" /><path clip-path=\"url(#clip930)\" d=\"M95.1586 1317.81 L111.478 1317.81 L111.478 1321.74 L89.5336 1321.74 L89.5336 1317.81 Q92.1956 1315.05 96.7789 1310.42 Q101.385 1305.77 102.566 1304.43 Q104.811 1301.9 105.691 1300.17 Q106.594 1298.41 106.594 1296.72 Q106.594 1293.96 104.649 1292.23 Q102.728 1290.49 99.6261 1290.49 Q97.4271 1290.49 94.9734 1291.26 Q92.5428 1292.02 89.7651 1293.57 L89.7651 1288.85 Q92.5891 1287.71 95.0428 1287.13 Q97.4965 1286.56 99.5335 1286.56 Q104.904 1286.56 108.098 1289.24 Q111.293 1291.93 111.293 1296.42 Q111.293 1298.55 110.483 1300.47 Q109.696 1302.37 107.589 1304.96 Q107.01 1305.63 103.909 1308.85 Q100.807 1312.04 95.1586 1317.81 Z\" fill=\"#000000\" fill-rule=\"nonzero\" fill-opacity=\"1\" /><path clip-path=\"url(#clip930)\" d=\"M50.9921 965.477 L80.6679 965.477 L80.6679 969.413 L50.9921 969.413 L50.9921 965.477 Z\" fill=\"#000000\" fill-rule=\"nonzero\" fill-opacity=\"1\" /><path clip-path=\"url(#clip930)\" d=\"M91.5706 978.371 L99.2095 978.371 L99.2095 952.005 L90.8993 953.672 L90.8993 949.413 L99.1632 947.746 L103.839 947.746 L103.839 978.371 L111.478 978.371 L111.478 982.306 L91.5706 982.306 L91.5706 978.371 Z\" fill=\"#000000\" fill-rule=\"nonzero\" fill-opacity=\"1\" /><path clip-path=\"url(#clip930)\" d=\"M99.5335 611.39 Q95.9224 611.39 94.0937 614.955 Q92.2882 618.496 92.2882 625.626 Q92.2882 632.732 94.0937 636.297 Q95.9224 639.839 99.5335 639.839 Q103.168 639.839 104.973 636.297 Q106.802 632.732 106.802 625.626 Q106.802 618.496 104.973 614.955 Q103.168 611.39 99.5335 611.39 M99.5335 607.686 Q105.344 607.686 108.399 612.293 Q111.478 616.876 111.478 625.626 Q111.478 634.353 108.399 638.959 Q105.344 643.543 99.5335 643.543 Q93.7234 643.543 90.6447 638.959 Q87.5892 634.353 87.5892 625.626 Q87.5892 616.876 90.6447 612.293 Q93.7234 607.686 99.5335 607.686 Z\" fill=\"#000000\" fill-rule=\"nonzero\" fill-opacity=\"1\" /><path clip-path=\"url(#clip930)\" d=\"M91.5706 299.501 L99.2095 299.501 L99.2095 273.136 L90.8993 274.802 L90.8993 270.543 L99.1632 268.876 L103.839 268.876 L103.839 299.501 L111.478 299.501 L111.478 303.436 L91.5706 303.436 L91.5706 299.501 Z\" fill=\"#000000\" fill-rule=\"nonzero\" fill-opacity=\"1\" /><polyline clip-path=\"url(#clip932)\" style=\"stroke:#009af9; stroke-linecap:round; stroke-linejoin:round; stroke-width:4; stroke-opacity:1; fill:none\" points=\"209.891,87.9763 231.369,89.1308 357.164,92.2322 415.683,92.4061 494.121,92.4994 558.936,93.2066 619.206,94.9824 694.866,99.5273 762.734,106.52 801.576,112.021 840.418,118.754 869.452,124.653 898.487,131.338 935.622,141.096 972.757,152.277 1006.65,163.781 1040.54,176.57 1079.12,192.741 1117.7,210.678 1148.27,226.179 1178.85,242.83 1216.84,265.137 1254.84,289.25 1283.93,308.941 1313.03,329.692 1354.05,360.736 1395.07,393.848 1425.72,419.92 1456.37,447.104 1491.23,479.337 1526.09,512.934 1560.61,547.502 1595.14,583.307 1633.12,624.057 1671.1,666.148 1700.11,699.144 1729.12,732.824 1802.34,820.56 1870.06,904.64 1939.91,993.571 2010.7,1085.22 2084.62,1181.63 2142.85,1257.46 2275.46,1427.12 2290.34,1445.72 \"/>\n",
       "<path clip-path=\"url(#clip930)\" d=\"M2006.29 198.898 L2279.25 198.898 L2279.25 95.2176 L2006.29 95.2176  Z\" fill=\"#ffffff\" fill-rule=\"evenodd\" fill-opacity=\"1\"/>\n",
       "<polyline clip-path=\"url(#clip930)\" style=\"stroke:#000000; stroke-linecap:round; stroke-linejoin:round; stroke-width:4; stroke-opacity:1; fill:none\" points=\"2006.29,198.898 2279.25,198.898 2279.25,95.2176 2006.29,95.2176 2006.29,198.898 \"/>\n",
       "<polyline clip-path=\"url(#clip930)\" style=\"stroke:#009af9; stroke-linecap:round; stroke-linejoin:round; stroke-width:4; stroke-opacity:1; fill:none\" points=\"2030.79,147.058 2177.81,147.058 \"/>\n",
       "<path clip-path=\"url(#clip930)\" d=\"M2216.16 166.745 Q2214.35 171.375 2212.64 172.787 Q2210.92 174.199 2208.05 174.199 L2204.65 174.199 L2204.65 170.634 L2207.15 170.634 Q2208.91 170.634 2209.88 169.8 Q2210.85 168.967 2212.04 165.865 L2212.8 163.921 L2202.31 138.412 L2206.83 138.412 L2214.93 158.689 L2223.03 138.412 L2227.54 138.412 L2216.16 166.745 Z\" fill=\"#000000\" fill-rule=\"nonzero\" fill-opacity=\"1\" /><path clip-path=\"url(#clip930)\" d=\"M2234.84 160.402 L2242.48 160.402 L2242.48 134.037 L2234.16 135.703 L2234.16 131.444 L2242.43 129.778 L2247.1 129.778 L2247.1 160.402 L2254.74 160.402 L2254.74 164.338 L2234.84 164.338 L2234.84 160.402 Z\" fill=\"#000000\" fill-rule=\"nonzero\" fill-opacity=\"1\" /></svg>\n"
      ]
     },
     "execution_count": 2,
     "metadata": {},
     "output_type": "execute_result"
    }
   ],
   "source": [
    "# przykładowa funkcja do testów\n",
    "f(x) = cos(x) - x\n",
    "plot(f, -2, 2)"
   ]
  },
  {
   "cell_type": "markdown",
   "metadata": {},
   "source": [
    "Funkcja <i> find_zero</i>  dobiera odpowiedni algorytm w zależności od sposobu wywołania.\n"
   ]
  },
  {
   "cell_type": "markdown",
   "metadata": {},
   "source": [
    "### 1. Metody wykorzytujące  przedział i zmianę znaku"
   ]
  },
  {
   "cell_type": "markdown",
   "metadata": {},
   "source": [
    "#### 1.1 Metoda bisekcji - jesli wywołamy fzero z podaniem  przedziału (tutaj (0,1))"
   ]
  },
  {
   "cell_type": "code",
   "execution_count": 3,
   "metadata": {},
   "outputs": [
    {
     "data": {
      "text/plain": [
       "Results of univariate zero finding:\n",
       "\n",
       "* Converged to: 0.7390851332151607\n",
       "* Algorithm: Bisection()\n",
       "* iterations: 60\n",
       "* function evaluations ≈ 63\n",
       "* stopped as f(x_n) = 0\n",
       "\n",
       "Trace:\n",
       "(a₀, b₀) = ( 1.118751109680031e-154, 1 )\n",
       "(a₁, b₁) = ( 1.0795210693868056e-77, 1 )\n",
       "(a₂, b₂) = ( 3.3060778616876836e-39, 1 )\n",
       "(a₃, b₃) = ( 5.7598240413292423e-20, 1 )\n",
       "(a₄, b₄) = ( 2.4010660126805305e-10, 1 )\n",
       "(a₅, b₅) = ( 1.5497207641601562e-05, 1 )\n",
       "(a₆, b₆) = ( 0.003936767578125, 1 )\n",
       "(a₇, b₇) = ( 0.062744140625, 1 )\n",
       "(a₈, b₈) = ( 0.25048828125, 1 )\n",
       "(a₉, b₉) = ( 0.50048828125, 1 )\n",
       "(a₁₀, b₁₀) = ( 0.50048828125, 0.750244140625 )\n",
       "(a₁₁, b₁₁) = ( 0.6253662109375, 0.750244140625 )\n",
       "(a₁₂, b₁₂) = ( 0.68780517578125, 0.750244140625 )\n",
       "(a₁₃, b₁₃) = ( 0.719024658203125, 0.750244140625 )\n",
       "(a₁₄, b₁₄) = ( 0.7346343994140625, 0.750244140625 )\n",
       "(a₁₅, b₁₅) = ( 0.7346343994140625, 0.74243927001953125 )\n",
       "(a₁₆, b₁₆) = ( 0.73853683471679688, 0.74243927001953125 )\n",
       "(a₁₇, b₁₇) = ( 0.73853683471679688, 0.74048805236816406 )\n",
       "(a₁₈, b₁₈) = ( 0.73853683471679688, 0.73951244354248047 )\n",
       "(a₁₉, b₁₉) = ( 0.73902463912963867, 0.73951244354248047 )\n",
       "(a₂₀, b₂₀) = ( 0.73902463912963867, 0.73926854133605957 )\n",
       "(a₂₁, b₂₁) = ( 0.73902463912963867, 0.73914659023284912 )\n",
       "(a₂₂, b₂₂) = ( 0.73902463912963867, 0.7390856146812439 )\n",
       "(a₂₃, b₂₃) = ( 0.73905512690544128, 0.7390856146812439 )\n",
       "(a₂₄, b₂₄) = ( 0.73907037079334259, 0.7390856146812439 )\n",
       "(a₂₅, b₂₅) = ( 0.73907799273729324, 0.7390856146812439 )\n",
       "(a₂₆, b₂₆) = ( 0.73908180370926857, 0.7390856146812439 )\n",
       "(a₂₇, b₂₇) = ( 0.73908370919525623, 0.7390856146812439 )\n",
       "(a₂₈, b₂₈) = ( 0.73908466193825006, 0.7390856146812439 )\n",
       "(a₂₉, b₂₉) = ( 0.73908466193825006, 0.73908513830974698 )\n",
       "(a₃₀, b₃₀) = ( 0.73908490012399852, 0.73908513830974698 )\n",
       "(a₃₁, b₃₁) = ( 0.73908501921687275, 0.73908513830974698 )\n",
       "(a₃₂, b₃₂) = ( 0.73908507876330987, 0.73908513830974698 )\n",
       "(a₃₃, b₃₃) = ( 0.73908510853652842, 0.73908513830974698 )\n",
       "(a₃₄, b₃₄) = ( 0.7390851234231377, 0.73908513830974698 )\n",
       "(a₃₅, b₃₅) = ( 0.73908513086644234, 0.73908513830974698 )\n",
       "(a₃₆, b₃₆) = ( 0.73908513086644234, 0.73908513458809466 )\n",
       "(a₃₇, b₃₇) = ( 0.7390851327272685, 0.73908513458809466 )\n",
       "(a₃₈, b₃₈) = ( 0.7390851327272685, 0.73908513365768158 )\n",
       "(a₃₉, b₃₉) = ( 0.73908513319247504, 0.73908513365768158 )\n",
       "(a₄₀, b₄₀) = ( 0.73908513319247504, 0.73908513342507831 )\n",
       "(a₄₁, b₄₁) = ( 0.73908513319247504, 0.73908513330877668 )\n",
       "(a₄₂, b₄₂) = ( 0.73908513319247504, 0.73908513325062586 )\n",
       "(a₄₃, b₄₃) = ( 0.73908513319247504, 0.73908513322155045 )\n",
       "(a₄₄, b₄₄) = ( 0.73908513320701275, 0.73908513322155045 )\n",
       "(a₄₅, b₄₅) = ( 0.7390851332142816, 0.73908513322155045 )\n",
       "(a₄₆, b₄₆) = ( 0.7390851332142816, 0.73908513321791602 )\n",
       "(a₄₇, b₄₇) = ( 0.7390851332142816, 0.73908513321609881 )\n",
       "(a₄₈, b₄₈) = ( 0.7390851332142816, 0.7390851332151902 )\n",
       "(a₄₉, b₄₉) = ( 0.7390851332147359, 0.7390851332151902 )\n",
       "(a₅₀, b₅₀) = ( 0.73908513321496305, 0.7390851332151902 )\n",
       "(a₅₁, b₅₁) = ( 0.73908513321507663, 0.7390851332151902 )\n",
       "(a₅₂, b₅₂) = ( 0.73908513321513336, 0.7390851332151902 )\n",
       "(a₅₃, b₅₃) = ( 0.73908513321513336, 0.73908513321516178 )\n",
       "(a₅₄, b₅₄) = ( 0.73908513321514757, 0.73908513321516178 )\n",
       "(a₅₅, b₅₅) = ( 0.73908513321515468, 0.73908513321516178 )\n",
       "(a₅₆, b₅₆) = ( 0.73908513321515823, 0.73908513321516178 )\n",
       "(a₅₇, b₅₇) = ( 0.73908513321516001, 0.73908513321516178 )\n",
       "(a₅₈, b₅₈) = ( 0.73908513321516001, 0.73908513321516089 )\n",
       "(a₅₉, b₅₉) = ( 0.73908513321516045, 0.73908513321516089 )\n",
       "(a₆₀, b₆₀) = ( 0.73908513321516067, 0.73908513321516089 )\n",
       "\n"
      ]
     },
     "metadata": {},
     "output_type": "display_data"
    },
    {
     "data": {
      "text/plain": [
       "0.7390851332151607"
      ]
     },
     "execution_count": 3,
     "metadata": {},
     "output_type": "execute_result"
    }
   ],
   "source": [
    "x = find_zero(f, (0, 1),verbose=true)  "
   ]
  },
  {
   "cell_type": "code",
   "execution_count": 4,
   "metadata": {},
   "outputs": [
    {
     "data": {
      "text/plain": [
       "Results of univariate zero finding:\n",
       "\n",
       "* Converged to: 0.7390851332151607\n",
       "* Algorithm: Bisection()\n",
       "* iterations: 60\n",
       "* function evaluations ≈ 63\n",
       "* stopped as f(x_n) = 0\n",
       "\n",
       "Trace:\n",
       "(a₀, b₀) = ( 1.118751109680031e-154, 1 )\n",
       "(a₁, b₁) = ( 1.0795210693868056e-77, 1 )\n",
       "(a₂, b₂) = ( 3.3060778616876836e-39, 1 )\n",
       "(a₃, b₃) = ( 5.7598240413292423e-20, 1 )\n",
       "(a₄, b₄) = ( 2.4010660126805305e-10, 1 )\n",
       "(a₅, b₅) = ( 1.5497207641601562e-05, 1 )\n",
       "(a₆, b₆) = ( 0.003936767578125, 1 )\n",
       "(a₇, b₇) = ( 0.062744140625, 1 )\n",
       "(a₈, b₈) = ( 0.25048828125, 1 )\n",
       "(a₉, b₉) = ( 0.50048828125, 1 )\n",
       "(a₁₀, b₁₀) = ( 0.50048828125, 0.750244140625 )\n",
       "(a₁₁, b₁₁) = ( 0.6253662109375, 0.750244140625 )\n",
       "(a₁₂, b₁₂) = ( 0.68780517578125, 0.750244140625 )\n",
       "(a₁₃, b₁₃) = ( 0.719024658203125, 0.750244140625 )\n",
       "(a₁₄, b₁₄) = ( 0.7346343994140625, 0.750244140625 )\n",
       "(a₁₅, b₁₅) = ( 0.7346343994140625, 0.74243927001953125 )\n",
       "(a₁₆, b₁₆) = ( 0.73853683471679688, 0.74243927001953125 )\n",
       "(a₁₇, b₁₇) = ( 0.73853683471679688, 0.74048805236816406 )\n",
       "(a₁₈, b₁₈) = ( 0.73853683471679688, 0.73951244354248047 )\n",
       "(a₁₉, b₁₉) = ( 0.73902463912963867, 0.73951244354248047 )\n",
       "(a₂₀, b₂₀) = ( 0.73902463912963867, 0.73926854133605957 )\n",
       "(a₂₁, b₂₁) = ( 0.73902463912963867, 0.73914659023284912 )\n",
       "(a₂₂, b₂₂) = ( 0.73902463912963867, 0.7390856146812439 )\n",
       "(a₂₃, b₂₃) = ( 0.73905512690544128, 0.7390856146812439 )\n",
       "(a₂₄, b₂₄) = ( 0.73907037079334259, 0.7390856146812439 )\n",
       "(a₂₅, b₂₅) = ( 0.73907799273729324, 0.7390856146812439 )\n",
       "(a₂₆, b₂₆) = ( 0.73908180370926857, 0.7390856146812439 )\n",
       "(a₂₇, b₂₇) = ( 0.73908370919525623, 0.7390856146812439 )\n",
       "(a₂₈, b₂₈) = ( 0.73908466193825006, 0.7390856146812439 )\n",
       "(a₂₉, b₂₉) = ( 0.73908466193825006, 0.73908513830974698 )\n",
       "(a₃₀, b₃₀) = ( 0.73908490012399852, 0.73908513830974698 )\n",
       "(a₃₁, b₃₁) = ( 0.73908501921687275, 0.73908513830974698 )\n",
       "(a₃₂, b₃₂) = ( 0.73908507876330987, 0.73908513830974698 )\n",
       "(a₃₃, b₃₃) = ( 0.73908510853652842, 0.73908513830974698 )\n",
       "(a₃₄, b₃₄) = ( 0.7390851234231377, 0.73908513830974698 )\n",
       "(a₃₅, b₃₅) = ( 0.73908513086644234, 0.73908513830974698 )\n",
       "(a₃₆, b₃₆) = ( 0.73908513086644234, 0.73908513458809466 )\n",
       "(a₃₇, b₃₇) = ( 0.7390851327272685, 0.73908513458809466 )\n",
       "(a₃₈, b₃₈) = ( 0.7390851327272685, 0.73908513365768158 )\n",
       "(a₃₉, b₃₉) = ( 0.73908513319247504, 0.73908513365768158 )\n",
       "(a₄₀, b₄₀) = ( 0.73908513319247504, 0.73908513342507831 )\n",
       "(a₄₁, b₄₁) = ( 0.73908513319247504, 0.73908513330877668 )\n",
       "(a₄₂, b₄₂) = ( 0.73908513319247504, 0.73908513325062586 )\n",
       "(a₄₃, b₄₃) = ( 0.73908513319247504, 0.73908513322155045 )\n",
       "(a₄₄, b₄₄) = ( 0.73908513320701275, 0.73908513322155045 )\n",
       "(a₄₅, b₄₅) = ( 0.7390851332142816, 0.73908513322155045 )\n",
       "(a₄₆, b₄₆) = ( 0.7390851332142816, 0.73908513321791602 )\n",
       "(a₄₇, b₄₇) = ( 0.7390851332142816, 0.73908513321609881 )\n",
       "(a₄₈, b₄₈) = ( 0.7390851332142816, 0.7390851332151902 )\n",
       "(a₄₉, b₄₉) = ( 0.7390851332147359, 0.7390851332151902 )\n",
       "(a₅₀, b₅₀) = ( 0.73908513321496305, 0.7390851332151902 )\n",
       "(a₅₁, b₅₁) = ( 0.73908513321507663, 0.7390851332151902 )\n",
       "(a₅₂, b₅₂) = ( 0.73908513321513336, 0.7390851332151902 )\n",
       "(a₅₃, b₅₃) = ( 0.73908513321513336, 0.73908513321516178 )\n",
       "(a₅₄, b₅₄) = ( 0.73908513321514757, 0.73908513321516178 )\n",
       "(a₅₅, b₅₅) = ( 0.73908513321515468, 0.73908513321516178 )\n",
       "(a₅₆, b₅₆) = ( 0.73908513321515823, 0.73908513321516178 )\n",
       "(a₅₇, b₅₇) = ( 0.73908513321516001, 0.73908513321516178 )\n",
       "(a₅₈, b₅₈) = ( 0.73908513321516001, 0.73908513321516089 )\n",
       "(a₅₉, b₅₉) = ( 0.73908513321516045, 0.73908513321516089 )\n",
       "(a₆₀, b₆₀) = ( 0.73908513321516067, 0.73908513321516089 )\n",
       "\n"
      ]
     },
     "metadata": {},
     "output_type": "display_data"
    },
    {
     "data": {
      "text/plain": [
       "0.7390851332151607"
      ]
     },
     "execution_count": 4,
     "metadata": {},
     "output_type": "execute_result"
    }
   ],
   "source": [
    "# mozna wyspecyfikowac wprost\n",
    "x = find_zero(f, (0, 1), Bisection(),verbose=true)  "
   ]
  },
  {
   "cell_type": "markdown",
   "metadata": {},
   "source": [
    "#### Sprawdzanie, czy znaleźliśmy 0"
   ]
  },
  {
   "cell_type": "code",
   "execution_count": 5,
   "metadata": {},
   "outputs": [
    {
     "data": {
      "text/plain": [
       "true"
      ]
     },
     "execution_count": 5,
     "metadata": {},
     "output_type": "execute_result"
    }
   ],
   "source": [
    "#Sprawdzamy czy znaleźliśmy 0\n",
    "iszero(f(x))"
   ]
  },
  {
   "cell_type": "code",
   "execution_count": 6,
   "metadata": {},
   "outputs": [
    {
     "data": {
      "text/plain": [
       "-1.0"
      ]
     },
     "execution_count": 6,
     "metadata": {},
     "output_type": "execute_result"
    }
   ],
   "source": [
    "# można też sprawdzić, czy funkcja zmienia znak dla lewego i prawego sąsiada miejsca zerowego.\n",
    "sign(f(prevfloat(x))) *sign(f(nextfloat(x))) "
   ]
  },
  {
   "cell_type": "code",
   "execution_count": 7,
   "metadata": {},
   "outputs": [
    {
     "data": {
      "text/plain": [
       "(3.141592653589793, 1.2246467991473532e-16)"
      ]
     },
     "execution_count": 7,
     "metadata": {},
     "output_type": "execute_result"
    }
   ],
   "source": [
    "# czasem algorytm znajduje najlepsze przybliżenie 0\n",
    "g(x) = sin(x)\n",
    "x = find_zero(g, (pi/2, 3pi/2))\n",
    "x, g(x)"
   ]
  },
  {
   "cell_type": "code",
   "execution_count": 8,
   "metadata": {},
   "outputs": [
    {
     "data": {
      "text/plain": [
       "false"
      ]
     },
     "execution_count": 8,
     "metadata": {},
     "output_type": "execute_result"
    }
   ],
   "source": [
    "# nie jest to dokładnie 0, ale ...\n",
    "iszero(g(x))"
   ]
  },
  {
   "cell_type": "code",
   "execution_count": 9,
   "metadata": {},
   "outputs": [
    {
     "data": {
      "text/plain": [
       "true"
      ]
     },
     "execution_count": 9,
     "metadata": {},
     "output_type": "execute_result"
    }
   ],
   "source": [
    "#... najbliższy lewy albo prawy sąsiad leży po przeciwnej stronie osi x  niż nasze 0.\n",
    "g(prevfloat(x)) * g(x) < 0.0 || g(x) * g(nextfloat(x)) < 0.0"
   ]
  },
  {
   "cell_type": "markdown",
   "metadata": {},
   "source": [
    "#### 1.2 Metoda regula falsi"
   ]
  },
  {
   "cell_type": "code",
   "execution_count": 10,
   "metadata": {},
   "outputs": [
    {
     "data": {
      "text/plain": [
       "Results of univariate zero finding:\n",
       "\n",
       "* Converged to: 0.7390851332151607\n",
       "* Algorithm: FalsePosition{:anderson_bjork}()\n",
       "* iterations: 6\n",
       "* function evaluations ≈ 8\n",
       "* stopped as f(x_n) = 0\n",
       "\n",
       "Trace:\n",
       "x₁ = 1.118751109680031e-154,\t fx₁ = 1\n",
       "x₂ = 1,\t fx₂ = -0.45969769413186023\n",
       "x₃ = 0.68507335732604513,\t fx₃ = 0.089299276481859979\n",
       "x₄ = 0.73629899761365403,\t fx₄ = 0.0046600390381426049\n",
       "x₅ = 0.7390895164441823,\t fx₅ = -7.3358319172545094e-06\n",
       "x₆ = 0.73908513051468816,\t fx₆ = 4.5195431841449363e-09\n",
       "x₇ = 0.73908513321515801,\t fx₇ = 4.4408920985006262e-15\n",
       "x₈ = 0.73908513321516067,\t fx₈ = 0\n",
       "\n"
      ]
     },
     "metadata": {},
     "output_type": "display_data"
    },
    {
     "data": {
      "text/plain": [
       "0.7390851332151607"
      ]
     },
     "execution_count": 10,
     "metadata": {},
     "output_type": "execute_result"
    }
   ],
   "source": [
    "find_zero(f, (0, 1), FalsePosition(), verbose=true) "
   ]
  },
  {
   "cell_type": "code",
   "execution_count": 11,
   "metadata": {},
   "outputs": [
    {
     "data": {
      "text/plain": [
       "Results of univariate zero finding:\n",
       "\n",
       "* Converged to: 0.7390851332151607\n",
       "* Algorithm: FalsePosition{12}()\n",
       "* iterations: 6\n",
       "* function evaluations ≈ 8\n",
       "* stopped as f(x_n) = 0\n",
       "\n",
       "Trace:\n",
       "x₁ = 1.118751109680031e-154,\t fx₁ = 1\n",
       "x₂ = 1,\t fx₂ = -0.45969769413186023\n",
       "x₃ = 0.68507335732604513,\t fx₃ = 0.089299276481859979\n",
       "x₄ = 0.73629899761365403,\t fx₄ = 0.0046600390381426049\n",
       "x₅ = 0.7390895164441823,\t fx₅ = -7.3358319172545094e-06\n",
       "x₆ = 0.73908513051468816,\t fx₆ = 4.5195431841449363e-09\n",
       "x₇ = 0.73908513321515801,\t fx₇ = 4.4408920985006262e-15\n",
       "x₈ = 0.73908513321516067,\t fx₈ = 0\n",
       "\n"
      ]
     },
     "metadata": {},
     "output_type": "display_data"
    },
    {
     "data": {
      "text/plain": [
       "0.7390851332151607"
      ]
     },
     "execution_count": 11,
     "metadata": {},
     "output_type": "execute_result"
    }
   ],
   "source": [
    "# do dyspozycji mamy  12 wersji algorytmu regula falsi\n",
    "find_zero(f, (0, 1), FalsePosition(12), verbose=true)"
   ]
  },
  {
   "cell_type": "markdown",
   "metadata": {},
   "source": [
    "### 2. Metody korzystające z pochodnych\n",
    "\n",
    "#### 2.1 Metoda Newtona, potrzebuje punktu startowego i wykorzystuje pochodną funkcji."
   ]
  },
  {
   "cell_type": "markdown",
   "metadata": {},
   "source": [
    "Aby użyć Metody Newtona, można skorzystać z pakietu ForwardDiff, aby obliczyć pochodną funkcji. "
   ]
  },
  {
   "cell_type": "code",
   "execution_count": 12,
   "metadata": {},
   "outputs": [
    {
     "data": {
      "text/plain": [
       "D (generic function with 1 method)"
      ]
     },
     "execution_count": 12,
     "metadata": {},
     "output_type": "execute_result"
    }
   ],
   "source": [
    "# definujemy D(f) obliczającą  funkcje pochodną \n",
    "D(f) = x->ForwardDiff.derivative(f, float(x))"
   ]
  },
  {
   "cell_type": "code",
   "execution_count": 13,
   "metadata": {},
   "outputs": [
    {
     "data": {
      "image/png": "[encoded data removed]",
      "image/svg+xml": [
       "<?xml version=\"1.0\" encoding=\"utf-8\"?>\n",
       "<svg xmlns=\"http://www.w3.org/2000/svg\" xmlns:xlink=\"http://www.w3.org/1999/xlink\" width=\"600\" height=\"400\" viewBox=\"0 0 2400 1600\">\n",
       "<defs>\n",
       "  <clipPath id=\"clip970\">\n",
       "    <rect x=\"0\" y=\"0\" width=\"2400\" height=\"1600\"/>\n",
       "  </clipPath>\n",
       "</defs>\n",
       "<path clip-path=\"url(#clip970)\" d=\"M0 1600 L2400 1600 L2400 0 L0 0  Z\" fill=\"#ffffff\" fill-rule=\"evenodd\" fill-opacity=\"1\"/>\n",
       "<defs>\n",
       "  <clipPath id=\"clip971\">\n",
       "    <rect x=\"480\" y=\"0\" width=\"1681\" height=\"1600\"/>\n",
       "  </clipPath>\n",
       "</defs>\n",
       "<path clip-path=\"url(#clip970)\" d=\"M193.936 1486.45 L2352.76 1486.45 L2352.76 47.2441 L193.936 47.2441  Z\" fill=\"#ffffff\" fill-rule=\"evenodd\" fill-opacity=\"1\"/>\n",
       "<defs>\n",
       "  <clipPath id=\"clip972\">\n",
       "    <rect x=\"193\" y=\"47\" width=\"2160\" height=\"1440\"/>\n",
       "  </clipPath>\n",
       "</defs>\n",
       "<polyline clip-path=\"url(#clip972)\" style=\"stroke:#000000; stroke-linecap:round; stroke-linejoin:round; stroke-width:2; stroke-opacity:0.1; fill:none\" points=\"255.035,1486.45 255.035,47.2441 \"/>\n",
       "<polyline clip-path=\"url(#clip972)\" style=\"stroke:#000000; stroke-linecap:round; stroke-linejoin:round; stroke-width:2; stroke-opacity:0.1; fill:none\" points=\"764.19,1486.45 764.19,47.2441 \"/>\n",
       "<polyline clip-path=\"url(#clip972)\" style=\"stroke:#000000; stroke-linecap:round; stroke-linejoin:round; stroke-width:2; stroke-opacity:0.1; fill:none\" points=\"1273.35,1486.45 1273.35,47.2441 \"/>\n",
       "<polyline clip-path=\"url(#clip972)\" style=\"stroke:#000000; stroke-linecap:round; stroke-linejoin:round; stroke-width:2; stroke-opacity:0.1; fill:none\" points=\"1782.5,1486.45 1782.5,47.2441 \"/>\n",
       "<polyline clip-path=\"url(#clip972)\" style=\"stroke:#000000; stroke-linecap:round; stroke-linejoin:round; stroke-width:2; stroke-opacity:0.1; fill:none\" points=\"2291.66,1486.45 2291.66,47.2441 \"/>\n",
       "<polyline clip-path=\"url(#clip972)\" style=\"stroke:#000000; stroke-linecap:round; stroke-linejoin:round; stroke-width:2; stroke-opacity:0.1; fill:none\" points=\"193.936,1446.1 2352.76,1446.1 \"/>\n",
       "<polyline clip-path=\"url(#clip972)\" style=\"stroke:#000000; stroke-linecap:round; stroke-linejoin:round; stroke-width:2; stroke-opacity:0.1; fill:none\" points=\"193.936,1106.57 2352.76,1106.57 \"/>\n",
       "<polyline clip-path=\"url(#clip972)\" style=\"stroke:#000000; stroke-linecap:round; stroke-linejoin:round; stroke-width:2; stroke-opacity:0.1; fill:none\" points=\"193.936,767.035 2352.76,767.035 \"/>\n",
       "<polyline clip-path=\"url(#clip972)\" style=\"stroke:#000000; stroke-linecap:round; stroke-linejoin:round; stroke-width:2; stroke-opacity:0.1; fill:none\" points=\"193.936,427.503 2352.76,427.503 \"/>\n",
       "<polyline clip-path=\"url(#clip972)\" style=\"stroke:#000000; stroke-linecap:round; stroke-linejoin:round; stroke-width:2; stroke-opacity:0.1; fill:none\" points=\"193.936,87.9704 2352.76,87.9704 \"/>\n",
       "<polyline clip-path=\"url(#clip970)\" style=\"stroke:#000000; stroke-linecap:round; stroke-linejoin:round; stroke-width:4; stroke-opacity:1; fill:none\" points=\"193.936,1486.45 2352.76,1486.45 \"/>\n",
       "<polyline clip-path=\"url(#clip970)\" style=\"stroke:#000000; stroke-linecap:round; stroke-linejoin:round; stroke-width:4; stroke-opacity:1; fill:none\" points=\"255.035,1486.45 255.035,1467.55 \"/>\n",
       "<polyline clip-path=\"url(#clip970)\" style=\"stroke:#000000; stroke-linecap:round; stroke-linejoin:round; stroke-width:4; stroke-opacity:1; fill:none\" points=\"764.19,1486.45 764.19,1467.55 \"/>\n",
       "<polyline clip-path=\"url(#clip970)\" style=\"stroke:#000000; stroke-linecap:round; stroke-linejoin:round; stroke-width:4; stroke-opacity:1; fill:none\" points=\"1273.35,1486.45 1273.35,1467.55 \"/>\n",
       "<polyline clip-path=\"url(#clip970)\" style=\"stroke:#000000; stroke-linecap:round; stroke-linejoin:round; stroke-width:4; stroke-opacity:1; fill:none\" points=\"1782.5,1486.45 1782.5,1467.55 \"/>\n",
       "<polyline clip-path=\"url(#clip970)\" style=\"stroke:#000000; stroke-linecap:round; stroke-linejoin:round; stroke-width:4; stroke-opacity:1; fill:none\" points=\"2291.66,1486.45 2291.66,1467.55 \"/>\n",
       "<path clip-path=\"url(#clip970)\" d=\"M224.977 1532.02 L254.653 1532.02 L254.653 1535.95 L224.977 1535.95 L224.977 1532.02 Z\" fill=\"#000000\" fill-rule=\"nonzero\" fill-opacity=\"1\" /><path clip-path=\"url(#clip970)\" d=\"M268.773 1544.91 L285.092 1544.91 L285.092 1548.85 L263.148 1548.85 L263.148 1544.91 Q265.81 1542.16 270.393 1537.53 Q275 1532.88 276.18 1531.53 Q278.426 1529.01 279.305 1527.27 Q280.208 1525.51 280.208 1523.82 Q280.208 1521.07 278.264 1519.33 Q276.342 1517.6 273.241 1517.6 Q271.042 1517.6 268.588 1518.36 Q266.157 1519.13 263.38 1520.68 L263.38 1515.95 Q266.204 1514.82 268.657 1514.24 Q271.111 1513.66 273.148 1513.66 Q278.518 1513.66 281.713 1516.35 Q284.907 1519.03 284.907 1523.52 Q284.907 1525.65 284.097 1527.57 Q283.31 1529.47 281.204 1532.07 Q280.625 1532.74 277.523 1535.95 Q274.421 1539.15 268.773 1544.91 Z\" fill=\"#000000\" fill-rule=\"nonzero\" fill-opacity=\"1\" /><path clip-path=\"url(#clip970)\" d=\"M733.947 1532.02 L763.623 1532.02 L763.623 1535.95 L733.947 1535.95 L733.947 1532.02 Z\" fill=\"#000000\" fill-rule=\"nonzero\" fill-opacity=\"1\" /><path clip-path=\"url(#clip970)\" d=\"M774.526 1544.91 L782.165 1544.91 L782.165 1518.55 L773.855 1520.21 L773.855 1515.95 L782.118 1514.29 L786.794 1514.29 L786.794 1544.91 L794.433 1544.91 L794.433 1548.85 L774.526 1548.85 L774.526 1544.91 Z\" fill=\"#000000\" fill-rule=\"nonzero\" fill-opacity=\"1\" /><path clip-path=\"url(#clip970)\" d=\"M1273.35 1517.37 Q1269.73 1517.37 1267.91 1520.93 Q1266.1 1524.47 1266.1 1531.6 Q1266.1 1538.71 1267.91 1542.27 Q1269.73 1545.82 1273.35 1545.82 Q1276.98 1545.82 1278.79 1542.27 Q1280.61 1538.71 1280.61 1531.6 Q1280.61 1524.47 1278.79 1520.93 Q1276.98 1517.37 1273.35 1517.37 M1273.35 1513.66 Q1279.16 1513.66 1282.21 1518.27 Q1285.29 1522.85 1285.29 1531.6 Q1285.29 1540.33 1282.21 1544.94 Q1279.16 1549.52 1273.35 1549.52 Q1267.54 1549.52 1264.46 1544.94 Q1261.4 1540.33 1261.4 1531.6 Q1261.4 1522.85 1264.46 1518.27 Q1267.54 1513.66 1273.35 1513.66 Z\" fill=\"#000000\" fill-rule=\"nonzero\" fill-opacity=\"1\" /><path clip-path=\"url(#clip970)\" d=\"M1772.88 1544.91 L1780.52 1544.91 L1780.52 1518.55 L1772.21 1520.21 L1772.21 1515.95 L1780.48 1514.29 L1785.15 1514.29 L1785.15 1544.91 L1792.79 1544.91 L1792.79 1548.85 L1772.88 1548.85 L1772.88 1544.91 Z\" fill=\"#000000\" fill-rule=\"nonzero\" fill-opacity=\"1\" /><path clip-path=\"url(#clip970)\" d=\"M2286.31 1544.91 L2302.63 1544.91 L2302.63 1548.85 L2280.69 1548.85 L2280.69 1544.91 Q2283.35 1542.16 2287.93 1537.53 Q2292.54 1532.88 2293.72 1531.53 Q2295.96 1529.01 2296.84 1527.27 Q2297.75 1525.51 2297.75 1523.82 Q2297.75 1521.07 2295.8 1519.33 Q2293.88 1517.6 2290.78 1517.6 Q2288.58 1517.6 2286.12 1518.36 Q2283.69 1519.13 2280.92 1520.68 L2280.92 1515.95 Q2283.74 1514.82 2286.19 1514.24 Q2288.65 1513.66 2290.69 1513.66 Q2296.06 1513.66 2299.25 1516.35 Q2302.44 1519.03 2302.44 1523.52 Q2302.44 1525.65 2301.63 1527.57 Q2300.85 1529.47 2298.74 1532.07 Q2298.16 1532.74 2295.06 1535.95 Q2291.96 1539.15 2286.31 1544.91 Z\" fill=\"#000000\" fill-rule=\"nonzero\" fill-opacity=\"1\" /><polyline clip-path=\"url(#clip970)\" style=\"stroke:#000000; stroke-linecap:round; stroke-linejoin:round; stroke-width:4; stroke-opacity:1; fill:none\" points=\"193.936,1486.45 193.936,47.2441 \"/>\n",
       "<polyline clip-path=\"url(#clip970)\" style=\"stroke:#000000; stroke-linecap:round; stroke-linejoin:round; stroke-width:4; stroke-opacity:1; fill:none\" points=\"193.936,1446.1 212.834,1446.1 \"/>\n",
       "<polyline clip-path=\"url(#clip970)\" style=\"stroke:#000000; stroke-linecap:round; stroke-linejoin:round; stroke-width:4; stroke-opacity:1; fill:none\" points=\"193.936,1106.57 212.834,1106.57 \"/>\n",
       "<polyline clip-path=\"url(#clip970)\" style=\"stroke:#000000; stroke-linecap:round; stroke-linejoin:round; stroke-width:4; stroke-opacity:1; fill:none\" points=\"193.936,767.035 212.834,767.035 \"/>\n",
       "<polyline clip-path=\"url(#clip970)\" style=\"stroke:#000000; stroke-linecap:round; stroke-linejoin:round; stroke-width:4; stroke-opacity:1; fill:none\" points=\"193.936,427.503 212.834,427.503 \"/>\n",
       "<polyline clip-path=\"url(#clip970)\" style=\"stroke:#000000; stroke-linecap:round; stroke-linejoin:round; stroke-width:4; stroke-opacity:1; fill:none\" points=\"193.936,87.9704 212.834,87.9704 \"/>\n",
       "<path clip-path=\"url(#clip970)\" d=\"M50.9921 1446.55 L80.6679 1446.55 L80.6679 1450.49 L50.9921 1450.49 L50.9921 1446.55 Z\" fill=\"#000000\" fill-rule=\"nonzero\" fill-opacity=\"1\" /><path clip-path=\"url(#clip970)\" d=\"M94.7882 1459.45 L111.108 1459.45 L111.108 1463.38 L89.1632 1463.38 L89.1632 1459.45 Q91.8252 1456.69 96.4085 1452.06 Q101.015 1447.41 102.196 1446.07 Q104.441 1443.54 105.321 1441.81 Q106.223 1440.05 106.223 1438.36 Q106.223 1435.6 104.279 1433.87 Q102.358 1432.13 99.2558 1432.13 Q97.0567 1432.13 94.603 1432.89 Q92.1725 1433.66 89.3947 1435.21 L89.3947 1430.49 Q92.2188 1429.35 94.6724 1428.77 Q97.1261 1428.2 99.1632 1428.2 Q104.534 1428.2 107.728 1430.88 Q110.922 1433.57 110.922 1438.06 Q110.922 1440.19 110.112 1442.11 Q109.325 1444.01 107.219 1446.6 Q106.64 1447.27 103.538 1450.49 Q100.436 1453.68 94.7882 1459.45 Z\" fill=\"#000000\" fill-rule=\"nonzero\" fill-opacity=\"1\" /><path clip-path=\"url(#clip970)\" d=\"M120.922 1457.5 L125.807 1457.5 L125.807 1463.38 L120.922 1463.38 L120.922 1457.5 Z\" fill=\"#000000\" fill-rule=\"nonzero\" fill-opacity=\"1\" /><path clip-path=\"url(#clip970)\" d=\"M145.992 1431.9 Q142.381 1431.9 140.552 1435.46 Q138.746 1439.01 138.746 1446.14 Q138.746 1453.24 140.552 1456.81 Q142.381 1460.35 145.992 1460.35 Q149.626 1460.35 151.431 1456.81 Q153.26 1453.24 153.26 1446.14 Q153.26 1439.01 151.431 1435.46 Q149.626 1431.9 145.992 1431.9 M145.992 1428.2 Q151.802 1428.2 154.857 1432.8 Q157.936 1437.39 157.936 1446.14 Q157.936 1454.86 154.857 1459.47 Q151.802 1464.05 145.992 1464.05 Q140.181 1464.05 137.103 1459.47 Q134.047 1454.86 134.047 1446.14 Q134.047 1437.39 137.103 1432.8 Q140.181 1428.2 145.992 1428.2 Z\" fill=\"#000000\" fill-rule=\"nonzero\" fill-opacity=\"1\" /><path clip-path=\"url(#clip970)\" d=\"M51.9875 1107.02 L81.6633 1107.02 L81.6633 1110.95 L51.9875 1110.95 L51.9875 1107.02 Z\" fill=\"#000000\" fill-rule=\"nonzero\" fill-opacity=\"1\" /><path clip-path=\"url(#clip970)\" d=\"M92.566 1119.91 L100.205 1119.91 L100.205 1093.55 L91.8947 1095.21 L91.8947 1090.95 L100.159 1089.29 L104.834 1089.29 L104.834 1119.91 L112.473 1119.91 L112.473 1123.85 L92.566 1123.85 L92.566 1119.91 Z\" fill=\"#000000\" fill-rule=\"nonzero\" fill-opacity=\"1\" /><path clip-path=\"url(#clip970)\" d=\"M121.918 1117.97 L126.802 1117.97 L126.802 1123.85 L121.918 1123.85 L121.918 1117.97 Z\" fill=\"#000000\" fill-rule=\"nonzero\" fill-opacity=\"1\" /><path clip-path=\"url(#clip970)\" d=\"M137.033 1089.29 L155.39 1089.29 L155.39 1093.22 L141.316 1093.22 L141.316 1101.7 Q142.334 1101.35 143.353 1101.19 Q144.371 1101 145.39 1101 Q151.177 1101 154.556 1104.17 Q157.936 1107.34 157.936 1112.76 Q157.936 1118.34 154.464 1121.44 Q150.992 1124.52 144.672 1124.52 Q142.496 1124.52 140.228 1124.15 Q137.982 1123.78 135.575 1123.04 L135.575 1118.34 Q137.658 1119.47 139.881 1120.03 Q142.103 1120.58 144.58 1120.58 Q148.584 1120.58 150.922 1118.48 Q153.26 1116.37 153.26 1112.76 Q153.26 1109.15 150.922 1107.04 Q148.584 1104.94 144.58 1104.94 Q142.705 1104.94 140.83 1105.35 Q138.978 1105.77 137.033 1106.65 L137.033 1089.29 Z\" fill=\"#000000\" fill-rule=\"nonzero\" fill-opacity=\"1\" /><path clip-path=\"url(#clip970)\" d=\"M50.9921 767.487 L80.6679 767.487 L80.6679 771.422 L50.9921 771.422 L50.9921 767.487 Z\" fill=\"#000000\" fill-rule=\"nonzero\" fill-opacity=\"1\" /><path clip-path=\"url(#clip970)\" d=\"M91.5706 780.38 L99.2095 780.38 L99.2095 754.015 L90.8993 755.681 L90.8993 751.422 L99.1632 749.755 L103.839 749.755 L103.839 780.38 L111.478 780.38 L111.478 784.315 L91.5706 784.315 L91.5706 780.38 Z\" fill=\"#000000\" fill-rule=\"nonzero\" fill-opacity=\"1\" /><path clip-path=\"url(#clip970)\" d=\"M120.922 778.436 L125.807 778.436 L125.807 784.315 L120.922 784.315 L120.922 778.436 Z\" fill=\"#000000\" fill-rule=\"nonzero\" fill-opacity=\"1\" /><path clip-path=\"url(#clip970)\" d=\"M145.992 752.834 Q142.381 752.834 140.552 756.399 Q138.746 759.941 138.746 767.07 Q138.746 774.177 140.552 777.741 Q142.381 781.283 145.992 781.283 Q149.626 781.283 151.431 777.741 Q153.26 774.177 153.26 767.07 Q153.26 759.941 151.431 756.399 Q149.626 752.834 145.992 752.834 M145.992 749.13 Q151.802 749.13 154.857 753.737 Q157.936 758.32 157.936 767.07 Q157.936 775.797 154.857 780.403 Q151.802 784.987 145.992 784.987 Q140.181 784.987 137.103 780.403 Q134.047 775.797 134.047 767.07 Q134.047 758.32 137.103 753.737 Q140.181 749.13 145.992 749.13 Z\" fill=\"#000000\" fill-rule=\"nonzero\" fill-opacity=\"1\" /><path clip-path=\"url(#clip970)\" d=\"M51.9875 427.954 L81.6633 427.954 L81.6633 431.889 L51.9875 431.889 L51.9875 427.954 Z\" fill=\"#000000\" fill-rule=\"nonzero\" fill-opacity=\"1\" /><path clip-path=\"url(#clip970)\" d=\"M101.756 413.302 Q98.1447 413.302 96.316 416.866 Q94.5104 420.408 94.5104 427.538 Q94.5104 434.644 96.316 438.209 Q98.1447 441.751 101.756 441.751 Q105.39 441.751 107.196 438.209 Q109.024 434.644 109.024 427.538 Q109.024 420.408 107.196 416.866 Q105.39 413.302 101.756 413.302 M101.756 409.598 Q107.566 409.598 110.621 414.204 Q113.7 418.788 113.7 427.538 Q113.7 436.264 110.621 440.871 Q107.566 445.454 101.756 445.454 Q95.9456 445.454 92.8669 440.871 Q89.8114 436.264 89.8114 427.538 Q89.8114 418.788 92.8669 414.204 Q95.9456 409.598 101.756 409.598 Z\" fill=\"#000000\" fill-rule=\"nonzero\" fill-opacity=\"1\" /><path clip-path=\"url(#clip970)\" d=\"M121.918 438.903 L126.802 438.903 L126.802 444.783 L121.918 444.783 L121.918 438.903 Z\" fill=\"#000000\" fill-rule=\"nonzero\" fill-opacity=\"1\" /><path clip-path=\"url(#clip970)\" d=\"M137.033 410.223 L155.39 410.223 L155.39 414.158 L141.316 414.158 L141.316 422.63 Q142.334 422.283 143.353 422.121 Q144.371 421.936 145.39 421.936 Q151.177 421.936 154.556 425.107 Q157.936 428.278 157.936 433.695 Q157.936 439.274 154.464 442.376 Q150.992 445.454 144.672 445.454 Q142.496 445.454 140.228 445.084 Q137.982 444.713 135.575 443.973 L135.575 439.274 Q137.658 440.408 139.881 440.964 Q142.103 441.519 144.58 441.519 Q148.584 441.519 150.922 439.413 Q153.26 437.306 153.26 433.695 Q153.26 430.084 150.922 427.977 Q148.584 425.871 144.58 425.871 Q142.705 425.871 140.83 426.288 Q138.978 426.704 137.033 427.584 L137.033 410.223 Z\" fill=\"#000000\" fill-rule=\"nonzero\" fill-opacity=\"1\" /><path clip-path=\"url(#clip970)\" d=\"M100.76 73.7691 Q97.1493 73.7691 95.3206 77.3339 Q93.515 80.8755 93.515 88.0051 Q93.515 95.1115 95.3206 98.6763 Q97.1493 102.218 100.76 102.218 Q104.395 102.218 106.2 98.6763 Q108.029 95.1115 108.029 88.0051 Q108.029 80.8755 106.2 77.3339 Q104.395 73.7691 100.76 73.7691 M100.76 70.0654 Q106.571 70.0654 109.626 74.6718 Q112.705 79.2552 112.705 88.0051 Q112.705 96.7319 109.626 101.338 Q106.571 105.922 100.76 105.922 Q94.9502 105.922 91.8715 101.338 Q88.816 96.7319 88.816 88.0051 Q88.816 79.2552 91.8715 74.6718 Q94.9502 70.0654 100.76 70.0654 Z\" fill=\"#000000\" fill-rule=\"nonzero\" fill-opacity=\"1\" /><path clip-path=\"url(#clip970)\" d=\"M120.922 99.3708 L125.807 99.3708 L125.807 105.25 L120.922 105.25 L120.922 99.3708 Z\" fill=\"#000000\" fill-rule=\"nonzero\" fill-opacity=\"1\" /><path clip-path=\"url(#clip970)\" d=\"M145.992 73.7691 Q142.381 73.7691 140.552 77.3339 Q138.746 80.8755 138.746 88.0051 Q138.746 95.1115 140.552 98.6763 Q142.381 102.218 145.992 102.218 Q149.626 102.218 151.431 98.6763 Q153.26 95.1115 153.26 88.0051 Q153.26 80.8755 151.431 77.3339 Q149.626 73.7691 145.992 73.7691 M145.992 70.0654 Q151.802 70.0654 154.857 74.6718 Q157.936 79.2552 157.936 88.0051 Q157.936 96.7319 154.857 101.338 Q151.802 105.922 145.992 105.922 Q140.181 105.922 137.103 101.338 Q134.047 96.7319 134.047 88.0051 Q134.047 79.2552 137.103 74.6718 Q140.181 70.0654 145.992 70.0654 Z\" fill=\"#000000\" fill-rule=\"nonzero\" fill-opacity=\"1\" /><polyline clip-path=\"url(#clip972)\" style=\"stroke:#009af9; stroke-linecap:round; stroke-linejoin:round; stroke-width:4; stroke-opacity:1; fill:none\" points=\"255.035,149.563 260.291,146.679 265.547,143.861 270.804,141.109 276.06,138.424 306.846,124.051 337.632,112.028 368.418,102.399 399.205,95.1998 427.848,90.7061 456.491,88.3522 475.688,87.9763 494.884,88.5655 514.081,90.1191 533.277,92.6347 565.001,98.8908 596.726,107.74 626.226,118.266 655.726,130.969 692.76,149.931 729.793,172.157 746.402,183.155 763.012,194.774 779.621,207.002 796.231,219.826 834.254,251.353 872.278,285.754 900.701,313.233 929.123,342.125 965.476,380.995 1001.83,421.833 1035.01,460.646 1068.19,500.76 1143.71,596.006 1203.58,674.285 1277.97,773.197 1334.93,848.97 1415.24,953.841 1475.26,1029.32 1509.38,1070.68 1543.51,1110.68 1577.3,1148.77 1611.1,1185.18 1648.28,1223.1 1685.46,1258.6 1713.86,1283.95 1742.26,1307.7 1778.1,1335.26 1813.94,1360 1847.09,1380.27 1880.23,1397.95 1897.33,1406.02 1914.42,1413.38 1931.51,1420 1948.6,1425.89 1983.25,1435.55 2017.91,1442.11 2054.09,1445.63 2090.27,1445.72 2118.77,1443.37 2147.27,1438.91 2179.73,1431.27 2212.18,1420.93 2244.64,1407.94 2277.09,1392.34 2280.73,1390.43 2284.37,1388.49 2288.02,1386.51 2291.66,1384.51 \"/>\n",
       "<path clip-path=\"url(#clip970)\" d=\"M2012.48 198.898 L2280.8 198.898 L2280.8 95.2176 L2012.48 95.2176  Z\" fill=\"#ffffff\" fill-rule=\"evenodd\" fill-opacity=\"1\"/>\n",
       "<polyline clip-path=\"url(#clip970)\" style=\"stroke:#000000; stroke-linecap:round; stroke-linejoin:round; stroke-width:4; stroke-opacity:1; fill:none\" points=\"2012.48,198.898 2280.8,198.898 2280.8,95.2176 2012.48,95.2176 2012.48,198.898 \"/>\n",
       "<polyline clip-path=\"url(#clip970)\" style=\"stroke:#009af9; stroke-linecap:round; stroke-linejoin:round; stroke-width:4; stroke-opacity:1; fill:none\" points=\"2036.47,147.058 2180.39,147.058 \"/>\n",
       "<path clip-path=\"url(#clip970)\" d=\"M2218.22 166.745 Q2216.42 171.375 2214.7 172.787 Q2212.99 174.199 2210.12 174.199 L2206.72 174.199 L2206.72 170.634 L2209.22 170.634 Q2210.98 170.634 2211.95 169.8 Q2212.92 168.967 2214.1 165.865 L2214.86 163.921 L2204.38 138.412 L2208.89 138.412 L2216.99 158.689 L2225.1 138.412 L2229.61 138.412 L2218.22 166.745 Z\" fill=\"#000000\" fill-rule=\"nonzero\" fill-opacity=\"1\" /><path clip-path=\"url(#clip970)\" d=\"M2236.9 160.402 L2244.54 160.402 L2244.54 134.037 L2236.23 135.703 L2236.23 131.444 L2244.49 129.778 L2249.17 129.778 L2249.17 160.402 L2256.81 160.402 L2256.81 164.338 L2236.9 164.338 L2236.9 160.402 Z\" fill=\"#000000\" fill-rule=\"nonzero\" fill-opacity=\"1\" /></svg>\n"
      ],
      "text/html": [
       "<?xml version=\"1.0\" encoding=\"utf-8\"?>\n",
       "<svg xmlns=\"http://www.w3.org/2000/svg\" xmlns:xlink=\"http://www.w3.org/1999/xlink\" width=\"600\" height=\"400\" viewBox=\"0 0 2400 1600\">\n",
       "<defs>\n",
       "  <clipPath id=\"clip020\">\n",
       "    <rect x=\"0\" y=\"0\" width=\"2400\" height=\"1600\"/>\n",
       "  </clipPath>\n",
       "</defs>\n",
       "<path clip-path=\"url(#clip020)\" d=\"M0 1600 L2400 1600 L2400 0 L0 0  Z\" fill=\"#ffffff\" fill-rule=\"evenodd\" fill-opacity=\"1\"/>\n",
       "<defs>\n",
       "  <clipPath id=\"clip021\">\n",
       "    <rect x=\"480\" y=\"0\" width=\"1681\" height=\"1600\"/>\n",
       "  </clipPath>\n",
       "</defs>\n",
       "<path clip-path=\"url(#clip020)\" d=\"M193.936 1486.45 L2352.76 1486.45 L2352.76 47.2441 L193.936 47.2441  Z\" fill=\"#ffffff\" fill-rule=\"evenodd\" fill-opacity=\"1\"/>\n",
       "<defs>\n",
       "  <clipPath id=\"clip022\">\n",
       "    <rect x=\"193\" y=\"47\" width=\"2160\" height=\"1440\"/>\n",
       "  </clipPath>\n",
       "</defs>\n",
       "<polyline clip-path=\"url(#clip022)\" style=\"stroke:#000000; stroke-linecap:round; stroke-linejoin:round; stroke-width:2; stroke-opacity:0.1; fill:none\" points=\"255.035,1486.45 255.035,47.2441 \"/>\n",
       "<polyline clip-path=\"url(#clip022)\" style=\"stroke:#000000; stroke-linecap:round; stroke-linejoin:round; stroke-width:2; stroke-opacity:0.1; fill:none\" points=\"764.19,1486.45 764.19,47.2441 \"/>\n",
       "<polyline clip-path=\"url(#clip022)\" style=\"stroke:#000000; stroke-linecap:round; stroke-linejoin:round; stroke-width:2; stroke-opacity:0.1; fill:none\" points=\"1273.35,1486.45 1273.35,47.2441 \"/>\n",
       "<polyline clip-path=\"url(#clip022)\" style=\"stroke:#000000; stroke-linecap:round; stroke-linejoin:round; stroke-width:2; stroke-opacity:0.1; fill:none\" points=\"1782.5,1486.45 1782.5,47.2441 \"/>\n",
       "<polyline clip-path=\"url(#clip022)\" style=\"stroke:#000000; stroke-linecap:round; stroke-linejoin:round; stroke-width:2; stroke-opacity:0.1; fill:none\" points=\"2291.66,1486.45 2291.66,47.2441 \"/>\n",
       "<polyline clip-path=\"url(#clip022)\" style=\"stroke:#000000; stroke-linecap:round; stroke-linejoin:round; stroke-width:2; stroke-opacity:0.1; fill:none\" points=\"193.936,1446.1 2352.76,1446.1 \"/>\n",
       "<polyline clip-path=\"url(#clip022)\" style=\"stroke:#000000; stroke-linecap:round; stroke-linejoin:round; stroke-width:2; stroke-opacity:0.1; fill:none\" points=\"193.936,1106.57 2352.76,1106.57 \"/>\n",
       "<polyline clip-path=\"url(#clip022)\" style=\"stroke:#000000; stroke-linecap:round; stroke-linejoin:round; stroke-width:2; stroke-opacity:0.1; fill:none\" points=\"193.936,767.035 2352.76,767.035 \"/>\n",
       "<polyline clip-path=\"url(#clip022)\" style=\"stroke:#000000; stroke-linecap:round; stroke-linejoin:round; stroke-width:2; stroke-opacity:0.1; fill:none\" points=\"193.936,427.503 2352.76,427.503 \"/>\n",
       "<polyline clip-path=\"url(#clip022)\" style=\"stroke:#000000; stroke-linecap:round; stroke-linejoin:round; stroke-width:2; stroke-opacity:0.1; fill:none\" points=\"193.936,87.9704 2352.76,87.9704 \"/>\n",
       "<polyline clip-path=\"url(#clip020)\" style=\"stroke:#000000; stroke-linecap:round; stroke-linejoin:round; stroke-width:4; stroke-opacity:1; fill:none\" points=\"193.936,1486.45 2352.76,1486.45 \"/>\n",
       "<polyline clip-path=\"url(#clip020)\" style=\"stroke:#000000; stroke-linecap:round; stroke-linejoin:round; stroke-width:4; stroke-opacity:1; fill:none\" points=\"255.035,1486.45 255.035,1467.55 \"/>\n",
       "<polyline clip-path=\"url(#clip020)\" style=\"stroke:#000000; stroke-linecap:round; stroke-linejoin:round; stroke-width:4; stroke-opacity:1; fill:none\" points=\"764.19,1486.45 764.19,1467.55 \"/>\n",
       "<polyline clip-path=\"url(#clip020)\" style=\"stroke:#000000; stroke-linecap:round; stroke-linejoin:round; stroke-width:4; stroke-opacity:1; fill:none\" points=\"1273.35,1486.45 1273.35,1467.55 \"/>\n",
       "<polyline clip-path=\"url(#clip020)\" style=\"stroke:#000000; stroke-linecap:round; stroke-linejoin:round; stroke-width:4; stroke-opacity:1; fill:none\" points=\"1782.5,1486.45 1782.5,1467.55 \"/>\n",
       "<polyline clip-path=\"url(#clip020)\" style=\"stroke:#000000; stroke-linecap:round; stroke-linejoin:round; stroke-width:4; stroke-opacity:1; fill:none\" points=\"2291.66,1486.45 2291.66,1467.55 \"/>\n",
       "<path clip-path=\"url(#clip020)\" d=\"M224.977 1532.02 L254.653 1532.02 L254.653 1535.95 L224.977 1535.95 L224.977 1532.02 Z\" fill=\"#000000\" fill-rule=\"nonzero\" fill-opacity=\"1\" /><path clip-path=\"url(#clip020)\" d=\"M268.773 1544.91 L285.092 1544.91 L285.092 1548.85 L263.148 1548.85 L263.148 1544.91 Q265.81 1542.16 270.393 1537.53 Q275 1532.88 276.18 1531.53 Q278.426 1529.01 279.305 1527.27 Q280.208 1525.51 280.208 1523.82 Q280.208 1521.07 278.264 1519.33 Q276.342 1517.6 273.241 1517.6 Q271.042 1517.6 268.588 1518.36 Q266.157 1519.13 263.38 1520.68 L263.38 1515.95 Q266.204 1514.82 268.657 1514.24 Q271.111 1513.66 273.148 1513.66 Q278.518 1513.66 281.713 1516.35 Q284.907 1519.03 284.907 1523.52 Q284.907 1525.65 284.097 1527.57 Q283.31 1529.47 281.204 1532.07 Q280.625 1532.74 277.523 1535.95 Q274.421 1539.15 268.773 1544.91 Z\" fill=\"#000000\" fill-rule=\"nonzero\" fill-opacity=\"1\" /><path clip-path=\"url(#clip020)\" d=\"M733.947 1532.02 L763.623 1532.02 L763.623 1535.95 L733.947 1535.95 L733.947 1532.02 Z\" fill=\"#000000\" fill-rule=\"nonzero\" fill-opacity=\"1\" /><path clip-path=\"url(#clip020)\" d=\"M774.526 1544.91 L782.165 1544.91 L782.165 1518.55 L773.855 1520.21 L773.855 1515.95 L782.118 1514.29 L786.794 1514.29 L786.794 1544.91 L794.433 1544.91 L794.433 1548.85 L774.526 1548.85 L774.526 1544.91 Z\" fill=\"#000000\" fill-rule=\"nonzero\" fill-opacity=\"1\" /><path clip-path=\"url(#clip020)\" d=\"M1273.35 1517.37 Q1269.73 1517.37 1267.91 1520.93 Q1266.1 1524.47 1266.1 1531.6 Q1266.1 1538.71 1267.91 1542.27 Q1269.73 1545.82 1273.35 1545.82 Q1276.98 1545.82 1278.79 1542.27 Q1280.61 1538.71 1280.61 1531.6 Q1280.61 1524.47 1278.79 1520.93 Q1276.98 1517.37 1273.35 1517.37 M1273.35 1513.66 Q1279.16 1513.66 1282.21 1518.27 Q1285.29 1522.85 1285.29 1531.6 Q1285.29 1540.33 1282.21 1544.94 Q1279.16 1549.52 1273.35 1549.52 Q1267.54 1549.52 1264.46 1544.94 Q1261.4 1540.33 1261.4 1531.6 Q1261.4 1522.85 1264.46 1518.27 Q1267.54 1513.66 1273.35 1513.66 Z\" fill=\"#000000\" fill-rule=\"nonzero\" fill-opacity=\"1\" /><path clip-path=\"url(#clip020)\" d=\"M1772.88 1544.91 L1780.52 1544.91 L1780.52 1518.55 L1772.21 1520.21 L1772.21 1515.95 L1780.48 1514.29 L1785.15 1514.29 L1785.15 1544.91 L1792.79 1544.91 L1792.79 1548.85 L1772.88 1548.85 L1772.88 1544.91 Z\" fill=\"#000000\" fill-rule=\"nonzero\" fill-opacity=\"1\" /><path clip-path=\"url(#clip020)\" d=\"M2286.31 1544.91 L2302.63 1544.91 L2302.63 1548.85 L2280.69 1548.85 L2280.69 1544.91 Q2283.35 1542.16 2287.93 1537.53 Q2292.54 1532.88 2293.72 1531.53 Q2295.96 1529.01 2296.84 1527.27 Q2297.75 1525.51 2297.75 1523.82 Q2297.75 1521.07 2295.8 1519.33 Q2293.88 1517.6 2290.78 1517.6 Q2288.58 1517.6 2286.12 1518.36 Q2283.69 1519.13 2280.92 1520.68 L2280.92 1515.95 Q2283.74 1514.82 2286.19 1514.24 Q2288.65 1513.66 2290.69 1513.66 Q2296.06 1513.66 2299.25 1516.35 Q2302.44 1519.03 2302.44 1523.52 Q2302.44 1525.65 2301.63 1527.57 Q2300.85 1529.47 2298.74 1532.07 Q2298.16 1532.74 2295.06 1535.95 Q2291.96 1539.15 2286.31 1544.91 Z\" fill=\"#000000\" fill-rule=\"nonzero\" fill-opacity=\"1\" /><polyline clip-path=\"url(#clip020)\" style=\"stroke:#000000; stroke-linecap:round; stroke-linejoin:round; stroke-width:4; stroke-opacity:1; fill:none\" points=\"193.936,1486.45 193.936,47.2441 \"/>\n",
       "<polyline clip-path=\"url(#clip020)\" style=\"stroke:#000000; stroke-linecap:round; stroke-linejoin:round; stroke-width:4; stroke-opacity:1; fill:none\" points=\"193.936,1446.1 212.834,1446.1 \"/>\n",
       "<polyline clip-path=\"url(#clip020)\" style=\"stroke:#000000; stroke-linecap:round; stroke-linejoin:round; stroke-width:4; stroke-opacity:1; fill:none\" points=\"193.936,1106.57 212.834,1106.57 \"/>\n",
       "<polyline clip-path=\"url(#clip020)\" style=\"stroke:#000000; stroke-linecap:round; stroke-linejoin:round; stroke-width:4; stroke-opacity:1; fill:none\" points=\"193.936,767.035 212.834,767.035 \"/>\n",
       "<polyline clip-path=\"url(#clip020)\" style=\"stroke:#000000; stroke-linecap:round; stroke-linejoin:round; stroke-width:4; stroke-opacity:1; fill:none\" points=\"193.936,427.503 212.834,427.503 \"/>\n",
       "<polyline clip-path=\"url(#clip020)\" style=\"stroke:#000000; stroke-linecap:round; stroke-linejoin:round; stroke-width:4; stroke-opacity:1; fill:none\" points=\"193.936,87.9704 212.834,87.9704 \"/>\n",
       "<path clip-path=\"url(#clip020)\" d=\"M50.9921 1446.55 L80.6679 1446.55 L80.6679 1450.49 L50.9921 1450.49 L50.9921 1446.55 Z\" fill=\"#000000\" fill-rule=\"nonzero\" fill-opacity=\"1\" /><path clip-path=\"url(#clip020)\" d=\"M94.7882 1459.45 L111.108 1459.45 L111.108 1463.38 L89.1632 1463.38 L89.1632 1459.45 Q91.8252 1456.69 96.4085 1452.06 Q101.015 1447.41 102.196 1446.07 Q104.441 1443.54 105.321 1441.81 Q106.223 1440.05 106.223 1438.36 Q106.223 1435.6 104.279 1433.87 Q102.358 1432.13 99.2558 1432.13 Q97.0567 1432.13 94.603 1432.89 Q92.1725 1433.66 89.3947 1435.21 L89.3947 1430.49 Q92.2188 1429.35 94.6724 1428.77 Q97.1261 1428.2 99.1632 1428.2 Q104.534 1428.2 107.728 1430.88 Q110.922 1433.57 110.922 1438.06 Q110.922 1440.19 110.112 1442.11 Q109.325 1444.01 107.219 1446.6 Q106.64 1447.27 103.538 1450.49 Q100.436 1453.68 94.7882 1459.45 Z\" fill=\"#000000\" fill-rule=\"nonzero\" fill-opacity=\"1\" /><path clip-path=\"url(#clip020)\" d=\"M120.922 1457.5 L125.807 1457.5 L125.807 1463.38 L120.922 1463.38 L120.922 1457.5 Z\" fill=\"#000000\" fill-rule=\"nonzero\" fill-opacity=\"1\" /><path clip-path=\"url(#clip020)\" d=\"M145.992 1431.9 Q142.381 1431.9 140.552 1435.46 Q138.746 1439.01 138.746 1446.14 Q138.746 1453.24 140.552 1456.81 Q142.381 1460.35 145.992 1460.35 Q149.626 1460.35 151.431 1456.81 Q153.26 1453.24 153.26 1446.14 Q153.26 1439.01 151.431 1435.46 Q149.626 1431.9 145.992 1431.9 M145.992 1428.2 Q151.802 1428.2 154.857 1432.8 Q157.936 1437.39 157.936 1446.14 Q157.936 1454.86 154.857 1459.47 Q151.802 1464.05 145.992 1464.05 Q140.181 1464.05 137.103 1459.47 Q134.047 1454.86 134.047 1446.14 Q134.047 1437.39 137.103 1432.8 Q140.181 1428.2 145.992 1428.2 Z\" fill=\"#000000\" fill-rule=\"nonzero\" fill-opacity=\"1\" /><path clip-path=\"url(#clip020)\" d=\"M51.9875 1107.02 L81.6633 1107.02 L81.6633 1110.95 L51.9875 1110.95 L51.9875 1107.02 Z\" fill=\"#000000\" fill-rule=\"nonzero\" fill-opacity=\"1\" /><path clip-path=\"url(#clip020)\" d=\"M92.566 1119.91 L100.205 1119.91 L100.205 1093.55 L91.8947 1095.21 L91.8947 1090.95 L100.159 1089.29 L104.834 1089.29 L104.834 1119.91 L112.473 1119.91 L112.473 1123.85 L92.566 1123.85 L92.566 1119.91 Z\" fill=\"#000000\" fill-rule=\"nonzero\" fill-opacity=\"1\" /><path clip-path=\"url(#clip020)\" d=\"M121.918 1117.97 L126.802 1117.97 L126.802 1123.85 L121.918 1123.85 L121.918 1117.97 Z\" fill=\"#000000\" fill-rule=\"nonzero\" fill-opacity=\"1\" /><path clip-path=\"url(#clip020)\" d=\"M137.033 1089.29 L155.39 1089.29 L155.39 1093.22 L141.316 1093.22 L141.316 1101.7 Q142.334 1101.35 143.353 1101.19 Q144.371 1101 145.39 1101 Q151.177 1101 154.556 1104.17 Q157.936 1107.34 157.936 1112.76 Q157.936 1118.34 154.464 1121.44 Q150.992 1124.52 144.672 1124.52 Q142.496 1124.52 140.228 1124.15 Q137.982 1123.78 135.575 1123.04 L135.575 1118.34 Q137.658 1119.47 139.881 1120.03 Q142.103 1120.58 144.58 1120.58 Q148.584 1120.58 150.922 1118.48 Q153.26 1116.37 153.26 1112.76 Q153.26 1109.15 150.922 1107.04 Q148.584 1104.94 144.58 1104.94 Q142.705 1104.94 140.83 1105.35 Q138.978 1105.77 137.033 1106.65 L137.033 1089.29 Z\" fill=\"#000000\" fill-rule=\"nonzero\" fill-opacity=\"1\" /><path clip-path=\"url(#clip020)\" d=\"M50.9921 767.487 L80.6679 767.487 L80.6679 771.422 L50.9921 771.422 L50.9921 767.487 Z\" fill=\"#000000\" fill-rule=\"nonzero\" fill-opacity=\"1\" /><path clip-path=\"url(#clip020)\" d=\"M91.5706 780.38 L99.2095 780.38 L99.2095 754.015 L90.8993 755.681 L90.8993 751.422 L99.1632 749.755 L103.839 749.755 L103.839 780.38 L111.478 780.38 L111.478 784.315 L91.5706 784.315 L91.5706 780.38 Z\" fill=\"#000000\" fill-rule=\"nonzero\" fill-opacity=\"1\" /><path clip-path=\"url(#clip020)\" d=\"M120.922 778.436 L125.807 778.436 L125.807 784.315 L120.922 784.315 L120.922 778.436 Z\" fill=\"#000000\" fill-rule=\"nonzero\" fill-opacity=\"1\" /><path clip-path=\"url(#clip020)\" d=\"M145.992 752.834 Q142.381 752.834 140.552 756.399 Q138.746 759.941 138.746 767.07 Q138.746 774.177 140.552 777.741 Q142.381 781.283 145.992 781.283 Q149.626 781.283 151.431 777.741 Q153.26 774.177 153.26 767.07 Q153.26 759.941 151.431 756.399 Q149.626 752.834 145.992 752.834 M145.992 749.13 Q151.802 749.13 154.857 753.737 Q157.936 758.32 157.936 767.07 Q157.936 775.797 154.857 780.403 Q151.802 784.987 145.992 784.987 Q140.181 784.987 137.103 780.403 Q134.047 775.797 134.047 767.07 Q134.047 758.32 137.103 753.737 Q140.181 749.13 145.992 749.13 Z\" fill=\"#000000\" fill-rule=\"nonzero\" fill-opacity=\"1\" /><path clip-path=\"url(#clip020)\" d=\"M51.9875 427.954 L81.6633 427.954 L81.6633 431.889 L51.9875 431.889 L51.9875 427.954 Z\" fill=\"#000000\" fill-rule=\"nonzero\" fill-opacity=\"1\" /><path clip-path=\"url(#clip020)\" d=\"M101.756 413.302 Q98.1447 413.302 96.316 416.866 Q94.5104 420.408 94.5104 427.538 Q94.5104 434.644 96.316 438.209 Q98.1447 441.751 101.756 441.751 Q105.39 441.751 107.196 438.209 Q109.024 434.644 109.024 427.538 Q109.024 420.408 107.196 416.866 Q105.39 413.302 101.756 413.302 M101.756 409.598 Q107.566 409.598 110.621 414.204 Q113.7 418.788 113.7 427.538 Q113.7 436.264 110.621 440.871 Q107.566 445.454 101.756 445.454 Q95.9456 445.454 92.8669 440.871 Q89.8114 436.264 89.8114 427.538 Q89.8114 418.788 92.8669 414.204 Q95.9456 409.598 101.756 409.598 Z\" fill=\"#000000\" fill-rule=\"nonzero\" fill-opacity=\"1\" /><path clip-path=\"url(#clip020)\" d=\"M121.918 438.903 L126.802 438.903 L126.802 444.783 L121.918 444.783 L121.918 438.903 Z\" fill=\"#000000\" fill-rule=\"nonzero\" fill-opacity=\"1\" /><path clip-path=\"url(#clip020)\" d=\"M137.033 410.223 L155.39 410.223 L155.39 414.158 L141.316 414.158 L141.316 422.63 Q142.334 422.283 143.353 422.121 Q144.371 421.936 145.39 421.936 Q151.177 421.936 154.556 425.107 Q157.936 428.278 157.936 433.695 Q157.936 439.274 154.464 442.376 Q150.992 445.454 144.672 445.454 Q142.496 445.454 140.228 445.084 Q137.982 444.713 135.575 443.973 L135.575 439.274 Q137.658 440.408 139.881 440.964 Q142.103 441.519 144.58 441.519 Q148.584 441.519 150.922 439.413 Q153.26 437.306 153.26 433.695 Q153.26 430.084 150.922 427.977 Q148.584 425.871 144.58 425.871 Q142.705 425.871 140.83 426.288 Q138.978 426.704 137.033 427.584 L137.033 410.223 Z\" fill=\"#000000\" fill-rule=\"nonzero\" fill-opacity=\"1\" /><path clip-path=\"url(#clip020)\" d=\"M100.76 73.7691 Q97.1493 73.7691 95.3206 77.3339 Q93.515 80.8755 93.515 88.0051 Q93.515 95.1115 95.3206 98.6763 Q97.1493 102.218 100.76 102.218 Q104.395 102.218 106.2 98.6763 Q108.029 95.1115 108.029 88.0051 Q108.029 80.8755 106.2 77.3339 Q104.395 73.7691 100.76 73.7691 M100.76 70.0654 Q106.571 70.0654 109.626 74.6718 Q112.705 79.2552 112.705 88.0051 Q112.705 96.7319 109.626 101.338 Q106.571 105.922 100.76 105.922 Q94.9502 105.922 91.8715 101.338 Q88.816 96.7319 88.816 88.0051 Q88.816 79.2552 91.8715 74.6718 Q94.9502 70.0654 100.76 70.0654 Z\" fill=\"#000000\" fill-rule=\"nonzero\" fill-opacity=\"1\" /><path clip-path=\"url(#clip020)\" d=\"M120.922 99.3708 L125.807 99.3708 L125.807 105.25 L120.922 105.25 L120.922 99.3708 Z\" fill=\"#000000\" fill-rule=\"nonzero\" fill-opacity=\"1\" /><path clip-path=\"url(#clip020)\" d=\"M145.992 73.7691 Q142.381 73.7691 140.552 77.3339 Q138.746 80.8755 138.746 88.0051 Q138.746 95.1115 140.552 98.6763 Q142.381 102.218 145.992 102.218 Q149.626 102.218 151.431 98.6763 Q153.26 95.1115 153.26 88.0051 Q153.26 80.8755 151.431 77.3339 Q149.626 73.7691 145.992 73.7691 M145.992 70.0654 Q151.802 70.0654 154.857 74.6718 Q157.936 79.2552 157.936 88.0051 Q157.936 96.7319 154.857 101.338 Q151.802 105.922 145.992 105.922 Q140.181 105.922 137.103 101.338 Q134.047 96.7319 134.047 88.0051 Q134.047 79.2552 137.103 74.6718 Q140.181 70.0654 145.992 70.0654 Z\" fill=\"#000000\" fill-rule=\"nonzero\" fill-opacity=\"1\" /><polyline clip-path=\"url(#clip022)\" style=\"stroke:#009af9; stroke-linecap:round; stroke-linejoin:round; stroke-width:4; stroke-opacity:1; fill:none\" points=\"255.035,149.563 260.291,146.679 265.547,143.861 270.804,141.109 276.06,138.424 306.846,124.051 337.632,112.028 368.418,102.399 399.205,95.1998 427.848,90.7061 456.491,88.3522 475.688,87.9763 494.884,88.5655 514.081,90.1191 533.277,92.6347 565.001,98.8908 596.726,107.74 626.226,118.266 655.726,130.969 692.76,149.931 729.793,172.157 746.402,183.155 763.012,194.774 779.621,207.002 796.231,219.826 834.254,251.353 872.278,285.754 900.701,313.233 929.123,342.125 965.476,380.995 1001.83,421.833 1035.01,460.646 1068.19,500.76 1143.71,596.006 1203.58,674.285 1277.97,773.197 1334.93,848.97 1415.24,953.841 1475.26,1029.32 1509.38,1070.68 1543.51,1110.68 1577.3,1148.77 1611.1,1185.18 1648.28,1223.1 1685.46,1258.6 1713.86,1283.95 1742.26,1307.7 1778.1,1335.26 1813.94,1360 1847.09,1380.27 1880.23,1397.95 1897.33,1406.02 1914.42,1413.38 1931.51,1420 1948.6,1425.89 1983.25,1435.55 2017.91,1442.11 2054.09,1445.63 2090.27,1445.72 2118.77,1443.37 2147.27,1438.91 2179.73,1431.27 2212.18,1420.93 2244.64,1407.94 2277.09,1392.34 2280.73,1390.43 2284.37,1388.49 2288.02,1386.51 2291.66,1384.51 \"/>\n",
       "<path clip-path=\"url(#clip020)\" d=\"M2012.48 198.898 L2280.8 198.898 L2280.8 95.2176 L2012.48 95.2176  Z\" fill=\"#ffffff\" fill-rule=\"evenodd\" fill-opacity=\"1\"/>\n",
       "<polyline clip-path=\"url(#clip020)\" style=\"stroke:#000000; stroke-linecap:round; stroke-linejoin:round; stroke-width:4; stroke-opacity:1; fill:none\" points=\"2012.48,198.898 2280.8,198.898 2280.8,95.2176 2012.48,95.2176 2012.48,198.898 \"/>\n",
       "<polyline clip-path=\"url(#clip020)\" style=\"stroke:#009af9; stroke-linecap:round; stroke-linejoin:round; stroke-width:4; stroke-opacity:1; fill:none\" points=\"2036.47,147.058 2180.39,147.058 \"/>\n",
       "<path clip-path=\"url(#clip020)\" d=\"M2218.22 166.745 Q2216.42 171.375 2214.7 172.787 Q2212.99 174.199 2210.12 174.199 L2206.72 174.199 L2206.72 170.634 L2209.22 170.634 Q2210.98 170.634 2211.95 169.8 Q2212.92 168.967 2214.1 165.865 L2214.86 163.921 L2204.38 138.412 L2208.89 138.412 L2216.99 158.689 L2225.1 138.412 L2229.61 138.412 L2218.22 166.745 Z\" fill=\"#000000\" fill-rule=\"nonzero\" fill-opacity=\"1\" /><path clip-path=\"url(#clip020)\" d=\"M2236.9 160.402 L2244.54 160.402 L2244.54 134.037 L2236.23 135.703 L2236.23 131.444 L2244.49 129.778 L2249.17 129.778 L2249.17 160.402 L2256.81 160.402 L2256.81 164.338 L2236.9 164.338 L2236.9 160.402 Z\" fill=\"#000000\" fill-rule=\"nonzero\" fill-opacity=\"1\" /></svg>\n"
      ]
     },
     "execution_count": 13,
     "metadata": {},
     "output_type": "execute_result"
    }
   ],
   "source": [
    "plot(D(f), -2,2)"
   ]
  },
  {
   "cell_type": "code",
   "execution_count": 14,
   "metadata": {},
   "outputs": [
    {
     "data": {
      "text/plain": [
       "Results of univariate zero finding:\n",
       "\n",
       "* Converged to: 0.7390851332151607\n",
       "* Algorithm: Roots.Newton()\n",
       "* iterations: 5\n",
       "* function evaluations ≈ 10\n",
       "* stopped as f(x_n) = 0\n",
       "\n",
       "Trace:\n",
       "x₁ = 0,\t fx₁ = 1\n",
       "x₂ = 1,\t fx₂ = -0.45969769413186023\n",
       "x₃ = 0.75036386784024389,\t fx₃ = -0.018923073822117442\n",
       "x₄ = 0.73911289091136168,\t fx₄ = -4.6455898990771516e-05\n",
       "x₅ = 0.73908513338528403,\t fx₅ = -2.8472058044570758e-10\n",
       "x₆ = 0.73908513321516067,\t fx₆ = 0\n",
       "\n"
      ]
     },
     "metadata": {},
     "output_type": "display_data"
    },
    {
     "data": {
      "text/plain": [
       "0.7390851332151607"
      ]
     },
     "execution_count": 14,
     "metadata": {},
     "output_type": "execute_result"
    }
   ],
   "source": [
    "#wywolanie metody Newtona\n",
    "find_zero((f, D(f)),0, Roots.Newton(),verbose=true)"
   ]
  },
  {
   "cell_type": "markdown",
   "metadata": {},
   "source": [
    "#### 2.2 Metoda Halleya (potrzebuje pierwszej i drugiej pochodnej)"
   ]
  },
  {
   "cell_type": "code",
   "execution_count": 15,
   "metadata": {},
   "outputs": [
    {
     "data": {
      "text/plain": [
       "Results of univariate zero finding:\n",
       "\n",
       "* Converged to: 0.7390851332151606\n",
       "* Algorithm: Roots.Halley()\n",
       "* iterations: 4\n",
       "* function evaluations ≈ 15\n",
       "* stopped as |f(x_n)| ≤ max(δ, |x|⋅ϵ) using δ = atol, ϵ = rtol\n",
       "\n",
       "Trace:\n",
       "x₁ = 0,\t fx₁ = 1\n",
       "x₂ = 0.66666666666666663,\t fx₂ = 0.11922059411028141\n",
       "x₃ = 0.73903926244631024,\t fx₃ = 7.6769092960393692e-05\n",
       "x₄ = 0.73908513321514946,\t fx₄ = 1.865174681370263e-14\n",
       "x₅ = 0.73908513321516056,\t fx₅ = 1.1102230246251565e-16\n",
       "\n"
      ]
     },
     "metadata": {},
     "output_type": "display_data"
    },
    {
     "data": {
      "text/plain": [
       "0.7390851332151606"
      ]
     },
     "execution_count": 15,
     "metadata": {},
     "output_type": "execute_result"
    }
   ],
   "source": [
    "DD(f) = x->ForwardDiff.derivative(D(f), float(x))\n",
    "find_zero((f, D(f), DD(f)), 0.0, Roots.Halley(), verbose=true) "
   ]
  },
  {
   "cell_type": "markdown",
   "metadata": {},
   "source": [
    "### 3. Metody korzystające z przybliżenia pochodnej"
   ]
  },
  {
   "cell_type": "markdown",
   "metadata": {},
   "source": [
    "#### 3.1 Domyślna metoda bazuje na metodzie z <a href=\"http://www.hpl.hp.com/hpjournal/pdfs/IssuePDFs/1979-12.pdf\"> kalkulatorów HP-34</a> , używa metody siecznych\n",
    "oraz metody bazującej na przedziale wg artykułu:\n",
    "\n",
    "<a href=\"http://na.math.kit.edu/alefeld/download/1995_Algorithm_748_Enclosing_Zeros_of_Continuous_Functions.pdf\">G. E. Alefeld, F. A. Potra, and\n",
    "Y. Shi, \"Algorithm 748: enclosing zeros of continuous functions,\" ACM\n",
    "Trans. Math. Softw. 21, 327–344 (1995), DOI: 10.1145/210089.210111. </a>"
   ]
  },
  {
   "cell_type": "code",
   "execution_count": 16,
   "metadata": {},
   "outputs": [
    {
     "data": {
      "text/plain": [
       "Results of univariate zero finding:\n",
       "\n",
       "* Converged to: 0.7390851332151607\n",
       "* Algorithm: Secant(); finished with bracketing method AlefeldPotraShi()\n",
       "* iterations: 4\n",
       "* function evaluations ≈ 10\n",
       "* stopped as x_n ≈ x_{n-1} using atol=xatol, rtol=xrtol\n",
       "* Note: Used bracketing method AlefeldPotraShi() on  [0.0,0.9999969722835389]\n",
       "\n",
       "Trace:\n",
       "x₁ = 6.0554544523933395e-06,\t fx₁ = 0.99999394452721335\n",
       "x₂ = 0,\t fx₂ = 1\n",
       "x₃ = 0.9999969722835389,\t fx₃ = -0.4596921186823234\n",
       "(a₃, b₃) = ( 0, 0.9999969722835389 )\n",
       "(a₄, b₄) = ( 0.68507389982090516, 0.9999969722835389 )\n",
       "(a₅, b₅) = ( 0.73908449070788018, 0.739085775539707 )\n",
       "(a₆, b₆) = ( 0.73908513321516056, 0.73908513321516078 )\n",
       "\n"
      ]
     },
     "metadata": {},
     "output_type": "display_data"
    },
    {
     "data": {
      "text/plain": [
       "0.7390851332151607"
      ]
     },
     "execution_count": 16,
     "metadata": {},
     "output_type": "execute_result"
    }
   ],
   "source": [
    "x = find_zero(f, 0,   verbose=true)"
   ]
  },
  {
   "cell_type": "markdown",
   "metadata": {},
   "source": [
    "Metody find_zero dla wyzszych rzędów to wariacje metody Newtona, które nie korzystaja z pochodnej, ale ja przyblizają.\n"
   ]
  },
  {
   "cell_type": "markdown",
   "metadata": {},
   "source": [
    "#### 3.2 Metoda siecznych"
   ]
  },
  {
   "cell_type": "code",
   "execution_count": 17,
   "metadata": {},
   "outputs": [
    {
     "data": {
      "text/plain": [
       "Results of univariate zero finding:\n",
       "\n",
       "* Converged to: 0.7390851332151607\n",
       "* Algorithm: Secant()\n",
       "* iterations: 7\n",
       "* function evaluations ≈ 9\n",
       "* stopped as f(x_n) = 0\n",
       "\n",
       "Trace:\n",
       "x₁ = 6.0554544523933395e-06,\t fx₁ = 0.99999394452721335\n",
       "x₂ = 0,\t fx₂ = 1\n",
       "x₃ = 0.9999969722835389,\t fx₃ = -0.4596921186823234\n",
       "x₄ = 0.68507389982090516,\t fx₄ = 0.089298390734211308\n",
       "x₅ = 0.73629905416077657,\t fx₅ = 0.0046599445167858633\n",
       "x₆ = 0.7391193608624661,\t fx₆ = -5.7284235187471388e-05\n",
       "x₇ = 0.73908511212853889,\t fx₇ = 3.5290823707789798e-08\n",
       "x₈ = 0.73908513321500136,\t fx₈ = 2.6656454821250009e-13\n",
       "x₉ = 0.73908513321516067,\t fx₉ = 0\n",
       "\n"
      ]
     },
     "metadata": {},
     "output_type": "display_data"
    },
    {
     "data": {
      "text/plain": [
       "0.7390851332151607"
      ]
     },
     "execution_count": 17,
     "metadata": {},
     "output_type": "execute_result"
    }
   ],
   "source": [
    "# wywołanie find_zero używając punktu startowego (a nie przedziału) \n",
    "# oraz opcji order=1   wykorzystuje metodę siecznych  \n",
    "x = find_zero(f, 0, Order1(),  verbose=true) "
   ]
  },
  {
   "cell_type": "code",
   "execution_count": 18,
   "metadata": {},
   "outputs": [
    {
     "data": {
      "text/plain": [
       "0.7390851332151607"
      ]
     },
     "execution_count": 18,
     "metadata": {},
     "output_type": "execute_result"
    }
   ],
   "source": [
    "# metoda siecznych może być wywołana bezpośrednio \n",
    "# implementacja taka sama jak find_zero(f, 0, Order1()), ale bez\n",
    "# narzutów frameworku oraz mniejsza ilość sprawdzanych warunków zbieżności - szybsza\n",
    "Roots.secant_method(f, 0)"
   ]
  },
  {
   "cell_type": "code",
   "execution_count": 19,
   "metadata": {},
   "outputs": [
    {
     "data": {
      "text/plain": [
       "0.7390851332151607"
      ]
     },
     "execution_count": 19,
     "metadata": {},
     "output_type": "execute_result"
    }
   ],
   "source": [
    "# mozemy podać przedział\n",
    "Roots.secant_method(f, (0,1))"
   ]
  },
  {
   "cell_type": "markdown",
   "metadata": {},
   "source": [
    "#### 3.3 Metoda Steffensena \n",
    "przybliża pochodną poprzez  (f(x + f(x)) - f(x))/f(x)  \n",
    "aby ja wywołać podajemy punkt startowy oraz order 2"
   ]
  },
  {
   "cell_type": "code",
   "execution_count": 20,
   "metadata": {},
   "outputs": [
    {
     "data": {
      "text/plain": [
       "Results of univariate zero finding:\n",
       "\n",
       "* Converged to: 0.7390851332151607\n",
       "* Algorithm: Order2()\n",
       "* iterations: 6\n",
       "* function evaluations ≈ 10\n",
       "* stopped as f(x_n) = 0\n",
       "\n",
       "Trace:\n",
       "x₁ = 6.0554544523933395e-06,\t fx₁ = 0.99999394452721335\n",
       "x₂ = 0,\t fx₂ = 1\n",
       "x₃ = 0.9999969722835389,\t fx₃ = -0.4596921186823234\n",
       "x₄ = 0.68507389982090516,\t fx₄ = 0.089298390734211308\n",
       "x₅ = 0.73629905416077657,\t fx₅ = 0.0046599445167858633\n",
       "x₆ = 0.7391193608624661,\t fx₆ = -5.7284235187471388e-05\n",
       "x₇ = 0.73908513304090806,\t fx₇ = 2.9163127468478933e-10\n",
       "x₈ = 0.73908513321516067,\t fx₈ = 0\n",
       "\n"
      ]
     },
     "metadata": {},
     "output_type": "display_data"
    },
    {
     "data": {
      "text/plain": [
       "0.7390851332151607"
      ]
     },
     "execution_count": 20,
     "metadata": {},
     "output_type": "execute_result"
    }
   ],
   "source": [
    "x = find_zero(f, 0, Order2(), verbose=true) "
   ]
  },
  {
   "cell_type": "code",
   "execution_count": 21,
   "metadata": {},
   "outputs": [
    {
     "data": {
      "text/plain": [
       "Results of univariate zero finding:\n",
       "\n",
       "* Converged to: 0.7390851332151607\n",
       "* Algorithm: Order8()\n",
       "* iterations: 5\n",
       "* function evaluations ≈ 10\n",
       "* stopped as f(x_n) = 0\n",
       "\n",
       "Trace:\n",
       "x₁ = 6.0554544523933395e-06,\t fx₁ = 0.99999394452721335\n",
       "x₂ = 0,\t fx₂ = 1\n",
       "x₃ = 0.9999969722835389,\t fx₃ = -0.4596921186823234\n",
       "x₄ = 0.68507389982090516,\t fx₄ = 0.089298390734211308\n",
       "x₅ = 0.73629905416077657,\t fx₅ = 0.0046599445167858633\n",
       "x₆ = 0.7391193608624661,\t fx₆ = -5.7284235187471388e-05\n",
       "x₇ = 0.73908513321516067,\t fx₇ = 0\n",
       "\n"
      ]
     },
     "metadata": {},
     "output_type": "display_data"
    },
    {
     "data": {
      "text/plain": [
       "0.7390851332151607"
      ]
     },
     "execution_count": 21,
     "metadata": {},
     "output_type": "execute_result"
    }
   ],
   "source": [
    "# mozliwe sa jeszcze rzędy 5, 8 i 16\n",
    "x = find_zero(f, 0, Order8(), verbose=true) "
   ]
  },
  {
   "cell_type": "markdown",
   "metadata": {},
   "source": [
    "Można użyć funkcji fzero do znajdowania nieciagłości"
   ]
  },
  {
   "cell_type": "code",
   "execution_count": 22,
   "metadata": {},
   "outputs": [
    {
     "data": {
      "image/png": "[encoded data removed]",
      "image/svg+xml": [
       "<?xml version=\"1.0\" encoding=\"utf-8\"?>\n",
       "<svg xmlns=\"http://www.w3.org/2000/svg\" xmlns:xlink=\"http://www.w3.org/1999/xlink\" width=\"600\" height=\"400\" viewBox=\"0 0 2400 1600\">\n",
       "<defs>\n",
       "  <clipPath id=\"clip060\">\n",
       "    <rect x=\"0\" y=\"0\" width=\"2400\" height=\"1600\"/>\n",
       "  </clipPath>\n",
       "</defs>\n",
       "<path clip-path=\"url(#clip060)\" d=\"M0 1600 L2400 1600 L2400 0 L0 0  Z\" fill=\"#ffffff\" fill-rule=\"evenodd\" fill-opacity=\"1\"/>\n",
       "<defs>\n",
       "  <clipPath id=\"clip061\">\n",
       "    <rect x=\"480\" y=\"0\" width=\"1681\" height=\"1600\"/>\n",
       "  </clipPath>\n",
       "</defs>\n",
       "<path clip-path=\"url(#clip060)\" d=\"M239.19 1486.45 L2352.76 1486.45 L2352.76 47.2441 L239.19 47.2441  Z\" fill=\"#ffffff\" fill-rule=\"evenodd\" fill-opacity=\"1\"/>\n",
       "<defs>\n",
       "  <clipPath id=\"clip062\">\n",
       "    <rect x=\"239\" y=\"47\" width=\"2115\" height=\"1440\"/>\n",
       "  </clipPath>\n",
       "</defs>\n",
       "<polyline clip-path=\"url(#clip062)\" style=\"stroke:#000000; stroke-linecap:round; stroke-linejoin:round; stroke-width:2; stroke-opacity:0.1; fill:none\" points=\"498.401,1486.45 498.401,47.2441 \"/>\n",
       "<polyline clip-path=\"url(#clip062)\" style=\"stroke:#000000; stroke-linecap:round; stroke-linejoin:round; stroke-width:2; stroke-opacity:0.1; fill:none\" points=\"897.187,1486.45 897.187,47.2441 \"/>\n",
       "<polyline clip-path=\"url(#clip062)\" style=\"stroke:#000000; stroke-linecap:round; stroke-linejoin:round; stroke-width:2; stroke-opacity:0.1; fill:none\" points=\"1295.97,1486.45 1295.97,47.2441 \"/>\n",
       "<polyline clip-path=\"url(#clip062)\" style=\"stroke:#000000; stroke-linecap:round; stroke-linejoin:round; stroke-width:2; stroke-opacity:0.1; fill:none\" points=\"1694.76,1486.45 1694.76,47.2441 \"/>\n",
       "<polyline clip-path=\"url(#clip062)\" style=\"stroke:#000000; stroke-linecap:round; stroke-linejoin:round; stroke-width:2; stroke-opacity:0.1; fill:none\" points=\"2093.55,1486.45 2093.55,47.2441 \"/>\n",
       "<polyline clip-path=\"url(#clip062)\" style=\"stroke:#000000; stroke-linecap:round; stroke-linejoin:round; stroke-width:2; stroke-opacity:0.1; fill:none\" points=\"239.19,1269.22 2352.76,1269.22 \"/>\n",
       "<polyline clip-path=\"url(#clip062)\" style=\"stroke:#000000; stroke-linecap:round; stroke-linejoin:round; stroke-width:2; stroke-opacity:0.1; fill:none\" points=\"239.19,898.292 2352.76,898.292 \"/>\n",
       "<polyline clip-path=\"url(#clip062)\" style=\"stroke:#000000; stroke-linecap:round; stroke-linejoin:round; stroke-width:2; stroke-opacity:0.1; fill:none\" points=\"239.19,527.36 2352.76,527.36 \"/>\n",
       "<polyline clip-path=\"url(#clip062)\" style=\"stroke:#000000; stroke-linecap:round; stroke-linejoin:round; stroke-width:2; stroke-opacity:0.1; fill:none\" points=\"239.19,156.429 2352.76,156.429 \"/>\n",
       "<polyline clip-path=\"url(#clip060)\" style=\"stroke:#000000; stroke-linecap:round; stroke-linejoin:round; stroke-width:4; stroke-opacity:1; fill:none\" points=\"239.19,1486.45 2352.76,1486.45 \"/>\n",
       "<polyline clip-path=\"url(#clip060)\" style=\"stroke:#000000; stroke-linecap:round; stroke-linejoin:round; stroke-width:4; stroke-opacity:1; fill:none\" points=\"498.401,1486.45 498.401,1467.55 \"/>\n",
       "<polyline clip-path=\"url(#clip060)\" style=\"stroke:#000000; stroke-linecap:round; stroke-linejoin:round; stroke-width:4; stroke-opacity:1; fill:none\" points=\"897.187,1486.45 897.187,1467.55 \"/>\n",
       "<polyline clip-path=\"url(#clip060)\" style=\"stroke:#000000; stroke-linecap:round; stroke-linejoin:round; stroke-width:4; stroke-opacity:1; fill:none\" points=\"1295.97,1486.45 1295.97,1467.55 \"/>\n",
       "<polyline clip-path=\"url(#clip060)\" style=\"stroke:#000000; stroke-linecap:round; stroke-linejoin:round; stroke-width:4; stroke-opacity:1; fill:none\" points=\"1694.76,1486.45 1694.76,1467.55 \"/>\n",
       "<polyline clip-path=\"url(#clip060)\" style=\"stroke:#000000; stroke-linecap:round; stroke-linejoin:round; stroke-width:4; stroke-opacity:1; fill:none\" points=\"2093.55,1486.45 2093.55,1467.55 \"/>\n",
       "<path clip-path=\"url(#clip060)\" d=\"M467.302 1532.02 L496.978 1532.02 L496.978 1535.95 L467.302 1535.95 L467.302 1532.02 Z\" fill=\"#000000\" fill-rule=\"nonzero\" fill-opacity=\"1\" /><path clip-path=\"url(#clip060)\" d=\"M519.917 1518.36 L508.112 1536.81 L519.917 1536.81 L519.917 1518.36 M518.69 1514.29 L524.57 1514.29 L524.57 1536.81 L529.501 1536.81 L529.501 1540.7 L524.57 1540.7 L524.57 1548.85 L519.917 1548.85 L519.917 1540.7 L504.316 1540.7 L504.316 1536.19 L518.69 1514.29 Z\" fill=\"#000000\" fill-rule=\"nonzero\" fill-opacity=\"1\" /><path clip-path=\"url(#clip060)\" d=\"M867.129 1532.02 L896.805 1532.02 L896.805 1535.95 L867.129 1535.95 L867.129 1532.02 Z\" fill=\"#000000\" fill-rule=\"nonzero\" fill-opacity=\"1\" /><path clip-path=\"url(#clip060)\" d=\"M910.926 1544.91 L927.245 1544.91 L927.245 1548.85 L905.301 1548.85 L905.301 1544.91 Q907.963 1542.16 912.546 1537.53 Q917.152 1532.88 918.333 1531.53 Q920.578 1529.01 921.458 1527.27 Q922.361 1525.51 922.361 1523.82 Q922.361 1521.07 920.416 1519.33 Q918.495 1517.6 915.393 1517.6 Q913.194 1517.6 910.74 1518.36 Q908.31 1519.13 905.532 1520.68 L905.532 1515.95 Q908.356 1514.82 910.81 1514.24 Q913.264 1513.66 915.301 1513.66 Q920.671 1513.66 923.865 1516.35 Q927.06 1519.03 927.06 1523.52 Q927.06 1525.65 926.25 1527.57 Q925.463 1529.47 923.356 1532.07 Q922.777 1532.74 919.676 1535.95 Q916.574 1539.15 910.926 1544.91 Z\" fill=\"#000000\" fill-rule=\"nonzero\" fill-opacity=\"1\" /><path clip-path=\"url(#clip060)\" d=\"M1295.97 1517.37 Q1292.36 1517.37 1290.53 1520.93 Q1288.73 1524.47 1288.73 1531.6 Q1288.73 1538.71 1290.53 1542.27 Q1292.36 1545.82 1295.97 1545.82 Q1299.61 1545.82 1301.41 1542.27 Q1303.24 1538.71 1303.24 1531.6 Q1303.24 1524.47 1301.41 1520.93 Q1299.61 1517.37 1295.97 1517.37 M1295.97 1513.66 Q1301.78 1513.66 1304.84 1518.27 Q1307.92 1522.85 1307.92 1531.6 Q1307.92 1540.33 1304.84 1544.94 Q1301.78 1549.52 1295.97 1549.52 Q1290.16 1549.52 1287.08 1544.94 Q1284.03 1540.33 1284.03 1531.6 Q1284.03 1522.85 1287.08 1518.27 Q1290.16 1513.66 1295.97 1513.66 Z\" fill=\"#000000\" fill-rule=\"nonzero\" fill-opacity=\"1\" /><path clip-path=\"url(#clip060)\" d=\"M1689.41 1544.91 L1705.73 1544.91 L1705.73 1548.85 L1683.79 1548.85 L1683.79 1544.91 Q1686.45 1542.16 1691.03 1537.53 Q1695.64 1532.88 1696.82 1531.53 Q1699.06 1529.01 1699.94 1527.27 Q1700.85 1525.51 1700.85 1523.82 Q1700.85 1521.07 1698.9 1519.33 Q1696.98 1517.6 1693.88 1517.6 Q1691.68 1517.6 1689.23 1518.36 Q1686.8 1519.13 1684.02 1520.68 L1684.02 1515.95 Q1686.84 1514.82 1689.3 1514.24 Q1691.75 1513.66 1693.79 1513.66 Q1699.16 1513.66 1702.35 1516.35 Q1705.55 1519.03 1705.55 1523.52 Q1705.55 1525.65 1704.74 1527.57 Q1703.95 1529.47 1701.84 1532.07 Q1701.26 1532.74 1698.16 1535.95 Q1695.06 1539.15 1689.41 1544.91 Z\" fill=\"#000000\" fill-rule=\"nonzero\" fill-opacity=\"1\" /><path clip-path=\"url(#clip060)\" d=\"M2096.55 1518.36 L2084.75 1536.81 L2096.55 1536.81 L2096.55 1518.36 M2095.33 1514.29 L2101.21 1514.29 L2101.21 1536.81 L2106.14 1536.81 L2106.14 1540.7 L2101.21 1540.7 L2101.21 1548.85 L2096.55 1548.85 L2096.55 1540.7 L2080.95 1540.7 L2080.95 1536.19 L2095.33 1514.29 Z\" fill=\"#000000\" fill-rule=\"nonzero\" fill-opacity=\"1\" /><polyline clip-path=\"url(#clip060)\" style=\"stroke:#000000; stroke-linecap:round; stroke-linejoin:round; stroke-width:4; stroke-opacity:1; fill:none\" points=\"239.19,1486.45 239.19,47.2441 \"/>\n",
       "<polyline clip-path=\"url(#clip060)\" style=\"stroke:#000000; stroke-linecap:round; stroke-linejoin:round; stroke-width:4; stroke-opacity:1; fill:none\" points=\"239.19,1269.22 258.088,1269.22 \"/>\n",
       "<polyline clip-path=\"url(#clip060)\" style=\"stroke:#000000; stroke-linecap:round; stroke-linejoin:round; stroke-width:4; stroke-opacity:1; fill:none\" points=\"239.19,898.292 258.088,898.292 \"/>\n",
       "<polyline clip-path=\"url(#clip060)\" style=\"stroke:#000000; stroke-linecap:round; stroke-linejoin:round; stroke-width:4; stroke-opacity:1; fill:none\" points=\"239.19,527.36 258.088,527.36 \"/>\n",
       "<polyline clip-path=\"url(#clip060)\" style=\"stroke:#000000; stroke-linecap:round; stroke-linejoin:round; stroke-width:4; stroke-opacity:1; fill:none\" points=\"239.19,156.429 258.088,156.429 \"/>\n",
       "<path clip-path=\"url(#clip060)\" d=\"M50.9921 1269.68 L80.6679 1269.68 L80.6679 1273.61 L50.9921 1273.61 L50.9921 1269.68 Z\" fill=\"#000000\" fill-rule=\"nonzero\" fill-opacity=\"1\" /><path clip-path=\"url(#clip060)\" d=\"M101.339 1267.36 Q98.1909 1267.36 96.3391 1269.51 Q94.5104 1271.67 94.5104 1275.42 Q94.5104 1279.14 96.3391 1281.32 Q98.1909 1283.47 101.339 1283.47 Q104.487 1283.47 106.316 1281.32 Q108.168 1279.14 108.168 1275.42 Q108.168 1271.67 106.316 1269.51 Q104.487 1267.36 101.339 1267.36 M110.621 1252.71 L110.621 1256.97 Q108.862 1256.13 107.057 1255.69 Q105.274 1255.25 103.515 1255.25 Q98.8854 1255.25 96.4317 1258.38 Q94.0012 1261.5 93.6539 1267.82 Q95.0197 1265.81 97.0798 1264.74 Q99.14 1263.66 101.617 1263.66 Q106.825 1263.66 109.834 1266.83 Q112.867 1269.98 112.867 1275.42 Q112.867 1280.74 109.719 1283.96 Q106.571 1287.18 101.339 1287.18 Q95.3437 1287.18 92.1725 1282.59 Q89.0012 1277.99 89.0012 1269.26 Q89.0012 1261.06 92.89 1256.2 Q96.7789 1251.32 103.33 1251.32 Q105.089 1251.32 106.871 1251.67 Q108.677 1252.01 110.621 1252.71 Z\" fill=\"#000000\" fill-rule=\"nonzero\" fill-opacity=\"1\" /><path clip-path=\"url(#clip060)\" d=\"M130.922 1255.02 Q127.311 1255.02 125.482 1258.59 Q123.677 1262.13 123.677 1269.26 Q123.677 1276.36 125.482 1279.93 Q127.311 1283.47 130.922 1283.47 Q134.556 1283.47 136.362 1279.93 Q138.191 1276.36 138.191 1269.26 Q138.191 1262.13 136.362 1258.59 Q134.556 1255.02 130.922 1255.02 M130.922 1251.32 Q136.732 1251.32 139.788 1255.93 Q142.867 1260.51 142.867 1269.26 Q142.867 1277.99 139.788 1282.59 Q136.732 1287.18 130.922 1287.18 Q125.112 1287.18 122.033 1282.59 Q118.978 1277.99 118.978 1269.26 Q118.978 1260.51 122.033 1255.93 Q125.112 1251.32 130.922 1251.32 Z\" fill=\"#000000\" fill-rule=\"nonzero\" fill-opacity=\"1\" /><path clip-path=\"url(#clip060)\" d=\"M161.084 1255.02 Q157.473 1255.02 155.644 1258.59 Q153.839 1262.13 153.839 1269.26 Q153.839 1276.36 155.644 1279.93 Q157.473 1283.47 161.084 1283.47 Q164.718 1283.47 166.524 1279.93 Q168.353 1276.36 168.353 1269.26 Q168.353 1262.13 166.524 1258.59 Q164.718 1255.02 161.084 1255.02 M161.084 1251.32 Q166.894 1251.32 169.95 1255.93 Q173.029 1260.51 173.029 1269.26 Q173.029 1277.99 169.95 1282.59 Q166.894 1287.18 161.084 1287.18 Q155.274 1287.18 152.195 1282.59 Q149.14 1277.99 149.14 1269.26 Q149.14 1260.51 152.195 1255.93 Q155.274 1251.32 161.084 1251.32 Z\" fill=\"#000000\" fill-rule=\"nonzero\" fill-opacity=\"1\" /><path clip-path=\"url(#clip060)\" d=\"M191.246 1255.02 Q187.635 1255.02 185.806 1258.59 Q184.001 1262.13 184.001 1269.26 Q184.001 1276.36 185.806 1279.93 Q187.635 1283.47 191.246 1283.47 Q194.88 1283.47 196.686 1279.93 Q198.514 1276.36 198.514 1269.26 Q198.514 1262.13 196.686 1258.59 Q194.88 1255.02 191.246 1255.02 M191.246 1251.32 Q197.056 1251.32 200.112 1255.93 Q203.19 1260.51 203.19 1269.26 Q203.19 1277.99 200.112 1282.59 Q197.056 1287.18 191.246 1287.18 Q185.436 1287.18 182.357 1282.59 Q179.302 1277.99 179.302 1269.26 Q179.302 1260.51 182.357 1255.93 Q185.436 1251.32 191.246 1251.32 Z\" fill=\"#000000\" fill-rule=\"nonzero\" fill-opacity=\"1\" /><path clip-path=\"url(#clip060)\" d=\"M50.9921 898.743 L80.6679 898.743 L80.6679 902.679 L50.9921 902.679 L50.9921 898.743 Z\" fill=\"#000000\" fill-rule=\"nonzero\" fill-opacity=\"1\" /><path clip-path=\"url(#clip060)\" d=\"M103.608 885.086 L91.8021 903.535 L103.608 903.535 L103.608 885.086 M102.381 881.012 L108.26 881.012 L108.26 903.535 L113.191 903.535 L113.191 907.424 L108.26 907.424 L108.26 915.572 L103.608 915.572 L103.608 907.424 L88.0058 907.424 L88.0058 902.91 L102.381 881.012 Z\" fill=\"#000000\" fill-rule=\"nonzero\" fill-opacity=\"1\" /><path clip-path=\"url(#clip060)\" d=\"M130.922 884.091 Q127.311 884.091 125.482 887.655 Q123.677 891.197 123.677 898.327 Q123.677 905.433 125.482 908.998 Q127.311 912.54 130.922 912.54 Q134.556 912.54 136.362 908.998 Q138.191 905.433 138.191 898.327 Q138.191 891.197 136.362 887.655 Q134.556 884.091 130.922 884.091 M130.922 880.387 Q136.732 880.387 139.788 884.993 Q142.867 889.577 142.867 898.327 Q142.867 907.054 139.788 911.66 Q136.732 916.243 130.922 916.243 Q125.112 916.243 122.033 911.66 Q118.978 907.054 118.978 898.327 Q118.978 889.577 122.033 884.993 Q125.112 880.387 130.922 880.387 Z\" fill=\"#000000\" fill-rule=\"nonzero\" fill-opacity=\"1\" /><path clip-path=\"url(#clip060)\" d=\"M161.084 884.091 Q157.473 884.091 155.644 887.655 Q153.839 891.197 153.839 898.327 Q153.839 905.433 155.644 908.998 Q157.473 912.54 161.084 912.54 Q164.718 912.54 166.524 908.998 Q168.353 905.433 168.353 898.327 Q168.353 891.197 166.524 887.655 Q164.718 884.091 161.084 884.091 M161.084 880.387 Q166.894 880.387 169.95 884.993 Q173.029 889.577 173.029 898.327 Q173.029 907.054 169.95 911.66 Q166.894 916.243 161.084 916.243 Q155.274 916.243 152.195 911.66 Q149.14 907.054 149.14 898.327 Q149.14 889.577 152.195 884.993 Q155.274 880.387 161.084 880.387 Z\" fill=\"#000000\" fill-rule=\"nonzero\" fill-opacity=\"1\" /><path clip-path=\"url(#clip060)\" d=\"M191.246 884.091 Q187.635 884.091 185.806 887.655 Q184.001 891.197 184.001 898.327 Q184.001 905.433 185.806 908.998 Q187.635 912.54 191.246 912.54 Q194.88 912.54 196.686 908.998 Q198.514 905.433 198.514 898.327 Q198.514 891.197 196.686 887.655 Q194.88 884.091 191.246 884.091 M191.246 880.387 Q197.056 880.387 200.112 884.993 Q203.19 889.577 203.19 898.327 Q203.19 907.054 200.112 911.66 Q197.056 916.243 191.246 916.243 Q185.436 916.243 182.357 911.66 Q179.302 907.054 179.302 898.327 Q179.302 889.577 182.357 884.993 Q185.436 880.387 191.246 880.387 Z\" fill=\"#000000\" fill-rule=\"nonzero\" fill-opacity=\"1\" /><path clip-path=\"url(#clip060)\" d=\"M50.9921 527.812 L80.6679 527.812 L80.6679 531.747 L50.9921 531.747 L50.9921 527.812 Z\" fill=\"#000000\" fill-rule=\"nonzero\" fill-opacity=\"1\" /><path clip-path=\"url(#clip060)\" d=\"M94.7882 540.705 L111.108 540.705 L111.108 544.64 L89.1632 544.64 L89.1632 540.705 Q91.8252 537.95 96.4085 533.321 Q101.015 528.668 102.196 527.326 Q104.441 524.802 105.321 523.066 Q106.223 521.307 106.223 519.617 Q106.223 516.863 104.279 515.127 Q102.358 513.39 99.2558 513.39 Q97.0567 513.39 94.603 514.154 Q92.1725 514.918 89.3947 516.469 L89.3947 511.747 Q92.2188 510.613 94.6724 510.034 Q97.1261 509.455 99.1632 509.455 Q104.534 509.455 107.728 512.14 Q110.922 514.826 110.922 519.316 Q110.922 521.446 110.112 523.367 Q109.325 525.265 107.219 527.858 Q106.64 528.529 103.538 531.747 Q100.436 534.941 94.7882 540.705 Z\" fill=\"#000000\" fill-rule=\"nonzero\" fill-opacity=\"1\" /><path clip-path=\"url(#clip060)\" d=\"M130.922 513.159 Q127.311 513.159 125.482 516.724 Q123.677 520.265 123.677 527.395 Q123.677 534.501 125.482 538.066 Q127.311 541.608 130.922 541.608 Q134.556 541.608 136.362 538.066 Q138.191 534.501 138.191 527.395 Q138.191 520.265 136.362 516.724 Q134.556 513.159 130.922 513.159 M130.922 509.455 Q136.732 509.455 139.788 514.062 Q142.867 518.645 142.867 527.395 Q142.867 536.122 139.788 540.728 Q136.732 545.312 130.922 545.312 Q125.112 545.312 122.033 540.728 Q118.978 536.122 118.978 527.395 Q118.978 518.645 122.033 514.062 Q125.112 509.455 130.922 509.455 Z\" fill=\"#000000\" fill-rule=\"nonzero\" fill-opacity=\"1\" /><path clip-path=\"url(#clip060)\" d=\"M161.084 513.159 Q157.473 513.159 155.644 516.724 Q153.839 520.265 153.839 527.395 Q153.839 534.501 155.644 538.066 Q157.473 541.608 161.084 541.608 Q164.718 541.608 166.524 538.066 Q168.353 534.501 168.353 527.395 Q168.353 520.265 166.524 516.724 Q164.718 513.159 161.084 513.159 M161.084 509.455 Q166.894 509.455 169.95 514.062 Q173.029 518.645 173.029 527.395 Q173.029 536.122 169.95 540.728 Q166.894 545.312 161.084 545.312 Q155.274 545.312 152.195 540.728 Q149.14 536.122 149.14 527.395 Q149.14 518.645 152.195 514.062 Q155.274 509.455 161.084 509.455 Z\" fill=\"#000000\" fill-rule=\"nonzero\" fill-opacity=\"1\" /><path clip-path=\"url(#clip060)\" d=\"M191.246 513.159 Q187.635 513.159 185.806 516.724 Q184.001 520.265 184.001 527.395 Q184.001 534.501 185.806 538.066 Q187.635 541.608 191.246 541.608 Q194.88 541.608 196.686 538.066 Q198.514 534.501 198.514 527.395 Q198.514 520.265 196.686 516.724 Q194.88 513.159 191.246 513.159 M191.246 509.455 Q197.056 509.455 200.112 514.062 Q203.19 518.645 203.19 527.395 Q203.19 536.122 200.112 540.728 Q197.056 545.312 191.246 545.312 Q185.436 545.312 182.357 540.728 Q179.302 536.122 179.302 527.395 Q179.302 518.645 182.357 514.062 Q185.436 509.455 191.246 509.455 Z\" fill=\"#000000\" fill-rule=\"nonzero\" fill-opacity=\"1\" /><path clip-path=\"url(#clip060)\" d=\"M191.246 142.227 Q187.635 142.227 185.806 145.792 Q184.001 149.334 184.001 156.463 Q184.001 163.57 185.806 167.134 Q187.635 170.676 191.246 170.676 Q194.88 170.676 196.686 167.134 Q198.514 163.57 198.514 156.463 Q198.514 149.334 196.686 145.792 Q194.88 142.227 191.246 142.227 M191.246 138.524 Q197.056 138.524 200.112 143.13 Q203.19 147.713 203.19 156.463 Q203.19 165.19 200.112 169.796 Q197.056 174.38 191.246 174.38 Q185.436 174.38 182.357 169.796 Q179.302 165.19 179.302 156.463 Q179.302 147.713 182.357 143.13 Q185.436 138.524 191.246 138.524 Z\" fill=\"#000000\" fill-rule=\"nonzero\" fill-opacity=\"1\" /><polyline clip-path=\"url(#clip062)\" style=\"stroke:#009af9; stroke-linecap:round; stroke-linejoin:round; stroke-width:4; stroke-opacity:1; fill:none\" points=\"299.008,156.466 319.593,156.466 440.156,156.472 496.242,156.475 571.418,156.48 633.536,156.484 691.301,156.49 763.814,156.498 828.86,156.508 903.313,156.523 958.966,156.538 994.557,156.551 1030.15,156.568 1062.63,156.587 1095.12,156.613 1113.6,156.631 1132.09,156.654 1150.57,156.683 1169.06,156.72 1183.71,156.758 1198.37,156.807 1205.69,156.838 1213.02,156.874 1220.35,156.918 1227.67,156.97 1236.78,157.053 1245.88,157.167 1250.43,157.241 1254.98,157.331 1259.53,157.443 1264.08,157.588 1268.64,157.781 1273.19,158.051 1277.74,158.457 1282.29,159.131 1284.57,159.67 1286.84,160.478 1289.12,161.823 1291.39,164.503 1291.96,165.648 1292.53,167.172 1293.1,169.299 1293.67,172.477 1294.24,177.737 1294.81,188.13 1295.38,218.31 1295.94,1445.72 1296.51,87.9763 1297.08,123.087 1297.65,134.391 1298.22,139.971 1298.79,143.296 1299.36,145.503 1299.93,147.075 1300.5,148.252 1302.24,150.526 1303.98,151.811 1305.72,152.636 1307.47,153.211 1310.95,153.96 1314.44,154.426 1317.92,154.744 1321.41,154.975 1324.9,155.15 1328.38,155.287 1331.87,155.398 1335.35,155.489 1338.84,155.566 1342.32,155.631 1349.29,155.735 1356.27,155.815 1366.09,155.901 1375.92,155.966 1385.75,156.017 1395.58,156.057 1415.24,156.118 1434.89,156.162 1464.27,156.209 1493.65,156.241 1527.06,156.268 1560.47,156.289 1593.56,156.304 1626.64,156.317 1699.45,156.337 1755.06,156.348 1825.23,156.359 1890.14,156.366 1957.08,156.373 2024.92,156.378 2095.77,156.382 2151.58,156.385 2278.68,156.391 2292.94,156.391 \"/>\n",
       "<path clip-path=\"url(#clip060)\" d=\"M2018.52 1438.47 L2282.3 1438.47 L2282.3 1334.79 L2018.52 1334.79  Z\" fill=\"#ffffff\" fill-rule=\"evenodd\" fill-opacity=\"1\"/>\n",
       "<polyline clip-path=\"url(#clip060)\" style=\"stroke:#000000; stroke-linecap:round; stroke-linejoin:round; stroke-width:4; stroke-opacity:1; fill:none\" points=\"2018.52,1438.47 2282.3,1438.47 2282.3,1334.79 2018.52,1334.79 2018.52,1438.47 \"/>\n",
       "<polyline clip-path=\"url(#clip060)\" style=\"stroke:#009af9; stroke-linecap:round; stroke-linejoin:round; stroke-width:4; stroke-opacity:1; fill:none\" points=\"2042,1386.63 2182.91,1386.63 \"/>\n",
       "<path clip-path=\"url(#clip060)\" d=\"M2220.23 1406.32 Q2218.43 1410.95 2216.71 1412.36 Q2215 1413.78 2212.13 1413.78 L2208.73 1413.78 L2208.73 1410.21 L2211.23 1410.21 Q2212.99 1410.21 2213.96 1409.38 Q2214.93 1408.54 2216.11 1405.44 L2216.88 1403.5 L2206.39 1377.99 L2210.9 1377.99 L2219.01 1398.27 L2227.11 1377.99 L2231.62 1377.99 L2220.23 1406.32 Z\" fill=\"#000000\" fill-rule=\"nonzero\" fill-opacity=\"1\" /><path clip-path=\"url(#clip060)\" d=\"M2238.91 1399.98 L2246.55 1399.98 L2246.55 1373.61 L2238.24 1375.28 L2238.24 1371.02 L2246.5 1369.35 L2251.18 1369.35 L2251.18 1399.98 L2258.82 1399.98 L2258.82 1403.91 L2238.91 1403.91 L2238.91 1399.98 Z\" fill=\"#000000\" fill-rule=\"nonzero\" fill-opacity=\"1\" /></svg>\n"
      ],
      "text/html": [
       "<?xml version=\"1.0\" encoding=\"utf-8\"?>\n",
       "<svg xmlns=\"http://www.w3.org/2000/svg\" xmlns:xlink=\"http://www.w3.org/1999/xlink\" width=\"600\" height=\"400\" viewBox=\"0 0 2400 1600\">\n",
       "<defs>\n",
       "  <clipPath id=\"clip110\">\n",
       "    <rect x=\"0\" y=\"0\" width=\"2400\" height=\"1600\"/>\n",
       "  </clipPath>\n",
       "</defs>\n",
       "<path clip-path=\"url(#clip110)\" d=\"M0 1600 L2400 1600 L2400 0 L0 0  Z\" fill=\"#ffffff\" fill-rule=\"evenodd\" fill-opacity=\"1\"/>\n",
       "<defs>\n",
       "  <clipPath id=\"clip111\">\n",
       "    <rect x=\"480\" y=\"0\" width=\"1681\" height=\"1600\"/>\n",
       "  </clipPath>\n",
       "</defs>\n",
       "<path clip-path=\"url(#clip110)\" d=\"M239.19 1486.45 L2352.76 1486.45 L2352.76 47.2441 L239.19 47.2441  Z\" fill=\"#ffffff\" fill-rule=\"evenodd\" fill-opacity=\"1\"/>\n",
       "<defs>\n",
       "  <clipPath id=\"clip112\">\n",
       "    <rect x=\"239\" y=\"47\" width=\"2115\" height=\"1440\"/>\n",
       "  </clipPath>\n",
       "</defs>\n",
       "<polyline clip-path=\"url(#clip112)\" style=\"stroke:#000000; stroke-linecap:round; stroke-linejoin:round; stroke-width:2; stroke-opacity:0.1; fill:none\" points=\"498.401,1486.45 498.401,47.2441 \"/>\n",
       "<polyline clip-path=\"url(#clip112)\" style=\"stroke:#000000; stroke-linecap:round; stroke-linejoin:round; stroke-width:2; stroke-opacity:0.1; fill:none\" points=\"897.187,1486.45 897.187,47.2441 \"/>\n",
       "<polyline clip-path=\"url(#clip112)\" style=\"stroke:#000000; stroke-linecap:round; stroke-linejoin:round; stroke-width:2; stroke-opacity:0.1; fill:none\" points=\"1295.97,1486.45 1295.97,47.2441 \"/>\n",
       "<polyline clip-path=\"url(#clip112)\" style=\"stroke:#000000; stroke-linecap:round; stroke-linejoin:round; stroke-width:2; stroke-opacity:0.1; fill:none\" points=\"1694.76,1486.45 1694.76,47.2441 \"/>\n",
       "<polyline clip-path=\"url(#clip112)\" style=\"stroke:#000000; stroke-linecap:round; stroke-linejoin:round; stroke-width:2; stroke-opacity:0.1; fill:none\" points=\"2093.55,1486.45 2093.55,47.2441 \"/>\n",
       "<polyline clip-path=\"url(#clip112)\" style=\"stroke:#000000; stroke-linecap:round; stroke-linejoin:round; stroke-width:2; stroke-opacity:0.1; fill:none\" points=\"239.19,1269.22 2352.76,1269.22 \"/>\n",
       "<polyline clip-path=\"url(#clip112)\" style=\"stroke:#000000; stroke-linecap:round; stroke-linejoin:round; stroke-width:2; stroke-opacity:0.1; fill:none\" points=\"239.19,898.292 2352.76,898.292 \"/>\n",
       "<polyline clip-path=\"url(#clip112)\" style=\"stroke:#000000; stroke-linecap:round; stroke-linejoin:round; stroke-width:2; stroke-opacity:0.1; fill:none\" points=\"239.19,527.36 2352.76,527.36 \"/>\n",
       "<polyline clip-path=\"url(#clip112)\" style=\"stroke:#000000; stroke-linecap:round; stroke-linejoin:round; stroke-width:2; stroke-opacity:0.1; fill:none\" points=\"239.19,156.429 2352.76,156.429 \"/>\n",
       "<polyline clip-path=\"url(#clip110)\" style=\"stroke:#000000; stroke-linecap:round; stroke-linejoin:round; stroke-width:4; stroke-opacity:1; fill:none\" points=\"239.19,1486.45 2352.76,1486.45 \"/>\n",
       "<polyline clip-path=\"url(#clip110)\" style=\"stroke:#000000; stroke-linecap:round; stroke-linejoin:round; stroke-width:4; stroke-opacity:1; fill:none\" points=\"498.401,1486.45 498.401,1467.55 \"/>\n",
       "<polyline clip-path=\"url(#clip110)\" style=\"stroke:#000000; stroke-linecap:round; stroke-linejoin:round; stroke-width:4; stroke-opacity:1; fill:none\" points=\"897.187,1486.45 897.187,1467.55 \"/>\n",
       "<polyline clip-path=\"url(#clip110)\" style=\"stroke:#000000; stroke-linecap:round; stroke-linejoin:round; stroke-width:4; stroke-opacity:1; fill:none\" points=\"1295.97,1486.45 1295.97,1467.55 \"/>\n",
       "<polyline clip-path=\"url(#clip110)\" style=\"stroke:#000000; stroke-linecap:round; stroke-linejoin:round; stroke-width:4; stroke-opacity:1; fill:none\" points=\"1694.76,1486.45 1694.76,1467.55 \"/>\n",
       "<polyline clip-path=\"url(#clip110)\" style=\"stroke:#000000; stroke-linecap:round; stroke-linejoin:round; stroke-width:4; stroke-opacity:1; fill:none\" points=\"2093.55,1486.45 2093.55,1467.55 \"/>\n",
       "<path clip-path=\"url(#clip110)\" d=\"M467.302 1532.02 L496.978 1532.02 L496.978 1535.95 L467.302 1535.95 L467.302 1532.02 Z\" fill=\"#000000\" fill-rule=\"nonzero\" fill-opacity=\"1\" /><path clip-path=\"url(#clip110)\" d=\"M519.917 1518.36 L508.112 1536.81 L519.917 1536.81 L519.917 1518.36 M518.69 1514.29 L524.57 1514.29 L524.57 1536.81 L529.501 1536.81 L529.501 1540.7 L524.57 1540.7 L524.57 1548.85 L519.917 1548.85 L519.917 1540.7 L504.316 1540.7 L504.316 1536.19 L518.69 1514.29 Z\" fill=\"#000000\" fill-rule=\"nonzero\" fill-opacity=\"1\" /><path clip-path=\"url(#clip110)\" d=\"M867.129 1532.02 L896.805 1532.02 L896.805 1535.95 L867.129 1535.95 L867.129 1532.02 Z\" fill=\"#000000\" fill-rule=\"nonzero\" fill-opacity=\"1\" /><path clip-path=\"url(#clip110)\" d=\"M910.926 1544.91 L927.245 1544.91 L927.245 1548.85 L905.301 1548.85 L905.301 1544.91 Q907.963 1542.16 912.546 1537.53 Q917.152 1532.88 918.333 1531.53 Q920.578 1529.01 921.458 1527.27 Q922.361 1525.51 922.361 1523.82 Q922.361 1521.07 920.416 1519.33 Q918.495 1517.6 915.393 1517.6 Q913.194 1517.6 910.74 1518.36 Q908.31 1519.13 905.532 1520.68 L905.532 1515.95 Q908.356 1514.82 910.81 1514.24 Q913.264 1513.66 915.301 1513.66 Q920.671 1513.66 923.865 1516.35 Q927.06 1519.03 927.06 1523.52 Q927.06 1525.65 926.25 1527.57 Q925.463 1529.47 923.356 1532.07 Q922.777 1532.74 919.676 1535.95 Q916.574 1539.15 910.926 1544.91 Z\" fill=\"#000000\" fill-rule=\"nonzero\" fill-opacity=\"1\" /><path clip-path=\"url(#clip110)\" d=\"M1295.97 1517.37 Q1292.36 1517.37 1290.53 1520.93 Q1288.73 1524.47 1288.73 1531.6 Q1288.73 1538.71 1290.53 1542.27 Q1292.36 1545.82 1295.97 1545.82 Q1299.61 1545.82 1301.41 1542.27 Q1303.24 1538.71 1303.24 1531.6 Q1303.24 1524.47 1301.41 1520.93 Q1299.61 1517.37 1295.97 1517.37 M1295.97 1513.66 Q1301.78 1513.66 1304.84 1518.27 Q1307.92 1522.85 1307.92 1531.6 Q1307.92 1540.33 1304.84 1544.94 Q1301.78 1549.52 1295.97 1549.52 Q1290.16 1549.52 1287.08 1544.94 Q1284.03 1540.33 1284.03 1531.6 Q1284.03 1522.85 1287.08 1518.27 Q1290.16 1513.66 1295.97 1513.66 Z\" fill=\"#000000\" fill-rule=\"nonzero\" fill-opacity=\"1\" /><path clip-path=\"url(#clip110)\" d=\"M1689.41 1544.91 L1705.73 1544.91 L1705.73 1548.85 L1683.79 1548.85 L1683.79 1544.91 Q1686.45 1542.16 1691.03 1537.53 Q1695.64 1532.88 1696.82 1531.53 Q1699.06 1529.01 1699.94 1527.27 Q1700.85 1525.51 1700.85 1523.82 Q1700.85 1521.07 1698.9 1519.33 Q1696.98 1517.6 1693.88 1517.6 Q1691.68 1517.6 1689.23 1518.36 Q1686.8 1519.13 1684.02 1520.68 L1684.02 1515.95 Q1686.84 1514.82 1689.3 1514.24 Q1691.75 1513.66 1693.79 1513.66 Q1699.16 1513.66 1702.35 1516.35 Q1705.55 1519.03 1705.55 1523.52 Q1705.55 1525.65 1704.74 1527.57 Q1703.95 1529.47 1701.84 1532.07 Q1701.26 1532.74 1698.16 1535.95 Q1695.06 1539.15 1689.41 1544.91 Z\" fill=\"#000000\" fill-rule=\"nonzero\" fill-opacity=\"1\" /><path clip-path=\"url(#clip110)\" d=\"M2096.55 1518.36 L2084.75 1536.81 L2096.55 1536.81 L2096.55 1518.36 M2095.33 1514.29 L2101.21 1514.29 L2101.21 1536.81 L2106.14 1536.81 L2106.14 1540.7 L2101.21 1540.7 L2101.21 1548.85 L2096.55 1548.85 L2096.55 1540.7 L2080.95 1540.7 L2080.95 1536.19 L2095.33 1514.29 Z\" fill=\"#000000\" fill-rule=\"nonzero\" fill-opacity=\"1\" /><polyline clip-path=\"url(#clip110)\" style=\"stroke:#000000; stroke-linecap:round; stroke-linejoin:round; stroke-width:4; stroke-opacity:1; fill:none\" points=\"239.19,1486.45 239.19,47.2441 \"/>\n",
       "<polyline clip-path=\"url(#clip110)\" style=\"stroke:#000000; stroke-linecap:round; stroke-linejoin:round; stroke-width:4; stroke-opacity:1; fill:none\" points=\"239.19,1269.22 258.088,1269.22 \"/>\n",
       "<polyline clip-path=\"url(#clip110)\" style=\"stroke:#000000; stroke-linecap:round; stroke-linejoin:round; stroke-width:4; stroke-opacity:1; fill:none\" points=\"239.19,898.292 258.088,898.292 \"/>\n",
       "<polyline clip-path=\"url(#clip110)\" style=\"stroke:#000000; stroke-linecap:round; stroke-linejoin:round; stroke-width:4; stroke-opacity:1; fill:none\" points=\"239.19,527.36 258.088,527.36 \"/>\n",
       "<polyline clip-path=\"url(#clip110)\" style=\"stroke:#000000; stroke-linecap:round; stroke-linejoin:round; stroke-width:4; stroke-opacity:1; fill:none\" points=\"239.19,156.429 258.088,156.429 \"/>\n",
       "<path clip-path=\"url(#clip110)\" d=\"M50.9921 1269.68 L80.6679 1269.68 L80.6679 1273.61 L50.9921 1273.61 L50.9921 1269.68 Z\" fill=\"#000000\" fill-rule=\"nonzero\" fill-opacity=\"1\" /><path clip-path=\"url(#clip110)\" d=\"M101.339 1267.36 Q98.1909 1267.36 96.3391 1269.51 Q94.5104 1271.67 94.5104 1275.42 Q94.5104 1279.14 96.3391 1281.32 Q98.1909 1283.47 101.339 1283.47 Q104.487 1283.47 106.316 1281.32 Q108.168 1279.14 108.168 1275.42 Q108.168 1271.67 106.316 1269.51 Q104.487 1267.36 101.339 1267.36 M110.621 1252.71 L110.621 1256.97 Q108.862 1256.13 107.057 1255.69 Q105.274 1255.25 103.515 1255.25 Q98.8854 1255.25 96.4317 1258.38 Q94.0012 1261.5 93.6539 1267.82 Q95.0197 1265.81 97.0798 1264.74 Q99.14 1263.66 101.617 1263.66 Q106.825 1263.66 109.834 1266.83 Q112.867 1269.98 112.867 1275.42 Q112.867 1280.74 109.719 1283.96 Q106.571 1287.18 101.339 1287.18 Q95.3437 1287.18 92.1725 1282.59 Q89.0012 1277.99 89.0012 1269.26 Q89.0012 1261.06 92.89 1256.2 Q96.7789 1251.32 103.33 1251.32 Q105.089 1251.32 106.871 1251.67 Q108.677 1252.01 110.621 1252.71 Z\" fill=\"#000000\" fill-rule=\"nonzero\" fill-opacity=\"1\" /><path clip-path=\"url(#clip110)\" d=\"M130.922 1255.02 Q127.311 1255.02 125.482 1258.59 Q123.677 1262.13 123.677 1269.26 Q123.677 1276.36 125.482 1279.93 Q127.311 1283.47 130.922 1283.47 Q134.556 1283.47 136.362 1279.93 Q138.191 1276.36 138.191 1269.26 Q138.191 1262.13 136.362 1258.59 Q134.556 1255.02 130.922 1255.02 M130.922 1251.32 Q136.732 1251.32 139.788 1255.93 Q142.867 1260.51 142.867 1269.26 Q142.867 1277.99 139.788 1282.59 Q136.732 1287.18 130.922 1287.18 Q125.112 1287.18 122.033 1282.59 Q118.978 1277.99 118.978 1269.26 Q118.978 1260.51 122.033 1255.93 Q125.112 1251.32 130.922 1251.32 Z\" fill=\"#000000\" fill-rule=\"nonzero\" fill-opacity=\"1\" /><path clip-path=\"url(#clip110)\" d=\"M161.084 1255.02 Q157.473 1255.02 155.644 1258.59 Q153.839 1262.13 153.839 1269.26 Q153.839 1276.36 155.644 1279.93 Q157.473 1283.47 161.084 1283.47 Q164.718 1283.47 166.524 1279.93 Q168.353 1276.36 168.353 1269.26 Q168.353 1262.13 166.524 1258.59 Q164.718 1255.02 161.084 1255.02 M161.084 1251.32 Q166.894 1251.32 169.95 1255.93 Q173.029 1260.51 173.029 1269.26 Q173.029 1277.99 169.95 1282.59 Q166.894 1287.18 161.084 1287.18 Q155.274 1287.18 152.195 1282.59 Q149.14 1277.99 149.14 1269.26 Q149.14 1260.51 152.195 1255.93 Q155.274 1251.32 161.084 1251.32 Z\" fill=\"#000000\" fill-rule=\"nonzero\" fill-opacity=\"1\" /><path clip-path=\"url(#clip110)\" d=\"M191.246 1255.02 Q187.635 1255.02 185.806 1258.59 Q184.001 1262.13 184.001 1269.26 Q184.001 1276.36 185.806 1279.93 Q187.635 1283.47 191.246 1283.47 Q194.88 1283.47 196.686 1279.93 Q198.514 1276.36 198.514 1269.26 Q198.514 1262.13 196.686 1258.59 Q194.88 1255.02 191.246 1255.02 M191.246 1251.32 Q197.056 1251.32 200.112 1255.93 Q203.19 1260.51 203.19 1269.26 Q203.19 1277.99 200.112 1282.59 Q197.056 1287.18 191.246 1287.18 Q185.436 1287.18 182.357 1282.59 Q179.302 1277.99 179.302 1269.26 Q179.302 1260.51 182.357 1255.93 Q185.436 1251.32 191.246 1251.32 Z\" fill=\"#000000\" fill-rule=\"nonzero\" fill-opacity=\"1\" /><path clip-path=\"url(#clip110)\" d=\"M50.9921 898.743 L80.6679 898.743 L80.6679 902.679 L50.9921 902.679 L50.9921 898.743 Z\" fill=\"#000000\" fill-rule=\"nonzero\" fill-opacity=\"1\" /><path clip-path=\"url(#clip110)\" d=\"M103.608 885.086 L91.8021 903.535 L103.608 903.535 L103.608 885.086 M102.381 881.012 L108.26 881.012 L108.26 903.535 L113.191 903.535 L113.191 907.424 L108.26 907.424 L108.26 915.572 L103.608 915.572 L103.608 907.424 L88.0058 907.424 L88.0058 902.91 L102.381 881.012 Z\" fill=\"#000000\" fill-rule=\"nonzero\" fill-opacity=\"1\" /><path clip-path=\"url(#clip110)\" d=\"M130.922 884.091 Q127.311 884.091 125.482 887.655 Q123.677 891.197 123.677 898.327 Q123.677 905.433 125.482 908.998 Q127.311 912.54 130.922 912.54 Q134.556 912.54 136.362 908.998 Q138.191 905.433 138.191 898.327 Q138.191 891.197 136.362 887.655 Q134.556 884.091 130.922 884.091 M130.922 880.387 Q136.732 880.387 139.788 884.993 Q142.867 889.577 142.867 898.327 Q142.867 907.054 139.788 911.66 Q136.732 916.243 130.922 916.243 Q125.112 916.243 122.033 911.66 Q118.978 907.054 118.978 898.327 Q118.978 889.577 122.033 884.993 Q125.112 880.387 130.922 880.387 Z\" fill=\"#000000\" fill-rule=\"nonzero\" fill-opacity=\"1\" /><path clip-path=\"url(#clip110)\" d=\"M161.084 884.091 Q157.473 884.091 155.644 887.655 Q153.839 891.197 153.839 898.327 Q153.839 905.433 155.644 908.998 Q157.473 912.54 161.084 912.54 Q164.718 912.54 166.524 908.998 Q168.353 905.433 168.353 898.327 Q168.353 891.197 166.524 887.655 Q164.718 884.091 161.084 884.091 M161.084 880.387 Q166.894 880.387 169.95 884.993 Q173.029 889.577 173.029 898.327 Q173.029 907.054 169.95 911.66 Q166.894 916.243 161.084 916.243 Q155.274 916.243 152.195 911.66 Q149.14 907.054 149.14 898.327 Q149.14 889.577 152.195 884.993 Q155.274 880.387 161.084 880.387 Z\" fill=\"#000000\" fill-rule=\"nonzero\" fill-opacity=\"1\" /><path clip-path=\"url(#clip110)\" d=\"M191.246 884.091 Q187.635 884.091 185.806 887.655 Q184.001 891.197 184.001 898.327 Q184.001 905.433 185.806 908.998 Q187.635 912.54 191.246 912.54 Q194.88 912.54 196.686 908.998 Q198.514 905.433 198.514 898.327 Q198.514 891.197 196.686 887.655 Q194.88 884.091 191.246 884.091 M191.246 880.387 Q197.056 880.387 200.112 884.993 Q203.19 889.577 203.19 898.327 Q203.19 907.054 200.112 911.66 Q197.056 916.243 191.246 916.243 Q185.436 916.243 182.357 911.66 Q179.302 907.054 179.302 898.327 Q179.302 889.577 182.357 884.993 Q185.436 880.387 191.246 880.387 Z\" fill=\"#000000\" fill-rule=\"nonzero\" fill-opacity=\"1\" /><path clip-path=\"url(#clip110)\" d=\"M50.9921 527.812 L80.6679 527.812 L80.6679 531.747 L50.9921 531.747 L50.9921 527.812 Z\" fill=\"#000000\" fill-rule=\"nonzero\" fill-opacity=\"1\" /><path clip-path=\"url(#clip110)\" d=\"M94.7882 540.705 L111.108 540.705 L111.108 544.64 L89.1632 544.64 L89.1632 540.705 Q91.8252 537.95 96.4085 533.321 Q101.015 528.668 102.196 527.326 Q104.441 524.802 105.321 523.066 Q106.223 521.307 106.223 519.617 Q106.223 516.863 104.279 515.127 Q102.358 513.39 99.2558 513.39 Q97.0567 513.39 94.603 514.154 Q92.1725 514.918 89.3947 516.469 L89.3947 511.747 Q92.2188 510.613 94.6724 510.034 Q97.1261 509.455 99.1632 509.455 Q104.534 509.455 107.728 512.14 Q110.922 514.826 110.922 519.316 Q110.922 521.446 110.112 523.367 Q109.325 525.265 107.219 527.858 Q106.64 528.529 103.538 531.747 Q100.436 534.941 94.7882 540.705 Z\" fill=\"#000000\" fill-rule=\"nonzero\" fill-opacity=\"1\" /><path clip-path=\"url(#clip110)\" d=\"M130.922 513.159 Q127.311 513.159 125.482 516.724 Q123.677 520.265 123.677 527.395 Q123.677 534.501 125.482 538.066 Q127.311 541.608 130.922 541.608 Q134.556 541.608 136.362 538.066 Q138.191 534.501 138.191 527.395 Q138.191 520.265 136.362 516.724 Q134.556 513.159 130.922 513.159 M130.922 509.455 Q136.732 509.455 139.788 514.062 Q142.867 518.645 142.867 527.395 Q142.867 536.122 139.788 540.728 Q136.732 545.312 130.922 545.312 Q125.112 545.312 122.033 540.728 Q118.978 536.122 118.978 527.395 Q118.978 518.645 122.033 514.062 Q125.112 509.455 130.922 509.455 Z\" fill=\"#000000\" fill-rule=\"nonzero\" fill-opacity=\"1\" /><path clip-path=\"url(#clip110)\" d=\"M161.084 513.159 Q157.473 513.159 155.644 516.724 Q153.839 520.265 153.839 527.395 Q153.839 534.501 155.644 538.066 Q157.473 541.608 161.084 541.608 Q164.718 541.608 166.524 538.066 Q168.353 534.501 168.353 527.395 Q168.353 520.265 166.524 516.724 Q164.718 513.159 161.084 513.159 M161.084 509.455 Q166.894 509.455 169.95 514.062 Q173.029 518.645 173.029 527.395 Q173.029 536.122 169.95 540.728 Q166.894 545.312 161.084 545.312 Q155.274 545.312 152.195 540.728 Q149.14 536.122 149.14 527.395 Q149.14 518.645 152.195 514.062 Q155.274 509.455 161.084 509.455 Z\" fill=\"#000000\" fill-rule=\"nonzero\" fill-opacity=\"1\" /><path clip-path=\"url(#clip110)\" d=\"M191.246 513.159 Q187.635 513.159 185.806 516.724 Q184.001 520.265 184.001 527.395 Q184.001 534.501 185.806 538.066 Q187.635 541.608 191.246 541.608 Q194.88 541.608 196.686 538.066 Q198.514 534.501 198.514 527.395 Q198.514 520.265 196.686 516.724 Q194.88 513.159 191.246 513.159 M191.246 509.455 Q197.056 509.455 200.112 514.062 Q203.19 518.645 203.19 527.395 Q203.19 536.122 200.112 540.728 Q197.056 545.312 191.246 545.312 Q185.436 545.312 182.357 540.728 Q179.302 536.122 179.302 527.395 Q179.302 518.645 182.357 514.062 Q185.436 509.455 191.246 509.455 Z\" fill=\"#000000\" fill-rule=\"nonzero\" fill-opacity=\"1\" /><path clip-path=\"url(#clip110)\" d=\"M191.246 142.227 Q187.635 142.227 185.806 145.792 Q184.001 149.334 184.001 156.463 Q184.001 163.57 185.806 167.134 Q187.635 170.676 191.246 170.676 Q194.88 170.676 196.686 167.134 Q198.514 163.57 198.514 156.463 Q198.514 149.334 196.686 145.792 Q194.88 142.227 191.246 142.227 M191.246 138.524 Q197.056 138.524 200.112 143.13 Q203.19 147.713 203.19 156.463 Q203.19 165.19 200.112 169.796 Q197.056 174.38 191.246 174.38 Q185.436 174.38 182.357 169.796 Q179.302 165.19 179.302 156.463 Q179.302 147.713 182.357 143.13 Q185.436 138.524 191.246 138.524 Z\" fill=\"#000000\" fill-rule=\"nonzero\" fill-opacity=\"1\" /><polyline clip-path=\"url(#clip112)\" style=\"stroke:#009af9; stroke-linecap:round; stroke-linejoin:round; stroke-width:4; stroke-opacity:1; fill:none\" points=\"299.008,156.466 319.593,156.466 440.156,156.472 496.242,156.475 571.418,156.48 633.536,156.484 691.301,156.49 763.814,156.498 828.86,156.508 903.313,156.523 958.966,156.538 994.557,156.551 1030.15,156.568 1062.63,156.587 1095.12,156.613 1113.6,156.631 1132.09,156.654 1150.57,156.683 1169.06,156.72 1183.71,156.758 1198.37,156.807 1205.69,156.838 1213.02,156.874 1220.35,156.918 1227.67,156.97 1236.78,157.053 1245.88,157.167 1250.43,157.241 1254.98,157.331 1259.53,157.443 1264.08,157.588 1268.64,157.781 1273.19,158.051 1277.74,158.457 1282.29,159.131 1284.57,159.67 1286.84,160.478 1289.12,161.823 1291.39,164.503 1291.96,165.648 1292.53,167.172 1293.1,169.299 1293.67,172.477 1294.24,177.737 1294.81,188.13 1295.38,218.31 1295.94,1445.72 1296.51,87.9763 1297.08,123.087 1297.65,134.391 1298.22,139.971 1298.79,143.296 1299.36,145.503 1299.93,147.075 1300.5,148.252 1302.24,150.526 1303.98,151.811 1305.72,152.636 1307.47,153.211 1310.95,153.96 1314.44,154.426 1317.92,154.744 1321.41,154.975 1324.9,155.15 1328.38,155.287 1331.87,155.398 1335.35,155.489 1338.84,155.566 1342.32,155.631 1349.29,155.735 1356.27,155.815 1366.09,155.901 1375.92,155.966 1385.75,156.017 1395.58,156.057 1415.24,156.118 1434.89,156.162 1464.27,156.209 1493.65,156.241 1527.06,156.268 1560.47,156.289 1593.56,156.304 1626.64,156.317 1699.45,156.337 1755.06,156.348 1825.23,156.359 1890.14,156.366 1957.08,156.373 2024.92,156.378 2095.77,156.382 2151.58,156.385 2278.68,156.391 2292.94,156.391 \"/>\n",
       "<path clip-path=\"url(#clip110)\" d=\"M2018.52 1438.47 L2282.3 1438.47 L2282.3 1334.79 L2018.52 1334.79  Z\" fill=\"#ffffff\" fill-rule=\"evenodd\" fill-opacity=\"1\"/>\n",
       "<polyline clip-path=\"url(#clip110)\" style=\"stroke:#000000; stroke-linecap:round; stroke-linejoin:round; stroke-width:4; stroke-opacity:1; fill:none\" points=\"2018.52,1438.47 2282.3,1438.47 2282.3,1334.79 2018.52,1334.79 2018.52,1438.47 \"/>\n",
       "<polyline clip-path=\"url(#clip110)\" style=\"stroke:#009af9; stroke-linecap:round; stroke-linejoin:round; stroke-width:4; stroke-opacity:1; fill:none\" points=\"2042,1386.63 2182.91,1386.63 \"/>\n",
       "<path clip-path=\"url(#clip110)\" d=\"M2220.23 1406.32 Q2218.43 1410.95 2216.71 1412.36 Q2215 1413.78 2212.13 1413.78 L2208.73 1413.78 L2208.73 1410.21 L2211.23 1410.21 Q2212.99 1410.21 2213.96 1409.38 Q2214.93 1408.54 2216.11 1405.44 L2216.88 1403.5 L2206.39 1377.99 L2210.9 1377.99 L2219.01 1398.27 L2227.11 1377.99 L2231.62 1377.99 L2220.23 1406.32 Z\" fill=\"#000000\" fill-rule=\"nonzero\" fill-opacity=\"1\" /><path clip-path=\"url(#clip110)\" d=\"M2238.91 1399.98 L2246.55 1399.98 L2246.55 1373.61 L2238.24 1375.28 L2238.24 1371.02 L2246.5 1369.35 L2251.18 1369.35 L2251.18 1399.98 L2258.82 1399.98 L2258.82 1403.91 L2238.91 1403.91 L2238.91 1399.98 Z\" fill=\"#000000\" fill-rule=\"nonzero\" fill-opacity=\"1\" /></svg>\n"
      ]
     },
     "execution_count": 22,
     "metadata": {},
     "output_type": "execute_result"
    }
   ],
   "source": [
    "plot(x -> 1/x)"
   ]
  },
  {
   "cell_type": "code",
   "execution_count": 23,
   "metadata": {},
   "outputs": [
    {
     "data": {
      "text/plain": [
       "Results of univariate zero finding:\n",
       "\n",
       "* Converged to: 0.0\n",
       "* Algorithm: Bisection()\n",
       "* iterations: 61\n",
       "* function evaluations ≈ 64\n",
       "* stopped as x_n ≈ x_{n-1} using atol=xatol, rtol=xrtol\n",
       "\n",
       "Trace:\n",
       "(a₀, b₀) = ( -1, 0 )\n",
       "(a₁, b₁) = ( -1.118751109680031e-154, 0 )\n",
       "(a₂, b₂) = ( -1.1272010346794983e-231, 0 )\n",
       "(a₃, b₃) = ( -3.5491565585003241e-270, 0 )\n",
       "(a₄, b₄) = ( -1.988135013128901e-289, 0 )\n",
       "(a₅, b₅) = ( -4.7036486372562232e-299, 0 )\n",
       "(a₆, b₆) = ( -7.2341601287786131e-304, 0 )\n",
       "(a₇, b₇) = ( -2.8369691695966818e-306, 0 )\n",
       "(a₈, b₈) = ( -1.7765824089018436e-307, 0 )\n",
       "(a₉, b₉) = ( -4.4458018696345059e-308, 0 )\n",
       "(a₁₀, b₁₀) = ( -2.2229009348172529e-308, 0 )\n",
       "(a₁₁, b₁₁) = ( -1.1114504674086265e-308, 0 )\n",
       "(a₁₂, b₁₂) = ( -5.5572523370431324e-309, 0 )\n",
       "(a₁₃, b₁₃) = ( -2.7786261685215662e-309, 0 )\n",
       "(a₁₄, b₁₄) = ( -1.3893130842607831e-309, 0 )\n",
       "(a₁₅, b₁₅) = ( -6.9465654213039155e-310, 0 )\n",
       "(a₁₆, b₁₆) = ( -3.4732827106519577e-310, 0 )\n",
       "(a₁₇, b₁₇) = ( -1.7366413553259789e-310, 0 )\n",
       "(a₁₈, b₁₈) = ( -8.6832067766298943e-311, 0 )\n",
       "(a₁₉, b₁₉) = ( -4.3416033883149472e-311, 0 )\n",
       "(a₂₀, b₂₀) = ( -2.1708016941574736e-311, 0 )\n",
       "(a₂₁, b₂₁) = ( -1.0854008470787368e-311, 0 )\n",
       "(a₂₂, b₂₂) = ( -5.4270042353936839e-312, 0 )\n",
       "(a₂₃, b₂₃) = ( -2.713502117696842e-312, 0 )\n",
       "(a₂₄, b₂₄) = ( -1.356751058848421e-312, 0 )\n",
       "(a₂₅, b₂₅) = ( -6.7837552942421049e-313, 0 )\n",
       "(a₂₆, b₂₆) = ( -3.3918776471210525e-313, 0 )\n",
       "(a₂₇, b₂₇) = ( -1.6959388235605262e-313, 0 )\n",
       "(a₂₈, b₂₈) = ( -8.4796941178026312e-314, 0 )\n",
       "(a₂₉, b₂₉) = ( -4.2398470589013156e-314, 0 )\n",
       "(a₃₀, b₃₀) = ( -2.1199235294506578e-314, 0 )\n",
       "(a₃₁, b₃₁) = ( -1.0599617647253289e-314, 0 )\n",
       "(a₃₂, b₃₂) = ( -5.2998088236266445e-315, 0 )\n",
       "(a₃₃, b₃₃) = ( -2.6499044118133222e-315, 0 )\n",
       "(a₃₄, b₃₄) = ( -1.3249522059066611e-315, 0 )\n",
       "(a₃₅, b₃₅) = ( -6.6247610295333056e-316, 0 )\n",
       "(a₃₆, b₃₆) = ( -3.3123805147666528e-316, 0 )\n",
       "(a₃₇, b₃₇) = ( -1.6561902573833264e-316, 0 )\n",
       "(a₃₈, b₃₈) = ( -8.280951286916632e-317, 0 )\n",
       "(a₃₉, b₃₉) = ( -4.140475643458316e-317, 0 )\n",
       "(a₄₀, b₄₀) = ( -2.070237821729158e-317, 0 )\n",
       "(a₄₁, b₄₁) = ( -1.035118910864579e-317, 0 )\n",
       "(a₄₂, b₄₂) = ( -5.175594554322895e-318, 0 )\n",
       "(a₄₃, b₄₃) = ( -2.5877972771614475e-318, 0 )\n",
       "(a₄₄, b₄₄) = ( -1.2938986385807237e-318, 0 )\n",
       "(a₄₅, b₄₅) = ( -6.4694931929036187e-319, 0 )\n",
       "(a₄₆, b₄₆) = ( -3.2347465964518094e-319, 0 )\n",
       "(a₄₇, b₄₇) = ( -1.6173732982259047e-319, 0 )\n",
       "(a₄₈, b₄₈) = ( -8.0868664911295234e-320, 0 )\n",
       "(a₄₉, b₄₉) = ( -4.0434332455647617e-320, 0 )\n",
       "(a₅₀, b₅₀) = ( -2.0217166227823809e-320, 0 )\n",
       "(a₅₁, b₅₁) = ( -1.0108583113911904e-320, 0 )\n",
       "(a₅₂, b₅₂) = ( -5.0542915569559521e-321, 0 )\n",
       "(a₅₃, b₅₃) = ( -2.5246754502487698e-321, 0 )\n",
       "(a₅₄, b₅₄) = ( -1.2598673968951787e-321, 0 )\n",
       "(a₅₅, b₅₅) = ( -6.2746337021838311e-322, 0 )\n",
       "(a₅₆, b₅₆) = ( -3.1126135687998532e-322, 0 )\n",
       "(a₅₇, b₅₇) = ( -1.5316035021078643e-322, 0 )\n",
       "(a₅₈, b₅₈) = ( -7.4109846876186982e-323, 0 )\n",
       "(a₅₉, b₅₉) = ( -3.4584595208887258e-323, 0 )\n",
       "(a₆₀, b₆₀) = ( -1.4821969375237396e-323, 0 )\n",
       "(a₆₁, b₆₁) = ( -4.9406564584124654e-324, 0 )\n",
       "\n"
      ]
     },
     "metadata": {},
     "output_type": "display_data"
    },
    {
     "data": {
      "text/plain": [
       "0.0"
      ]
     },
     "execution_count": 23,
     "metadata": {},
     "output_type": "execute_result"
    }
   ],
   "source": [
    "find_zero(x -> 1/x, (-1, 1), verbose=true)"
   ]
  },
  {
   "cell_type": "markdown",
   "metadata": {},
   "source": [
    "find_zeros - szukanie więcej niż jednego pierwiastka. Wykorzystuje podział przedziału na mniejsze podprzedziały"
   ]
  },
  {
   "cell_type": "code",
   "execution_count": 24,
   "metadata": {},
   "outputs": [
    {
     "data": {
      "text/plain": [
       "2-element Vector{Float64}:\n",
       " 0.0\n",
       " 3.0"
      ]
     },
     "execution_count": 24,
     "metadata": {},
     "output_type": "execute_result"
    }
   ],
   "source": [
    "find_zeros(x ->(x-3)*x, -10, 10)"
   ]
  },
  {
   "cell_type": "code",
   "execution_count": 25,
   "metadata": {
    "scrolled": true
   },
   "outputs": [
    {
     "data": {
      "image/png": "[encoded data removed]",
      "image/svg+xml": [
       "<?xml version=\"1.0\" encoding=\"utf-8\"?>\n",
       "<svg xmlns=\"http://www.w3.org/2000/svg\" xmlns:xlink=\"http://www.w3.org/1999/xlink\" width=\"600\" height=\"400\" viewBox=\"0 0 2400 1600\">\n",
       "<defs>\n",
       "  <clipPath id=\"clip150\">\n",
       "    <rect x=\"0\" y=\"0\" width=\"2400\" height=\"1600\"/>\n",
       "  </clipPath>\n",
       "</defs>\n",
       "<path clip-path=\"url(#clip150)\" d=\"M0 1600 L2400 1600 L2400 0 L0 0  Z\" fill=\"#ffffff\" fill-rule=\"evenodd\" fill-opacity=\"1\"/>\n",
       "<defs>\n",
       "  <clipPath id=\"clip151\">\n",
       "    <rect x=\"480\" y=\"0\" width=\"1681\" height=\"1600\"/>\n",
       "  </clipPath>\n",
       "</defs>\n",
       "<path clip-path=\"url(#clip150)\" d=\"M147.478 1486.45 L2352.76 1486.45 L2352.76 47.2441 L147.478 47.2441  Z\" fill=\"#ffffff\" fill-rule=\"evenodd\" fill-opacity=\"1\"/>\n",
       "<defs>\n",
       "  <clipPath id=\"clip152\">\n",
       "    <rect x=\"147\" y=\"47\" width=\"2206\" height=\"1440\"/>\n",
       "  </clipPath>\n",
       "</defs>\n",
       "<polyline clip-path=\"url(#clip152)\" style=\"stroke:#000000; stroke-linecap:round; stroke-linejoin:round; stroke-width:2; stroke-opacity:0.1; fill:none\" points=\"209.891,1486.45 209.891,47.2441 \"/>\n",
       "<polyline clip-path=\"url(#clip152)\" style=\"stroke:#000000; stroke-linecap:round; stroke-linejoin:round; stroke-width:2; stroke-opacity:0.1; fill:none\" points=\"625.982,1486.45 625.982,47.2441 \"/>\n",
       "<polyline clip-path=\"url(#clip152)\" style=\"stroke:#000000; stroke-linecap:round; stroke-linejoin:round; stroke-width:2; stroke-opacity:0.1; fill:none\" points=\"1042.07,1486.45 1042.07,47.2441 \"/>\n",
       "<polyline clip-path=\"url(#clip152)\" style=\"stroke:#000000; stroke-linecap:round; stroke-linejoin:round; stroke-width:2; stroke-opacity:0.1; fill:none\" points=\"1458.16,1486.45 1458.16,47.2441 \"/>\n",
       "<polyline clip-path=\"url(#clip152)\" style=\"stroke:#000000; stroke-linecap:round; stroke-linejoin:round; stroke-width:2; stroke-opacity:0.1; fill:none\" points=\"1874.25,1486.45 1874.25,47.2441 \"/>\n",
       "<polyline clip-path=\"url(#clip152)\" style=\"stroke:#000000; stroke-linecap:round; stroke-linejoin:round; stroke-width:2; stroke-opacity:0.1; fill:none\" points=\"2290.34,1486.45 2290.34,47.2441 \"/>\n",
       "<polyline clip-path=\"url(#clip152)\" style=\"stroke:#000000; stroke-linecap:round; stroke-linejoin:round; stroke-width:2; stroke-opacity:0.1; fill:none\" points=\"147.478,1391.43 2352.76,1391.43 \"/>\n",
       "<polyline clip-path=\"url(#clip152)\" style=\"stroke:#000000; stroke-linecap:round; stroke-linejoin:round; stroke-width:2; stroke-opacity:0.1; fill:none\" points=\"147.478,1174.19 2352.76,1174.19 \"/>\n",
       "<polyline clip-path=\"url(#clip152)\" style=\"stroke:#000000; stroke-linecap:round; stroke-linejoin:round; stroke-width:2; stroke-opacity:0.1; fill:none\" points=\"147.478,956.947 2352.76,956.947 \"/>\n",
       "<polyline clip-path=\"url(#clip152)\" style=\"stroke:#000000; stroke-linecap:round; stroke-linejoin:round; stroke-width:2; stroke-opacity:0.1; fill:none\" points=\"147.478,739.705 2352.76,739.705 \"/>\n",
       "<polyline clip-path=\"url(#clip152)\" style=\"stroke:#000000; stroke-linecap:round; stroke-linejoin:round; stroke-width:2; stroke-opacity:0.1; fill:none\" points=\"147.478,522.462 2352.76,522.462 \"/>\n",
       "<polyline clip-path=\"url(#clip152)\" style=\"stroke:#000000; stroke-linecap:round; stroke-linejoin:round; stroke-width:2; stroke-opacity:0.1; fill:none\" points=\"147.478,305.219 2352.76,305.219 \"/>\n",
       "<polyline clip-path=\"url(#clip152)\" style=\"stroke:#000000; stroke-linecap:round; stroke-linejoin:round; stroke-width:2; stroke-opacity:0.1; fill:none\" points=\"147.478,87.9763 2352.76,87.9763 \"/>\n",
       "<polyline clip-path=\"url(#clip150)\" style=\"stroke:#000000; stroke-linecap:round; stroke-linejoin:round; stroke-width:4; stroke-opacity:1; fill:none\" points=\"147.478,1486.45 2352.76,1486.45 \"/>\n",
       "<polyline clip-path=\"url(#clip150)\" style=\"stroke:#000000; stroke-linecap:round; stroke-linejoin:round; stroke-width:4; stroke-opacity:1; fill:none\" points=\"209.891,1486.45 209.891,1467.55 \"/>\n",
       "<polyline clip-path=\"url(#clip150)\" style=\"stroke:#000000; stroke-linecap:round; stroke-linejoin:round; stroke-width:4; stroke-opacity:1; fill:none\" points=\"625.982,1486.45 625.982,1467.55 \"/>\n",
       "<polyline clip-path=\"url(#clip150)\" style=\"stroke:#000000; stroke-linecap:round; stroke-linejoin:round; stroke-width:4; stroke-opacity:1; fill:none\" points=\"1042.07,1486.45 1042.07,1467.55 \"/>\n",
       "<polyline clip-path=\"url(#clip150)\" style=\"stroke:#000000; stroke-linecap:round; stroke-linejoin:round; stroke-width:4; stroke-opacity:1; fill:none\" points=\"1458.16,1486.45 1458.16,1467.55 \"/>\n",
       "<polyline clip-path=\"url(#clip150)\" style=\"stroke:#000000; stroke-linecap:round; stroke-linejoin:round; stroke-width:4; stroke-opacity:1; fill:none\" points=\"1874.25,1486.45 1874.25,1467.55 \"/>\n",
       "<polyline clip-path=\"url(#clip150)\" style=\"stroke:#000000; stroke-linecap:round; stroke-linejoin:round; stroke-width:4; stroke-opacity:1; fill:none\" points=\"2290.34,1486.45 2290.34,1467.55 \"/>\n",
       "<path clip-path=\"url(#clip150)\" d=\"M179.649 1532.02 L209.324 1532.02 L209.324 1535.95 L179.649 1535.95 L179.649 1532.02 Z\" fill=\"#000000\" fill-rule=\"nonzero\" fill-opacity=\"1\" /><path clip-path=\"url(#clip150)\" d=\"M220.227 1544.91 L227.866 1544.91 L227.866 1518.55 L219.556 1520.21 L219.556 1515.95 L227.82 1514.29 L232.495 1514.29 L232.495 1544.91 L240.134 1544.91 L240.134 1548.85 L220.227 1548.85 L220.227 1544.91 Z\" fill=\"#000000\" fill-rule=\"nonzero\" fill-opacity=\"1\" /><path clip-path=\"url(#clip150)\" d=\"M625.982 1517.37 Q622.371 1517.37 620.542 1520.93 Q618.736 1524.47 618.736 1531.6 Q618.736 1538.71 620.542 1542.27 Q622.371 1545.82 625.982 1545.82 Q629.616 1545.82 631.421 1542.27 Q633.25 1538.71 633.25 1531.6 Q633.25 1524.47 631.421 1520.93 Q629.616 1517.37 625.982 1517.37 M625.982 1513.66 Q631.792 1513.66 634.847 1518.27 Q637.926 1522.85 637.926 1531.6 Q637.926 1540.33 634.847 1544.94 Q631.792 1549.52 625.982 1549.52 Q620.171 1549.52 617.093 1544.94 Q614.037 1540.33 614.037 1531.6 Q614.037 1522.85 617.093 1518.27 Q620.171 1513.66 625.982 1513.66 Z\" fill=\"#000000\" fill-rule=\"nonzero\" fill-opacity=\"1\" /><path clip-path=\"url(#clip150)\" d=\"M1032.45 1544.91 L1040.09 1544.91 L1040.09 1518.55 L1031.78 1520.21 L1031.78 1515.95 L1040.05 1514.29 L1044.72 1514.29 L1044.72 1544.91 L1052.36 1544.91 L1052.36 1548.85 L1032.45 1548.85 L1032.45 1544.91 Z\" fill=\"#000000\" fill-rule=\"nonzero\" fill-opacity=\"1\" /><path clip-path=\"url(#clip150)\" d=\"M1452.81 1544.91 L1469.13 1544.91 L1469.13 1548.85 L1447.19 1548.85 L1447.19 1544.91 Q1449.85 1542.16 1454.44 1537.53 Q1459.04 1532.88 1460.22 1531.53 Q1462.47 1529.01 1463.35 1527.27 Q1464.25 1525.51 1464.25 1523.82 Q1464.25 1521.07 1462.31 1519.33 Q1460.38 1517.6 1457.28 1517.6 Q1455.08 1517.6 1452.63 1518.36 Q1450.2 1519.13 1447.42 1520.68 L1447.42 1515.95 Q1450.25 1514.82 1452.7 1514.24 Q1455.15 1513.66 1457.19 1513.66 Q1462.56 1513.66 1465.75 1516.35 Q1468.95 1519.03 1468.95 1523.52 Q1468.95 1525.65 1468.14 1527.57 Q1467.35 1529.47 1465.25 1532.07 Q1464.67 1532.74 1461.56 1535.95 Q1458.46 1539.15 1452.81 1544.91 Z\" fill=\"#000000\" fill-rule=\"nonzero\" fill-opacity=\"1\" /><path clip-path=\"url(#clip150)\" d=\"M1878.5 1530.21 Q1881.86 1530.93 1883.73 1533.2 Q1885.63 1535.47 1885.63 1538.8 Q1885.63 1543.92 1882.11 1546.72 Q1878.59 1549.52 1872.11 1549.52 Q1869.94 1549.52 1867.62 1549.08 Q1865.33 1548.66 1862.87 1547.81 L1862.87 1543.29 Q1864.82 1544.43 1867.13 1545.01 Q1869.45 1545.58 1871.97 1545.58 Q1876.37 1545.58 1878.66 1543.85 Q1880.98 1542.11 1880.98 1538.8 Q1880.98 1535.75 1878.82 1534.03 Q1876.69 1532.3 1872.87 1532.3 L1868.85 1532.3 L1868.85 1528.45 L1873.06 1528.45 Q1876.51 1528.45 1878.34 1527.09 Q1880.17 1525.7 1880.17 1523.11 Q1880.17 1520.45 1878.27 1519.03 Q1876.39 1517.6 1872.87 1517.6 Q1870.95 1517.6 1868.75 1518.01 Q1866.56 1518.43 1863.92 1519.31 L1863.92 1515.14 Q1866.58 1514.4 1868.89 1514.03 Q1871.23 1513.66 1873.29 1513.66 Q1878.62 1513.66 1881.72 1516.09 Q1884.82 1518.5 1884.82 1522.62 Q1884.82 1525.49 1883.18 1527.48 Q1881.53 1529.45 1878.5 1530.21 Z\" fill=\"#000000\" fill-rule=\"nonzero\" fill-opacity=\"1\" /><path clip-path=\"url(#clip150)\" d=\"M2293.35 1518.36 L2281.55 1536.81 L2293.35 1536.81 L2293.35 1518.36 M2292.12 1514.29 L2298 1514.29 L2298 1536.81 L2302.93 1536.81 L2302.93 1540.7 L2298 1540.7 L2298 1548.85 L2293.35 1548.85 L2293.35 1540.7 L2277.75 1540.7 L2277.75 1536.19 L2292.12 1514.29 Z\" fill=\"#000000\" fill-rule=\"nonzero\" fill-opacity=\"1\" /><polyline clip-path=\"url(#clip150)\" style=\"stroke:#000000; stroke-linecap:round; stroke-linejoin:round; stroke-width:4; stroke-opacity:1; fill:none\" points=\"147.478,1486.45 147.478,47.2441 \"/>\n",
       "<polyline clip-path=\"url(#clip150)\" style=\"stroke:#000000; stroke-linecap:round; stroke-linejoin:round; stroke-width:4; stroke-opacity:1; fill:none\" points=\"147.478,1391.43 166.376,1391.43 \"/>\n",
       "<polyline clip-path=\"url(#clip150)\" style=\"stroke:#000000; stroke-linecap:round; stroke-linejoin:round; stroke-width:4; stroke-opacity:1; fill:none\" points=\"147.478,1174.19 166.376,1174.19 \"/>\n",
       "<polyline clip-path=\"url(#clip150)\" style=\"stroke:#000000; stroke-linecap:round; stroke-linejoin:round; stroke-width:4; stroke-opacity:1; fill:none\" points=\"147.478,956.947 166.376,956.947 \"/>\n",
       "<polyline clip-path=\"url(#clip150)\" style=\"stroke:#000000; stroke-linecap:round; stroke-linejoin:round; stroke-width:4; stroke-opacity:1; fill:none\" points=\"147.478,739.705 166.376,739.705 \"/>\n",
       "<polyline clip-path=\"url(#clip150)\" style=\"stroke:#000000; stroke-linecap:round; stroke-linejoin:round; stroke-width:4; stroke-opacity:1; fill:none\" points=\"147.478,522.462 166.376,522.462 \"/>\n",
       "<polyline clip-path=\"url(#clip150)\" style=\"stroke:#000000; stroke-linecap:round; stroke-linejoin:round; stroke-width:4; stroke-opacity:1; fill:none\" points=\"147.478,305.219 166.376,305.219 \"/>\n",
       "<polyline clip-path=\"url(#clip150)\" style=\"stroke:#000000; stroke-linecap:round; stroke-linejoin:round; stroke-width:4; stroke-opacity:1; fill:none\" points=\"147.478,87.9763 166.376,87.9763 \"/>\n",
       "<path clip-path=\"url(#clip150)\" d=\"M51.3625 1391.88 L81.0383 1391.88 L81.0383 1395.82 L51.3625 1395.82 L51.3625 1391.88 Z\" fill=\"#000000\" fill-rule=\"nonzero\" fill-opacity=\"1\" /><path clip-path=\"url(#clip150)\" d=\"M95.1586 1404.78 L111.478 1404.78 L111.478 1408.71 L89.5336 1408.71 L89.5336 1404.78 Q92.1956 1402.02 96.7789 1397.39 Q101.385 1392.74 102.566 1391.4 Q104.811 1388.88 105.691 1387.14 Q106.594 1385.38 106.594 1383.69 Q106.594 1380.94 104.649 1379.2 Q102.728 1377.46 99.6261 1377.46 Q97.4271 1377.46 94.9734 1378.23 Q92.5428 1378.99 89.7651 1380.54 L89.7651 1375.82 Q92.5891 1374.69 95.0428 1374.11 Q97.4965 1373.53 99.5335 1373.53 Q104.904 1373.53 108.098 1376.21 Q111.293 1378.9 111.293 1383.39 Q111.293 1385.52 110.483 1387.44 Q109.696 1389.34 107.589 1391.93 Q107.01 1392.6 103.909 1395.82 Q100.807 1399.01 95.1586 1404.78 Z\" fill=\"#000000\" fill-rule=\"nonzero\" fill-opacity=\"1\" /><path clip-path=\"url(#clip150)\" d=\"M50.9921 1174.64 L80.6679 1174.64 L80.6679 1178.58 L50.9921 1178.58 L50.9921 1174.64 Z\" fill=\"#000000\" fill-rule=\"nonzero\" fill-opacity=\"1\" /><path clip-path=\"url(#clip150)\" d=\"M91.5706 1187.53 L99.2095 1187.53 L99.2095 1161.17 L90.8993 1162.84 L90.8993 1158.58 L99.1632 1156.91 L103.839 1156.91 L103.839 1187.53 L111.478 1187.53 L111.478 1191.47 L91.5706 1191.47 L91.5706 1187.53 Z\" fill=\"#000000\" fill-rule=\"nonzero\" fill-opacity=\"1\" /><path clip-path=\"url(#clip150)\" d=\"M99.5335 942.746 Q95.9224 942.746 94.0937 946.311 Q92.2882 949.853 92.2882 956.982 Q92.2882 964.089 94.0937 967.653 Q95.9224 971.195 99.5335 971.195 Q103.168 971.195 104.973 967.653 Q106.802 964.089 106.802 956.982 Q106.802 949.853 104.973 946.311 Q103.168 942.746 99.5335 942.746 M99.5335 939.042 Q105.344 939.042 108.399 943.649 Q111.478 948.232 111.478 956.982 Q111.478 965.709 108.399 970.315 Q105.344 974.899 99.5335 974.899 Q93.7234 974.899 90.6447 970.315 Q87.5892 965.709 87.5892 956.982 Q87.5892 948.232 90.6447 943.649 Q93.7234 939.042 99.5335 939.042 Z\" fill=\"#000000\" fill-rule=\"nonzero\" fill-opacity=\"1\" /><path clip-path=\"url(#clip150)\" d=\"M91.5706 753.049 L99.2095 753.049 L99.2095 726.684 L90.8993 728.351 L90.8993 724.091 L99.1632 722.425 L103.839 722.425 L103.839 753.049 L111.478 753.049 L111.478 756.985 L91.5706 756.985 L91.5706 753.049 Z\" fill=\"#000000\" fill-rule=\"nonzero\" fill-opacity=\"1\" /><path clip-path=\"url(#clip150)\" d=\"M95.1586 535.807 L111.478 535.807 L111.478 539.742 L89.5336 539.742 L89.5336 535.807 Q92.1956 533.052 96.7789 528.422 Q101.385 523.77 102.566 522.427 Q104.811 519.904 105.691 518.168 Q106.594 516.409 106.594 514.719 Q106.594 511.964 104.649 510.228 Q102.728 508.492 99.6261 508.492 Q97.4271 508.492 94.9734 509.256 Q92.5428 510.02 89.7651 511.571 L89.7651 506.848 Q92.5891 505.714 95.0428 505.136 Q97.4965 504.557 99.5335 504.557 Q104.904 504.557 108.098 507.242 Q111.293 509.927 111.293 514.418 Q111.293 516.548 110.483 518.469 Q109.696 520.367 107.589 522.96 Q107.01 523.631 103.909 526.848 Q100.807 530.043 95.1586 535.807 Z\" fill=\"#000000\" fill-rule=\"nonzero\" fill-opacity=\"1\" /><path clip-path=\"url(#clip150)\" d=\"M104.348 303.865 Q107.705 304.582 109.58 306.851 Q111.478 309.119 111.478 312.453 Q111.478 317.569 107.959 320.369 Q104.441 323.17 97.9595 323.17 Q95.7836 323.17 93.4688 322.731 Q91.1771 322.314 88.7234 321.457 L88.7234 316.944 Q90.6678 318.078 92.9826 318.656 Q95.2974 319.235 97.8206 319.235 Q102.219 319.235 104.51 317.499 Q106.825 315.763 106.825 312.453 Q106.825 309.397 104.672 307.684 Q102.543 305.948 98.7234 305.948 L94.6956 305.948 L94.6956 302.106 L98.9085 302.106 Q102.358 302.106 104.186 300.74 Q106.015 299.351 106.015 296.758 Q106.015 294.096 104.117 292.684 Q102.242 291.249 98.7234 291.249 Q96.8021 291.249 94.603 291.666 Q92.4039 292.083 89.7651 292.962 L89.7651 288.796 Q92.4271 288.055 94.7419 287.684 Q97.0798 287.314 99.14 287.314 Q104.464 287.314 107.566 289.745 Q110.668 292.152 110.668 296.272 Q110.668 299.143 109.024 301.133 Q107.381 303.101 104.348 303.865 Z\" fill=\"#000000\" fill-rule=\"nonzero\" fill-opacity=\"1\" /><path clip-path=\"url(#clip150)\" d=\"M101.895 74.7703 L90.0891 93.2193 L101.895 93.2193 L101.895 74.7703 M100.668 70.6963 L106.547 70.6963 L106.547 93.2193 L111.478 93.2193 L111.478 97.1082 L106.547 97.1082 L106.547 105.256 L101.895 105.256 L101.895 97.1082 L86.2929 97.1082 L86.2929 92.5943 L100.668 70.6963 Z\" fill=\"#000000\" fill-rule=\"nonzero\" fill-opacity=\"1\" /><polyline clip-path=\"url(#clip152)\" style=\"stroke:#009af9; stroke-linecap:round; stroke-linejoin:round; stroke-width:4; stroke-opacity:1; fill:none\" points=\"209.891,87.9763 220.63,115.866 231.369,143.466 262.818,222.628 294.267,299.307 325.715,373.504 357.164,445.219 386.424,509.714 415.683,572.061 435.293,612.642 454.902,652.258 474.512,690.91 494.121,728.596 526.529,788.761 558.936,846.292 589.071,897.424 619.206,946.277 657.036,1004.38 694.866,1058.89 728.8,1104.73 762.734,1147.68 782.155,1170.96 801.576,1193.29 820.997,1214.68 840.418,1235.12 869.452,1263.92 898.487,1290.6 935.622,1321.64 972.757,1349.21 1006.65,1371.37 1040.54,1390.63 1059.83,1400.31 1079.12,1409.05 1098.41,1416.86 1117.7,1423.74 1148.27,1432.73 1178.85,1439.37 1216.84,1444.35 1254.84,1445.72 1283.93,1444.31 1313.03,1440.78 1333.54,1437.01 1354.05,1432.19 1374.56,1426.31 1395.07,1419.38 1425.72,1407.05 1456.37,1392.36 1491.23,1372.79 1526.09,1350.18 1560.61,1324.77 1595.14,1296.37 1633.12,1261.68 1671.1,1223.36 1700.11,1191.65 1729.12,1157.84 1765.73,1112.15 1802.34,1063.09 1836.2,1014.73 1870.06,963.485 1904.99,907.625 1939.91,848.704 1975.3,785.857 2010.7,719.866 2047.66,647.604 2084.62,571.913 2113.74,509.874 2142.85,445.707 2176.01,370.053 2209.16,291.64 2242.31,210.469 2275.46,126.539 2279.18,116.951 2282.9,107.327 2286.62,97.6691 2290.34,87.9763 \"/>\n",
       "<path clip-path=\"url(#clip150)\" d=\"M2006.29 1438.47 L2279.25 1438.47 L2279.25 1334.79 L2006.29 1334.79  Z\" fill=\"#ffffff\" fill-rule=\"evenodd\" fill-opacity=\"1\"/>\n",
       "<polyline clip-path=\"url(#clip150)\" style=\"stroke:#000000; stroke-linecap:round; stroke-linejoin:round; stroke-width:4; stroke-opacity:1; fill:none\" points=\"2006.29,1438.47 2279.25,1438.47 2279.25,1334.79 2006.29,1334.79 2006.29,1438.47 \"/>\n",
       "<polyline clip-path=\"url(#clip150)\" style=\"stroke:#009af9; stroke-linecap:round; stroke-linejoin:round; stroke-width:4; stroke-opacity:1; fill:none\" points=\"2030.79,1386.63 2177.81,1386.63 \"/>\n",
       "<path clip-path=\"url(#clip150)\" d=\"M2216.16 1406.32 Q2214.35 1410.95 2212.64 1412.36 Q2210.92 1413.78 2208.05 1413.78 L2204.65 1413.78 L2204.65 1410.21 L2207.15 1410.21 Q2208.91 1410.21 2209.88 1409.38 Q2210.85 1408.54 2212.04 1405.44 L2212.8 1403.5 L2202.31 1377.99 L2206.83 1377.99 L2214.93 1398.27 L2223.03 1377.99 L2227.54 1377.99 L2216.16 1406.32 Z\" fill=\"#000000\" fill-rule=\"nonzero\" fill-opacity=\"1\" /><path clip-path=\"url(#clip150)\" d=\"M2234.84 1399.98 L2242.48 1399.98 L2242.48 1373.61 L2234.16 1375.28 L2234.16 1371.02 L2242.43 1369.35 L2247.1 1369.35 L2247.1 1399.98 L2254.74 1399.98 L2254.74 1403.91 L2234.84 1403.91 L2234.84 1399.98 Z\" fill=\"#000000\" fill-rule=\"nonzero\" fill-opacity=\"1\" /></svg>\n"
      ],
      "text/html": [
       "<?xml version=\"1.0\" encoding=\"utf-8\"?>\n",
       "<svg xmlns=\"http://www.w3.org/2000/svg\" xmlns:xlink=\"http://www.w3.org/1999/xlink\" width=\"600\" height=\"400\" viewBox=\"0 0 2400 1600\">\n",
       "<defs>\n",
       "  <clipPath id=\"clip200\">\n",
       "    <rect x=\"0\" y=\"0\" width=\"2400\" height=\"1600\"/>\n",
       "  </clipPath>\n",
       "</defs>\n",
       "<path clip-path=\"url(#clip200)\" d=\"M0 1600 L2400 1600 L2400 0 L0 0  Z\" fill=\"#ffffff\" fill-rule=\"evenodd\" fill-opacity=\"1\"/>\n",
       "<defs>\n",
       "  <clipPath id=\"clip201\">\n",
       "    <rect x=\"480\" y=\"0\" width=\"1681\" height=\"1600\"/>\n",
       "  </clipPath>\n",
       "</defs>\n",
       "<path clip-path=\"url(#clip200)\" d=\"M147.478 1486.45 L2352.76 1486.45 L2352.76 47.2441 L147.478 47.2441  Z\" fill=\"#ffffff\" fill-rule=\"evenodd\" fill-opacity=\"1\"/>\n",
       "<defs>\n",
       "  <clipPath id=\"clip202\">\n",
       "    <rect x=\"147\" y=\"47\" width=\"2206\" height=\"1440\"/>\n",
       "  </clipPath>\n",
       "</defs>\n",
       "<polyline clip-path=\"url(#clip202)\" style=\"stroke:#000000; stroke-linecap:round; stroke-linejoin:round; stroke-width:2; stroke-opacity:0.1; fill:none\" points=\"209.891,1486.45 209.891,47.2441 \"/>\n",
       "<polyline clip-path=\"url(#clip202)\" style=\"stroke:#000000; stroke-linecap:round; stroke-linejoin:round; stroke-width:2; stroke-opacity:0.1; fill:none\" points=\"625.982,1486.45 625.982,47.2441 \"/>\n",
       "<polyline clip-path=\"url(#clip202)\" style=\"stroke:#000000; stroke-linecap:round; stroke-linejoin:round; stroke-width:2; stroke-opacity:0.1; fill:none\" points=\"1042.07,1486.45 1042.07,47.2441 \"/>\n",
       "<polyline clip-path=\"url(#clip202)\" style=\"stroke:#000000; stroke-linecap:round; stroke-linejoin:round; stroke-width:2; stroke-opacity:0.1; fill:none\" points=\"1458.16,1486.45 1458.16,47.2441 \"/>\n",
       "<polyline clip-path=\"url(#clip202)\" style=\"stroke:#000000; stroke-linecap:round; stroke-linejoin:round; stroke-width:2; stroke-opacity:0.1; fill:none\" points=\"1874.25,1486.45 1874.25,47.2441 \"/>\n",
       "<polyline clip-path=\"url(#clip202)\" style=\"stroke:#000000; stroke-linecap:round; stroke-linejoin:round; stroke-width:2; stroke-opacity:0.1; fill:none\" points=\"2290.34,1486.45 2290.34,47.2441 \"/>\n",
       "<polyline clip-path=\"url(#clip202)\" style=\"stroke:#000000; stroke-linecap:round; stroke-linejoin:round; stroke-width:2; stroke-opacity:0.1; fill:none\" points=\"147.478,1391.43 2352.76,1391.43 \"/>\n",
       "<polyline clip-path=\"url(#clip202)\" style=\"stroke:#000000; stroke-linecap:round; stroke-linejoin:round; stroke-width:2; stroke-opacity:0.1; fill:none\" points=\"147.478,1174.19 2352.76,1174.19 \"/>\n",
       "<polyline clip-path=\"url(#clip202)\" style=\"stroke:#000000; stroke-linecap:round; stroke-linejoin:round; stroke-width:2; stroke-opacity:0.1; fill:none\" points=\"147.478,956.947 2352.76,956.947 \"/>\n",
       "<polyline clip-path=\"url(#clip202)\" style=\"stroke:#000000; stroke-linecap:round; stroke-linejoin:round; stroke-width:2; stroke-opacity:0.1; fill:none\" points=\"147.478,739.705 2352.76,739.705 \"/>\n",
       "<polyline clip-path=\"url(#clip202)\" style=\"stroke:#000000; stroke-linecap:round; stroke-linejoin:round; stroke-width:2; stroke-opacity:0.1; fill:none\" points=\"147.478,522.462 2352.76,522.462 \"/>\n",
       "<polyline clip-path=\"url(#clip202)\" style=\"stroke:#000000; stroke-linecap:round; stroke-linejoin:round; stroke-width:2; stroke-opacity:0.1; fill:none\" points=\"147.478,305.219 2352.76,305.219 \"/>\n",
       "<polyline clip-path=\"url(#clip202)\" style=\"stroke:#000000; stroke-linecap:round; stroke-linejoin:round; stroke-width:2; stroke-opacity:0.1; fill:none\" points=\"147.478,87.9763 2352.76,87.9763 \"/>\n",
       "<polyline clip-path=\"url(#clip200)\" style=\"stroke:#000000; stroke-linecap:round; stroke-linejoin:round; stroke-width:4; stroke-opacity:1; fill:none\" points=\"147.478,1486.45 2352.76,1486.45 \"/>\n",
       "<polyline clip-path=\"url(#clip200)\" style=\"stroke:#000000; stroke-linecap:round; stroke-linejoin:round; stroke-width:4; stroke-opacity:1; fill:none\" points=\"209.891,1486.45 209.891,1467.55 \"/>\n",
       "<polyline clip-path=\"url(#clip200)\" style=\"stroke:#000000; stroke-linecap:round; stroke-linejoin:round; stroke-width:4; stroke-opacity:1; fill:none\" points=\"625.982,1486.45 625.982,1467.55 \"/>\n",
       "<polyline clip-path=\"url(#clip200)\" style=\"stroke:#000000; stroke-linecap:round; stroke-linejoin:round; stroke-width:4; stroke-opacity:1; fill:none\" points=\"1042.07,1486.45 1042.07,1467.55 \"/>\n",
       "<polyline clip-path=\"url(#clip200)\" style=\"stroke:#000000; stroke-linecap:round; stroke-linejoin:round; stroke-width:4; stroke-opacity:1; fill:none\" points=\"1458.16,1486.45 1458.16,1467.55 \"/>\n",
       "<polyline clip-path=\"url(#clip200)\" style=\"stroke:#000000; stroke-linecap:round; stroke-linejoin:round; stroke-width:4; stroke-opacity:1; fill:none\" points=\"1874.25,1486.45 1874.25,1467.55 \"/>\n",
       "<polyline clip-path=\"url(#clip200)\" style=\"stroke:#000000; stroke-linecap:round; stroke-linejoin:round; stroke-width:4; stroke-opacity:1; fill:none\" points=\"2290.34,1486.45 2290.34,1467.55 \"/>\n",
       "<path clip-path=\"url(#clip200)\" d=\"M179.649 1532.02 L209.324 1532.02 L209.324 1535.95 L179.649 1535.95 L179.649 1532.02 Z\" fill=\"#000000\" fill-rule=\"nonzero\" fill-opacity=\"1\" /><path clip-path=\"url(#clip200)\" d=\"M220.227 1544.91 L227.866 1544.91 L227.866 1518.55 L219.556 1520.21 L219.556 1515.95 L227.82 1514.29 L232.495 1514.29 L232.495 1544.91 L240.134 1544.91 L240.134 1548.85 L220.227 1548.85 L220.227 1544.91 Z\" fill=\"#000000\" fill-rule=\"nonzero\" fill-opacity=\"1\" /><path clip-path=\"url(#clip200)\" d=\"M625.982 1517.37 Q622.371 1517.37 620.542 1520.93 Q618.736 1524.47 618.736 1531.6 Q618.736 1538.71 620.542 1542.27 Q622.371 1545.82 625.982 1545.82 Q629.616 1545.82 631.421 1542.27 Q633.25 1538.71 633.25 1531.6 Q633.25 1524.47 631.421 1520.93 Q629.616 1517.37 625.982 1517.37 M625.982 1513.66 Q631.792 1513.66 634.847 1518.27 Q637.926 1522.85 637.926 1531.6 Q637.926 1540.33 634.847 1544.94 Q631.792 1549.52 625.982 1549.52 Q620.171 1549.52 617.093 1544.94 Q614.037 1540.33 614.037 1531.6 Q614.037 1522.85 617.093 1518.27 Q620.171 1513.66 625.982 1513.66 Z\" fill=\"#000000\" fill-rule=\"nonzero\" fill-opacity=\"1\" /><path clip-path=\"url(#clip200)\" d=\"M1032.45 1544.91 L1040.09 1544.91 L1040.09 1518.55 L1031.78 1520.21 L1031.78 1515.95 L1040.05 1514.29 L1044.72 1514.29 L1044.72 1544.91 L1052.36 1544.91 L1052.36 1548.85 L1032.45 1548.85 L1032.45 1544.91 Z\" fill=\"#000000\" fill-rule=\"nonzero\" fill-opacity=\"1\" /><path clip-path=\"url(#clip200)\" d=\"M1452.81 1544.91 L1469.13 1544.91 L1469.13 1548.85 L1447.19 1548.85 L1447.19 1544.91 Q1449.85 1542.16 1454.44 1537.53 Q1459.04 1532.88 1460.22 1531.53 Q1462.47 1529.01 1463.35 1527.27 Q1464.25 1525.51 1464.25 1523.82 Q1464.25 1521.07 1462.31 1519.33 Q1460.38 1517.6 1457.28 1517.6 Q1455.08 1517.6 1452.63 1518.36 Q1450.2 1519.13 1447.42 1520.68 L1447.42 1515.95 Q1450.25 1514.82 1452.7 1514.24 Q1455.15 1513.66 1457.19 1513.66 Q1462.56 1513.66 1465.75 1516.35 Q1468.95 1519.03 1468.95 1523.52 Q1468.95 1525.65 1468.14 1527.57 Q1467.35 1529.47 1465.25 1532.07 Q1464.67 1532.74 1461.56 1535.95 Q1458.46 1539.15 1452.81 1544.91 Z\" fill=\"#000000\" fill-rule=\"nonzero\" fill-opacity=\"1\" /><path clip-path=\"url(#clip200)\" d=\"M1878.5 1530.21 Q1881.86 1530.93 1883.73 1533.2 Q1885.63 1535.47 1885.63 1538.8 Q1885.63 1543.92 1882.11 1546.72 Q1878.59 1549.52 1872.11 1549.52 Q1869.94 1549.52 1867.62 1549.08 Q1865.33 1548.66 1862.87 1547.81 L1862.87 1543.29 Q1864.82 1544.43 1867.13 1545.01 Q1869.45 1545.58 1871.97 1545.58 Q1876.37 1545.58 1878.66 1543.85 Q1880.98 1542.11 1880.98 1538.8 Q1880.98 1535.75 1878.82 1534.03 Q1876.69 1532.3 1872.87 1532.3 L1868.85 1532.3 L1868.85 1528.45 L1873.06 1528.45 Q1876.51 1528.45 1878.34 1527.09 Q1880.17 1525.7 1880.17 1523.11 Q1880.17 1520.45 1878.27 1519.03 Q1876.39 1517.6 1872.87 1517.6 Q1870.95 1517.6 1868.75 1518.01 Q1866.56 1518.43 1863.92 1519.31 L1863.92 1515.14 Q1866.58 1514.4 1868.89 1514.03 Q1871.23 1513.66 1873.29 1513.66 Q1878.62 1513.66 1881.72 1516.09 Q1884.82 1518.5 1884.82 1522.62 Q1884.82 1525.49 1883.18 1527.48 Q1881.53 1529.45 1878.5 1530.21 Z\" fill=\"#000000\" fill-rule=\"nonzero\" fill-opacity=\"1\" /><path clip-path=\"url(#clip200)\" d=\"M2293.35 1518.36 L2281.55 1536.81 L2293.35 1536.81 L2293.35 1518.36 M2292.12 1514.29 L2298 1514.29 L2298 1536.81 L2302.93 1536.81 L2302.93 1540.7 L2298 1540.7 L2298 1548.85 L2293.35 1548.85 L2293.35 1540.7 L2277.75 1540.7 L2277.75 1536.19 L2292.12 1514.29 Z\" fill=\"#000000\" fill-rule=\"nonzero\" fill-opacity=\"1\" /><polyline clip-path=\"url(#clip200)\" style=\"stroke:#000000; stroke-linecap:round; stroke-linejoin:round; stroke-width:4; stroke-opacity:1; fill:none\" points=\"147.478,1486.45 147.478,47.2441 \"/>\n",
       "<polyline clip-path=\"url(#clip200)\" style=\"stroke:#000000; stroke-linecap:round; stroke-linejoin:round; stroke-width:4; stroke-opacity:1; fill:none\" points=\"147.478,1391.43 166.376,1391.43 \"/>\n",
       "<polyline clip-path=\"url(#clip200)\" style=\"stroke:#000000; stroke-linecap:round; stroke-linejoin:round; stroke-width:4; stroke-opacity:1; fill:none\" points=\"147.478,1174.19 166.376,1174.19 \"/>\n",
       "<polyline clip-path=\"url(#clip200)\" style=\"stroke:#000000; stroke-linecap:round; stroke-linejoin:round; stroke-width:4; stroke-opacity:1; fill:none\" points=\"147.478,956.947 166.376,956.947 \"/>\n",
       "<polyline clip-path=\"url(#clip200)\" style=\"stroke:#000000; stroke-linecap:round; stroke-linejoin:round; stroke-width:4; stroke-opacity:1; fill:none\" points=\"147.478,739.705 166.376,739.705 \"/>\n",
       "<polyline clip-path=\"url(#clip200)\" style=\"stroke:#000000; stroke-linecap:round; stroke-linejoin:round; stroke-width:4; stroke-opacity:1; fill:none\" points=\"147.478,522.462 166.376,522.462 \"/>\n",
       "<polyline clip-path=\"url(#clip200)\" style=\"stroke:#000000; stroke-linecap:round; stroke-linejoin:round; stroke-width:4; stroke-opacity:1; fill:none\" points=\"147.478,305.219 166.376,305.219 \"/>\n",
       "<polyline clip-path=\"url(#clip200)\" style=\"stroke:#000000; stroke-linecap:round; stroke-linejoin:round; stroke-width:4; stroke-opacity:1; fill:none\" points=\"147.478,87.9763 166.376,87.9763 \"/>\n",
       "<path clip-path=\"url(#clip200)\" d=\"M51.3625 1391.88 L81.0383 1391.88 L81.0383 1395.82 L51.3625 1395.82 L51.3625 1391.88 Z\" fill=\"#000000\" fill-rule=\"nonzero\" fill-opacity=\"1\" /><path clip-path=\"url(#clip200)\" d=\"M95.1586 1404.78 L111.478 1404.78 L111.478 1408.71 L89.5336 1408.71 L89.5336 1404.78 Q92.1956 1402.02 96.7789 1397.39 Q101.385 1392.74 102.566 1391.4 Q104.811 1388.88 105.691 1387.14 Q106.594 1385.38 106.594 1383.69 Q106.594 1380.94 104.649 1379.2 Q102.728 1377.46 99.6261 1377.46 Q97.4271 1377.46 94.9734 1378.23 Q92.5428 1378.99 89.7651 1380.54 L89.7651 1375.82 Q92.5891 1374.69 95.0428 1374.11 Q97.4965 1373.53 99.5335 1373.53 Q104.904 1373.53 108.098 1376.21 Q111.293 1378.9 111.293 1383.39 Q111.293 1385.52 110.483 1387.44 Q109.696 1389.34 107.589 1391.93 Q107.01 1392.6 103.909 1395.82 Q100.807 1399.01 95.1586 1404.78 Z\" fill=\"#000000\" fill-rule=\"nonzero\" fill-opacity=\"1\" /><path clip-path=\"url(#clip200)\" d=\"M50.9921 1174.64 L80.6679 1174.64 L80.6679 1178.58 L50.9921 1178.58 L50.9921 1174.64 Z\" fill=\"#000000\" fill-rule=\"nonzero\" fill-opacity=\"1\" /><path clip-path=\"url(#clip200)\" d=\"M91.5706 1187.53 L99.2095 1187.53 L99.2095 1161.17 L90.8993 1162.84 L90.8993 1158.58 L99.1632 1156.91 L103.839 1156.91 L103.839 1187.53 L111.478 1187.53 L111.478 1191.47 L91.5706 1191.47 L91.5706 1187.53 Z\" fill=\"#000000\" fill-rule=\"nonzero\" fill-opacity=\"1\" /><path clip-path=\"url(#clip200)\" d=\"M99.5335 942.746 Q95.9224 942.746 94.0937 946.311 Q92.2882 949.853 92.2882 956.982 Q92.2882 964.089 94.0937 967.653 Q95.9224 971.195 99.5335 971.195 Q103.168 971.195 104.973 967.653 Q106.802 964.089 106.802 956.982 Q106.802 949.853 104.973 946.311 Q103.168 942.746 99.5335 942.746 M99.5335 939.042 Q105.344 939.042 108.399 943.649 Q111.478 948.232 111.478 956.982 Q111.478 965.709 108.399 970.315 Q105.344 974.899 99.5335 974.899 Q93.7234 974.899 90.6447 970.315 Q87.5892 965.709 87.5892 956.982 Q87.5892 948.232 90.6447 943.649 Q93.7234 939.042 99.5335 939.042 Z\" fill=\"#000000\" fill-rule=\"nonzero\" fill-opacity=\"1\" /><path clip-path=\"url(#clip200)\" d=\"M91.5706 753.049 L99.2095 753.049 L99.2095 726.684 L90.8993 728.351 L90.8993 724.091 L99.1632 722.425 L103.839 722.425 L103.839 753.049 L111.478 753.049 L111.478 756.985 L91.5706 756.985 L91.5706 753.049 Z\" fill=\"#000000\" fill-rule=\"nonzero\" fill-opacity=\"1\" /><path clip-path=\"url(#clip200)\" d=\"M95.1586 535.807 L111.478 535.807 L111.478 539.742 L89.5336 539.742 L89.5336 535.807 Q92.1956 533.052 96.7789 528.422 Q101.385 523.77 102.566 522.427 Q104.811 519.904 105.691 518.168 Q106.594 516.409 106.594 514.719 Q106.594 511.964 104.649 510.228 Q102.728 508.492 99.6261 508.492 Q97.4271 508.492 94.9734 509.256 Q92.5428 510.02 89.7651 511.571 L89.7651 506.848 Q92.5891 505.714 95.0428 505.136 Q97.4965 504.557 99.5335 504.557 Q104.904 504.557 108.098 507.242 Q111.293 509.927 111.293 514.418 Q111.293 516.548 110.483 518.469 Q109.696 520.367 107.589 522.96 Q107.01 523.631 103.909 526.848 Q100.807 530.043 95.1586 535.807 Z\" fill=\"#000000\" fill-rule=\"nonzero\" fill-opacity=\"1\" /><path clip-path=\"url(#clip200)\" d=\"M104.348 303.865 Q107.705 304.582 109.58 306.851 Q111.478 309.119 111.478 312.453 Q111.478 317.569 107.959 320.369 Q104.441 323.17 97.9595 323.17 Q95.7836 323.17 93.4688 322.731 Q91.1771 322.314 88.7234 321.457 L88.7234 316.944 Q90.6678 318.078 92.9826 318.656 Q95.2974 319.235 97.8206 319.235 Q102.219 319.235 104.51 317.499 Q106.825 315.763 106.825 312.453 Q106.825 309.397 104.672 307.684 Q102.543 305.948 98.7234 305.948 L94.6956 305.948 L94.6956 302.106 L98.9085 302.106 Q102.358 302.106 104.186 300.74 Q106.015 299.351 106.015 296.758 Q106.015 294.096 104.117 292.684 Q102.242 291.249 98.7234 291.249 Q96.8021 291.249 94.603 291.666 Q92.4039 292.083 89.7651 292.962 L89.7651 288.796 Q92.4271 288.055 94.7419 287.684 Q97.0798 287.314 99.14 287.314 Q104.464 287.314 107.566 289.745 Q110.668 292.152 110.668 296.272 Q110.668 299.143 109.024 301.133 Q107.381 303.101 104.348 303.865 Z\" fill=\"#000000\" fill-rule=\"nonzero\" fill-opacity=\"1\" /><path clip-path=\"url(#clip200)\" d=\"M101.895 74.7703 L90.0891 93.2193 L101.895 93.2193 L101.895 74.7703 M100.668 70.6963 L106.547 70.6963 L106.547 93.2193 L111.478 93.2193 L111.478 97.1082 L106.547 97.1082 L106.547 105.256 L101.895 105.256 L101.895 97.1082 L86.2929 97.1082 L86.2929 92.5943 L100.668 70.6963 Z\" fill=\"#000000\" fill-rule=\"nonzero\" fill-opacity=\"1\" /><polyline clip-path=\"url(#clip202)\" style=\"stroke:#009af9; stroke-linecap:round; stroke-linejoin:round; stroke-width:4; stroke-opacity:1; fill:none\" points=\"209.891,87.9763 220.63,115.866 231.369,143.466 262.818,222.628 294.267,299.307 325.715,373.504 357.164,445.219 386.424,509.714 415.683,572.061 435.293,612.642 454.902,652.258 474.512,690.91 494.121,728.596 526.529,788.761 558.936,846.292 589.071,897.424 619.206,946.277 657.036,1004.38 694.866,1058.89 728.8,1104.73 762.734,1147.68 782.155,1170.96 801.576,1193.29 820.997,1214.68 840.418,1235.12 869.452,1263.92 898.487,1290.6 935.622,1321.64 972.757,1349.21 1006.65,1371.37 1040.54,1390.63 1059.83,1400.31 1079.12,1409.05 1098.41,1416.86 1117.7,1423.74 1148.27,1432.73 1178.85,1439.37 1216.84,1444.35 1254.84,1445.72 1283.93,1444.31 1313.03,1440.78 1333.54,1437.01 1354.05,1432.19 1374.56,1426.31 1395.07,1419.38 1425.72,1407.05 1456.37,1392.36 1491.23,1372.79 1526.09,1350.18 1560.61,1324.77 1595.14,1296.37 1633.12,1261.68 1671.1,1223.36 1700.11,1191.65 1729.12,1157.84 1765.73,1112.15 1802.34,1063.09 1836.2,1014.73 1870.06,963.485 1904.99,907.625 1939.91,848.704 1975.3,785.857 2010.7,719.866 2047.66,647.604 2084.62,571.913 2113.74,509.874 2142.85,445.707 2176.01,370.053 2209.16,291.64 2242.31,210.469 2275.46,126.539 2279.18,116.951 2282.9,107.327 2286.62,97.6691 2290.34,87.9763 \"/>\n",
       "<path clip-path=\"url(#clip200)\" d=\"M2006.29 1438.47 L2279.25 1438.47 L2279.25 1334.79 L2006.29 1334.79  Z\" fill=\"#ffffff\" fill-rule=\"evenodd\" fill-opacity=\"1\"/>\n",
       "<polyline clip-path=\"url(#clip200)\" style=\"stroke:#000000; stroke-linecap:round; stroke-linejoin:round; stroke-width:4; stroke-opacity:1; fill:none\" points=\"2006.29,1438.47 2279.25,1438.47 2279.25,1334.79 2006.29,1334.79 2006.29,1438.47 \"/>\n",
       "<polyline clip-path=\"url(#clip200)\" style=\"stroke:#009af9; stroke-linecap:round; stroke-linejoin:round; stroke-width:4; stroke-opacity:1; fill:none\" points=\"2030.79,1386.63 2177.81,1386.63 \"/>\n",
       "<path clip-path=\"url(#clip200)\" d=\"M2216.16 1406.32 Q2214.35 1410.95 2212.64 1412.36 Q2210.92 1413.78 2208.05 1413.78 L2204.65 1413.78 L2204.65 1410.21 L2207.15 1410.21 Q2208.91 1410.21 2209.88 1409.38 Q2210.85 1408.54 2212.04 1405.44 L2212.8 1403.5 L2202.31 1377.99 L2206.83 1377.99 L2214.93 1398.27 L2223.03 1377.99 L2227.54 1377.99 L2216.16 1406.32 Z\" fill=\"#000000\" fill-rule=\"nonzero\" fill-opacity=\"1\" /><path clip-path=\"url(#clip200)\" d=\"M2234.84 1399.98 L2242.48 1399.98 L2242.48 1373.61 L2234.16 1375.28 L2234.16 1371.02 L2242.43 1369.35 L2247.1 1369.35 L2247.1 1399.98 L2254.74 1399.98 L2254.74 1403.91 L2234.84 1403.91 L2234.84 1399.98 Z\" fill=\"#000000\" fill-rule=\"nonzero\" fill-opacity=\"1\" /></svg>\n"
      ]
     },
     "execution_count": 25,
     "metadata": {},
     "output_type": "execute_result"
    }
   ],
   "source": [
    "plot(x ->(x-3)*x,-1,4)"
   ]
  },
  {
   "cell_type": "markdown",
   "metadata": {},
   "source": [
    "Więcej na https://docs.juliahub.com/Roots/o0Xsi/2.2.5/"
   ]
  },
  {
   "cell_type": "markdown",
   "metadata": {},
   "source": [
    "### 4. Wyciąganie informacji z przebiegu działania funkcji: \n",
    "\n",
    "https://docs.juliahub.com/Roots/o0Xsi/2.2.5/reference/#Roots.Tracks "
   ]
  },
  {
   "cell_type": "code",
   "execution_count": 26,
   "metadata": {},
   "outputs": [
    {
     "data": {
      "text/plain": [
       "Algorithm has not been run"
      ]
     },
     "execution_count": 26,
     "metadata": {},
     "output_type": "execute_result"
    }
   ],
   "source": [
    "tracker = Roots.Tracks()"
   ]
  },
  {
   "cell_type": "code",
   "execution_count": 27,
   "metadata": {},
   "outputs": [
    {
     "data": {
      "text/plain": [
       "0.7390851332151607"
      ]
     },
     "execution_count": 27,
     "metadata": {},
     "output_type": "execute_result"
    }
   ],
   "source": [
    "find_zero(f, (0, 2), Roots.Secant(), tracks=tracker)"
   ]
  },
  {
   "cell_type": "code",
   "execution_count": 28,
   "metadata": {},
   "outputs": [
    {
     "data": {
      "text/plain": [
       "Results of univariate zero finding:\n",
       "\n",
       "* Converged to: 0.7390851332151607\n",
       "* Algorithm: Secant()\n",
       "* iterations: 7\n",
       "* function evaluations ≈ 9\n",
       "* stopped as f(x_n) = 0\n",
       "\n",
       "Trace:\n",
       "x₁ = 0,\t fx₁ = 1\n",
       "x₂ = 2,\t fx₂ = -2.4161468365471426\n",
       "x₃ = 0.58545492793321863,\t fx₃ = 0.24800586076647069\n",
       "x₄ = 0.7171348682551959,\t fx₄ = 0.036556996479681581\n",
       "x₅ = 0.73990076549012351,\t fx₅ = -0.0013652977662494958\n",
       "x₆ = 0.73908113605420545,\t fx₆ = 6.6896907529034877e-06\n",
       "x₇ = 0.73908513249559438,\t fx₇ = 1.2042747910001594e-09\n",
       "x₈ = 0.73908513321516134,\t fx₈ = -1.1102230246251565e-15\n",
       "x₉ = 0.73908513321516067,\t fx₉ = 0\n",
       "\n"
      ]
     },
     "execution_count": 28,
     "metadata": {},
     "output_type": "execute_result"
    }
   ],
   "source": [
    "tracker"
   ]
  },
  {
   "cell_type": "code",
   "execution_count": 29,
   "metadata": {},
   "outputs": [
    {
     "data": {
      "text/plain": [
       "7"
      ]
     },
     "execution_count": 29,
     "metadata": {},
     "output_type": "execute_result"
    }
   ],
   "source": [
    "tracker.steps"
   ]
  },
  {
   "cell_type": "code",
   "execution_count": 30,
   "metadata": {},
   "outputs": [
    {
     "data": {
      "text/plain": [
       "9"
      ]
     },
     "execution_count": 30,
     "metadata": {},
     "output_type": "execute_result"
    }
   ],
   "source": [
    " tracker.fncalls"
   ]
  },
  {
   "cell_type": "markdown",
   "metadata": {},
   "source": [
    "<b>WAŻNE: empty!(tracker) po każdym wywołaniu funkcji, inaczej zostają tam wyniki z poprzednich wywołań zakłamujące dane.</b>"
   ]
  },
  {
   "cell_type": "markdown",
   "metadata": {},
   "source": [
    "### Zadanie:\n",
    "\n",
    "A. Wybrać trzy metody poszukiwania pierwiastków: \n",
    "\n",
    "* wykorzystującą przedział i zmianę znaku, \n",
    "* wykorzystującą pochodną, \n",
    "* wykorzystującą przybliżenie pochodnej\n",
    "\n",
    "    1. Każdą z trzech wybranych metod przetestować (ilość iteracji, ilość wywołań funkcji) na sześciu wybranych  funkcjach ze zbioru http://people.sc.fsu.edu/~jburkardt/py_src/test_zero/test_zero.html Wyniki przedstawić w formie tabelki. <b>Pamiętać o sprawdzeniu czy wynik jest poprawny poprzez obliczenie wartości funkcji dla znalezionego pierwiastka !</b> (3 pkt)\n",
    "\n",
    "    2. Zademonstrować wybrany, ciekawy przykład trudnej funkcji z p.1 i działania metod na niej. (1 pkt)\n",
    "\n",
    "    3. Dla każdej z wybranych metod zademonstrować i wyjaśnić po jednym  przykładzie, dla którego nie działają (można na podstawie p.1 lub wymyślić własny)(1 pkt)\n",
    "\n",
    "B. Narysować <a href=\"https://pl.wikipedia.org/wiki/Wst%C4%99ga_Newtona\"> wstegę Newtona </a> i objaśnić, w jaki sposób powstała i jaki jest jej związek z metodą Newtona do znajdowania pierwiastków. Sposób i język - dowolny. (1 pkt)"
   ]
  },
  {
   "cell_type": "code",
   "execution_count": null,
   "metadata": {},
   "outputs": [],
   "source": []
  }
 ],
 "metadata": {
  "kernelspec": {
   "display_name": "Julia 1.11.3",
   "language": "julia",
   "name": "julia-1.11"
  },
  "language_info": {
   "file_extension": ".jl",
   "mimetype": "application/julia",
   "name": "julia",
   "version": "1.11.3"
  }
 },
 "nbformat": 4,
 "nbformat_minor": 4
}
