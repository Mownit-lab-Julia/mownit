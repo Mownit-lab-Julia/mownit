{
 "cells": [
  {
   "cell_type": "markdown",
   "metadata": {},
   "source": [
    "# MOwNiT \n",
    "## Laboratorium\n",
    "## Wybrane zagadnienia algebry liniowej, faktoryzacja\n",
    "### Algebra liniowa w Julii\n",
    "https://docs.julialang.org/en/v1.2/stdlib/LinearAlgebra/index.html"
   ]
  },
  {
   "cell_type": "code",
   "execution_count": 1,
   "metadata": {},
   "outputs": [],
   "source": [
    "using(LinearAlgebra)"
   ]
  },
  {
   "cell_type": "code",
   "execution_count": 2,
   "metadata": {
    "scrolled": true
   },
   "outputs": [
    {
     "data": {
      "text/html": [
       "# 11 methods for generic function <b>factorize</b>:<ul><li> factorize(A::<b>StridedArray{T, 2}</b>)<i> where T</i> in LinearAlgebra at <a href=\"file://C:/buildbot/worker/package_win64/build/usr/share/julia/stdlib/v1.5/LinearAlgebra/src/dense.jl\" target=\"_blank\">C:\\Users\\kzaja\\AppData\\Local\\Programs\\Julia 1.5.3\\share\\julia\\stdlib\\v1.5\\LinearAlgebra\\src\\dense.jl:1207</a></li> <li> factorize(A::<b>Adjoint</b>) in LinearAlgebra at <a href=\"file://C:/buildbot/worker/package_win64/build/usr/share/julia/stdlib/v1.5/LinearAlgebra/src/dense.jl\" target=\"_blank\">C:\\Users\\kzaja\\AppData\\Local\\Programs\\Julia 1.5.3\\share\\julia\\stdlib\\v1.5\\LinearAlgebra\\src\\dense.jl:1283</a></li> <li> factorize(A::<b>Transpose</b>) in LinearAlgebra at <a href=\"file://C:/buildbot/worker/package_win64/build/usr/share/julia/stdlib/v1.5/LinearAlgebra/src/dense.jl\" target=\"_blank\">C:\\Users\\kzaja\\AppData\\Local\\Programs\\Julia 1.5.3\\share\\julia\\stdlib\\v1.5\\LinearAlgebra\\src\\dense.jl:1284</a></li> <li> factorize(A::<b>LinearAlgebra.AbstractTriangular</b>) in LinearAlgebra at <a href=\"file://C:/buildbot/worker/package_win64/build/usr/share/julia/stdlib/v1.5/LinearAlgebra/src/triangular.jl\" target=\"_blank\">C:\\Users\\kzaja\\AppData\\Local\\Programs\\Julia 1.5.3\\share\\julia\\stdlib\\v1.5\\LinearAlgebra\\src\\triangular.jl:2676</a></li> <li> factorize(A::<b>Union{Hermitian{Complex{Float64},var\"#s828\"}, Hermitian{Float64,var\"#s828\"}, Symmetric{Float64,var\"#s828\"}} where var\"#s828\"<:SparseArrays.AbstractSparseMatrixCSC</b>) in SparseArrays at <a href=\"file://C:/buildbot/worker/package_win64/build/usr/share/julia/stdlib/v1.5/SparseArrays/src/linalg.jl\" target=\"_blank\">C:\\Users\\kzaja\\AppData\\Local\\Programs\\Julia 1.5.3\\share\\julia\\stdlib\\v1.5\\SparseArrays\\src\\linalg.jl:1538</a></li> <li> factorize(A::<b>Union{Hermitian{T,S}, Symmetric{T,S}} where S where T</b>) in LinearAlgebra at <a href=\"file://C:/buildbot/worker/package_win64/build/usr/share/julia/stdlib/v1.5/LinearAlgebra/src/symmetric.jl\" target=\"_blank\">C:\\Users\\kzaja\\AppData\\Local\\Programs\\Julia 1.5.3\\share\\julia\\stdlib\\v1.5\\LinearAlgebra\\src\\symmetric.jl:634</a></li> <li> factorize(A::<b>Tridiagonal</b>) in LinearAlgebra at <a href=\"file://C:/buildbot/worker/package_win64/build/usr/share/julia/stdlib/v1.5/LinearAlgebra/src/lu.jl\" target=\"_blank\">C:\\Users\\kzaja\\AppData\\Local\\Programs\\Julia 1.5.3\\share\\julia\\stdlib\\v1.5\\LinearAlgebra\\src\\lu.jl:555</a></li> <li> factorize(D::<b>Diagonal</b>) in LinearAlgebra at <a href=\"file://C:/buildbot/worker/package_win64/build/usr/share/julia/stdlib/v1.5/LinearAlgebra/src/diagonal.jl\" target=\"_blank\">C:\\Users\\kzaja\\AppData\\Local\\Programs\\Julia 1.5.3\\share\\julia\\stdlib\\v1.5\\LinearAlgebra\\src\\diagonal.jl:121</a></li> <li> factorize(A::<b>Bidiagonal</b>) in LinearAlgebra at <a href=\"file://C:/buildbot/worker/package_win64/build/usr/share/julia/stdlib/v1.5/LinearAlgebra/src/bidiag.jl\" target=\"_blank\">C:\\Users\\kzaja\\AppData\\Local\\Programs\\Julia 1.5.3\\share\\julia\\stdlib\\v1.5\\LinearAlgebra\\src\\bidiag.jl:875</a></li> <li> factorize(S::<b>SymTridiagonal</b>) in LinearAlgebra at <a href=\"file://C:/buildbot/worker/package_win64/build/usr/share/julia/stdlib/v1.5/LinearAlgebra/src/ldlt.jl\" target=\"_blank\">C:\\Users\\kzaja\\AppData\\Local\\Programs\\Julia 1.5.3\\share\\julia\\stdlib\\v1.5\\LinearAlgebra\\src\\ldlt.jl:166</a></li> <li> factorize(A::<b>SparseArrays.AbstractSparseMatrixCSC</b>) in SparseArrays at <a href=\"file://C:/buildbot/worker/package_win64/build/usr/share/julia/stdlib/v1.5/SparseArrays/src/linalg.jl\" target=\"_blank\">C:\\Users\\kzaja\\AppData\\Local\\Programs\\Julia 1.5.3\\share\\julia\\stdlib\\v1.5\\SparseArrays\\src\\linalg.jl:1508</a></li> </ul>"
      ],
      "text/plain": [
       "# 11 methods for generic function \"factorize\":\n",
       "[1] factorize(A::StridedArray{T, 2}) where T in LinearAlgebra at C:\\Users\\kzaja\\AppData\\Local\\Programs\\Julia 1.5.3\\share\\julia\\stdlib\\v1.5\\LinearAlgebra\\src\\dense.jl:1207\n",
       "[2] factorize(A::Adjoint) in LinearAlgebra at C:\\Users\\kzaja\\AppData\\Local\\Programs\\Julia 1.5.3\\share\\julia\\stdlib\\v1.5\\LinearAlgebra\\src\\dense.jl:1283\n",
       "[3] factorize(A::Transpose) in LinearAlgebra at C:\\Users\\kzaja\\AppData\\Local\\Programs\\Julia 1.5.3\\share\\julia\\stdlib\\v1.5\\LinearAlgebra\\src\\dense.jl:1284\n",
       "[4] factorize(A::LinearAlgebra.AbstractTriangular) in LinearAlgebra at C:\\Users\\kzaja\\AppData\\Local\\Programs\\Julia 1.5.3\\share\\julia\\stdlib\\v1.5\\LinearAlgebra\\src\\triangular.jl:2676\n",
       "[5] factorize(A::Union{Hermitian{Complex{Float64},var\"#s828\"}, Hermitian{Float64,var\"#s828\"}, Symmetric{Float64,var\"#s828\"}} where var\"#s828\"<:SparseArrays.AbstractSparseMatrixCSC) in SparseArrays at C:\\Users\\kzaja\\AppData\\Local\\Programs\\Julia 1.5.3\\share\\julia\\stdlib\\v1.5\\SparseArrays\\src\\linalg.jl:1538\n",
       "[6] factorize(A::Union{Hermitian{T,S}, Symmetric{T,S}} where S where T) in LinearAlgebra at C:\\Users\\kzaja\\AppData\\Local\\Programs\\Julia 1.5.3\\share\\julia\\stdlib\\v1.5\\LinearAlgebra\\src\\symmetric.jl:634\n",
       "[7] factorize(A::Tridiagonal) in LinearAlgebra at C:\\Users\\kzaja\\AppData\\Local\\Programs\\Julia 1.5.3\\share\\julia\\stdlib\\v1.5\\LinearAlgebra\\src\\lu.jl:555\n",
       "[8] factorize(D::Diagonal) in LinearAlgebra at C:\\Users\\kzaja\\AppData\\Local\\Programs\\Julia 1.5.3\\share\\julia\\stdlib\\v1.5\\LinearAlgebra\\src\\diagonal.jl:121\n",
       "[9] factorize(A::Bidiagonal) in LinearAlgebra at C:\\Users\\kzaja\\AppData\\Local\\Programs\\Julia 1.5.3\\share\\julia\\stdlib\\v1.5\\LinearAlgebra\\src\\bidiag.jl:875\n",
       "[10] factorize(S::SymTridiagonal) in LinearAlgebra at C:\\Users\\kzaja\\AppData\\Local\\Programs\\Julia 1.5.3\\share\\julia\\stdlib\\v1.5\\LinearAlgebra\\src\\ldlt.jl:166\n",
       "[11] factorize(A::SparseArrays.AbstractSparseMatrixCSC) in SparseArrays at C:\\Users\\kzaja\\AppData\\Local\\Programs\\Julia 1.5.3\\share\\julia\\stdlib\\v1.5\\SparseArrays\\src\\linalg.jl:1508"
      ]
     },
     "execution_count": 2,
     "metadata": {},
     "output_type": "execute_result"
    }
   ],
   "source": [
    "methods(factorize)"
   ]
  },
  {
   "cell_type": "code",
   "execution_count": 3,
   "metadata": {},
   "outputs": [
    {
     "data": {
      "text/plain": [
       "1×3 Array{Int64,2}:\n",
       " 1  2  2"
      ]
     },
     "execution_count": 3,
     "metadata": {},
     "output_type": "execute_result"
    }
   ],
   "source": [
    "#wiersze vs kolumny\n",
    "x1=[1 2 2]"
   ]
  },
  {
   "cell_type": "code",
   "execution_count": 4,
   "metadata": {},
   "outputs": [
    {
     "data": {
      "text/plain": [
       "3-element Array{Int64,1}:\n",
       " 1\n",
       " 2\n",
       " 3"
      ]
     },
     "execution_count": 4,
     "metadata": {},
     "output_type": "execute_result"
    }
   ],
   "source": [
    "y1=[1 ;2 ;3]"
   ]
  },
  {
   "cell_type": "code",
   "execution_count": 5,
   "metadata": {},
   "outputs": [
    {
     "data": {
      "text/plain": [
       "3×1 Transpose{Int64,Array{Int64,2}}:\n",
       " 1\n",
       " 2\n",
       " 2"
      ]
     },
     "execution_count": 5,
     "metadata": {},
     "output_type": "execute_result"
    }
   ],
   "source": [
    "transpose(x1)"
   ]
  },
  {
   "cell_type": "code",
   "execution_count": 6,
   "metadata": {},
   "outputs": [
    {
     "data": {
      "text/plain": [
       "11"
      ]
     },
     "execution_count": 6,
     "metadata": {},
     "output_type": "execute_result"
    }
   ],
   "source": [
    "#iloczyn skalarny\n",
    "dot(x1,y1)"
   ]
  },
  {
   "cell_type": "markdown",
   "metadata": {},
   "source": [
    " Długość wektora liczymy jako pierwiastek z jego iloczynu skalarnego \n",
    "$$ \\lVert\\mathbf{v}\\rVert = \\sqrt{\\mathbf{v}\\cdot \\mathbf{v}}=\\sqrt{\\sum_{i=1}^nv_i^2}$$\n",
    "\n"
   ]
  },
  {
   "cell_type": "markdown",
   "metadata": {},
   "source": [
    "#### Przykładowe dane"
   ]
  },
  {
   "cell_type": "code",
   "execution_count": 7,
   "metadata": {},
   "outputs": [
    {
     "data": {
      "text/plain": [
       "3×3 Array{Float64,2}:\n",
       " 0.584445  0.253798  0.193993\n",
       " 0.552091  0.608555  0.575765\n",
       " 0.121575  0.655578  0.506962"
      ]
     },
     "execution_count": 7,
     "metadata": {},
     "output_type": "execute_result"
    }
   ],
   "source": [
    "#losujemy macierz 3x3\n",
    "A=rand(3,3)"
   ]
  },
  {
   "cell_type": "code",
   "execution_count": 8,
   "metadata": {},
   "outputs": [
    {
     "data": {
      "text/plain": [
       "3-element Array{Float64,1}:\n",
       " 0.4834167206458264\n",
       " 0.1399725185634757\n",
       " 0.8796532122661693"
      ]
     },
     "execution_count": 8,
     "metadata": {},
     "output_type": "execute_result"
    }
   ],
   "source": [
    "#losujemy wektor x\n",
    "x=rand(3)"
   ]
  },
  {
   "cell_type": "code",
   "execution_count": 9,
   "metadata": {},
   "outputs": [
    {
     "data": {
      "text/plain": [
       "3-element Array{Float64,1}:\n",
       " 0.4887018814059986\n",
       " 0.8585445268382984\n",
       " 0.5964853329860818"
      ]
     },
     "execution_count": 9,
     "metadata": {},
     "output_type": "execute_result"
    }
   ],
   "source": [
    "# wyliczamy b\n",
    "b=A*x"
   ]
  },
  {
   "cell_type": "markdown",
   "metadata": {},
   "source": [
    "### Sposoby rozwiązania Ax=b"
   ]
  },
  {
   "cell_type": "code",
   "execution_count": 10,
   "metadata": {},
   "outputs": [
    {
     "data": {
      "text/plain": [
       "3-element Array{Float64,1}:\n",
       " 0.48341672064582636\n",
       " 0.13997251856347548\n",
       " 0.8796532122661702"
      ]
     },
     "execution_count": 10,
     "metadata": {},
     "output_type": "execute_result"
    }
   ],
   "source": [
    "#mozemy policzyc odwrotność macierzy i wymnożyć\n",
    "# uwaga: nieefektywne!\n",
    "inv(A) * b"
   ]
  },
  {
   "cell_type": "code",
   "execution_count": 11,
   "metadata": {},
   "outputs": [
    {
     "data": {
      "text/plain": [
       "3-element Array{Float64,1}:\n",
       " 0.48341672064582636\n",
       " 0.13997251856347512\n",
       " 0.87965321226617"
      ]
     },
     "execution_count": 11,
     "metadata": {},
     "output_type": "execute_result"
    }
   ],
   "source": [
    "#najlepiej używać zoptymalizowanego operatora \"\\\"\"\n",
    "x=A\\b"
   ]
  },
  {
   "cell_type": "markdown",
   "metadata": {},
   "source": [
    " operator \"\\\\\" wybiera odpowiednią faktoryzację:\n",
    "- https://docs.julialang.org/en/v1.2/stdlib/LinearAlgebra/#LinearAlgebra.factorize\n",
    "- https://docs.julialang.org/en/v1.2/stdlib/LinearAlgebra/#man-linalg-factorizations-1\n",
    " \n"
   ]
  },
  {
   "cell_type": "markdown",
   "metadata": {},
   "source": [
    "### Faktoryzacja LU"
   ]
  },
  {
   "cell_type": "code",
   "execution_count": 12,
   "metadata": {},
   "outputs": [
    {
     "data": {
      "text/plain": [
       "LU{Float64,Array{Float64,2}}\n",
       "L factor:\n",
       "3×3 Array{Float64,2}:\n",
       " 1.0       0.0      0.0\n",
       " 0.208019  1.0      0.0\n",
       " 0.944642  0.61184  1.0\n",
       "U factor:\n",
       "3×3 Array{Float64,2}:\n",
       " 0.584445  0.253798  0.193993\n",
       " 0.0       0.602783  0.466608\n",
       " 0.0       0.0       0.107022"
      ]
     },
     "execution_count": 12,
     "metadata": {},
     "output_type": "execute_result"
    }
   ],
   "source": [
    "# W przypadku ogólnej macierzy kwadratowej jest to faktoryzacja LU z pivotem\n",
    "Af=factorize(A)"
   ]
  },
  {
   "cell_type": "code",
   "execution_count": 13,
   "metadata": {},
   "outputs": [
    {
     "data": {
      "text/plain": [
       "3×3 Array{Float64,2}:\n",
       " 1.0       0.0      0.0\n",
       " 0.208019  1.0      0.0\n",
       " 0.944642  0.61184  1.0"
      ]
     },
     "execution_count": 13,
     "metadata": {},
     "output_type": "execute_result"
    }
   ],
   "source": [
    "# Macierz L\n",
    "Af.L"
   ]
  },
  {
   "cell_type": "code",
   "execution_count": 14,
   "metadata": {},
   "outputs": [
    {
     "data": {
      "text/plain": [
       "3×3 Array{Float64,2}:\n",
       " 0.584445  0.253798  0.193993\n",
       " 0.0       0.602783  0.466608\n",
       " 0.0       0.0       0.107022"
      ]
     },
     "execution_count": 14,
     "metadata": {},
     "output_type": "execute_result"
    }
   ],
   "source": [
    "#Macierz U\n",
    "Af.U"
   ]
  },
  {
   "cell_type": "code",
   "execution_count": 15,
   "metadata": {},
   "outputs": [
    {
     "data": {
      "text/plain": [
       "3-element Array{Int64,1}:\n",
       " 1\n",
       " 3\n",
       " 2"
      ]
     },
     "execution_count": 15,
     "metadata": {},
     "output_type": "execute_result"
    }
   ],
   "source": [
    "# wektor permulatacji \n",
    "Af.p"
   ]
  },
  {
   "cell_type": "code",
   "execution_count": 16,
   "metadata": {},
   "outputs": [
    {
     "data": {
      "text/plain": [
       "true"
      ]
     },
     "execution_count": 16,
     "metadata": {},
     "output_type": "execute_result"
    }
   ],
   "source": [
    "# to jest spełnione\n",
    "Af.L*Af.U==A[Af.p,:]"
   ]
  },
  {
   "cell_type": "code",
   "execution_count": 17,
   "metadata": {},
   "outputs": [
    {
     "data": {
      "text/plain": [
       "LU{Float64,Array{Float64,2}}\n",
       "L factor:\n",
       "3×3 Array{Float64,2}:\n",
       " 1.0       0.0      0.0\n",
       " 0.208019  1.0      0.0\n",
       " 0.944642  0.61184  1.0\n",
       "U factor:\n",
       "3×3 Array{Float64,2}:\n",
       " 0.584445  0.253798  0.193993\n",
       " 0.0       0.602783  0.466608\n",
       " 0.0       0.0       0.107022"
      ]
     },
     "execution_count": 17,
     "metadata": {},
     "output_type": "execute_result"
    }
   ],
   "source": [
    "# mozemy zamienic macierz A na postać zfaktoryzowaną\n",
    "A=factorize(A)"
   ]
  },
  {
   "cell_type": "code",
   "execution_count": 18,
   "metadata": {},
   "outputs": [
    {
     "data": {
      "text/plain": [
       "3-element Array{Float64,1}:\n",
       " 0.48341672064582636\n",
       " 0.13997251856347512\n",
       " 0.87965321226617"
      ]
     },
     "execution_count": 18,
     "metadata": {},
     "output_type": "execute_result"
    }
   ],
   "source": [
    "# i działać na niej operatorem \\\n",
    "# operator ten będzie wykorzytywał raz utworzony wynik faktoryzacji\n",
    "A\\b"
   ]
  },
  {
   "cell_type": "code",
   "execution_count": 19,
   "metadata": {},
   "outputs": [
    {
     "data": {
      "text/plain": [
       "3-element Array{Float64,1}:\n",
       " -0.18798741919002526\n",
       " -0.09711789211026547\n",
       "  0.8381147792817757"
      ]
     },
     "execution_count": 19,
     "metadata": {},
     "output_type": "execute_result"
    }
   ],
   "source": [
    "# dla różnych prawych stron równania z tą samą macierzą\n",
    "c=rand(3);\n",
    "A\\c"
   ]
  },
  {
   "cell_type": "markdown",
   "metadata": {},
   "source": [
    "### Faktoryzacja QR\n"
   ]
  },
  {
   "cell_type": "code",
   "execution_count": 20,
   "metadata": {},
   "outputs": [
    {
     "data": {
      "text/plain": [
       "10×5 Array{Float64,2}:\n",
       " 0.745821   0.92601    0.881794  0.831205   0.904127\n",
       " 0.970118   0.748971   0.278336  0.34829    0.887059\n",
       " 0.265782   0.164165   0.866504  0.403203   0.776582\n",
       " 0.312464   0.530006   0.70348   0.159994   0.409373\n",
       " 0.866479   0.668745   0.666256  0.615495   0.0389199\n",
       " 0.0981493  0.533747   0.584399  0.376981   0.190852\n",
       " 0.302254   0.497344   0.200622  0.922963   0.510687\n",
       " 0.0770144  0.0370758  0.591574  0.562747   0.168126\n",
       " 0.468203   0.769863   0.124682  0.0558474  0.29119\n",
       " 0.913959   0.0234471  0.457702  0.899056   0.757445"
      ]
     },
     "execution_count": 20,
     "metadata": {},
     "output_type": "execute_result"
    }
   ],
   "source": [
    "B=rand(10,5)"
   ]
  },
  {
   "cell_type": "code",
   "execution_count": 21,
   "metadata": {},
   "outputs": [
    {
     "data": {
      "text/plain": [
       "QRPivoted{Float64,Array{Float64,2}}\n",
       "Q factor:\n",
       "10×10 LinearAlgebra.QRPackedQ{Float64,Array{Float64,2}}:\n",
       " -0.394295    0.267848    0.242774   …  -0.20465    -0.287071    -0.0296948\n",
       " -0.512874   -0.334328    0.125087       0.391969   -0.294519    -0.295734\n",
       " -0.140512    0.529514   -0.255816      -0.268752    0.368189    -0.427664\n",
       " -0.165191    0.374768    0.141328       0.0913286  -0.275485     0.530501\n",
       " -0.458083    0.0296521  -0.0197345     -0.179093   -0.00540683  -0.319677\n",
       " -0.0518888   0.403361    0.304015   …  -0.1037     -0.0497959    0.226542\n",
       " -0.159793   -0.0146408   0.271885      -0.085454    0.0164547   -0.0849263\n",
       " -0.0407153   0.42105    -0.191802       0.805653    0.137587    -0.0761873\n",
       " -0.247526   -0.168939    0.479086       0.106648    0.760735     0.213795\n",
       " -0.483184   -0.161334   -0.637927      -0.115458    0.137717     0.484862\n",
       "R factor:\n",
       "5×5 Array{Float64,2}:\n",
       " -1.89153  -1.37209  -1.47678   -1.50959   -1.54243\n",
       "  0.0       1.27232   0.392794   0.618915   0.480285\n",
       "  0.0       0.0       0.982458  -0.136484   0.00981746\n",
       "  0.0       0.0       0.0        0.90595    0.191888\n",
       "  0.0       0.0       0.0        0.0        0.844883\n",
       "permutation:\n",
       "5-element Array{Int64,1}:\n",
       " 1\n",
       " 3\n",
       " 2\n",
       " 4\n",
       " 5"
      ]
     },
     "execution_count": 21,
     "metadata": {},
     "output_type": "execute_result"
    }
   ],
   "source": [
    "# W przypadku ogólnej macierzy prostokątnej wybierana jest faktoryzacja QR z pivotem\n",
    "factorize(B)"
   ]
  },
  {
   "cell_type": "markdown",
   "metadata": {},
   "source": [
    "- $Q$ to macierz  ortogonalna mxm, co oznacza, że  $Q^T*Q=Q*Q^T=I$ czyli $Q^{-1}=Q^T$ (odwracanie takich macierzy jest szybkie i nie generuje dodatkowych błędów !)\n",
    "- $R$ to macierz postaci $\\begin{pmatrix} Rfactor \\\\ 0 \\end{pmatrix} $ , gdzie $Rfactor$ jest macierzą trójkątną górną, a 0 to macierz zer o wymierze nx(m-n)"
   ]
  },
  {
   "cell_type": "markdown",
   "metadata": {},
   "source": [
    "### Zastosowanie faktoryzacji do metody najmniejszych kwadratów\n",
    "\n",
    "Jednym z zastosowań faktoryzacji QR jest użycie jej do metody najmniejszych kwadratów.\n",
    "\n",
    "Przykład:\n",
    "\n",
    "Obliczmy dopasowanie wielomianu $$f(x)=wsp_2*x^2+wsp_1*x+wsp_0$$ do punktów (1,1) (2,2) (3,4) (4, 4) (5,3) (6,0)\n",
    "\n",
    "- Budujemy układ równań wg wzoru $$wsp_2x_i^2+wsp_1x_i+wsp_0=y_i$$:\n",
    "$$wsp_2*1^2+wsp_1*1+wsp_0=1$$\n",
    "$$wsp_2*2^2+wsp_1*2+wsp_0=2$$\n",
    "$$wsp_2*3^2+wsp_1*3+wsp_0=4$$\n",
    "$$wsp_2*4^2+wsp_1*4+wsp_0=4$$\n",
    "$$wsp_2*5^2+wsp_1*5+wsp_0=3$$\n",
    "$$wsp_2*6^2+wsp_1*6+wsp_0=0$$\n",
    "\n",
    "- Układ ten  nie ma dokładnego rozwiązania. Możemy jednak znaleźć najlepsze przybliżenie, czyli takie $wsp_i$, które minimalizują odległość:\n",
    "\n",
    "$$\\sqrt{\\sum_{i=1}^{6}{(y_i-f(x_i))^2}}=\\lVert y-A*wsp\\rVert$$\n",
    "\n",
    "\n",
    "\n"
   ]
  },
  {
   "cell_type": "markdown",
   "metadata": {},
   "source": [
    "Jak użyć do tej mimalizacji faktoryzacji QR:\n",
    "\n",
    "#### 1. Tworzymy macierz A na postawie $(x_i,y_i)$"
   ]
  },
  {
   "cell_type": "code",
   "execution_count": 22,
   "metadata": {},
   "outputs": [
    {
     "data": {
      "text/plain": [
       "6×3 Array{Float64,2}:\n",
       " 0.0  0.0  0.0\n",
       " 0.0  0.0  0.0\n",
       " 0.0  0.0  0.0\n",
       " 0.0  0.0  0.0\n",
       " 0.0  0.0  0.0\n",
       " 0.0  0.0  0.0"
      ]
     },
     "execution_count": 22,
     "metadata": {},
     "output_type": "execute_result"
    }
   ],
   "source": [
    "A=zeros(6,3) "
   ]
  },
  {
   "cell_type": "markdown",
   "metadata": {},
   "source": [
    " punkty $(x_i,y_i)$\n"
   ]
  },
  {
   "cell_type": "code",
   "execution_count": 23,
   "metadata": {},
   "outputs": [
    {
     "data": {
      "text/plain": [
       "6-element Array{Int64,1}:\n",
       " 1\n",
       " 2\n",
       " 4\n",
       " 4\n",
       " 3\n",
       " 0"
      ]
     },
     "execution_count": 23,
     "metadata": {},
     "output_type": "execute_result"
    }
   ],
   "source": [
    "x=[1; 2 ;3 ;4 ;5 ;6]\n",
    "y=[1; 2; 4; 4; 3; 0]"
   ]
  },
  {
   "cell_type": "code",
   "execution_count": 24,
   "metadata": {},
   "outputs": [
    {
     "data": {
      "text/plain": [
       "6-element Array{Int64,1}:\n",
       "  1\n",
       "  4\n",
       "  9\n",
       " 16\n",
       " 25\n",
       " 36"
      ]
     },
     "execution_count": 24,
     "metadata": {},
     "output_type": "execute_result"
    }
   ],
   "source": [
    "A[:,1]=x.^2"
   ]
  },
  {
   "cell_type": "code",
   "execution_count": 25,
   "metadata": {},
   "outputs": [
    {
     "data": {
      "text/plain": [
       "6-element Array{Int64,1}:\n",
       " 1\n",
       " 2\n",
       " 3\n",
       " 4\n",
       " 5\n",
       " 6"
      ]
     },
     "execution_count": 25,
     "metadata": {},
     "output_type": "execute_result"
    }
   ],
   "source": [
    "A[:,2]=x"
   ]
  },
  {
   "cell_type": "code",
   "execution_count": 26,
   "metadata": {},
   "outputs": [
    {
     "data": {
      "text/plain": [
       "6-element Array{Float64,1}:\n",
       " 1.0\n",
       " 1.0\n",
       " 1.0\n",
       " 1.0\n",
       " 1.0\n",
       " 1.0"
      ]
     },
     "execution_count": 26,
     "metadata": {},
     "output_type": "execute_result"
    }
   ],
   "source": [
    "A[:,3]=ones(6)"
   ]
  },
  {
   "cell_type": "code",
   "execution_count": 27,
   "metadata": {},
   "outputs": [
    {
     "data": {
      "text/plain": [
       "6×3 Array{Float64,2}:\n",
       "  1.0  1.0  1.0\n",
       "  4.0  2.0  1.0\n",
       "  9.0  3.0  1.0\n",
       " 16.0  4.0  1.0\n",
       " 25.0  5.0  1.0\n",
       " 36.0  6.0  1.0"
      ]
     },
     "execution_count": 27,
     "metadata": {},
     "output_type": "execute_result"
    }
   ],
   "source": [
    "A"
   ]
  },
  {
   "cell_type": "markdown",
   "metadata": {},
   "source": [
    "#### 2. Dokonujemy faktoryzacji QR macierzy A "
   ]
  },
  {
   "cell_type": "code",
   "execution_count": 28,
   "metadata": {},
   "outputs": [
    {
     "data": {
      "text/plain": [
       "QRPivoted{Float64,Array{Float64,2}}\n",
       "Q factor:\n",
       "6×6 LinearAlgebra.QRPackedQ{Float64,Array{Float64,2}}:\n",
       " -0.0209657  -0.343313    0.838525   0.112335    -0.0400677  -0.405397\n",
       " -0.0838628  -0.521522    0.167705  -0.00636667   0.34634     0.756879\n",
       " -0.188691   -0.534625   -0.223607  -0.612934    -0.487947   -0.121617\n",
       " -0.335451   -0.382624   -0.33541    0.753648    -0.213523   -0.122449\n",
       " -0.524142   -0.0655178  -0.167705  -0.204705     0.705864   -0.390779\n",
       " -0.754765    0.416693    0.279508  -0.0419783   -0.310667    0.283364\n",
       "R factor:\n",
       "3×3 Array{Float64,2}:\n",
       " -47.697  -9.24587  -1.90788\n",
       "   0.0    -2.34816  -1.43091\n",
       "   0.0     0.0       0.559017\n",
       "permutation:\n",
       "3-element Array{Int64,1}:\n",
       " 1\n",
       " 2\n",
       " 3"
      ]
     },
     "execution_count": 28,
     "metadata": {},
     "output_type": "execute_result"
    }
   ],
   "source": [
    " AF=factorize(A)"
   ]
  },
  {
   "cell_type": "code",
   "execution_count": 29,
   "metadata": {},
   "outputs": [
    {
     "data": {
      "text/plain": [
       "6×6 Array{Float64,2}:\n",
       "  1.0           0.0           2.77556e-17  …   2.77556e-17  -8.32667e-17\n",
       "  0.0           1.0          -8.32667e-17     -5.55112e-17  -6.93889e-17\n",
       "  2.77556e-17  -8.32667e-17   1.0             -8.32667e-17   0.0\n",
       " -4.16334e-17   2.77556e-17  -8.84709e-17     -9.02056e-17  -3.98986e-17\n",
       "  2.77556e-17  -5.55112e-17  -8.32667e-17      1.0          -1.38778e-17\n",
       " -8.32667e-17  -6.93889e-17   0.0          …  -1.38778e-17   1.0"
      ]
     },
     "execution_count": 29,
     "metadata": {},
     "output_type": "execute_result"
    }
   ],
   "source": [
    "# można przetestować ortogonalność:\n",
    "Transpose(AF.Q)*AF.Q"
   ]
  },
  {
   "cell_type": "markdown",
   "metadata": {},
   "source": [
    "Mamy równanie:\n",
    "$$A*wsp=y$$\n",
    "Dla $A=QR$:\n",
    "$$QR*wsp =y$$\n",
    "Możemy obydwie strony wymnożyć z lewej przez $Q^T$:\n",
    "$$R*wsp =Q^T y$$\n",
    "$$\\begin{pmatrix} Rfactor \\\\ 0 \\end{pmatrix} wsp= Q^T y$$\n",
    "\n",
    "Poszukiwanym rozwiązaniem jest rozwiązanie równania będącego górną niezerową częścią:\n",
    "$$Rfactor * wsp= Q^T y[1:n]$$\n",
    "$$wsp=Rfactor \\setminus Q^T y[1:n]$$"
   ]
  },
  {
   "cell_type": "code",
   "execution_count": 30,
   "metadata": {},
   "outputs": [
    {
     "data": {
      "text/plain": [
       "3-element Array{Float64,1}:\n",
       " -0.5714285714285723\n",
       "  3.9428571428571493\n",
       " -2.8000000000000136"
      ]
     },
     "execution_count": 30,
     "metadata": {},
     "output_type": "execute_result"
    }
   ],
   "source": [
    "# implementacja powyższego (uwaga: w tym przykladzie nie jest potrzebna permutacja,\n",
    "# bo wektor permutacji wynosi[1 2 3])\n",
    "AF.R\\((Transpose(AF.Q)*y)[1:3])"
   ]
  },
  {
   "cell_type": "markdown",
   "metadata": {},
   "source": [
    "Więcej informacji:\n",
    "- http://www.math.uconn.edu/~leykekhman/courses/MATH3795/Lectures/Lecture_8_Linear_least_squares_orthogonal_matrices.pdf\n",
    "- http://www.seas.ucla.edu/~vandenbe/133A/lectures/qr.pdf"
   ]
  },
  {
   "cell_type": "markdown",
   "metadata": {},
   "source": [
    "W praktyce używamy tego algorytmu poprzez operator \"\\\\\", za którym jest on \"schowany\"."
   ]
  },
  {
   "cell_type": "code",
   "execution_count": 31,
   "metadata": {},
   "outputs": [
    {
     "data": {
      "text/plain": [
       "3-element Array{Float64,1}:\n",
       " -0.5714285714285723\n",
       "  3.9428571428571493\n",
       " -2.8000000000000136"
      ]
     },
     "execution_count": 31,
     "metadata": {},
     "output_type": "execute_result"
    }
   ],
   "source": [
    "A \\ y"
   ]
  },
  {
   "cell_type": "code",
   "execution_count": 33,
   "metadata": {},
   "outputs": [
    {
     "data": {
      "text/html": [
       "&#45;2.800000000000001 &#43; 3.942857142857141&#8729;x &#45; 0.5714285714285708&#8729;x<sup>2</sup>"
      ],
      "text/latex": [
       "$-2.800000000000001 + 3.942857142857141\\cdot x - 0.5714285714285708\\cdot x^{2}$"
      ],
      "text/plain": [
       "Polynomial(-2.800000000000001 + 3.942857142857141*x - 0.5714285714285708*x^2)"
      ]
     },
     "execution_count": 33,
     "metadata": {},
     "output_type": "execute_result"
    }
   ],
   "source": [
    "#sprawdzamy czy dostaliśmy dobre wspólczynniki\n",
    "using Polynomials\n",
    "fit(x,y, 2)"
   ]
  },
  {
   "cell_type": "markdown",
   "metadata": {},
   "source": [
    "Funkcja <a href=\"https://github.com/JuliaMath/Polynomials.jl/blob/ef129b779d08f791eb607e390ca9d31d8c08ead1/src/Polynomials.jl#L689-L707\">\n",
    "polyfit</a> \n",
    "\n",
    "TODO używa własnie tej metody (polyfit zmienilo sie na fit - sprawdzic to)\n"
   ]
  },
  {
   "cell_type": "markdown",
   "metadata": {},
   "source": [
    "### Zadania"
   ]
  },
  {
   "cell_type": "markdown",
   "metadata": {},
   "source": [
    "#### Zadanie 1 \n",
    "Ustal losowe (referencyjne) x rozmiaru 1000 oraz losowe A rozmiaru 1000x1000, policz b=A*x.\n",
    "Nastepnie rozwiąż równanie Ax=b trzema metodami:\n",
    "- inv()\n",
    "- \\\n",
    "- factorize()\n",
    "\n",
    "Porównaj jakość wyniku (zmierzoną jako długość różnicy wektorów wyniku oraz referencyjnego x) oraz czas wykonania (@time). UWAGA: pierwsze wykonanie funkcji w Julii zawiera czas kompilacji tej funkcji, dlatego czas mierzymy  od drugiego wywołania !\n",
    "\n",
    "#### Zadanie 2\n",
    "Policz współczynniki wielomianu aproksymującego dowolne dane z poprzednich laboratoriów tworząc wprost układ równań i rozwiązujac go (metoda zaprezentowana na tym laboratorium).\n",
    "Porównaj wyniki z tymi otrzymanymi poprzednio.\n",
    "\n",
    "#### Zadanie 3\n",
    "\n",
    "Znajdź i zaprezentuj działanie innego zastosowania wybranej faktoryzacji. Przykładowe (ale nie jedyne!) tematy:\n",
    "\n",
    "-    tworzenie pseudoinversji macierzy (http://buzzard.ups.edu/courses/2014spring/420projects/math420-UPS-spring-2014-macausland-pseudo-inverse-present.pdf).\n",
    "\n",
    "-   uzycie faktoryzacji QR do znajdowania wartości własnych (https://en.wikipedia.org/wiki/QR_algorithm)\n",
    "\n",
    "-  zastosowanie faktoryzacji SVD - przykład zastosowania w uczeniu maszynowym https://blog.statsbot.co/singular-value-decomposition-tutorial-52c695315254\n",
    "\n",
    "\n"
   ]
  }
 ],
 "metadata": {
  "kernelspec": {
   "display_name": "Julia 1.5.3",
   "language": "julia",
   "name": "julia-1.5"
  },
  "language_info": {
   "file_extension": ".jl",
   "mimetype": "application/julia",
   "name": "julia",
   "version": "1.5.3"
  }
 },
 "nbformat": 4,
 "nbformat_minor": 2
}
