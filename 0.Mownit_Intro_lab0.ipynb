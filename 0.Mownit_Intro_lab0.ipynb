{
 "cells": [
  {
   "cell_type": "markdown",
   "metadata": {},
   "source": [
    "# MOwNiT \n",
    "## Laboratorium - wstęp do Julia\n",
    "\n"
   ]
  },
  {
   "cell_type": "markdown",
   "metadata": {},
   "source": [
    "### Serwis  https://jupyter.lab.ii.agh.edu.pl/  \n",
    "\n",
    "Dostęp z tym samym hasłem co do innych serwisów Instytutu\n",
    "\n",
    "Zaistalowana wersja Julia 1.10.1\n",
    "\n",
    "Instalacja brakujących pakietów - mail do prowadzącego"
   ]
  },
  {
   "cell_type": "markdown",
   "metadata": {},
   "source": [
    "### Instalacja własna\n",
    "\n",
    "Aktualna wersja: Julia 1.11 https://julialang.org/\n",
    "\n",
    "Instalacja na własnym komputerze: https://julialang.org/downloads/\n",
    "\n"
   ]
  },
  {
   "cell_type": "markdown",
   "metadata": {},
   "source": [
    "### Uruchomienie\n",
    "\n",
    "Uruchamiamy z linii poleceń:\n",
    "```\n",
    "julia\n",
    "```"
   ]
  },
  {
   "cell_type": "markdown",
   "metadata": {},
   "source": [
    "###  Jak używać Jupitera z Julią - pakiet IJulia\n",
    "\n",
    "https://github.com/JuliaLang/IJulia.jl"
   ]
  },
  {
   "cell_type": "markdown",
   "metadata": {},
   "source": [
    "\n",
    "### Alternatywnie: Julia w google collab\n",
    "\n",
    "https://colab.research.google.com/github/ageron/julia_notebooks/blob/master/Julia_Colab_Notebook_Template.ipynb"
   ]
  },
  {
   "cell_type": "markdown",
   "metadata": {},
   "source": [
    "### Materiały do nauki\n",
    "\n",
    "* Dokumentacja :) https://docs.julialang.org/en/v1/\n",
    "* Coursera (do Julia 1.0, ale i tak dobry) https://www.coursera.org/learn/julia-programming\n",
    "* Kurs z MIT https://computationalthinking.mit.edu/Spring21/"
   ]
  },
  {
   "cell_type": "code",
   "execution_count": null,
   "metadata": {},
   "outputs": [],
   "source": []
  }
 ],
 "metadata": {
  "kernelspec": {
   "display_name": "Julia 1.11.3",
   "language": "julia",
   "name": "julia-1.11"
  },
  "language_info": {
   "file_extension": ".jl",
   "mimetype": "application/julia",
   "name": "julia",
   "version": "1.11.3"
  }
 },
 "nbformat": 4,
 "nbformat_minor": 4
}
